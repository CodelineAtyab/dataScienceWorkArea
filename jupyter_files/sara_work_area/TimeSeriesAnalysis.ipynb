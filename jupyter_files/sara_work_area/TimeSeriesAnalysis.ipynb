{
 "cells": [
  {
   "cell_type": "markdown",
   "id": "66377773-3b48-40a0-945c-1772216bd00e",
   "metadata": {},
   "source": [
    "# Time Series Analysis"
   ]
  },
  {
   "cell_type": "code",
   "execution_count": null,
   "id": "2e024887-dbaf-4f8c-b1aa-5c8700ccf35f",
   "metadata": {},
   "outputs": [],
   "source": [
    "import pandas as pd\n",
    "import numpy as np\n",
    "import matplotlib.pyplot as plt\n",
    "import seaborn as sb\n",
    "from sklearn.preprocessing import LabelEncoder\n",
    "from sklearn.linear_model import LinearRegression\n",
    "from sklearn.model_selection import train_test_split\n",
    "from statsmodels.tsa.seasonal import seasonal_decompose"
   ]
  },
  {
   "cell_type": "code",
   "execution_count": null,
   "id": "67dc7222-fac8-45a2-b4bd-3e97857493e1",
   "metadata": {
    "scrolled": true
   },
   "outputs": [],
   "source": [
    "data = pd.read_csv(\"MicrosoftStock.csv\")\n",
    "data"
   ]
  },
  {
   "cell_type": "code",
   "execution_count": null,
   "id": "d10a7da3-30ec-4305-9c9c-55f55913e747",
   "metadata": {},
   "outputs": [],
   "source": [
    "# Set a random seed for reproducibility\n",
    "np.random.seed(0)\n",
    " \n",
    "# Make sure your \"Date\" column is in datetime format\n",
    "data['Date'] = pd.to_datetime(data['Date'])"
   ]
  },
  {
   "cell_type": "code",
   "execution_count": null,
   "id": "a64a18d0-99a0-4b97-b9d5-c34c4c32655c",
   "metadata": {},
   "outputs": [],
   "source": [
    " # Sorting the data by date (if not sorted)\n",
    "data = data.sort_values(by='Date')"
   ]
  },
  {
   "cell_type": "code",
   "execution_count": null,
   "id": "ab432971-1d23-4eb9-a00b-37901b8ff4a4",
   "metadata": {},
   "outputs": [],
   "source": [
    " # Resetting the index\n",
    "data.set_index('Date', inplace=True)\n",
    " \n",
    "data.dropna(inplace=True)"
   ]
  },
  {
   "cell_type": "code",
   "execution_count": null,
   "id": "e5c2df52-9b39-474b-91c6-b4bca1b5cc89",
   "metadata": {},
   "outputs": [],
   "source": [
    "# Decompose the time series\n",
    "result = seasonal_decompose(data['Open'], model='additive', period=12) \n",
    "# Plot the decomposed components\n",
    "fig, (ax1, ax2, ax3, ax4) = plt.subplots(4, 1, figsize=(15, 12), sharex=True)\n",
    "result.observed.plot(ax=ax1, title='Observed')\n",
    "ax1.set_ylabel('Observed')\n",
    "result.trend.plot(ax=ax2, title='Trend')\n",
    "ax2.set_ylabel('Trend')\n",
    "result.seasonal.plot(ax=ax3, title='Seasonal')\n",
    "ax3.set_ylabel('Seasonal')\n",
    "result.resid.plot(ax=ax4, title='Residual')\n",
    "ax4.set_ylabel('Residual')\n",
    "ax4.set_xlabel('Open')\n",
    "plt.tight_layout()\n",
    "plt.show()"
   ]
  },
  {
   "cell_type": "code",
   "execution_count": null,
   "id": "0754c85e-2b72-49d2-8c64-5e9c055e964a",
   "metadata": {
    "scrolled": true
   },
   "outputs": [],
   "source": [
    "# Visualize the data\n",
    "plt.figure(figsize=(12, 6))\n",
    "plt.plot( data['Open'], label='Open Price')\n",
    "plt.xlabel('Year')\n",
    "plt.ylabel('Open Price')\n",
    "plt.legend()\n",
    "plt.title('Open Price Data')\n",
    "plt.show()"
   ]
  },
  {
   "cell_type": "code",
   "execution_count": null,
   "id": "285f8101-3d96-430f-bccc-4d424509c5bf",
   "metadata": {},
   "outputs": [],
   "source": [
    "open_prices = data['Open']\n",
    "open_prices"
   ]
  },
  {
   "cell_type": "code",
   "execution_count": null,
   "id": "20416c75-e374-4907-af72-b9f0d9f7ed65",
   "metadata": {},
   "outputs": [],
   "source": [
    "# Adding lag features to the DataFrame\n",
    "# for i in range(1, 13): # Creating lag features up to 13 days\n",
    "# \tdata[f'Lag_{i}'] = data['Open'].shift(i)\n",
    "\n",
    "# data"
   ]
  },
  {
   "cell_type": "code",
   "execution_count": null,
   "id": "0bc2dcfb-b2ff-4f8a-b2ae-dd4e96d03e0c",
   "metadata": {},
   "outputs": [],
   "source": [
    "# Adding lag features to the DataFrame\n",
    "for i in range(1, 135): # Creating lag features up to 134 days\n",
    "\tdata[f'Lag_{i}'] = open_prices.shift(i)\n",
    "\n",
    "# Drop rows with NaN values resulting from creating lag features\n",
    "data.dropna(inplace=True)\n",
    "\n",
    "# Split the data into training and testing sets\n",
    "train_size = int(0.8 * len(data))\n",
    "train_data = data[:train_size]\n",
    "test_data = data[train_size:]\n",
    "\n",
    "# Define the input features (lag features) and target variable\n",
    "\n",
    "y_train = train_data['Open']\n",
    "\n",
    "y_test = test_data['Open']"
   ]
  },
  {
   "cell_type": "code",
   "execution_count": null,
   "id": "ab14b8e2-a5d4-404d-bcd1-facaae3f814c",
   "metadata": {},
   "outputs": [],
   "source": [
    "from statsmodels.graphics.tsaplots import plot_acf\n",
    "# series = data['Open']\n",
    "# plot_acf(series, lags=200)\n",
    "# plt.xlabel('Lags')\n",
    "# plt.ylabel('ACF')\n",
    "# plt.show()\n",
    "\n",
    "series = open_prices\n",
    "plot_acf(series, lags=200)\n",
    "plt.xlabel('Lags')\n",
    "plt.ylabel('ACF')\n",
    "plt.show()"
   ]
  },
  {
   "cell_type": "code",
   "execution_count": null,
   "id": "6562344c-fe3e-47c0-b2b1-9939709f033a",
   "metadata": {},
   "outputs": [],
   "source": [
    "# Calculate and print the correlation between Open price and each lagged value\n",
    "for i in range(1, 20):\n",
    "    correlation = data['Open'].corr(data[f'Lag_{i}'])\n",
    "    print(f\"AutoCorrelation between passengers and lag {i}: {correlation:.4f}\")"
   ]
  },
  {
   "cell_type": "code",
   "execution_count": null,
   "id": "59cd716a-d982-4132-961f-527f11e2667a",
   "metadata": {},
   "outputs": [],
   "source": [
    "from statsmodels.tsa.ar_model import AutoReg\n",
    "from statsmodels.graphics.tsaplots import plot_acf\n",
    "from statsmodels.tsa.api import AutoReg\n",
    "from sklearn.metrics import mean_absolute_error, mean_squared_error\n",
    "\n",
    "# Create and train the autoregressive model\n",
    "lag_order = 135 # Adjust this based on the ACF plot\n",
    "ar_model = AutoReg(y_train, lags=lag_order)\n",
    "ar_results = ar_model.fit()"
   ]
  },
  {
   "cell_type": "code",
   "execution_count": null,
   "id": "1a4d6b4b-f53a-430d-8b28-561dbcc96578",
   "metadata": {
    "scrolled": true
   },
   "outputs": [],
   "source": [
    "from sklearn.metrics import r2_score\n",
    "# Make predictions on the test set\n",
    "y_pred = ar_results.predict(start=len(train_data), end=len(train_data) + len(test_data) - 1, dynamic=False)\n",
    "#print(y_pred)\n",
    "\n",
    "# Calculate MAE and RMSE\n",
    "mae = mean_absolute_error(y_test, y_pred)\n",
    "rmse = np.sqrt(mean_squared_error(y_test, y_pred))\n",
    "r2_score = r2_score(y_test, y_pred)\n",
    "print(f'Mean Absolute Error: {mae:.2f}')\n",
    "print(f'Root Mean Squared Error: {rmse:.2f}')\n",
    "print(f'R Squared Error: {r2_score:.2f}')"
   ]
  },
  {
   "cell_type": "code",
   "execution_count": null,
   "id": "e71b1850-bd43-4da6-a068-015bc038ab99",
   "metadata": {},
   "outputs": [],
   "source": [
    "# Ensure the index for test_data is aligned correctly with y_pred\n",
    "test_data.reset_index(drop=True, inplace=True)\n",
    "\n",
    "# Visualize the results\n",
    "plt.figure(figsize=(12, 6))\n",
    "plt.plot(test_data.index, y_test, label='Actual Open Price')\n",
    "plt.plot(test_data.index, y_pred, label='Predicted Open Price', linestyle='--')\n",
    "plt.xlabel('Index')\n",
    "plt.ylabel('Open Price')\n",
    "plt.legend()\n",
    "plt.title('Open Price Prediction with Autoregressive Model')\n",
    "plt.show()"
   ]
  },
  {
   "cell_type": "code",
   "execution_count": null,
   "id": "c7108a53-85a8-46a0-9ab4-e04cc769002a",
   "metadata": {},
   "outputs": [],
   "source": [
    "# # Define the number of future time steps you want to predict\n",
    "# forecast_steps = 365\n",
    "\n",
    "# # Generate future indices\n",
    "# future_indices = range(len(y_test), len(y_test) + forecast_steps)\n",
    "\n",
    "# # Generate future predictions\n",
    "# future_predictions = ar_results.predict(start=len(train_data), end=len(train_data) + forecast_steps - 1, dynamic=False)\n",
    "\n",
    "# # Plot the actual data, existing predictions, and future predictions\n",
    "# plt.figure(figsize=(12, 6))\n",
    "# plt.plot(range(len(y_test)), y_test, label='Actual Open Price')\n",
    "# plt.plot(range(len(y_test)), y_pred, label='Predicted Open Price', linestyle='--')\n",
    "# plt.plot(future_indices, future_predictions[-forecast_steps:], label='Future Predictions', linestyle='--', color='red')\n",
    "# plt.xlabel('Index')\n",
    "# plt.ylabel('Open Price')\n",
    "# plt.legend()\n",
    "# plt.title('Open Price Forecast with Autoregressive Model')\n",
    "# plt.show()"
   ]
  },
  {
   "cell_type": "markdown",
   "id": "4ffb4aaa-5959-4c92-9894-f40e642da705",
   "metadata": {},
   "source": [
    "# Moving Average"
   ]
  },
  {
   "cell_type": "code",
   "execution_count": null,
   "id": "3016d665-5259-4e99-9e4a-8e899692518f",
   "metadata": {},
   "outputs": [],
   "source": [
    "data = pd.read_csv(\"MicrosoftStock.csv\", index_col='Date', parse_dates=['Date'])\n",
    "\n",
    "open_prices = data['Open']\n",
    "\n",
    "train_size = int(len(open_prices) * 0.8)\n",
    "train, test = open_prices[:train_size], open_prices[train_size:]"
   ]
  },
  {
   "cell_type": "code",
   "execution_count": null,
   "id": "c0f95c76-154e-4dfc-a5ba-d7b485251108",
   "metadata": {},
   "outputs": [],
   "source": [
    "# # Calculate 12-day Simple Moving Average (SMA)\n",
    "# data['SMA30'] = data['Open'].rolling(30).mean()\n",
    "\n",
    "# data.dropna(inplace=True)\n",
    "# data\n",
    "\n",
    "data['SMA3'] = data['Open'].rolling(3).mean()\n",
    "\n",
    "data.dropna(inplace=True)\n",
    "data"
   ]
  },
  {
   "cell_type": "code",
   "execution_count": null,
   "id": "0ddbbe4c-a79c-43d0-9301-35a861396925",
   "metadata": {},
   "outputs": [],
   "source": [
    "# moving average of 30 days using .plot() method\n",
    "# data[['Open', 'SMA30']].plot(label='Data', figsize=(16, 8))\n",
    "\n",
    "data[['Open', 'SMA3']].plot(label='RELIANCE', figsize=(16, 8))"
   ]
  },
  {
   "cell_type": "code",
   "execution_count": null,
   "id": "614432e7-b423-49cd-ba0c-61a627c92fd6",
   "metadata": {},
   "outputs": [],
   "source": [
    "# columns_to_keep = ['Open', 'SMA30']\n",
    "# data = data[columns_to_keep]\n",
    "# data"
   ]
  },
  {
   "cell_type": "code",
   "execution_count": null,
   "id": "141c8237-5198-456a-93f4-c70ea7c2cde6",
   "metadata": {},
   "outputs": [],
   "source": [
    "# plt.figure(figsize=(10, 5))\n",
    "# plt.plot(data, label='Original Series')\n",
    "# plt.title('Time Series Plot')\n",
    "# plt.xlabel('Date')\n",
    "# plt.ylabel('Stock Prices')\n",
    "# plt.legend()\n",
    "# plt.show()"
   ]
  },
  {
   "cell_type": "code",
   "execution_count": null,
   "id": "f365c81a-0ce6-4dd0-b7f6-3b80d997cb4d",
   "metadata": {
    "scrolled": true
   },
   "outputs": [],
   "source": [
    "# data.isnull().sum()"
   ]
  },
  {
   "cell_type": "code",
   "execution_count": null,
   "id": "521b19a1-4dcf-4323-ad14-b8fd62978ce4",
   "metadata": {},
   "outputs": [],
   "source": [
    "data = pd.read_csv(\"MicrosoftStock.csv\", index_col='Date', parse_dates=['Date'])\n",
    "\n",
    "open_prices = data['Open']\n",
    "\n",
    "train_size = int(len(open_prices) * 0.8)\n",
    "train, test = open_prices[:train_size], open_prices[train_size:]"
   ]
  },
  {
   "cell_type": "code",
   "execution_count": null,
   "id": "a710b591-825d-45b5-8899-35631cbc4605",
   "metadata": {},
   "outputs": [],
   "source": [
    "# from statsmodels.tsa.stattools import adfuller\n",
    "# data['Open_diff'] = data['Open'].diff().dropna()\n",
    "\n",
    "# # Check stationarity again\n",
    "# result_diff = adfuller(data['Open_diff'].dropna())\n",
    "# print(f'ADF Statistic (Differenced): {result_diff[0]}')\n",
    "# print(f'p-value (Differenced): {result_diff[1]}')\n",
    "\n",
    "\n",
    "from statsmodels.tsa.stattools import adfuller\n",
    "differenced_series = open_prices.diff().dropna()\n",
    "\n",
    "# Check stationarity again\n",
    "result_diff = adfuller(differenced_series.dropna())\n",
    "print(f'ADF Statistic (Differenced): {result_diff[0]}')\n",
    "print(f'p-value (Differenced): {result_diff[1]}')"
   ]
  },
  {
   "cell_type": "code",
   "execution_count": null,
   "id": "d23c8663-a4ec-4bfe-a0be-a0b783d49a04",
   "metadata": {},
   "outputs": [],
   "source": [
    "from statsmodels.tsa.stattools import adfuller\n",
    "\n",
    "# Check for stationarity\n",
    "result = adfuller(data['Open'])\n",
    "print('ADF Statistic:', result[0])\n",
    "print('p-value:', result[1])\n",
    "\n",
    "# Since the p-value is > 0.05, the data is not stationary. We need to difference it.\n",
    "data_diff = data.diff(1).dropna()\n",
    "\n",
    "# Check for stationarity again\n",
    "result = adfuller(data_diff['Open'])\n",
    "print('ADF Statistic:', result[0])\n",
    "print('p-value:', result[1])\n",
    "\n",
    "# Plot the differenced data\n",
    "plt.figure(figsize=(10, 5))\n",
    "plt.plot(differenced_series)\n",
    "plt.title('Differenced Monthly Open Prices')\n",
    "plt.xlabel('Year')\n",
    "plt.ylabel('Open Prices')\n",
    "plt.show()"
   ]
  },
  {
   "cell_type": "code",
   "execution_count": null,
   "id": "e8f358d4-4dbc-4e5b-8b8a-fb37114de590",
   "metadata": {},
   "outputs": [],
   "source": [
    "# train_len = int(0.8 * len(data_diff))\n",
    "# arma_train = data_diff[:train_len]\n",
    "# arma_test = data_diff[train_len:]\n",
    "# arma_train = arma_train['Open']\n",
    "# arma_test = arma_test['Open']"
   ]
  },
  {
   "cell_type": "code",
   "execution_count": null,
   "id": "dc15f2fe-c94b-4fa7-820c-5e4b93ad07ae",
   "metadata": {},
   "outputs": [],
   "source": [
    "# from statsmodels.tsa.arima.model import ARIMA\n",
    "\n",
    "# # Fit the ARMA(1, 1) model\n",
    "# model = ARIMA(arma_train, order=(12, 0, 1))\n",
    "# model_fit = model.fit()\n",
    "\n",
    "# # Print the model summary\n",
    "# print(model_fit.summary())"
   ]
  },
  {
   "cell_type": "code",
   "execution_count": null,
   "id": "bdc8eab1-26f9-49ac-871a-ba92f1e311bf",
   "metadata": {},
   "outputs": [],
   "source": [
    "# # Make predictions\n",
    "# start = len(arma_train)\n",
    "# end = len(arma_train) + len(arma_test) -1\n",
    "# predictions = model_fit.predict(start=start, end=end)\n",
    "\n",
    "# # Plot the results\n",
    "# plt.figure(figsize=(10, 5))\n",
    "# plt.plot(data_diff, label='Differenced Original Series')\n",
    "# plt.plot(predictions, label='Predictions', color='red')\n",
    "# plt.legend()\n",
    "# plt.title('ARMA Model Predictions on Stocks Data')\n",
    "# plt.xlabel('Year')\n",
    "# plt.ylabel('Stocks')\n",
    "# plt.show()"
   ]
  },
  {
   "cell_type": "code",
   "execution_count": null,
   "id": "80f01774-9174-4f82-a893-abebffc09dc4",
   "metadata": {},
   "outputs": [],
   "source": [
    "# from sklearn.metrics import r2_score, mean_squared_error, mean_absolute_error\n",
    "# r2_score(arma_test, predictions), mean_squared_error(arma_test, predictions), mean_absolute_error(arma_test, predictions)"
   ]
  },
  {
   "cell_type": "code",
   "execution_count": null,
   "id": "038e2d74-23bc-409a-bead-b7e9ca3f0a9e",
   "metadata": {},
   "outputs": [],
   "source": [
    "# train_len = int(0.8 * len(data))\n",
    "# arima_train = data[:train_len]\n",
    "# arima_test =data[train_len:]\n",
    "# arima_train = arima_train['Open']\n",
    "# arima_test = arima_test['Open']"
   ]
  },
  {
   "cell_type": "code",
   "execution_count": null,
   "id": "e5a58d77-ab4f-4975-9ec2-ae4e8ec70be2",
   "metadata": {},
   "outputs": [],
   "source": [
    "train_size = int(len(open_prices) * 0.8)\n",
    "train, test = open_prices[:train_size], open_prices[train_size:]"
   ]
  },
  {
   "cell_type": "code",
   "execution_count": null,
   "id": "c05b1e03-5976-42b4-b9f5-48272a7bfd11",
   "metadata": {
    "scrolled": true
   },
   "outputs": [],
   "source": [
    "%%time\n",
    "from statsmodels.tsa.arima.model import ARIMA\n",
    "\n",
    "# Fit the ARIMA model #100 sunce in autocor it was good until 130 #30 since above used rolling 30 days and was good\n",
    "model = ARIMA(train, order=(130, 2, 13))\n",
    "model_fit = model.fit()\n",
    "\n",
    "# Print the model summary\n",
    "print(model_fit.summary())"
   ]
  },
  {
   "cell_type": "code",
   "execution_count": null,
   "id": "165f0100-e0c1-430e-8bbe-c8971e203eb5",
   "metadata": {},
   "outputs": [],
   "source": [
    "residuals = model_fit.resid\n",
    "\n",
    "plt.figure(figsize=(12, 6))\n",
    "\n",
    "# Residuals plot\n",
    "plt.subplot(1, 2, 1)\n",
    "plt.plot(residuals)\n",
    "plt.title('Residuals')\n",
    "\n",
    "# Histogram of residuals\n",
    "plt.subplot(1, 2, 2)\n",
    "import seaborn as sns\n",
    "sns.histplot(residuals, kde=True)\n",
    "plt.title('Residuals Histogram')\n",
    "\n",
    "plt.show()"
   ]
  },
  {
   "cell_type": "code",
   "execution_count": null,
   "id": "9d47a5c5-c17c-4b3d-b047-20fcd965ac6c",
   "metadata": {},
   "outputs": [],
   "source": [
    "# Create and train the autoregressive model\n",
    "lag_order = 135 # Adjust this based on the ACF plot\n",
    "ar_model = AutoReg(train, lags=lag_order)\n",
    "ar_results = ar_model.fit()"
   ]
  },
  {
   "cell_type": "code",
   "execution_count": null,
   "id": "9ea749cd-d03e-496c-bb87-a2b4702299e8",
   "metadata": {},
   "outputs": [],
   "source": [
    "forecast = ar_results.predict(start=len(train), end=len(train) + len(test) -1, dynamic=False)"
   ]
  },
  {
   "cell_type": "code",
   "execution_count": null,
   "id": "f4e8b944-5cf7-4b1a-9176-8ed2aee9c85a",
   "metadata": {},
   "outputs": [],
   "source": [
    "from sklearn.metrics import r2_score, mean_squared_error, mean_absolute_error\n",
    "r2_score(test, forecast), mean_squared_error(test, forecast), mean_absolute_error(test, forecast)"
   ]
  },
  {
   "cell_type": "code",
   "execution_count": null,
   "id": "5897fae3-6a7e-4c64-86cf-a458b25318f2",
   "metadata": {},
   "outputs": [],
   "source": [
    "# Make predictions\n",
    "start = train_len\n",
    "end = len(data)-1\n",
    "arima_predictions = model_fit.predict(start=start, end=end)\n",
    "\n",
    "# Plot the results\n",
    "plt.figure(figsize=(10, 5))\n",
    "plt.plot(data['Open'], label='Original Series')\n",
    "plt.plot(arima_test.index, arima_predictions,label='Predictions', color='red')\n",
    "plt.legend()\n",
    "plt.title('ARIMA Model Predictions on Stocks Data')\n",
    "plt.xlabel('Year')\n",
    "plt.ylabel('Stocks')\n",
    "plt.show()"
   ]
  },
  {
   "cell_type": "code",
   "execution_count": null,
   "id": "b97e25f3-870e-4bf8-874e-713d62c4eff6",
   "metadata": {},
   "outputs": [],
   "source": [
    "from sklearn.metrics import r2_score, mean_squared_error, mean_absolute_error\n",
    "r2_score(arima_test, arima_predictions), mean_squared_error(arima_test, arima_predictions), mean_absolute_error(arima_test, arima_predictions)"
   ]
  },
  {
   "cell_type": "code",
   "execution_count": null,
   "id": "b5634705-df4b-49cf-9a1d-cd6bdaa349f3",
   "metadata": {},
   "outputs": [],
   "source": [
    "print(arima_test.shape)\n",
    "print(arima_predictions.shape)\n",
    "print(f'Length of arima_test: {len(arima_test)}')\n",
    "print(f'Length of arima_predictions: {len(arima_predictions)}')"
   ]
  },
  {
   "cell_type": "code",
   "execution_count": null,
   "id": "da07389c-3425-4701-a7d7-f5eb00076314",
   "metadata": {},
   "outputs": [],
   "source": []
  },
  {
   "cell_type": "code",
   "execution_count": null,
   "id": "4b065dfa-8cdc-4b60-9548-24ea70b0c001",
   "metadata": {},
   "outputs": [],
   "source": []
  }
 ],
 "metadata": {
  "kernelspec": {
   "display_name": "Python 3 (ipykernel)",
   "language": "python",
   "name": "python3"
  },
  "language_info": {
   "codemirror_mode": {
    "name": "ipython",
    "version": 3
   },
   "file_extension": ".py",
   "mimetype": "text/x-python",
   "name": "python",
   "nbconvert_exporter": "python",
   "pygments_lexer": "ipython3",
   "version": "3.12.2"
  }
 },
 "nbformat": 4,
 "nbformat_minor": 5
}
