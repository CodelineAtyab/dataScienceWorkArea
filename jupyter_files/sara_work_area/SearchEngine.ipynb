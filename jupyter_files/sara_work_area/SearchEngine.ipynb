{
 "cells": [
  {
   "cell_type": "markdown",
   "id": "2ee188e9-3b68-47f9-bb13-73e8b528e295",
   "metadata": {},
   "source": [
    "# Search Engine of News Headlines"
   ]
  },
  {
   "cell_type": "code",
   "execution_count": 15,
   "id": "71b48d70-c2e5-4956-ac0d-888eee9a27be",
   "metadata": {},
   "outputs": [],
   "source": [
    "import pandas as pd\n",
    "import matplotlib.pyplot as plt\n",
    "import seaborn as sb\n",
    "import numpy as np\n",
    "from wordcloud import WordCloud\n",
    "from nltk.corpus import stopwords\n",
    "from collections import defaultdict, Counter\n",
    "import re\n",
    "from sklearn.feature_extraction.text import TfidfVectorizer\n",
    "from sklearn.metrics.pairwise import cosine_similarity\n",
    "import warnings\n",
    "warnings.filterwarnings('ignore')"
   ]
  },
  {
   "cell_type": "code",
   "execution_count": 27,
   "id": "a6019874-eebf-48d4-90f4-77f9efd8ce0c",
   "metadata": {},
   "outputs": [
    {
     "data": {
      "text/html": [
       "<div>\n",
       "<style scoped>\n",
       "    .dataframe tbody tr th:only-of-type {\n",
       "        vertical-align: middle;\n",
       "    }\n",
       "\n",
       "    .dataframe tbody tr th {\n",
       "        vertical-align: top;\n",
       "    }\n",
       "\n",
       "    .dataframe thead th {\n",
       "        text-align: right;\n",
       "    }\n",
       "</style>\n",
       "<table border=\"1\" class=\"dataframe\">\n",
       "  <thead>\n",
       "    <tr style=\"text-align: right;\">\n",
       "      <th></th>\n",
       "      <th>link</th>\n",
       "      <th>headline</th>\n",
       "      <th>category</th>\n",
       "      <th>short_description</th>\n",
       "      <th>authors</th>\n",
       "      <th>date</th>\n",
       "    </tr>\n",
       "  </thead>\n",
       "  <tbody>\n",
       "    <tr>\n",
       "      <th>0</th>\n",
       "      <td>https://www.huffpost.com/entry/covid-boosters-...</td>\n",
       "      <td>Over 4 Million Americans Roll Up Sleeves For O...</td>\n",
       "      <td>U.S. NEWS</td>\n",
       "      <td>Health experts said it is too early to predict...</td>\n",
       "      <td>Carla K. Johnson, AP</td>\n",
       "      <td>2022-09-23</td>\n",
       "    </tr>\n",
       "    <tr>\n",
       "      <th>1</th>\n",
       "      <td>https://www.huffpost.com/entry/american-airlin...</td>\n",
       "      <td>American Airlines Flyer Charged, Banned For Li...</td>\n",
       "      <td>U.S. NEWS</td>\n",
       "      <td>He was subdued by passengers and crew when he ...</td>\n",
       "      <td>Mary Papenfuss</td>\n",
       "      <td>2022-09-23</td>\n",
       "    </tr>\n",
       "    <tr>\n",
       "      <th>2</th>\n",
       "      <td>https://www.huffpost.com/entry/funniest-tweets...</td>\n",
       "      <td>23 Of The Funniest Tweets About Cats And Dogs ...</td>\n",
       "      <td>COMEDY</td>\n",
       "      <td>\"Until you have a dog you don't understand wha...</td>\n",
       "      <td>Elyse Wanshel</td>\n",
       "      <td>2022-09-23</td>\n",
       "    </tr>\n",
       "    <tr>\n",
       "      <th>3</th>\n",
       "      <td>https://www.huffpost.com/entry/funniest-parent...</td>\n",
       "      <td>The Funniest Tweets From Parents This Week (Se...</td>\n",
       "      <td>PARENTING</td>\n",
       "      <td>\"Accidentally put grown-up toothpaste on my to...</td>\n",
       "      <td>Caroline Bologna</td>\n",
       "      <td>2022-09-23</td>\n",
       "    </tr>\n",
       "    <tr>\n",
       "      <th>4</th>\n",
       "      <td>https://www.huffpost.com/entry/amy-cooper-lose...</td>\n",
       "      <td>Woman Who Called Cops On Black Bird-Watcher Lo...</td>\n",
       "      <td>U.S. NEWS</td>\n",
       "      <td>Amy Cooper accused investment firm Franklin Te...</td>\n",
       "      <td>Nina Golgowski</td>\n",
       "      <td>2022-09-22</td>\n",
       "    </tr>\n",
       "  </tbody>\n",
       "</table>\n",
       "</div>"
      ],
      "text/plain": [
       "                                                link  \\\n",
       "0  https://www.huffpost.com/entry/covid-boosters-...   \n",
       "1  https://www.huffpost.com/entry/american-airlin...   \n",
       "2  https://www.huffpost.com/entry/funniest-tweets...   \n",
       "3  https://www.huffpost.com/entry/funniest-parent...   \n",
       "4  https://www.huffpost.com/entry/amy-cooper-lose...   \n",
       "\n",
       "                                            headline   category  \\\n",
       "0  Over 4 Million Americans Roll Up Sleeves For O...  U.S. NEWS   \n",
       "1  American Airlines Flyer Charged, Banned For Li...  U.S. NEWS   \n",
       "2  23 Of The Funniest Tweets About Cats And Dogs ...     COMEDY   \n",
       "3  The Funniest Tweets From Parents This Week (Se...  PARENTING   \n",
       "4  Woman Who Called Cops On Black Bird-Watcher Lo...  U.S. NEWS   \n",
       "\n",
       "                                   short_description               authors  \\\n",
       "0  Health experts said it is too early to predict...  Carla K. Johnson, AP   \n",
       "1  He was subdued by passengers and crew when he ...        Mary Papenfuss   \n",
       "2  \"Until you have a dog you don't understand wha...         Elyse Wanshel   \n",
       "3  \"Accidentally put grown-up toothpaste on my to...      Caroline Bologna   \n",
       "4  Amy Cooper accused investment firm Franklin Te...        Nina Golgowski   \n",
       "\n",
       "        date  \n",
       "0 2022-09-23  \n",
       "1 2022-09-23  \n",
       "2 2022-09-23  \n",
       "3 2022-09-23  \n",
       "4 2022-09-22  "
      ]
     },
     "execution_count": 27,
     "metadata": {},
     "output_type": "execute_result"
    }
   ],
   "source": [
    "df = pd.read_json('News_Category_Dataset_v3.json', lines=True)\n",
    "df.head()"
   ]
  },
  {
   "cell_type": "code",
   "execution_count": 3,
   "id": "5da96d48-5643-4229-aa84-0e704310d9bb",
   "metadata": {},
   "outputs": [],
   "source": [
    "def preprocess_text(text):\n",
    "    # Remove punctuation\n",
    "    text = re.sub(r'[^\\w\\s]', '', text)\n",
    "    # Convert to lowercase\n",
    "    text = text.lower()\n",
    "    return text\n",
    "\n",
    "# Apply preprocessing to the 'text' column\n",
    "df['cleaned_headline'] = df['headline'].apply(preprocess_text)"
   ]
  },
  {
   "cell_type": "code",
   "execution_count": 8,
   "id": "761fd40a-b975-489a-9093-5dead4eeca3a",
   "metadata": {},
   "outputs": [
    {
     "name": "stdout",
     "output_type": "stream",
     "text": [
      "(209527, 68712)\n"
     ]
    }
   ],
   "source": [
    "# Initialize the TF-IDF Vectorizer\n",
    "vectorizer = TfidfVectorizer(stop_words='english')\n",
    "\n",
    "# Fit and transform the cleaned text\n",
    "X = vectorizer.fit_transform(df['cleaned_headline'])\n",
    "\n",
    "# X is now a sparse matrix of TF-IDF features\n",
    "print(X.shape)  # Display the shape of the matrix"
   ]
  },
  {
   "cell_type": "code",
   "execution_count": 9,
   "id": "94ebbce6-1d4e-420e-9192-69dad5d30117",
   "metadata": {},
   "outputs": [
    {
     "name": "stdout",
     "output_type": "stream",
     "text": [
      "Number of features: 68712\n"
     ]
    }
   ],
   "source": [
    "feature_names = vectorizer.get_feature_names_out()\n",
    "print(\"Number of features:\", len(feature_names))"
   ]
  },
  {
   "cell_type": "code",
   "execution_count": 32,
   "id": "36f84f75-a1ae-4cb1-9c04-b9ec690fc81c",
   "metadata": {},
   "outputs": [],
   "source": [
    "def search_query(query):\n",
    "    # Preprocess and vectorize the query\n",
    "    query_cleaned = preprocess_text(query)\n",
    "    query_vector = vectorizer.transform([query_cleaned])\n",
    "    \n",
    "    # Compute cosine similarity between query and all headlines\n",
    "    similarities = cosine_similarity(query_vector, X)\n",
    "    \n",
    "    # Get the indices of the top 10 most similar headlines\n",
    "    top_indices = similarities[0].argsort()[-10:][::-1]\n",
    "    \n",
    "    # Retrieve the top 10 similar headlines and their similarity scores\n",
    "    top_headlines = df.iloc[top_indices]\n",
    "    top_scores = similarities[0][top_indices]\n",
    "    \n",
    "    return top_headlines[['headline']], top_scores"
   ]
  },
  {
   "cell_type": "code",
   "execution_count": 57,
   "id": "007aee38-56b9-49b2-9531-e6afc65f2266",
   "metadata": {
    "scrolled": true
   },
   "outputs": [
    {
     "name": "stdin",
     "output_type": "stream",
     "text": [
      "Enter your search query:  Donald Trump\n"
     ]
    },
    {
     "name": "stdout",
     "output_type": "stream",
     "text": [
      "\n",
      "Top 10 similar headlines with similarity scores:\n",
      "1. Headline: You Can Be Donald Trump too\n",
      "   Similarity Score: 1.0000\n",
      "\n",
      "2. Headline: Which Donald Trump Are You?\n",
      "   Similarity Score: 0.8193\n",
      "\n",
      "3. Headline: Donald Trump: 'Nobody Has More Respect For Women Than Donald Trump'\n",
      "   Similarity Score: 0.7651\n",
      "\n",
      "4. Headline: Bobby Jindal Rails Against 'Egomaniac' Donald Trump\n",
      "   Similarity Score: 0.6254\n",
      "\n",
      "5. Headline: Donald Trump does not have a campaign\n",
      "   Similarity Score: 0.6143\n",
      "\n",
      "6. Headline: The Five Reasons Donald Trump Will Be Our Next President\n",
      "   Similarity Score: 0.6116\n",
      "\n",
      "7. Headline: Don King Uses The N-Word In Speech Introducing Donald Trump\n",
      "   Similarity Score: 0.6049\n",
      "\n",
      "8. Headline: Here's What Obama Has To Say About Donald Trump\n",
      "   Similarity Score: 0.5865\n",
      "\n",
      "9. Headline: Donald Trump Is Handling The Transition Exactly Like He Campaigned\n",
      "   Similarity Score: 0.5649\n",
      "\n",
      "10. Headline: Donald Trump -- Yes, Donald Trump -- Says High CEO Pay Is 'Disgraceful'\n",
      "   Similarity Score: 0.5554\n",
      "\n"
     ]
    }
   ],
   "source": [
    "# Example search query\n",
    "# query = \"Million Americans Roll\"\n",
    "# top_headlines, top_scores = search_query(query)\n",
    "\n",
    "# Get user input for the search query\n",
    "user_query = input(f\"Enter your search query: \")\n",
    "\n",
    "# Perform the search\n",
    "top_headlines, top_scores = search_query(user_query)\n",
    "\n",
    "\n",
    "print(f\"\\nTop 10 similar headlines with similarity scores:\")\n",
    "for i, (headline, score) in enumerate(zip(top_headlines['headline'], top_scores), start=1):\n",
    "    print(f\"{i}. Headline: {headline}\\n   Similarity Score: {score:.4f}\\n\")"
   ]
  },
  {
   "cell_type": "code",
   "execution_count": 48,
   "id": "c6393282-e7c5-4a03-8235-62af23fab383",
   "metadata": {},
   "outputs": [],
   "source": [
    "# Combine 'headline' and 'short_description' into a single text field\n",
    "df['combined_text'] = df['headline'] + ' ' + df['short_description']\n",
    "\n",
    "# Apply preprocessing to the combined text field\n",
    "df['cleaned_combined_text'] = df['combined_text'].apply(preprocess_text)\n",
    "\n",
    "# Fit and transform the cleaned combined text\n",
    "X = vectorizer.fit_transform(df['cleaned_combined_text'])"
   ]
  },
  {
   "cell_type": "code",
   "execution_count": 50,
   "id": "0361fea6-442e-4c78-938a-0a8ea85c8fa5",
   "metadata": {},
   "outputs": [],
   "source": [
    "def search_query_combined(query):\n",
    "    # Preprocess and vectorize the query\n",
    "    query_cleaned = preprocess_text(query)\n",
    "    query_vector = vectorizer.transform([query_cleaned])\n",
    "    \n",
    "    # Compute cosine similarity between query and all combined text\n",
    "    similarities = cosine_similarity(query_vector, X)\n",
    "    \n",
    "    # Get the indices of the top 10 most similar entries\n",
    "    top_indices = similarities[0].argsort()[-10:][::-1]\n",
    "    \n",
    "    # Retrieve the top 10 similar headlines, their short descriptions, and similarity scores\n",
    "    top_results = df.iloc[top_indices][['headline', 'short_description']]\n",
    "    top_scores = similarities[0][top_indices]\n",
    "    \n",
    "    return top_results, top_scores"
   ]
  },
  {
   "cell_type": "code",
   "execution_count": 55,
   "id": "b00b435f-5aed-4ea4-ac44-d4c8b9c87a3e",
   "metadata": {},
   "outputs": [
    {
     "name": "stdin",
     "output_type": "stream",
     "text": [
      "Enter your search query:  Donald Trump\n"
     ]
    },
    {
     "name": "stdout",
     "output_type": "stream",
     "text": [
      "\n",
      "Top 10 similar headlines and short descriptions with similarity scores: \n",
      "\n",
      "1. Headline: You Can Be Donald Trump too\n",
      "   Short Description: \n",
      "   Similarity Score: 1.0000\n",
      "\n",
      "2. Headline: Which Donald Trump Are You?\n",
      "   Short Description: And you thought there was only one \"The Donald.\"\n",
      "   Similarity Score: 0.8193\n",
      "\n",
      "3. Headline: Donald Trump: 'Nobody Has More Respect For Women Than Donald Trump'\n",
      "   Short Description: Right.\n",
      "   Similarity Score: 0.7651\n",
      "\n",
      "4. Headline: Bobby Jindal Rails Against 'Egomaniac' Donald Trump\n",
      "   Short Description: \"Donald Trump is for Donald Trump. He believes in nothing other than himself.\"\n",
      "   Similarity Score: 0.6254\n",
      "\n",
      "5. Headline: Donald Trump does not have a campaign\n",
      "   Short Description: Donald Trump is a candidate without a campaign – and it’s becoming a serious problem.\n",
      "   Similarity Score: 0.6143\n",
      "\n",
      "6. Headline: The Five Reasons Donald Trump Will Be Our Next President\n",
      "   Short Description: \n",
      "   Similarity Score: 0.6116\n",
      "\n",
      "7. Headline: Don King Uses The N-Word In Speech Introducing Donald Trump\n",
      "   Short Description: “America needs Donald Trump. We need Donald Trump, especially black people.\"\n",
      "   Similarity Score: 0.6049\n",
      "\n",
      "8. Headline: Here's What Obama Has To Say About Donald Trump\n",
      "   Short Description: Where's The Donald?\n",
      "   Similarity Score: 0.5865\n",
      "\n",
      "9. Headline: Donald Trump Is Handling The Transition Exactly Like He Campaigned\n",
      "   Short Description: There is no other Donald Trump.\n",
      "   Similarity Score: 0.5649\n",
      "\n",
      "10. Headline: Donald Trump -- Yes, Donald Trump -- Says High CEO Pay Is 'Disgraceful'\n",
      "   Short Description: This guy.\n",
      "   Similarity Score: 0.5554\n",
      "\n"
     ]
    }
   ],
   "source": [
    "# Get user input for the search query\n",
    "user_query = input(\"Enter your search query: \")\n",
    "\n",
    "# Perform the search\n",
    "top_results, top_scores = search_query_combined(user_query)\n",
    "\n",
    "# Display the results\n",
    "print(f\"\\nTop 10 similar headlines and short descriptions with similarity scores: \\n\")\n",
    "for i, (headline, short_description, score) in enumerate(zip(top_results['headline'], top_results['short_description'], top_scores), start=1):\n",
    "    print(f\"{i}. Headline: {headline}\\n   Short Description: {short_description}\\n   Similarity Score: {score:.4f}\\n\")"
   ]
  },
  {
   "cell_type": "code",
   "execution_count": null,
   "id": "4c388346-c314-42cb-8659-14e2c3e2196a",
   "metadata": {},
   "outputs": [],
   "source": []
  }
 ],
 "metadata": {
  "kernelspec": {
   "display_name": "Python 3 (ipykernel)",
   "language": "python",
   "name": "python3"
  },
  "language_info": {
   "codemirror_mode": {
    "name": "ipython",
    "version": 3
   },
   "file_extension": ".py",
   "mimetype": "text/x-python",
   "name": "python",
   "nbconvert_exporter": "python",
   "pygments_lexer": "ipython3",
   "version": "3.12.2"
  }
 },
 "nbformat": 4,
 "nbformat_minor": 5
}
