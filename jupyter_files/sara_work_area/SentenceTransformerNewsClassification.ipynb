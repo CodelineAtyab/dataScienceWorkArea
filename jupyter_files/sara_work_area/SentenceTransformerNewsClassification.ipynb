{
 "cells": [
  {
   "cell_type": "code",
   "execution_count": 2,
   "id": "50f66122-f044-40a1-915a-5242c2f9acd0",
   "metadata": {},
   "outputs": [],
   "source": [
    "# Step 1: Load the necessary libraries\n",
    "import pandas as pd\n",
    "import numpy as np\n",
    "from sentence_transformers import SentenceTransformer\n",
    "from sklearn.model_selection import train_test_split\n",
    "from sklearn.preprocessing import LabelEncoder\n",
    "from keras.models import Sequential\n",
    "from keras.layers import Dense, Dropout\n",
    "from keras.utils import to_categorical\n",
    "import tensorflow as tf\n",
    "from tensorflow.keras import mixed_precision"
   ]
  },
  {
   "cell_type": "code",
   "execution_count": 3,
   "id": "2434dbaf-f08d-4942-86d1-5da1000e4158",
   "metadata": {},
   "outputs": [
    {
     "name": "stdout",
     "output_type": "stream",
     "text": [
      "Num GPUs Available:  0\n"
     ]
    }
   ],
   "source": [
    "# Step 2: Check for GPU availability\n",
    "print(\"Num GPUs Available: \", len(tf.config.experimental.list_physical_devices('GPU')))\n",
    "\n",
    "# Enable mixed precision training (if supported by your GPU)\n",
    "policy = mixed_precision.Policy('mixed_float16')\n",
    "mixed_precision.set_global_policy(policy)"
   ]
  },
  {
   "cell_type": "code",
   "execution_count": null,
   "id": "f1d1f6fc-f736-4e45-aa5c-14f297d5889e",
   "metadata": {},
   "outputs": [],
   "source": [
    "# Step 3: Load the dataset (assuming it's saved as a JSON file)\n",
    "df = pd.read_json('News_Category_Dataset_v3.json', lines=True)"
   ]
  },
  {
   "cell_type": "code",
   "execution_count": null,
   "id": "1fa6517c-34c0-45b0-b38c-662d08b8c059",
   "metadata": {},
   "outputs": [],
   "source": [
    "# Step 4: Keep both 'title' and 'short_description' columns\n",
    "df = df[['title', 'short_description', 'category']]"
   ]
  },
  {
   "cell_type": "code",
   "execution_count": null,
   "id": "eb3c5e88-7d39-4dda-b127-5bc0c2ba3e65",
   "metadata": {},
   "outputs": [],
   "source": [
    "# Step 5: Find the top 10 most frequent categories\n",
    "top_categories = df['category'].value_counts().head(10).index"
   ]
  },
  {
   "cell_type": "code",
   "execution_count": null,
   "id": "39aacee2-336e-4e44-ac8f-8d31e0c1fd1f",
   "metadata": {},
   "outputs": [],
   "source": [
    "# Step 6: Filter the dataset to include only the top 10 frequent categories\n",
    "df_filtered = df[df['category'].isin(top_categories)]"
   ]
  },
  {
   "cell_type": "code",
   "execution_count": null,
   "id": "a6f6a1d3-a3d5-4fc8-bfe9-4134be1f74ef",
   "metadata": {},
   "outputs": [],
   "source": [
    "# Step 7: Combine 'title' and 'short_description' into one text column\n",
    "df_filtered['text'] = df_filtered['title'] + \" \" + df_filtered['short_description']"
   ]
  },
  {
   "cell_type": "code",
   "execution_count": null,
   "id": "e0528018-37cd-49f0-91b3-9247b0978c66",
   "metadata": {},
   "outputs": [],
   "source": [
    "# Step 8: Initialize the Sentence-Transformer model for sentence embeddings and move to GPU\n",
    "model = SentenceTransformer('all-MiniLM-L6-v2', device='cuda')  # Use GPU if available"
   ]
  },
  {
   "cell_type": "code",
   "execution_count": null,
   "id": "e53a51f8-8ce8-44a0-b682-1e30dc83884e",
   "metadata": {},
   "outputs": [],
   "source": [
    "# Step 9: Generate sentence embeddings for each row in the 'text' column\n",
    "X = model.encode(df_filtered['text'].tolist(), convert_to_tensor=False)  # List of sentence embeddings"
   ]
  },
  {
   "cell_type": "code",
   "execution_count": null,
   "id": "bf929023-4578-40ab-8510-543bf8f2b7d8",
   "metadata": {},
   "outputs": [],
   "source": [
    "# Step 10: Encode the target labels ('category') using LabelEncoder\n",
    "encoder = LabelEncoder()\n",
    "y = encoder.fit_transform(df_filtered['category'])\n",
    "y = to_categorical(y)  # Convert labels to one-hot encoded format"
   ]
  },
  {
   "cell_type": "code",
   "execution_count": null,
   "id": "6c514861-ebc3-45a2-8802-24021f5002f5",
   "metadata": {},
   "outputs": [],
   "source": [
    "# Step 11: Split the data into training and testing sets\n",
    "X_train, X_test, y_train, y_test = train_test_split(X, y, test_size=0.2, random_state=42)"
   ]
  },
  {
   "cell_type": "code",
   "execution_count": null,
   "id": "75cda460-9df5-4ea3-929e-cd26758c590b",
   "metadata": {},
   "outputs": [],
   "source": [
    "# Step 12: Build the Keras neural network model\n",
    "model_nn = Sequential()\n",
    "\n",
    "# Add input layer (Dense layer with 512 units)\n",
    "model_nn.add(Dense(512, input_dim=X_train.shape[1], activation='relu'))\n",
    "\n",
    "# Add dropout layer for regularization\n",
    "model_nn.add(Dropout(0.5))\n",
    "\n",
    "# Add hidden layer\n",
    "model_nn.add(Dense(256, activation='relu'))\n",
    "\n",
    "# Add dropout layer for regularization\n",
    "model_nn.add(Dropout(0.5))\n",
    "\n",
    "# Add output layer with softmax activation (for multi-class classification)\n",
    "model_nn.add(Dense(y_train.shape[1], activation='softmax'))"
   ]
  },
  {
   "cell_type": "code",
   "execution_count": null,
   "id": "78cf4692-0061-4654-9212-34650dac73b5",
   "metadata": {},
   "outputs": [],
   "source": [
    "# Step 13: Compile the model\n",
    "model_nn.compile(loss='categorical_crossentropy', optimizer='adam', metrics=['accuracy'])"
   ]
  },
  {
   "cell_type": "code",
   "execution_count": null,
   "id": "acf5239c-6319-4652-9f19-13d7e74375af",
   "metadata": {},
   "outputs": [],
   "source": [
    "# Step 14: Train the model\n",
    "history = model_nn.fit(X_train, y_train, epochs=10, batch_size=64, validation_data=(X_test, y_test))"
   ]
  },
  {
   "cell_type": "code",
   "execution_count": null,
   "id": "c48fafbf-37fd-453b-b8a7-b63ea26c1539",
   "metadata": {},
   "outputs": [],
   "source": [
    "# Step 15: Evaluate the model\n",
    "loss, accuracy = model_nn.evaluate(X_test, y_test)\n",
    "print(f\"Test Loss: {loss}\")\n",
    "print(f\"Test Accuracy: {accuracy}\")"
   ]
  }
 ],
 "metadata": {
  "kernelspec": {
   "display_name": "Python 3 (ipykernel)",
   "language": "python",
   "name": "python3"
  },
  "language_info": {
   "codemirror_mode": {
    "name": "ipython",
    "version": 3
   },
   "file_extension": ".py",
   "mimetype": "text/x-python",
   "name": "python",
   "nbconvert_exporter": "python",
   "pygments_lexer": "ipython3",
   "version": "3.12.2"
  }
 },
 "nbformat": 4,
 "nbformat_minor": 5
}
