{
 "cells": [
  {
   "cell_type": "code",
   "execution_count": 33,
   "id": "4e096414",
   "metadata": {},
   "outputs": [],
   "source": [
    "import pandas as pd\n",
    "from sklearn.model_selection import train_test_split\n",
    "from sklearn.preprocessing import LabelEncoder, StandardScaler\n",
    "from sklearn.linear_model import LinearRegression, Ridge\n",
    "from sklearn.metrics import mean_squared_error, r2_score"
   ]
  },
  {
   "cell_type": "code",
   "execution_count": 34,
   "id": "e5231465",
   "metadata": {},
   "outputs": [
    {
     "data": {
      "text/plain": [
       "(659424294.4355531, 0.5454374233655623, 659522677.9240884, 0.5453696044325563)"
      ]
     },
     "execution_count": 34,
     "metadata": {},
     "output_type": "execute_result"
    }
   ],
   "source": [
    "\n",
    "# Load the dataset\n",
    "csv_file_path = 'laptopData.csv'\n",
    "data = pd.read_csv(csv_file_path)\n",
    "\n",
    "# Selecting relevant features and target\n",
    "features = ['Company', 'TypeName', 'Ram', 'Weight', 'Cpu', 'Gpu', 'ScreenResolution']\n",
    "target = 'Price'\n",
    "\n",
    "# Remove rows with missing values in the target variable 'Price'\n",
    "data = data.dropna(subset=[target])\n",
    "\n",
    "# Splitting the data into training and testing sets\n",
    "X = data[features]\n",
    "y = data[target]\n",
    "X_train, X_test, y_train, y_test = train_test_split(X, y, test_size=0.2, random_state=42)\n",
    "\n",
    "# Ensure all values in 'Cpu' column are strings and fill missing values\n",
    "X_train['Cpu'] = X_train['Cpu'].astype(str).fillna('Unknown')\n",
    "X_test['Cpu'] = X_test['Cpu'].astype(str).fillna('Unknown')\n",
    "\n",
    "# Function to extract CPU brand and speed with error handling\n",
    "def extract_cpu_features(cpu_info):\n",
    "    parts = cpu_info.split()\n",
    "    if len(parts) < 3:\n",
    "        return pd.Series(['Unknown', 0])\n",
    "    brand = parts[0] + ' ' + parts[1]\n",
    "    try:\n",
    "        speed = float(parts[-1].replace('GHz', ''))\n",
    "    except ValueError:\n",
    "        speed = 0\n",
    "    return pd.Series([brand, speed])\n",
    "\n",
    "# Function to extract GPU brand with error handling\n",
    "def extract_gpu_brand(gpu_info):\n",
    "    if not isinstance(gpu_info, str) or len(gpu_info.split()) < 1:\n",
    "        return 'Unknown'\n",
    "    return gpu_info.split()[0]\n",
    "\n",
    "# Function to extract screen width and height with error handling\n",
    "def extract_screen_resolution(screen_info):\n",
    "    if not isinstance(screen_info, str) or 'x' not in screen_info:\n",
    "        return pd.Series([0, 0])\n",
    "    resolution = screen_info.split()[-1]\n",
    "    width, height = resolution.split('x')\n",
    "    return pd.Series([int(width), int(height)])\n",
    "\n",
    "# Apply the functions to the respective columns\n",
    "cpu_features_train = X_train['Cpu'].apply(extract_cpu_features)\n",
    "cpu_features_train.columns = ['Cpu_Brand', 'Cpu_Speed']\n",
    "\n",
    "cpu_features_test = X_test['Cpu'].apply(extract_cpu_features)\n",
    "cpu_features_test.columns = ['Cpu_Brand', 'Cpu_Speed']\n",
    "\n",
    "\n",
    "X_train = pd.concat([X_train, cpu_features_train], axis=1)\n",
    "X_test = pd.concat([X_test, cpu_features_test], axis=1)\n",
    "\n",
    "\n",
    "X_train['Gpu'] = X_train['Gpu'].astype(str).fillna('Unknown')\n",
    "X_test['Gpu'] = X_test['Gpu'].astype(str).fillna('Unknown')\n",
    "\n",
    "\n",
    "X_train['Gpu_Brand'] = X_train['Gpu'].apply(extract_gpu_brand)\n",
    "X_test['Gpu_Brand'] = X_test['Gpu'].apply(extract_gpu_brand)\n",
    "\n",
    "\n",
    "X_train['ScreenResolution'] = X_train['ScreenResolution'].astype(str).fillna('0x0')\n",
    "X_test['ScreenResolution'] = X_test['ScreenResolution'].astype(str).fillna('0x0')\n",
    "\n",
    "screen_resolution_features_train = X_train['ScreenResolution'].apply(extract_screen_resolution)\n",
    "screen_resolution_features_train.columns = ['Screen_Width', 'Screen_Height']\n",
    "\n",
    "screen_resolution_features_test = X_test['ScreenResolution'].apply(extract_screen_resolution)\n",
    "screen_resolution_features_test.columns = ['Screen_Width', 'Screen_Height']\n",
    "\n",
    "X_train = pd.concat([X_train, screen_resolution_features_train], axis=1)\n",
    "X_test = pd.concat([X_test, screen_resolution_features_test], axis=1)\n",
    "\n",
    "# Dropping original columns after feature extraction\n",
    "X_train = X_train.drop(columns=['Cpu', 'Gpu', 'ScreenResolution'])\n",
    "X_test = X_test.drop(columns=['Cpu', 'Gpu', 'ScreenResolution'])\n",
    "\n",
    "# Updated features list\n",
    "updated_features = ['Company', 'TypeName', 'Ram', 'Weight', 'Cpu_Brand', 'Cpu_Speed', 'Gpu_Brand', 'Screen_Width', 'Screen_Height']\n",
    "\n",
    "# Label encoding for categorical features\n",
    "label_encoders = {}\n",
    "for feature in updated_features:\n",
    "    if X_train[feature].dtype == 'object':\n",
    "        le = LabelEncoder()\n",
    "        combined_data = pd.concat([X_train[feature], X_test[feature]], axis=0)  # Combine train and test data for fitting\n",
    "        le.fit(combined_data)\n",
    "        X_train[feature] = le.transform(X_train[feature])\n",
    "        X_test[feature] = le.transform(X_test[feature])\n",
    "        label_encoders[feature] = le\n",
    "\n",
    "# Standardizing the features\n",
    "scaler = StandardScaler()\n",
    "X_train = scaler.fit_transform(X_train)\n",
    "X_test = scaler.transform(X_test)\n",
    "\n",
    "# Applying Linear Regression\n",
    "linear_reg = LinearRegression()\n",
    "linear_reg.fit(X_train, y_train)\n",
    "y_pred_linear = linear_reg.predict(X_test)\n",
    "mse_linear = mean_squared_error(y_test, y_pred_linear)\n",
    "r2_linear = r2_score(y_test, y_pred_linear)\n",
    "\n",
    "# Applying Ridge Regression\n",
    "ridge_reg = Ridge()\n",
    "ridge_reg.fit(X_train, y_train)\n",
    "y_pred_ridge = ridge_reg.predict(X_test)\n",
    "mse_ridge = mean_squared_error(y_test, y_pred_ridge)\n",
    "r2_ridge = r2_score(y_test, y_pred_ridge)\n",
    "\n",
    "mse_linear, r2_linear, mse_ridge, r2_ridge\n"
   ]
  },
  {
   "cell_type": "code",
   "execution_count": 35,
   "id": "9012df1b",
   "metadata": {},
   "outputs": [
    {
     "data": {
      "text/plain": [
       "array([61248.89263421, 97476.7197198 , 71413.25841409, 41451.02223329,\n",
       "       26450.87987425, 71814.97373607, 64783.38655864, 50648.13607707,\n",
       "       69252.86484457, 70431.90605437])"
      ]
     },
     "execution_count": 35,
     "metadata": {},
     "output_type": "execute_result"
    }
   ],
   "source": [
    "y_pred_linear[:10]"
   ]
  },
  {
   "cell_type": "code",
   "execution_count": 37,
   "id": "b8d87127",
   "metadata": {},
   "outputs": [
    {
     "data": {
      "text/plain": [
       "44       53226.720\n",
       "1188     58554.720\n",
       "133      30476.160\n",
       "1262     24455.520\n",
       "1222     28185.120\n",
       "711      58021.920\n",
       "1160     79866.720\n",
       "881      36486.144\n",
       "546      41824.800\n",
       "800     110017.872\n",
       "Name: Price, dtype: float64"
      ]
     },
     "execution_count": 37,
     "metadata": {},
     "output_type": "execute_result"
    }
   ],
   "source": [
    "y_test[:10]"
   ]
  }
 ],
 "metadata": {
  "kernelspec": {
   "display_name": "Python 3",
   "language": "python",
   "name": "python3"
  },
  "language_info": {
   "codemirror_mode": {
    "name": "ipython",
    "version": 3
   },
   "file_extension": ".py",
   "mimetype": "text/x-python",
   "name": "python",
   "nbconvert_exporter": "python",
   "pygments_lexer": "ipython3",
   "version": "3.12.2"
  }
 },
 "nbformat": 4,
 "nbformat_minor": 5
}
