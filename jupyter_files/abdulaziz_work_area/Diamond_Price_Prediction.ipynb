{
 "cells": [
  {
   "cell_type": "code",
   "execution_count": 4,
   "id": "08deca10",
   "metadata": {},
   "outputs": [
    {
     "data": {
      "text/plain": [
       "(1772260.3205072281, 0.8863641648837631, 1772401.514974226, 0.8863551116137749)"
      ]
     },
     "execution_count": 4,
     "metadata": {},
     "output_type": "execute_result"
    }
   ],
   "source": [
    "import pandas as pd\n",
    "from sklearn.model_selection import train_test_split\n",
    "from sklearn.preprocessing import LabelEncoder\n",
    "from sklearn.linear_model import LinearRegression, Ridge\n",
    "from sklearn.metrics import mean_squared_error, r2_score\n",
    "\n",
    "# Load the CSV file\n",
    "file_path = 'diamonds.csv'\n",
    "df = pd.read_csv(file_path)\n",
    "\n",
    "# Drop the unnecessary column 'Unnamed: 0'\n",
    "df = df.drop(columns=['Unnamed: 0'])\n",
    "\n",
    "# Define features and target variable\n",
    "X = df.drop(columns='price')\n",
    "y = df['price']\n",
    "\n",
    "# Split the data into training and testing sets\n",
    "X_train, X_test, y_train, y_test = train_test_split(X, y, test_size=0.3, random_state=42)\n",
    "\n",
    "# Combine training and testing data to fit the label encoder on the entire dataset for each feature\n",
    "combined_data = pd.concat([X_train, X_test])\n",
    "\n",
    "# Label Encoding\n",
    "label_encoder_cut = LabelEncoder()\n",
    "label_encoder_color = LabelEncoder()\n",
    "label_encoder_clarity = LabelEncoder()\n",
    "\n",
    "# Fit the label encoders on the combined data\n",
    "label_encoder_cut.fit(combined_data['cut'])\n",
    "label_encoder_color.fit(combined_data['color'])\n",
    "label_encoder_clarity.fit(combined_data['clarity'])\n",
    "\n",
    "# Transform the training and testing data\n",
    "X_train['cut'] = label_encoder_cut.transform(X_train['cut'])\n",
    "X_train['color'] = label_encoder_color.transform(X_train['color'])\n",
    "X_train['clarity'] = label_encoder_clarity.transform(X_train['clarity'])\n",
    "\n",
    "X_test['cut'] = label_encoder_cut.transform(X_test['cut'])\n",
    "X_test['color'] = label_encoder_color.transform(X_test['color'])\n",
    "X_test['clarity'] = label_encoder_clarity.transform(X_test['clarity'])\n",
    "\n",
    "# Train a Linear Regression model\n",
    "linear_model = LinearRegression()\n",
    "linear_model.fit(X_train, y_train)\n",
    "\n",
    "# Predict with the Linear Regression model\n",
    "y_pred_linear = linear_model.predict(X_test)\n",
    "\n",
    "# Calculate the mean squared error for Linear Regression\n",
    "mse_linear = mean_squared_error(y_test, y_pred_linear)\n",
    "\n",
    "# Calculate the R^2 score for Linear Regression\n",
    "r2_linear = r2_score(y_test, y_pred_linear)\n",
    "\n",
    "# Train a Ridge Regression model\n",
    "ridge_model = Ridge()\n",
    "ridge_model.fit(X_train, y_train)\n",
    "\n",
    "# Predict with the Ridge Regression model\n",
    "y_pred_ridge = ridge_model.predict(X_test)\n",
    "\n",
    "# Calculate the mean squared error for Ridge Regression\n",
    "mse_ridge = mean_squared_error(y_test, y_pred_ridge)\n",
    "\n",
    "# Calculate the R^2 score for Ridge Regression\n",
    "r2_ridge = r2_score(y_test, y_pred_ridge)\n",
    "\n",
    "mse_linear, r2_linear, mse_ridge, r2_ridge\n"
   ]
  }
 ],
 "metadata": {
  "kernelspec": {
   "display_name": "Python 3",
   "language": "python",
   "name": "python3"
  },
  "language_info": {
   "codemirror_mode": {
    "name": "ipython",
    "version": 3
   },
   "file_extension": ".py",
   "mimetype": "text/x-python",
   "name": "python",
   "nbconvert_exporter": "python",
   "pygments_lexer": "ipython3",
   "version": "3.12.2"
  }
 },
 "nbformat": 4,
 "nbformat_minor": 5
}
