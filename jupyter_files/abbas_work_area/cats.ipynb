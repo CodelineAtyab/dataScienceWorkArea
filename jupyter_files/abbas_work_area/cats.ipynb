{
 "cells": [
  {
   "cell_type": "code",
   "execution_count": 1,
   "metadata": {},
   "outputs": [
    {
     "name": "stdout",
     "output_type": "stream",
     "text": [
      "WARNING:tensorflow:From C:\\Users\\71519\\AppData\\Roaming\\Python\\Python312\\site-packages\\tf_keras\\src\\losses.py:2976: The name tf.losses.sparse_softmax_cross_entropy is deprecated. Please use tf.compat.v1.losses.sparse_softmax_cross_entropy instead.\n",
      "\n"
     ]
    }
   ],
   "source": [
    "import pandas as pd\n",
    "import numpy as np\n",
    "from sentence_transformers import SentenceTransformer\n",
    "from sklearn.model_selection import train_test_split\n",
    "from sklearn.preprocessing import LabelEncoder\n",
    "from keras.models import Sequential\n",
    "from keras.layers import Dense, Dropout\n",
    "from keras.utils import to_categorical\n",
    "import tensorflow as tf\n",
    "from tensorflow.keras import mixed_precision\n",
    "import os\n",
    "import cv2\n",
    "import numpy as np\n",
    "from PIL import Image\n",
    "from tensorflow.keras.preprocessing.image import load_img, img_to_array"
   ]
  },
  {
   "cell_type": "code",
   "execution_count": 2,
   "metadata": {},
   "outputs": [],
   "source": [
    "def load_images_from_directory(directory, label, target_size=(150, 150)):\n",
    "    images = []\n",
    "    labels = []\n",
    "    for img_name in os.listdir(directory):\n",
    "        img_path = os.path.join(directory, img_name)\n",
    "        try:\n",
    "            img = load_img(img_path, target_size=target_size)  # Resize image\n",
    "            img_array = img_to_array(img) / 255.0  # Normalize to [0, 1]\n",
    "            images.append(img_array)\n",
    "            labels.append(label)\n",
    "        except Exception as e:\n",
    "            print(f\"Error loading image {img_path}: {e}\")\n",
    "    return np.array(images), np.array(labels)"
   ]
  },
  {
   "cell_type": "code",
   "execution_count": 3,
   "metadata": {},
   "outputs": [],
   "source": [
    "train_dir = r\"C:\\\\Users\\\\71519\\\\Downloads\\\\ggg\\\\training_set\\\\training_set\""
   ]
  },
  {
   "cell_type": "code",
   "execution_count": 4,
   "metadata": {},
   "outputs": [
    {
     "name": "stdout",
     "output_type": "stream",
     "text": [
      "Error loading image C:\\\\Users\\\\71519\\\\Downloads\\\\ggg\\\\training_set\\\\training_set\\cats\\_DS_Store: cannot identify image file <_io.BytesIO object at 0x000001FC5433B290>\n"
     ]
    }
   ],
   "source": [
    "cats_train_images, cats_train_labels = load_images_from_directory(\n",
    "    os.path.join(train_dir, \"cats\"), label=0\n",
    ")"
   ]
  },
  {
   "cell_type": "code",
   "execution_count": 5,
   "metadata": {},
   "outputs": [
    {
     "name": "stdout",
     "output_type": "stream",
     "text": [
      "Error loading image C:\\\\Users\\\\71519\\\\Downloads\\\\ggg\\\\training_set\\\\training_set\\dogs\\_DS_Store: cannot identify image file <_io.BytesIO object at 0x000001FC5C7E52B0>\n"
     ]
    }
   ],
   "source": [
    "dogs_train_images, dogs_train_labels = load_images_from_directory(\n",
    "    os.path.join(train_dir, \"dogs\"), label=1\n",
    ")"
   ]
  },
  {
   "cell_type": "code",
   "execution_count": 6,
   "metadata": {},
   "outputs": [],
   "source": [
    "X = np.concatenate((cats_train_images, dogs_train_images), axis=0)\n",
    "y = np.concatenate((cats_train_labels, dogs_train_labels), axis=0)\n",
    "X_train, X_val, y_train, y_val = train_test_split(X, y, test_size=0.2, random_state=42)"
   ]
  },
  {
   "cell_type": "code",
   "execution_count": 7,
   "metadata": {},
   "outputs": [],
   "source": [
    "test_dir = r\"C:\\\\Users\\\\71519\\\\Downloads\\\\ggg\\\\test_set\\\\test_set\""
   ]
  },
  {
   "cell_type": "code",
   "execution_count": 8,
   "metadata": {},
   "outputs": [
    {
     "name": "stdout",
     "output_type": "stream",
     "text": [
      "Error loading image C:\\\\Users\\\\71519\\\\Downloads\\\\ggg\\\\test_set\\\\test_set\\cats\\_DS_Store: cannot identify image file <_io.BytesIO object at 0x000001FC28865A30>\n"
     ]
    }
   ],
   "source": [
    "cats_test_images, cats_test_labels = load_images_from_directory(\n",
    "    os.path.join(test_dir, \"cats\"), label=0\n",
    ")"
   ]
  },
  {
   "cell_type": "code",
   "execution_count": 9,
   "metadata": {},
   "outputs": [
    {
     "name": "stdout",
     "output_type": "stream",
     "text": [
      "Error loading image C:\\\\Users\\\\71519\\\\Downloads\\\\ggg\\\\test_set\\\\test_set\\dogs\\_DS_Store: cannot identify image file <_io.BytesIO object at 0x000001FC28864AE0>\n"
     ]
    }
   ],
   "source": [
    "dogs_test_images, dogs_test_labels = load_images_from_directory(\n",
    "    os.path.join(test_dir, \"dogs\"), label=1\n",
    ")"
   ]
  },
  {
   "cell_type": "code",
   "execution_count": 10,
   "metadata": {},
   "outputs": [],
   "source": [
    "X_test = np.concatenate((cats_test_images, dogs_test_images), axis=0)\n",
    "y_test = np.concatenate((cats_test_labels, dogs_test_labels), axis=0)"
   ]
  },
  {
   "cell_type": "code",
   "execution_count": 33,
   "metadata": {},
   "outputs": [],
   "source": [
    "from keras.models import Sequential\n",
    "from keras.layers import Conv2D, Flatten, Dense, MaxPooling2D\n",
    "\n",
    "from keras.models import Sequential\n",
    "from keras.layers import Conv2D, MaxPooling2D, Flatten, Dense\n",
    "\n",
    "# Step 12: Build the Keras neural network model with Conv2D layers\n",
    "model = Sequential([\n",
    "    Conv2D(32, (3, 3), activation='relu', input_shape=(150, 150, 3)),\n",
    "    MaxPooling2D((2, 2)),\n",
    "    \n",
    "    Conv2D(64, (3, 3), activation='relu'),\n",
    "    MaxPooling2D((2, 2)),\n",
    "    \n",
    "    Conv2D(128, (3, 3), activation='relu'),\n",
    "    MaxPooling2D((2, 2)),\n",
    "    \n",
    "    Conv2D(128, (3, 3), activation='relu'),\n",
    "    MaxPooling2D((2, 2)),\n",
    "    \n",
    "    Flatten(),\n",
    "    \n",
    "    Dense(512, activation='relu'),\n",
    "    \n",
    "    Dense(2, activation='softmax')\n",
    "])\n"
   ]
  },
  {
   "cell_type": "code",
   "execution_count": 34,
   "metadata": {},
   "outputs": [],
   "source": [
    "model.compile(loss='sparse_categorical_crossentropy', optimizer='adam', metrics=['accuracy'])"
   ]
  },
  {
   "cell_type": "code",
   "execution_count": 35,
   "metadata": {},
   "outputs": [
    {
     "name": "stdout",
     "output_type": "stream",
     "text": [
      "Epoch 1/10\n",
      "\u001b[1m201/201\u001b[0m \u001b[32m━━━━━━━━━━━━━━━━━━━━\u001b[0m\u001b[37m\u001b[0m \u001b[1m67s\u001b[0m 326ms/step - accuracy: 0.5085 - loss: 0.7351 - val_accuracy: 0.6070 - val_loss: 0.6537\n",
      "Epoch 2/10\n",
      "\u001b[1m201/201\u001b[0m \u001b[32m━━━━━━━━━━━━━━━━━━━━\u001b[0m\u001b[37m\u001b[0m \u001b[1m57s\u001b[0m 286ms/step - accuracy: 0.6379 - loss: 0.6435 - val_accuracy: 0.6915 - val_loss: 0.5987\n",
      "Epoch 3/10\n",
      "\u001b[1m201/201\u001b[0m \u001b[32m━━━━━━━━━━━━━━━━━━━━\u001b[0m\u001b[37m\u001b[0m \u001b[1m59s\u001b[0m 295ms/step - accuracy: 0.7070 - loss: 0.5720 - val_accuracy: 0.6471 - val_loss: 0.6099\n",
      "Epoch 4/10\n",
      "\u001b[1m201/201\u001b[0m \u001b[32m━━━━━━━━━━━━━━━━━━━━\u001b[0m\u001b[37m\u001b[0m \u001b[1m63s\u001b[0m 313ms/step - accuracy: 0.7215 - loss: 0.5496 - val_accuracy: 0.7444 - val_loss: 0.5292\n",
      "Epoch 5/10\n",
      "\u001b[1m201/201\u001b[0m \u001b[32m━━━━━━━━━━━━━━━━━━━━\u001b[0m\u001b[37m\u001b[0m \u001b[1m70s\u001b[0m 346ms/step - accuracy: 0.7722 - loss: 0.4776 - val_accuracy: 0.7514 - val_loss: 0.5138\n",
      "Epoch 6/10\n",
      "\u001b[1m201/201\u001b[0m \u001b[32m━━━━━━━━━━━━━━━━━━━━\u001b[0m\u001b[37m\u001b[0m \u001b[1m73s\u001b[0m 364ms/step - accuracy: 0.7919 - loss: 0.4444 - val_accuracy: 0.7583 - val_loss: 0.5207\n",
      "Epoch 7/10\n",
      "\u001b[1m201/201\u001b[0m \u001b[32m━━━━━━━━━━━━━━━━━━━━\u001b[0m\u001b[37m\u001b[0m \u001b[1m78s\u001b[0m 386ms/step - accuracy: 0.8272 - loss: 0.3791 - val_accuracy: 0.7612 - val_loss: 0.5193\n",
      "Epoch 8/10\n",
      "\u001b[1m201/201\u001b[0m \u001b[32m━━━━━━━━━━━━━━━━━━━━\u001b[0m\u001b[37m\u001b[0m \u001b[1m75s\u001b[0m 375ms/step - accuracy: 0.8496 - loss: 0.3542 - val_accuracy: 0.7647 - val_loss: 0.5023\n",
      "Epoch 9/10\n",
      "\u001b[1m201/201\u001b[0m \u001b[32m━━━━━━━━━━━━━━━━━━━━\u001b[0m\u001b[37m\u001b[0m \u001b[1m65s\u001b[0m 323ms/step - accuracy: 0.8944 - loss: 0.2482 - val_accuracy: 0.7874 - val_loss: 0.5224\n",
      "Epoch 10/10\n",
      "\u001b[1m201/201\u001b[0m \u001b[32m━━━━━━━━━━━━━━━━━━━━\u001b[0m\u001b[37m\u001b[0m \u001b[1m65s\u001b[0m 321ms/step - accuracy: 0.9298 - loss: 0.1684 - val_accuracy: 0.7954 - val_loss: 0.5673\n"
     ]
    }
   ],
   "source": [
    "history = model.fit(X_train, y_train, epochs=10, batch_size=32, validation_data=(X_test, y_test))"
   ]
  },
  {
   "cell_type": "code",
   "execution_count": 36,
   "metadata": {},
   "outputs": [
    {
     "name": "stdout",
     "output_type": "stream",
     "text": [
      "\u001b[1m64/64\u001b[0m \u001b[32m━━━━━━━━━━━━━━━━━━━━\u001b[0m\u001b[37m\u001b[0m \u001b[1m6s\u001b[0m 100ms/step - accuracy: 0.8072 - loss: 0.5323\n",
      "Test Loss: 0.5673239827156067\n",
      "Test Accuracy: 0.7953534126281738\n"
     ]
    }
   ],
   "source": [
    "loss, accuracy = model.evaluate(X_test, y_test)\n",
    "print(f\"Test Loss: {loss}\")\n",
    "print(f\"Test Accuracy: {accuracy}\")"
   ]
  },
  {
   "cell_type": "code",
   "execution_count": null,
   "metadata": {},
   "outputs": [],
   "source": []
  }
 ],
 "metadata": {
  "kernelspec": {
   "display_name": "Python 3",
   "language": "python",
   "name": "python3"
  },
  "language_info": {
   "codemirror_mode": {
    "name": "ipython",
    "version": 3
   },
   "file_extension": ".py",
   "mimetype": "text/x-python",
   "name": "python",
   "nbconvert_exporter": "python",
   "pygments_lexer": "ipython3",
   "version": "3.12.2"
  }
 },
 "nbformat": 4,
 "nbformat_minor": 2
}
