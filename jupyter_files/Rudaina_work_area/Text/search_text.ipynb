{
 "cells": [
  {
   "cell_type": "code",
   "execution_count": 46,
   "metadata": {},
   "outputs": [],
   "source": [
    "import pandas as pd\n",
    "from sklearn.feature_extraction.text import TfidfVectorizer\n",
    "from sklearn.metrics.pairwise import cosine_similarity"
   ]
  },
  {
   "cell_type": "code",
   "execution_count": 47,
   "metadata": {},
   "outputs": [],
   "source": [
    "data = pd.read_json('News_Category_Dataset_v3.json', lines=True)"
   ]
  },
  {
   "cell_type": "code",
   "execution_count": 48,
   "metadata": {},
   "outputs": [],
   "source": [
    "# Create DataFrame from the example data\n",
    "df = pd.DataFrame(data)"
   ]
  },
  {
   "cell_type": "code",
   "execution_count": 49,
   "metadata": {},
   "outputs": [],
   "source": [
    "# Combine headline and short_description for vectorization\n",
    "\n",
    "df['text'] = df['headline'] + ' ' + df['short_description']\n"
   ]
  },
  {
   "cell_type": "markdown",
   "metadata": {},
   "source": [
    "### USER INPUT"
   ]
  },
  {
   "cell_type": "code",
   "execution_count": 50,
   "metadata": {},
   "outputs": [],
   "source": [
    "# User input\n",
    "user_input = \"Donald Trump\""
   ]
  },
  {
   "cell_type": "code",
   "execution_count": 51,
   "metadata": {},
   "outputs": [],
   "source": [
    "# Vectorization\n",
    "vectorizer = TfidfVectorizer()\n",
    "tfidf_matrix = vectorizer.fit_transform(df['text'])\n",
    "user_vector = vectorizer.transform([user_input])\n"
   ]
  },
  {
   "cell_type": "code",
   "execution_count": 52,
   "metadata": {},
   "outputs": [],
   "source": [
    "# Compute cosine similarities\n",
    "cosine_similarities = cosine_similarity(user_vector, tfidf_matrix).flatten()\n"
   ]
  },
  {
   "cell_type": "code",
   "execution_count": 53,
   "metadata": {},
   "outputs": [],
   "source": [
    "# Get top 10 similar documents\n",
    "top_indices = cosine_similarities.argsort()[-10:][::-1]\n",
    "top_similarities = df.iloc[top_indices].copy()\n",
    "top_similarities['similarity'] = cosine_similarities[top_indices]\n"
   ]
  },
  {
   "cell_type": "code",
   "execution_count": 56,
   "metadata": {},
   "outputs": [
    {
     "data": {
      "text/html": [
       "<div>\n",
       "<style scoped>\n",
       "    .dataframe tbody tr th:only-of-type {\n",
       "        vertical-align: middle;\n",
       "    }\n",
       "\n",
       "    .dataframe tbody tr th {\n",
       "        vertical-align: top;\n",
       "    }\n",
       "\n",
       "    .dataframe thead th {\n",
       "        text-align: right;\n",
       "    }\n",
       "</style>\n",
       "<table border=\"1\" class=\"dataframe\">\n",
       "  <thead>\n",
       "    <tr style=\"text-align: right;\">\n",
       "      <th></th>\n",
       "      <th>headline</th>\n",
       "      <th>short_description</th>\n",
       "      <th>similarity</th>\n",
       "    </tr>\n",
       "  </thead>\n",
       "  <tbody>\n",
       "    <tr>\n",
       "      <th>0</th>\n",
       "      <td>Don King Uses The N-Word In Speech Introducing...</td>\n",
       "      <td>“America needs Donald Trump. We need Donald Tr...</td>\n",
       "      <td>0.629970</td>\n",
       "    </tr>\n",
       "    <tr>\n",
       "      <th>1</th>\n",
       "      <td>Donald Trump: 'Nobody Has More Respect For Wom...</td>\n",
       "      <td>Right.</td>\n",
       "      <td>0.628576</td>\n",
       "    </tr>\n",
       "    <tr>\n",
       "      <th>2</th>\n",
       "      <td>You Can Be Donald Trump too</td>\n",
       "      <td></td>\n",
       "      <td>0.616277</td>\n",
       "    </tr>\n",
       "    <tr>\n",
       "      <th>3</th>\n",
       "      <td>Here's What Obama Has To Say About Donald Trump</td>\n",
       "      <td>Where's The Donald?</td>\n",
       "      <td>0.615663</td>\n",
       "    </tr>\n",
       "    <tr>\n",
       "      <th>4</th>\n",
       "      <td>Which Donald Trump Are You?</td>\n",
       "      <td>And you thought there was only one \"The Donald.\"</td>\n",
       "      <td>0.573574</td>\n",
       "    </tr>\n",
       "    <tr>\n",
       "      <th>5</th>\n",
       "      <td>Donald Trump Agrees Hosting Golf Tournament On...</td>\n",
       "      <td>Even Donald Trump thinks people should be back...</td>\n",
       "      <td>0.562125</td>\n",
       "    </tr>\n",
       "    <tr>\n",
       "      <th>6</th>\n",
       "      <td>Bobby Jindal Rails Against 'Egomaniac' Donald ...</td>\n",
       "      <td>\"Donald Trump is for Donald Trump. He believes...</td>\n",
       "      <td>0.556710</td>\n",
       "    </tr>\n",
       "    <tr>\n",
       "      <th>7</th>\n",
       "      <td>Donald Trump -- Yes, Donald Trump -- Says High...</td>\n",
       "      <td>This guy.</td>\n",
       "      <td>0.538259</td>\n",
       "    </tr>\n",
       "    <tr>\n",
       "      <th>8</th>\n",
       "      <td>Trump's Collapse</td>\n",
       "      <td>No one believes more in Donald Trump than Trum...</td>\n",
       "      <td>0.523514</td>\n",
       "    </tr>\n",
       "    <tr>\n",
       "      <th>9</th>\n",
       "      <td>Donald Trump does not have a campaign</td>\n",
       "      <td>Donald Trump is a candidate without a campaign...</td>\n",
       "      <td>0.505345</td>\n",
       "    </tr>\n",
       "  </tbody>\n",
       "</table>\n",
       "</div>"
      ],
      "text/plain": [
       "                                            headline  \\\n",
       "0  Don King Uses The N-Word In Speech Introducing...   \n",
       "1  Donald Trump: 'Nobody Has More Respect For Wom...   \n",
       "2                        You Can Be Donald Trump too   \n",
       "3    Here's What Obama Has To Say About Donald Trump   \n",
       "4                        Which Donald Trump Are You?   \n",
       "5  Donald Trump Agrees Hosting Golf Tournament On...   \n",
       "6  Bobby Jindal Rails Against 'Egomaniac' Donald ...   \n",
       "7  Donald Trump -- Yes, Donald Trump -- Says High...   \n",
       "8                                   Trump's Collapse   \n",
       "9              Donald Trump does not have a campaign   \n",
       "\n",
       "                                   short_description  similarity  \n",
       "0  “America needs Donald Trump. We need Donald Tr...    0.629970  \n",
       "1                                             Right.    0.628576  \n",
       "2                                                       0.616277  \n",
       "3                                Where's The Donald?    0.615663  \n",
       "4   And you thought there was only one \"The Donald.\"    0.573574  \n",
       "5  Even Donald Trump thinks people should be back...    0.562125  \n",
       "6  \"Donald Trump is for Donald Trump. He believes...    0.556710  \n",
       "7                                          This guy.    0.538259  \n",
       "8  No one believes more in Donald Trump than Trum...    0.523514  \n",
       "9  Donald Trump is a candidate without a campaign...    0.505345  "
      ]
     },
     "execution_count": 56,
     "metadata": {},
     "output_type": "execute_result"
    }
   ],
   "source": [
    "# Prepare results DataFrame\n",
    "results_df = top_similarities[['headline', 'short_description', 'similarity']]\n",
    "\n",
    "# Display results DataFrame\n",
    "results_df.reset_index(drop=True, inplace=True)\n",
    "results_df"
   ]
  },
  {
   "cell_type": "code",
   "execution_count": null,
   "metadata": {},
   "outputs": [],
   "source": []
  }
 ],
 "metadata": {
  "kernelspec": {
   "display_name": "Python 3",
   "language": "python",
   "name": "python3"
  },
  "language_info": {
   "codemirror_mode": {
    "name": "ipython",
    "version": 3
   },
   "file_extension": ".py",
   "mimetype": "text/x-python",
   "name": "python",
   "nbconvert_exporter": "python",
   "pygments_lexer": "ipython3",
   "version": "3.12.2"
  }
 },
 "nbformat": 4,
 "nbformat_minor": 2
}
