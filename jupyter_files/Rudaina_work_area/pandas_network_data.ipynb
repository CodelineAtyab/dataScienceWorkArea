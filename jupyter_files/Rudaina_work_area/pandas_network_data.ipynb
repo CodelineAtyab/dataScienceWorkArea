{
 "cells": [
  {
   "cell_type": "markdown",
   "metadata": {},
   "source": [
    "## Pandas"
   ]
  },
  {
   "cell_type": "code",
   "execution_count": 30,
   "metadata": {},
   "outputs": [],
   "source": [
    "import pandas as pd\n",
    "import numpy as np\n",
    "import random\n",
    "import matplotlib.pyplot as pit\n"
   ]
  },
  {
   "cell_type": "code",
   "execution_count": 31,
   "metadata": {},
   "outputs": [
    {
     "data": {
      "text/html": [
       "<div>\n",
       "<style scoped>\n",
       "    .dataframe tbody tr th:only-of-type {\n",
       "        vertical-align: middle;\n",
       "    }\n",
       "\n",
       "    .dataframe tbody tr th {\n",
       "        vertical-align: top;\n",
       "    }\n",
       "\n",
       "    .dataframe thead th {\n",
       "        text-align: right;\n",
       "    }\n",
       "</style>\n",
       "<table border=\"1\" class=\"dataframe\">\n",
       "  <thead>\n",
       "    <tr style=\"text-align: right;\">\n",
       "      <th></th>\n",
       "      <th>Date</th>\n",
       "      <th>EUtranCell</th>\n",
       "      <th>PS Data Volume(GB)</th>\n",
       "      <th>Users</th>\n",
       "      <th>Vendor</th>\n",
       "      <th>Region</th>\n",
       "      <th>PID</th>\n",
       "    </tr>\n",
       "  </thead>\n",
       "  <tbody>\n",
       "    <tr>\n",
       "      <th>0</th>\n",
       "      <td>2021-01-01 00:00:00</td>\n",
       "      <td>Cell_0</td>\n",
       "      <td>89.542133</td>\n",
       "      <td>147</td>\n",
       "      <td>Vendor_B</td>\n",
       "      <td>East</td>\n",
       "      <td>3220</td>\n",
       "    </tr>\n",
       "    <tr>\n",
       "      <th>1</th>\n",
       "      <td>2021-01-01 01:00:00</td>\n",
       "      <td>Cell_1</td>\n",
       "      <td>0.298957</td>\n",
       "      <td>717</td>\n",
       "      <td>Vendor_A</td>\n",
       "      <td>East</td>\n",
       "      <td>4486</td>\n",
       "    </tr>\n",
       "    <tr>\n",
       "      <th>2</th>\n",
       "      <td>2021-01-01 02:00:00</td>\n",
       "      <td>Cell_2</td>\n",
       "      <td>56.175308</td>\n",
       "      <td>668</td>\n",
       "      <td>Vendor_A</td>\n",
       "      <td>East</td>\n",
       "      <td>5627</td>\n",
       "    </tr>\n",
       "    <tr>\n",
       "      <th>3</th>\n",
       "      <td>2021-01-01 03:00:00</td>\n",
       "      <td>Cell_3</td>\n",
       "      <td>32.360914</td>\n",
       "      <td>938</td>\n",
       "      <td>Vendor_C</td>\n",
       "      <td>South</td>\n",
       "      <td>2195</td>\n",
       "    </tr>\n",
       "    <tr>\n",
       "      <th>4</th>\n",
       "      <td>2021-01-01 04:00:00</td>\n",
       "      <td>Cell_4</td>\n",
       "      <td>38.110000</td>\n",
       "      <td>225</td>\n",
       "      <td>Vendor_C</td>\n",
       "      <td>North</td>\n",
       "      <td>1372</td>\n",
       "    </tr>\n",
       "    <tr>\n",
       "      <th>...</th>\n",
       "      <td>...</td>\n",
       "      <td>...</td>\n",
       "      <td>...</td>\n",
       "      <td>...</td>\n",
       "      <td>...</td>\n",
       "      <td>...</td>\n",
       "      <td>...</td>\n",
       "    </tr>\n",
       "    <tr>\n",
       "      <th>9995</th>\n",
       "      <td>2022-02-21 11:00:00</td>\n",
       "      <td>Cell_995</td>\n",
       "      <td>67.677930</td>\n",
       "      <td>418</td>\n",
       "      <td>Vendor_B</td>\n",
       "      <td>South</td>\n",
       "      <td>7841</td>\n",
       "    </tr>\n",
       "    <tr>\n",
       "      <th>9996</th>\n",
       "      <td>2022-02-21 12:00:00</td>\n",
       "      <td>Cell_996</td>\n",
       "      <td>50.341963</td>\n",
       "      <td>599</td>\n",
       "      <td>Vendor_C</td>\n",
       "      <td>North</td>\n",
       "      <td>5978</td>\n",
       "    </tr>\n",
       "    <tr>\n",
       "      <th>9997</th>\n",
       "      <td>2022-02-21 13:00:00</td>\n",
       "      <td>Cell_997</td>\n",
       "      <td>67.368788</td>\n",
       "      <td>668</td>\n",
       "      <td>Vendor_B</td>\n",
       "      <td>North</td>\n",
       "      <td>3682</td>\n",
       "    </tr>\n",
       "    <tr>\n",
       "      <th>9998</th>\n",
       "      <td>2022-02-21 14:00:00</td>\n",
       "      <td>Cell_998</td>\n",
       "      <td>91.320101</td>\n",
       "      <td>257</td>\n",
       "      <td>Vendor_B</td>\n",
       "      <td>West</td>\n",
       "      <td>9019</td>\n",
       "    </tr>\n",
       "    <tr>\n",
       "      <th>9999</th>\n",
       "      <td>2022-02-21 15:00:00</td>\n",
       "      <td>Cell_999</td>\n",
       "      <td>13.453925</td>\n",
       "      <td>640</td>\n",
       "      <td>Vendor_B</td>\n",
       "      <td>West</td>\n",
       "      <td>9584</td>\n",
       "    </tr>\n",
       "  </tbody>\n",
       "</table>\n",
       "<p>10000 rows × 7 columns</p>\n",
       "</div>"
      ],
      "text/plain": [
       "                     Date EUtranCell  PS Data Volume(GB)  Users    Vendor  \\\n",
       "0     2021-01-01 00:00:00     Cell_0           89.542133    147  Vendor_B   \n",
       "1     2021-01-01 01:00:00     Cell_1            0.298957    717  Vendor_A   \n",
       "2     2021-01-01 02:00:00     Cell_2           56.175308    668  Vendor_A   \n",
       "3     2021-01-01 03:00:00     Cell_3           32.360914    938  Vendor_C   \n",
       "4     2021-01-01 04:00:00     Cell_4           38.110000    225  Vendor_C   \n",
       "...                   ...        ...                 ...    ...       ...   \n",
       "9995  2022-02-21 11:00:00   Cell_995           67.677930    418  Vendor_B   \n",
       "9996  2022-02-21 12:00:00   Cell_996           50.341963    599  Vendor_C   \n",
       "9997  2022-02-21 13:00:00   Cell_997           67.368788    668  Vendor_B   \n",
       "9998  2022-02-21 14:00:00   Cell_998           91.320101    257  Vendor_B   \n",
       "9999  2022-02-21 15:00:00   Cell_999           13.453925    640  Vendor_B   \n",
       "\n",
       "     Region   PID  \n",
       "0      East  3220  \n",
       "1      East  4486  \n",
       "2      East  5627  \n",
       "3     South  2195  \n",
       "4     North  1372  \n",
       "...     ...   ...  \n",
       "9995  South  7841  \n",
       "9996  North  5978  \n",
       "9997  North  3682  \n",
       "9998   West  9019  \n",
       "9999   West  9584  \n",
       "\n",
       "[10000 rows x 7 columns]"
      ]
     },
     "execution_count": 31,
     "metadata": {},
     "output_type": "execute_result"
    }
   ],
   "source": [
    "df = pd.read_csv(\"Large_Dataset_Hourly_10k.csv\")\n",
    "df"
   ]
  },
  {
   "cell_type": "code",
   "execution_count": 32,
   "metadata": {},
   "outputs": [
    {
     "name": "stdout",
     "output_type": "stream",
     "text": [
      "<class 'pandas.core.frame.DataFrame'>\n",
      "RangeIndex: 10000 entries, 0 to 9999\n",
      "Data columns (total 7 columns):\n",
      " #   Column              Non-Null Count  Dtype  \n",
      "---  ------              --------------  -----  \n",
      " 0   Date                10000 non-null  object \n",
      " 1   EUtranCell          10000 non-null  object \n",
      " 2   PS Data Volume(GB)  10000 non-null  float64\n",
      " 3   Users               10000 non-null  int64  \n",
      " 4   Vendor              10000 non-null  object \n",
      " 5   Region              10000 non-null  object \n",
      " 6   PID                 10000 non-null  int64  \n",
      "dtypes: float64(1), int64(2), object(4)\n",
      "memory usage: 547.0+ KB\n"
     ]
    }
   ],
   "source": [
    "df.info()"
   ]
  },
  {
   "cell_type": "code",
   "execution_count": 33,
   "metadata": {},
   "outputs": [
    {
     "data": {
      "text/html": [
       "<div>\n",
       "<style scoped>\n",
       "    .dataframe tbody tr th:only-of-type {\n",
       "        vertical-align: middle;\n",
       "    }\n",
       "\n",
       "    .dataframe tbody tr th {\n",
       "        vertical-align: top;\n",
       "    }\n",
       "\n",
       "    .dataframe thead th {\n",
       "        text-align: right;\n",
       "    }\n",
       "</style>\n",
       "<table border=\"1\" class=\"dataframe\">\n",
       "  <thead>\n",
       "    <tr style=\"text-align: right;\">\n",
       "      <th></th>\n",
       "      <th>PS Data Volume(GB)</th>\n",
       "      <th>Users</th>\n",
       "      <th>PID</th>\n",
       "    </tr>\n",
       "  </thead>\n",
       "  <tbody>\n",
       "    <tr>\n",
       "      <th>count</th>\n",
       "      <td>10000.000000</td>\n",
       "      <td>10000.000000</td>\n",
       "      <td>10000.000000</td>\n",
       "    </tr>\n",
       "    <tr>\n",
       "      <th>mean</th>\n",
       "      <td>50.359075</td>\n",
       "      <td>497.469400</td>\n",
       "      <td>5514.489500</td>\n",
       "    </tr>\n",
       "    <tr>\n",
       "      <th>std</th>\n",
       "      <td>28.764648</td>\n",
       "      <td>288.621825</td>\n",
       "      <td>2595.144055</td>\n",
       "    </tr>\n",
       "    <tr>\n",
       "      <th>min</th>\n",
       "      <td>0.100775</td>\n",
       "      <td>1.000000</td>\n",
       "      <td>1000.000000</td>\n",
       "    </tr>\n",
       "    <tr>\n",
       "      <th>25%</th>\n",
       "      <td>25.661050</td>\n",
       "      <td>247.000000</td>\n",
       "      <td>3229.000000</td>\n",
       "    </tr>\n",
       "    <tr>\n",
       "      <th>50%</th>\n",
       "      <td>50.794790</td>\n",
       "      <td>498.000000</td>\n",
       "      <td>5541.000000</td>\n",
       "    </tr>\n",
       "    <tr>\n",
       "      <th>75%</th>\n",
       "      <td>75.102382</td>\n",
       "      <td>746.000000</td>\n",
       "      <td>7778.000000</td>\n",
       "    </tr>\n",
       "    <tr>\n",
       "      <th>max</th>\n",
       "      <td>99.995687</td>\n",
       "      <td>999.000000</td>\n",
       "      <td>9998.000000</td>\n",
       "    </tr>\n",
       "  </tbody>\n",
       "</table>\n",
       "</div>"
      ],
      "text/plain": [
       "       PS Data Volume(GB)         Users           PID\n",
       "count        10000.000000  10000.000000  10000.000000\n",
       "mean            50.359075    497.469400   5514.489500\n",
       "std             28.764648    288.621825   2595.144055\n",
       "min              0.100775      1.000000   1000.000000\n",
       "25%             25.661050    247.000000   3229.000000\n",
       "50%             50.794790    498.000000   5541.000000\n",
       "75%             75.102382    746.000000   7778.000000\n",
       "max             99.995687    999.000000   9998.000000"
      ]
     },
     "execution_count": 33,
     "metadata": {},
     "output_type": "execute_result"
    }
   ],
   "source": [
    "df.describe()"
   ]
  },
  {
   "cell_type": "code",
   "execution_count": 34,
   "metadata": {},
   "outputs": [
    {
     "data": {
      "text/plain": [
       "count     10000\n",
       "unique        4\n",
       "top        East\n",
       "freq       2534\n",
       "Name: Region, dtype: object"
      ]
     },
     "execution_count": 34,
     "metadata": {},
     "output_type": "execute_result"
    }
   ],
   "source": [
    "df['Region'].describe()"
   ]
  },
  {
   "cell_type": "code",
   "execution_count": 35,
   "metadata": {},
   "outputs": [
    {
     "data": {
      "text/html": [
       "<div>\n",
       "<style scoped>\n",
       "    .dataframe tbody tr th:only-of-type {\n",
       "        vertical-align: middle;\n",
       "    }\n",
       "\n",
       "    .dataframe tbody tr th {\n",
       "        vertical-align: top;\n",
       "    }\n",
       "\n",
       "    .dataframe thead th {\n",
       "        text-align: right;\n",
       "    }\n",
       "</style>\n",
       "<table border=\"1\" class=\"dataframe\">\n",
       "  <thead>\n",
       "    <tr style=\"text-align: right;\">\n",
       "      <th></th>\n",
       "      <th>PID</th>\n",
       "    </tr>\n",
       "  </thead>\n",
       "  <tbody>\n",
       "    <tr>\n",
       "      <th>count</th>\n",
       "      <td>10000.000000</td>\n",
       "    </tr>\n",
       "    <tr>\n",
       "      <th>mean</th>\n",
       "      <td>5514.489500</td>\n",
       "    </tr>\n",
       "    <tr>\n",
       "      <th>std</th>\n",
       "      <td>2595.144055</td>\n",
       "    </tr>\n",
       "    <tr>\n",
       "      <th>min</th>\n",
       "      <td>1000.000000</td>\n",
       "    </tr>\n",
       "    <tr>\n",
       "      <th>25%</th>\n",
       "      <td>3229.000000</td>\n",
       "    </tr>\n",
       "    <tr>\n",
       "      <th>50%</th>\n",
       "      <td>5541.000000</td>\n",
       "    </tr>\n",
       "    <tr>\n",
       "      <th>75%</th>\n",
       "      <td>7778.000000</td>\n",
       "    </tr>\n",
       "    <tr>\n",
       "      <th>max</th>\n",
       "      <td>9998.000000</td>\n",
       "    </tr>\n",
       "  </tbody>\n",
       "</table>\n",
       "</div>"
      ],
      "text/plain": [
       "                PID\n",
       "count  10000.000000\n",
       "mean    5514.489500\n",
       "std     2595.144055\n",
       "min     1000.000000\n",
       "25%     3229.000000\n",
       "50%     5541.000000\n",
       "75%     7778.000000\n",
       "max     9998.000000"
      ]
     },
     "execution_count": 35,
     "metadata": {},
     "output_type": "execute_result"
    }
   ],
   "source": [
    "df[['Region', 'PID']].describe()"
   ]
  },
  {
   "cell_type": "code",
   "execution_count": 36,
   "metadata": {},
   "outputs": [
    {
     "data": {
      "text/plain": [
       "<Axes: >"
      ]
     },
     "execution_count": 36,
     "metadata": {},
     "output_type": "execute_result"
    },
    {
     "data": {
      "image/png": "[encoded data removed]",
      "text/plain": [
       "<Figure size 640x480 with 1 Axes>"
      ]
     },
     "metadata": {},
     "output_type": "display_data"
    }
   ],
   "source": [
    "df[['PS Data Volume(GB)']].boxplot()"
   ]
  },
  {
   "cell_type": "code",
   "execution_count": 37,
   "metadata": {},
   "outputs": [
    {
     "data": {
      "text/plain": [
       "<Axes: xlabel='Region'>"
      ]
     },
     "execution_count": 37,
     "metadata": {},
     "output_type": "execute_result"
    },
    {
     "data": {
      "image/png": "[encoded data removed]",
      "text/plain": [
       "<Figure size 640x480 with 1 Axes>"
      ]
     },
     "metadata": {},
     "output_type": "display_data"
    }
   ],
   "source": [
    "df['Region'].value_counts().plot(kind='bar')\n"
   ]
  },
  {
   "cell_type": "code",
   "execution_count": 38,
   "metadata": {},
   "outputs": [
    {
     "data": {
      "text/plain": [
       "<Axes: xlabel='Vendor'>"
      ]
     },
     "execution_count": 38,
     "metadata": {},
     "output_type": "execute_result"
    },
    {
     "data": {
      "image/png": "[encoded data removed]",
      "text/plain": [
       "<Figure size 640x480 with 1 Axes>"
      ]
     },
     "metadata": {},
     "output_type": "display_data"
    }
   ],
   "source": [
    "df['Vendor'].value_counts().plot(kind='bar')\n"
   ]
  },
  {
   "cell_type": "code",
   "execution_count": null,
   "metadata": {},
   "outputs": [],
   "source": []
  }
 ],
 "metadata": {
  "kernelspec": {
   "display_name": "Python 3",
   "language": "python",
   "name": "python3"
  },
  "language_info": {
   "codemirror_mode": {
    "name": "ipython",
    "version": 3
   },
   "file_extension": ".py",
   "mimetype": "text/x-python",
   "name": "python",
   "nbconvert_exporter": "python",
   "pygments_lexer": "ipython3",
   "version": "3.12.2"
  }
 },
 "nbformat": 4,
 "nbformat_minor": 2
}
