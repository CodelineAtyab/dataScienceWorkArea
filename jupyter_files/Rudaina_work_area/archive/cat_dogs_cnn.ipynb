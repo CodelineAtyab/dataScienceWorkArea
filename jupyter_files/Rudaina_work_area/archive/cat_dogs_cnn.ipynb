{
 "cells": [
  {
   "cell_type": "code",
   "execution_count": 2,
   "metadata": {},
   "outputs": [],
   "source": [
    "import os\n",
    "import numpy as np\n",
    "from tensorflow.keras.preprocessing.image import load_img, img_to_array\n",
    "from sklearn.model_selection import train_test_split\n",
    "from tensorflow.keras import layers, models\n",
    "import matplotlib.pyplot as plt"
   ]
  },
  {
   "cell_type": "code",
   "execution_count": 3,
   "metadata": {},
   "outputs": [],
   "source": [
    "# Paths to datasets\n",
    "train_dir = \"./training_set\"\n",
    "test_dir = \"./test_set\""
   ]
  },
  {
   "cell_type": "code",
   "execution_count": null,
   "metadata": {},
   "outputs": [],
   "source": [
    "\n",
    "# Load images and labels from a directory\n",
    "def load_images_from_directory(directory, label, target_size=(150, 150)):\n",
    "    images = []\n",
    "    labels = []\n",
    "    for img_name in os.listdir(directory):\n",
    "        img_path = os.path.join(directory, img_name)\n",
    "        try:\n",
    "            img = load_img(img_path, target_size=target_size)  # Resize image\n",
    "            img_array = img_to_array(img) / 255.0  # Normalize to [0, 1]\n",
    "            images.append(img_array)\n",
    "            labels.append(label)\n",
    "        except Exception as e:\n",
    "            print(f\"Error loading image {img_path}: {e}\")\n",
    "    return np.array(images), np.array(labels)"
   ]
  },
  {
   "cell_type": "code",
   "execution_count": 5,
   "metadata": {},
   "outputs": [
    {
     "name": "stdout",
     "output_type": "stream",
     "text": [
      "Error loading image ./training_set\\cats\\_DS_Store: cannot identify image file <_io.BytesIO object at 0x0000023126F65170>\n"
     ]
    }
   ],
   "source": [
    "# Load data for cats and dogs\n",
    "cats_train_images, cats_train_labels = load_images_from_directory(\n",
    "    os.path.join(train_dir, \"cats\"), label=0\n",
    ")"
   ]
  },
  {
   "cell_type": "code",
   "execution_count": 6,
   "metadata": {},
   "outputs": [
    {
     "data": {
      "text/plain": [
       "array([[[[0.15294118, 0.17254902, 0.15686275],\n",
       "         [0.16078432, 0.1764706 , 0.17254902],\n",
       "         [0.16078432, 0.1764706 , 0.1882353 ],\n",
       "         ...,\n",
       "         [0.7254902 , 0.72156864, 0.6392157 ],\n",
       "         [0.8117647 , 0.8       , 0.6784314 ],\n",
       "         [0.7882353 , 0.7764706 , 0.6392157 ]],\n",
       "\n",
       "        [[0.15686275, 0.1764706 , 0.16078432],\n",
       "         [0.15686275, 0.17254902, 0.16862746],\n",
       "         [0.15686275, 0.17254902, 0.18431373],\n",
       "         ...,\n",
       "         [0.7254902 , 0.72156864, 0.6431373 ],\n",
       "         [0.78039217, 0.7647059 , 0.6509804 ],\n",
       "         [0.78039217, 0.7607843 , 0.63529414]],\n",
       "\n",
       "        [[0.14509805, 0.16470589, 0.14901961],\n",
       "         [0.13333334, 0.14901961, 0.14509805],\n",
       "         [0.12941177, 0.14509805, 0.15686275],\n",
       "         ...,\n",
       "         [0.7058824 , 0.69411767, 0.627451  ],\n",
       "         [0.7647059 , 0.7411765 , 0.6392157 ],\n",
       "         [0.8117647 , 0.78431374, 0.67058825]],\n",
       "\n",
       "        ...,\n",
       "\n",
       "        [[0.09411765, 0.08627451, 0.09019608],\n",
       "         [0.07843138, 0.07058824, 0.07450981],\n",
       "         [0.07843138, 0.07058824, 0.07450981],\n",
       "         ...,\n",
       "         [0.19607843, 0.13725491, 0.11764706],\n",
       "         [0.2       , 0.14901961, 0.1254902 ],\n",
       "         [0.16862746, 0.1254902 , 0.10196079]],\n",
       "\n",
       "        [[0.11764706, 0.10980392, 0.11372549],\n",
       "         [0.09019608, 0.08235294, 0.08627451],\n",
       "         [0.08627451, 0.07843138, 0.08235294],\n",
       "         ...,\n",
       "         [0.12156863, 0.0627451 , 0.04313726],\n",
       "         [0.14117648, 0.09019608, 0.06666667],\n",
       "         [0.22352941, 0.18039216, 0.15686275]],\n",
       "\n",
       "        [[0.11372549, 0.10588235, 0.10980392],\n",
       "         [0.08235294, 0.07450981, 0.07843138],\n",
       "         [0.07843138, 0.07058824, 0.07450981],\n",
       "         ...,\n",
       "         [0.20784314, 0.14901961, 0.12156863],\n",
       "         [0.2       , 0.14901961, 0.11764706],\n",
       "         [0.15686275, 0.11764706, 0.08235294]]],\n",
       "\n",
       "\n",
       "       [[[0.11372549, 0.12941177, 0.16470589],\n",
       "         [0.04705882, 0.0627451 , 0.10588235],\n",
       "         [0.08627451, 0.10196079, 0.14901961],\n",
       "         ...,\n",
       "         [0.50980395, 0.63529414, 0.62352943],\n",
       "         [0.5058824 , 0.6313726 , 0.61960787],\n",
       "         [0.49019608, 0.6156863 , 0.6039216 ]],\n",
       "\n",
       "        [[0.13725491, 0.16470589, 0.1882353 ],\n",
       "         [0.15294118, 0.18039216, 0.21176471],\n",
       "         [0.15686275, 0.18431373, 0.22352941],\n",
       "         ...,\n",
       "         [0.5137255 , 0.6392157 , 0.627451  ],\n",
       "         [0.50980395, 0.63529414, 0.62352943],\n",
       "         [0.49803922, 0.62352943, 0.6117647 ]],\n",
       "\n",
       "        [[0.15686275, 0.19607843, 0.20392157],\n",
       "         [0.19215687, 0.22745098, 0.24705882],\n",
       "         [0.19607843, 0.23137255, 0.25882354],\n",
       "         ...,\n",
       "         [0.5254902 , 0.6509804 , 0.6313726 ],\n",
       "         [0.52156866, 0.6509804 , 0.62352943],\n",
       "         [0.5058824 , 0.63529414, 0.60784316]],\n",
       "\n",
       "        ...,\n",
       "\n",
       "        [[0.7294118 , 0.6784314 , 0.5058824 ],\n",
       "         [0.7019608 , 0.6509804 , 0.4862745 ],\n",
       "         [0.67058825, 0.6156863 , 0.4627451 ],\n",
       "         ...,\n",
       "         [0.7647059 , 0.7647059 , 0.01176471],\n",
       "         [0.7411765 , 0.7294118 , 0.05098039],\n",
       "         [0.6862745 , 0.65882355, 0.06666667]],\n",
       "\n",
       "        [[0.6901961 , 0.6392157 , 0.4627451 ],\n",
       "         [0.6627451 , 0.6117647 , 0.4392157 ],\n",
       "         [0.5803922 , 0.5294118 , 0.3647059 ],\n",
       "         ...,\n",
       "         [0.7607843 , 0.75686276, 0.01568628],\n",
       "         [0.7254902 , 0.70980394, 0.04313726],\n",
       "         [0.6627451 , 0.63529414, 0.04705882]],\n",
       "\n",
       "        [[0.62352943, 0.5686275 , 0.42352942],\n",
       "         [0.57254905, 0.52156866, 0.35686275],\n",
       "         [0.5921569 , 0.5411765 , 0.3647059 ],\n",
       "         ...,\n",
       "         [0.7607843 , 0.75686276, 0.01568628],\n",
       "         [0.7254902 , 0.7137255 , 0.01960784],\n",
       "         [0.6745098 , 0.654902  , 0.01176471]]],\n",
       "\n",
       "\n",
       "       [[[0.87058824, 0.8745098 , 0.85490197],\n",
       "         [0.8745098 , 0.8784314 , 0.85882354],\n",
       "         [0.8745098 , 0.8784314 , 0.85882354],\n",
       "         ...,\n",
       "         [0.9411765 , 0.94509804, 0.9647059 ],\n",
       "         [0.91764706, 0.92156863, 0.9411765 ],\n",
       "         [0.96862745, 0.95686275, 0.9843137 ]],\n",
       "\n",
       "        [[0.85882354, 0.8627451 , 0.84313726],\n",
       "         [0.87058824, 0.8745098 , 0.85490197],\n",
       "         [0.8784314 , 0.88235295, 0.8627451 ],\n",
       "         ...,\n",
       "         [0.9529412 , 0.95686275, 0.9764706 ],\n",
       "         [0.91764706, 0.92156863, 0.9411765 ],\n",
       "         [0.9372549 , 0.9490196 , 0.96862745]],\n",
       "\n",
       "        [[0.8862745 , 0.8901961 , 0.87058824],\n",
       "         [0.8784314 , 0.88235295, 0.8627451 ],\n",
       "         [0.8745098 , 0.8784314 , 0.85882354],\n",
       "         ...,\n",
       "         [0.9490196 , 0.9529412 , 0.972549  ],\n",
       "         [0.94509804, 0.9490196 , 0.96862745],\n",
       "         [0.9098039 , 0.9411765 , 0.9529412 ]],\n",
       "\n",
       "        ...,\n",
       "\n",
       "        [[0.8117647 , 0.8235294 , 0.84313726],\n",
       "         [0.8117647 , 0.8352941 , 0.8352941 ],\n",
       "         [0.80784315, 0.83137256, 0.8156863 ],\n",
       "         ...,\n",
       "         [0.84313726, 0.83137256, 0.8117647 ],\n",
       "         [0.84313726, 0.83137256, 0.8117647 ],\n",
       "         [0.8509804 , 0.83137256, 0.81960785]],\n",
       "\n",
       "        [[0.85490197, 0.8352941 , 0.8627451 ],\n",
       "         [0.827451  , 0.81960785, 0.83137256],\n",
       "         [0.8117647 , 0.80784315, 0.8       ],\n",
       "         ...,\n",
       "         [0.84313726, 0.83137256, 0.8117647 ],\n",
       "         [0.84313726, 0.83137256, 0.8117647 ],\n",
       "         [0.8509804 , 0.83137256, 0.81960785]],\n",
       "\n",
       "        [[0.8352941 , 0.85490197, 0.8784314 ],\n",
       "         [0.80784315, 0.83137256, 0.83137256],\n",
       "         [0.80784315, 0.8156863 , 0.79607844],\n",
       "         ...,\n",
       "         [0.8392157 , 0.8235294 , 0.8117647 ],\n",
       "         [0.84313726, 0.83137256, 0.8039216 ],\n",
       "         [0.8509804 , 0.827451  , 0.827451  ]]],\n",
       "\n",
       "\n",
       "       ...,\n",
       "\n",
       "\n",
       "       [[[0.68235296, 0.627451  , 0.6156863 ],\n",
       "         [0.8666667 , 0.79607844, 0.78039217],\n",
       "         [0.5803922 , 0.5137255 , 0.4862745 ],\n",
       "         ...,\n",
       "         [0.32156864, 0.28627452, 0.25882354],\n",
       "         [0.32156864, 0.29411766, 0.27058825],\n",
       "         [0.40392157, 0.34509805, 0.31764707]],\n",
       "\n",
       "        [[0.5921569 , 0.5568628 , 0.52156866],\n",
       "         [0.19215687, 0.13333334, 0.10588235],\n",
       "         [0.5921569 , 0.5176471 , 0.49019608],\n",
       "         ...,\n",
       "         [0.42745098, 0.39215687, 0.3647059 ],\n",
       "         [0.10196079, 0.07450981, 0.05098039],\n",
       "         [0.45882353, 0.4509804 , 0.40392157]],\n",
       "\n",
       "        [[0.38039216, 0.37254903, 0.32156864],\n",
       "         [0.627451  , 0.5803922 , 0.53333336],\n",
       "         [0.6745098 , 0.6039216 , 0.5568628 ],\n",
       "         ...,\n",
       "         [0.3882353 , 0.3529412 , 0.3254902 ],\n",
       "         [0.50980395, 0.48235294, 0.45882353],\n",
       "         [0.4509804 , 0.46666667, 0.4117647 ]],\n",
       "\n",
       "        ...,\n",
       "\n",
       "        [[0.7372549 , 0.70980394, 0.67058825],\n",
       "         [0.72156864, 0.70980394, 0.6745098 ],\n",
       "         [0.81960785, 0.8156863 , 0.79607844],\n",
       "         ...,\n",
       "         [0.5254902 , 0.5294118 , 0.5372549 ],\n",
       "         [0.32156864, 0.3254902 , 0.33333334],\n",
       "         [0.34901962, 0.34901962, 0.34901962]],\n",
       "\n",
       "        [[0.8352941 , 0.79607844, 0.7607843 ],\n",
       "         [0.78039217, 0.76862746, 0.73333335],\n",
       "         [0.7411765 , 0.7372549 , 0.7176471 ],\n",
       "         ...,\n",
       "         [0.44705883, 0.4627451 , 0.46666667],\n",
       "         [0.49019608, 0.5058824 , 0.50980395],\n",
       "         [0.47843137, 0.47843137, 0.47843137]],\n",
       "\n",
       "        [[0.52156866, 0.4627451 , 0.43529412],\n",
       "         [0.6392157 , 0.62352943, 0.5882353 ],\n",
       "         [0.65882355, 0.64705884, 0.627451  ],\n",
       "         ...,\n",
       "         [0.6117647 , 0.627451  , 0.6313726 ],\n",
       "         [0.54901963, 0.5647059 , 0.5686275 ],\n",
       "         [0.49019608, 0.49019608, 0.49019608]]],\n",
       "\n",
       "\n",
       "       [[[0.94509804, 0.91764706, 0.9490196 ],\n",
       "         [0.9372549 , 0.9098039 , 0.9411765 ],\n",
       "         [0.9254902 , 0.8980392 , 0.92941177],\n",
       "         ...,\n",
       "         [0.9254902 , 0.8980392 , 0.9254902 ],\n",
       "         [0.9411765 , 0.91764706, 0.93333334],\n",
       "         [0.9490196 , 0.9254902 , 0.9411765 ]],\n",
       "\n",
       "        [[0.9411765 , 0.9137255 , 0.94509804],\n",
       "         [0.9372549 , 0.9098039 , 0.9411765 ],\n",
       "         [0.92941177, 0.9019608 , 0.93333334],\n",
       "         ...,\n",
       "         [0.91764706, 0.8901961 , 0.91764706],\n",
       "         [0.92156863, 0.8980392 , 0.9137255 ],\n",
       "         [0.91764706, 0.89411765, 0.9098039 ]],\n",
       "\n",
       "        [[0.9137255 , 0.8862745 , 0.91764706],\n",
       "         [0.92156863, 0.89411765, 0.9254902 ],\n",
       "         [0.9254902 , 0.8980392 , 0.92941177],\n",
       "         ...,\n",
       "         [0.9254902 , 0.8980392 , 0.9254902 ],\n",
       "         [0.9254902 , 0.9019608 , 0.91764706],\n",
       "         [0.9254902 , 0.9019608 , 0.91764706]],\n",
       "\n",
       "        ...,\n",
       "\n",
       "        [[0.9098039 , 0.8666667 , 0.84313726],\n",
       "         [0.9137255 , 0.87058824, 0.84705883],\n",
       "         [0.91764706, 0.8745098 , 0.8509804 ],\n",
       "         ...,\n",
       "         [0.9372549 , 0.9098039 , 0.8784314 ],\n",
       "         [0.9490196 , 0.92156863, 0.8901961 ],\n",
       "         [0.9490196 , 0.92156863, 0.8901961 ]],\n",
       "\n",
       "        [[0.9372549 , 0.89411765, 0.87058824],\n",
       "         [0.92941177, 0.8862745 , 0.8627451 ],\n",
       "         [0.9137255 , 0.87058824, 0.84705883],\n",
       "         ...,\n",
       "         [0.9254902 , 0.8980392 , 0.8666667 ],\n",
       "         [0.9254902 , 0.8980392 , 0.8666667 ],\n",
       "         [0.9254902 , 0.8980392 , 0.8666667 ]],\n",
       "\n",
       "        [[0.9254902 , 0.8784314 , 0.8784314 ],\n",
       "         [0.93333334, 0.8862745 , 0.8862745 ],\n",
       "         [0.9411765 , 0.89411765, 0.89411765],\n",
       "         ...,\n",
       "         [0.9411765 , 0.9137255 , 0.88235295],\n",
       "         [0.9254902 , 0.8980392 , 0.8666667 ],\n",
       "         [0.9254902 , 0.8980392 , 0.8666667 ]]],\n",
       "\n",
       "\n",
       "       [[[0.7764706 , 0.5372549 , 0.42745098],\n",
       "         [0.79607844, 0.54509807, 0.43529412],\n",
       "         [0.8235294 , 0.56078434, 0.44705883],\n",
       "         ...,\n",
       "         [0.3137255 , 0.2627451 , 0.23921569],\n",
       "         [0.30980393, 0.25882354, 0.23529412],\n",
       "         [0.30980393, 0.25882354, 0.23529412]],\n",
       "\n",
       "        [[0.76862746, 0.5294118 , 0.41960785],\n",
       "         [0.8039216 , 0.5529412 , 0.44705883],\n",
       "         [0.83137256, 0.5686275 , 0.45490196],\n",
       "         ...,\n",
       "         [0.30980393, 0.25882354, 0.23529412],\n",
       "         [0.30588236, 0.25490198, 0.23137255],\n",
       "         [0.30588236, 0.25490198, 0.23137255]],\n",
       "\n",
       "        [[0.7921569 , 0.54901963, 0.4509804 ],\n",
       "         [0.8117647 , 0.56078434, 0.45490196],\n",
       "         [0.827451  , 0.57254905, 0.4627451 ],\n",
       "         ...,\n",
       "         [0.3254902 , 0.26666668, 0.24705882],\n",
       "         [0.3137255 , 0.25490198, 0.23529412],\n",
       "         [0.3137255 , 0.25490198, 0.23529412]],\n",
       "\n",
       "        ...,\n",
       "\n",
       "        [[0.76862746, 0.7764706 , 0.77254903],\n",
       "         [0.7372549 , 0.74509805, 0.7411765 ],\n",
       "         [0.6666667 , 0.6745098 , 0.67058825],\n",
       "         ...,\n",
       "         [0.6901961 , 0.5921569 , 0.5764706 ],\n",
       "         [0.70980394, 0.6039216 , 0.5764706 ],\n",
       "         [0.61960787, 0.50980395, 0.49411765]],\n",
       "\n",
       "        [[0.7490196 , 0.75686276, 0.7529412 ],\n",
       "         [0.69803923, 0.7058824 , 0.7019608 ],\n",
       "         [0.6745098 , 0.68235296, 0.6784314 ],\n",
       "         ...,\n",
       "         [0.627451  , 0.53333336, 0.5176471 ],\n",
       "         [0.59607846, 0.4862745 , 0.47058824],\n",
       "         [0.60784316, 0.50980395, 0.49019608]],\n",
       "\n",
       "        [[0.42745098, 0.43529412, 0.43137255],\n",
       "         [0.4       , 0.40784314, 0.40392157],\n",
       "         [0.38039216, 0.3882353 , 0.38431373],\n",
       "         ...,\n",
       "         [0.38039216, 0.28627452, 0.2784314 ],\n",
       "         [0.34509805, 0.24705882, 0.22745098],\n",
       "         [0.3529412 , 0.25882354, 0.24313726]]]], dtype=float32)"
      ]
     },
     "execution_count": 6,
     "metadata": {},
     "output_type": "execute_result"
    }
   ],
   "source": [
    "cats_train_images"
   ]
  },
  {
   "cell_type": "code",
   "execution_count": 7,
   "metadata": {},
   "outputs": [
    {
     "name": "stdout",
     "output_type": "stream",
     "text": [
      "Error loading image ./training_set\\dogs\\_DS_Store: cannot identify image file <_io.BytesIO object at 0x000002313D4925C0>\n"
     ]
    }
   ],
   "source": [
    "\n",
    "dogs_train_images, dogs_train_labels = load_images_from_directory(\n",
    "    os.path.join(train_dir, \"dogs\"), label=1\n",
    ")\n"
   ]
  },
  {
   "cell_type": "code",
   "execution_count": 8,
   "metadata": {},
   "outputs": [],
   "source": [
    "\n",
    "# Combine and split into training and validation sets\n",
    "X = np.concatenate((cats_train_images, dogs_train_images), axis=0)\n",
    "y = np.concatenate((cats_train_labels, dogs_train_labels), axis=0)\n",
    "X_train, X_val, y_train, y_val = train_test_split(X, y, test_size=0.2, random_state=42)\n"
   ]
  },
  {
   "cell_type": "code",
   "execution_count": 9,
   "metadata": {},
   "outputs": [
    {
     "name": "stdout",
     "output_type": "stream",
     "text": [
      "Error loading image ./test_set\\cats\\_DS_Store: cannot identify image file <_io.BytesIO object at 0x00000231219898A0>\n"
     ]
    }
   ],
   "source": [
    "# Load test data\n",
    "cats_test_images, cats_test_labels = load_images_from_directory(\n",
    "    os.path.join(test_dir, \"cats\"), label=0\n",
    ")"
   ]
  },
  {
   "cell_type": "code",
   "execution_count": 10,
   "metadata": {},
   "outputs": [
    {
     "name": "stdout",
     "output_type": "stream",
     "text": [
      "Error loading image ./test_set\\dogs\\_DS_Store: cannot identify image file <_io.BytesIO object at 0x000002317FA77650>\n"
     ]
    }
   ],
   "source": [
    "dogs_test_images, dogs_test_labels = load_images_from_directory(\n",
    "    os.path.join(test_dir, \"dogs\"), label=1\n",
    ")\n"
   ]
  },
  {
   "cell_type": "code",
   "execution_count": 11,
   "metadata": {},
   "outputs": [],
   "source": [
    "X_test = np.concatenate((cats_test_images, dogs_test_images), axis=0)\n",
    "y_test = np.concatenate((cats_test_labels, dogs_test_labels), axis=0)\n"
   ]
  },
  {
   "cell_type": "code",
   "execution_count": 12,
   "metadata": {},
   "outputs": [
    {
     "name": "stderr",
     "output_type": "stream",
     "text": [
      "C:\\Users\\71518\\AppData\\Roaming\\Python\\Python312\\site-packages\\keras\\src\\layers\\convolutional\\base_conv.py:107: UserWarning: Do not pass an `input_shape`/`input_dim` argument to a layer. When using Sequential models, prefer using an `Input(shape)` object as the first layer in the model instead.\n",
      "  super().__init__(activity_regularizer=activity_regularizer, **kwargs)\n"
     ]
    }
   ],
   "source": [
    "model = models.Sequential([\n",
    "    layers.Conv2D(32, (3, 3), activation='relu', input_shape=(150, 150, 3)),\n",
    "    layers.MaxPooling2D((2, 2)),\n",
    "    layers.Conv2D(64, (3, 3), activation='relu'),\n",
    "    layers.MaxPooling2D((2, 2)),\n",
    "    layers.Conv2D(128, (3, 3), activation='relu'),\n",
    "    layers.MaxPooling2D((2, 2)),\n",
    "    layers.Conv2D(128, (3, 3), activation='relu'),\n",
    "    layers.MaxPooling2D((2, 2)),\n",
    "    layers.Flatten(),\n",
    "    layers.Dense(512, activation='relu'),\n",
    "    layers.Dense(1, activation='sigmoid')  # Binary classification\n",
    "])"
   ]
  },
  {
   "cell_type": "code",
   "execution_count": 13,
   "metadata": {},
   "outputs": [],
   "source": [
    "\n",
    "# Compile the model\n",
    "model.compile(\n",
    "    optimizer='adam',\n",
    "    loss='binary_crossentropy',\n",
    "    metrics=['accuracy']\n",
    ")"
   ]
  },
  {
   "cell_type": "code",
   "execution_count": 14,
   "metadata": {},
   "outputs": [
    {
     "name": "stdout",
     "output_type": "stream",
     "text": [
      "Epoch 1/10\n",
      "\u001b[1m201/201\u001b[0m \u001b[32m━━━━━━━━━━━━━━━━━━━━\u001b[0m\u001b[37m\u001b[0m \u001b[1m100s\u001b[0m 477ms/step - accuracy: 0.5185 - loss: 0.7045 - val_accuracy: 0.6177 - val_loss: 0.6565\n",
      "Epoch 2/10\n",
      "\u001b[1m201/201\u001b[0m \u001b[32m━━━━━━━━━━━━━━━━━━━━\u001b[0m\u001b[37m\u001b[0m \u001b[1m87s\u001b[0m 433ms/step - accuracy: 0.6064 - loss: 0.6525 - val_accuracy: 0.6808 - val_loss: 0.5919\n",
      "Epoch 3/10\n",
      "\u001b[1m201/201\u001b[0m \u001b[32m━━━━━━━━━━━━━━━━━━━━\u001b[0m\u001b[37m\u001b[0m \u001b[1m92s\u001b[0m 459ms/step - accuracy: 0.6987 - loss: 0.5835 - val_accuracy: 0.6989 - val_loss: 0.5766\n",
      "Epoch 4/10\n",
      "\u001b[1m201/201\u001b[0m \u001b[32m━━━━━━━━━━━━━━━━━━━━\u001b[0m\u001b[37m\u001b[0m \u001b[1m88s\u001b[0m 439ms/step - accuracy: 0.7414 - loss: 0.5127 - val_accuracy: 0.7352 - val_loss: 0.5118\n",
      "Epoch 5/10\n",
      "\u001b[1m201/201\u001b[0m \u001b[32m━━━━━━━━━━━━━━━━━━━━\u001b[0m\u001b[37m\u001b[0m \u001b[1m96s\u001b[0m 475ms/step - accuracy: 0.7625 - loss: 0.4932 - val_accuracy: 0.7577 - val_loss: 0.5141\n",
      "Epoch 6/10\n",
      "\u001b[1m201/201\u001b[0m \u001b[32m━━━━━━━━━━━━━━━━━━━━\u001b[0m\u001b[37m\u001b[0m \u001b[1m113s\u001b[0m 563ms/step - accuracy: 0.7930 - loss: 0.4355 - val_accuracy: 0.7920 - val_loss: 0.4628\n",
      "Epoch 7/10\n",
      "\u001b[1m201/201\u001b[0m \u001b[32m━━━━━━━━━━━━━━━━━━━━\u001b[0m\u001b[37m\u001b[0m \u001b[1m112s\u001b[0m 556ms/step - accuracy: 0.8272 - loss: 0.3851 - val_accuracy: 0.8070 - val_loss: 0.4261\n",
      "Epoch 8/10\n",
      "\u001b[1m201/201\u001b[0m \u001b[32m━━━━━━━━━━━━━━━━━━━━\u001b[0m\u001b[37m\u001b[0m \u001b[1m89s\u001b[0m 444ms/step - accuracy: 0.8664 - loss: 0.3111 - val_accuracy: 0.7770 - val_loss: 0.4854\n",
      "Epoch 9/10\n",
      "\u001b[1m201/201\u001b[0m \u001b[32m━━━━━━━━━━━━━━━━━━━━\u001b[0m\u001b[37m\u001b[0m \u001b[1m81s\u001b[0m 402ms/step - accuracy: 0.8883 - loss: 0.2636 - val_accuracy: 0.8032 - val_loss: 0.4643\n",
      "Epoch 10/10\n",
      "\u001b[1m201/201\u001b[0m \u001b[32m━━━━━━━━━━━━━━━━━━━━\u001b[0m\u001b[37m\u001b[0m \u001b[1m81s\u001b[0m 401ms/step - accuracy: 0.9250 - loss: 0.1884 - val_accuracy: 0.8014 - val_loss: 0.5396\n"
     ]
    }
   ],
   "source": [
    "# Train the model\n",
    "history = model.fit(\n",
    "    X_train, y_train,\n",
    "    epochs=10,\n",
    "    batch_size=32,\n",
    "    validation_data=(X_val, y_val)\n",
    ")"
   ]
  },
  {
   "cell_type": "code",
   "execution_count": 15,
   "metadata": {},
   "outputs": [
    {
     "name": "stdout",
     "output_type": "stream",
     "text": [
      "\u001b[1m64/64\u001b[0m \u001b[32m━━━━━━━━━━━━━━━━━━━━\u001b[0m\u001b[37m\u001b[0m \u001b[1m8s\u001b[0m 133ms/step - accuracy: 0.7798 - loss: 0.6169\n",
      "Test Accuracy: 0.81\n"
     ]
    }
   ],
   "source": [
    "# Evaluate the model\n",
    "test_loss, test_acc = model.evaluate(X_test, y_test)\n",
    "print(f\"Test Accuracy: {test_acc:.2f}\")"
   ]
  },
  {
   "cell_type": "code",
   "execution_count": 16,
   "metadata": {},
   "outputs": [
    {
     "data": {
      "image/png": "[encoded data removed]",
      "text/plain": [
       "<Figure size 1200x600 with 1 Axes>"
      ]
     },
     "metadata": {},
     "output_type": "display_data"
    }
   ],
   "source": [
    "import matplotlib.pyplot as plt\n",
    "\n",
    "# Plot accuracy and loss\n",
    "plt.figure(figsize=(12, 6))\n",
    "plt.plot(history.history['accuracy'], label='Training Accuracy')\n",
    "plt.plot(history.history['val_accuracy'], label='Validation Accuracy')\n",
    "plt.title('Model Accuracy')\n",
    "plt.xlabel('Epochs')\n",
    "plt.ylabel('Accuracy')\n",
    "plt.legend()\n",
    "plt.show()"
   ]
  },
  {
   "cell_type": "code",
   "execution_count": 17,
   "metadata": {},
   "outputs": [
    {
     "data": {
      "image/png": "[encoded data removed]",
      "text/plain": [
       "<Figure size 1200x600 with 1 Axes>"
      ]
     },
     "metadata": {},
     "output_type": "display_data"
    }
   ],
   "source": [
    "plt.figure(figsize=(12, 6))\n",
    "plt.plot(history.history['loss'], label='Training Loss')\n",
    "plt.plot(history.history['val_loss'], label='Validation Loss')\n",
    "plt.title('Model Loss')\n",
    "plt.xlabel('Epochs')\n",
    "plt.ylabel('Loss')\n",
    "plt.legend()\n",
    "plt.show()"
   ]
  },
  {
   "cell_type": "code",
   "execution_count": null,
   "metadata": {},
   "outputs": [],
   "source": [
    "# Load data for cats and dogs\n",
    "cats_train_images_2, cats_train_labels_2 = load_images_from_directory(\n",
    "    os.path.join(train_dir, \"cats\"), label=0\n",
    ")"
   ]
  },
  {
   "cell_type": "code",
   "execution_count": 19,
   "metadata": {},
   "outputs": [],
   "source": [
    "dogs_train_images_2, dogs_train_labels_2 = load_images_from_directory(\n",
    "    os.path.join(train_dir, \"dogs\"), label=1\n",
    ")"
   ]
  },
  {
   "cell_type": "code",
   "execution_count": 20,
   "metadata": {},
   "outputs": [],
   "source": [
    "# Combine and split into training and validation sets\n",
    "X2 = np.concatenate((cats_train_images_2, dogs_train_images_2), axis=0)\n",
    "y2 = np.concatenate((cats_train_labels_2, dogs_train_labels_2), axis=0)\n",
    "X2_train, X2_val, y2_train, y2_val = train_test_split(X2, y2, test_size=0.2, random_state=42)"
   ]
  },
  {
   "cell_type": "code",
   "execution_count": 21,
   "metadata": {},
   "outputs": [],
   "source": [
    "# Load test data\n",
    "cats_test_images_2, cats_test_labels_2 = load_images_from_directory(\n",
    "    os.path.join(test_dir, \"cats\"), label=0\n",
    ")"
   ]
  },
  {
   "cell_type": "code",
   "execution_count": 22,
   "metadata": {},
   "outputs": [],
   "source": [
    "dogs_test_images_2, dogs_test_labels_2 = load_images_from_directory(\n",
    "    os.path.join(test_dir, \"dogs\"), label=1\n",
    ")\n"
   ]
  },
  {
   "cell_type": "code",
   "execution_count": 23,
   "metadata": {},
   "outputs": [],
   "source": [
    "X2_test = np.concatenate((cats_test_images_2, dogs_test_images_2), axis=0)\n",
    "y2_test = np.concatenate((cats_test_labels_2, dogs_test_labels_2), axis=0)"
   ]
  },
  {
   "cell_type": "code",
   "execution_count": 24,
   "metadata": {},
   "outputs": [
    {
     "name": "stderr",
     "output_type": "stream",
     "text": [
      "C:\\Users\\71518\\AppData\\Roaming\\Python\\Python312\\site-packages\\keras\\src\\layers\\convolutional\\base_conv.py:107: UserWarning: Do not pass an `input_shape`/`input_dim` argument to a layer. When using Sequential models, prefer using an `Input(shape)` object as the first layer in the model instead.\n",
      "  super().__init__(activity_regularizer=activity_regularizer, **kwargs)\n"
     ]
    }
   ],
   "source": [
    "model2 = models.Sequential([\n",
    "    layers.Conv2D(32, (3, 3), activation='relu', input_shape=(150, 150, 3)),\n",
    "    layers.MaxPooling2D((2, 2)),\n",
    "    layers.Conv2D(64, (3, 3), activation='relu'),\n",
    "    layers.MaxPooling2D((2, 2)),\n",
    "    layers.Conv2D(128, (3, 3), activation='relu'),\n",
    "    layers.MaxPooling2D((2, 2)),\n",
    "    layers.Conv2D(128, (3, 3), activation='relu'),\n",
    "    layers.MaxPooling2D((2, 2)),\n",
    "    layers.Flatten(),\n",
    "    layers.Dense(512, activation='relu'),\n",
    "    layers.Dense(1, activation='sigmoid')  # Binary classification\n",
    "])"
   ]
  },
  {
   "cell_type": "code",
   "execution_count": 25,
   "metadata": {},
   "outputs": [],
   "source": [
    "\n",
    "# Compile the model\n",
    "model2.compile(\n",
    "    optimizer='adam',\n",
    "    loss='binary_crossentropy',\n",
    "    metrics=['accuracy']\n",
    ")"
   ]
  },
  {
   "cell_type": "code",
   "execution_count": 29,
   "metadata": {},
   "outputs": [
    {
     "name": "stdout",
     "output_type": "stream",
     "text": [
      "Epoch 1/20\n",
      "\u001b[1m201/201\u001b[0m \u001b[32m━━━━━━━━━━━━━━━━━━━━\u001b[0m\u001b[37m\u001b[0m \u001b[1m81s\u001b[0m 402ms/step - accuracy: 0.9517 - loss: 0.1251 - val_accuracy: 0.8139 - val_loss: 0.6185\n",
      "Epoch 2/20\n",
      "\u001b[1m201/201\u001b[0m \u001b[32m━━━━━━━━━━━━━━━━━━━━\u001b[0m\u001b[37m\u001b[0m \u001b[1m84s\u001b[0m 420ms/step - accuracy: 0.9785 - loss: 0.0620 - val_accuracy: 0.7951 - val_loss: 0.5921\n",
      "Epoch 3/20\n",
      "\u001b[1m201/201\u001b[0m \u001b[32m━━━━━━━━━━━━━━━━━━━━\u001b[0m\u001b[37m\u001b[0m \u001b[1m84s\u001b[0m 419ms/step - accuracy: 0.9783 - loss: 0.0672 - val_accuracy: 0.8007 - val_loss: 0.9312\n",
      "Epoch 4/20\n",
      "\u001b[1m201/201\u001b[0m \u001b[32m━━━━━━━━━━━━━━━━━━━━\u001b[0m\u001b[37m\u001b[0m \u001b[1m90s\u001b[0m 450ms/step - accuracy: 0.9922 - loss: 0.0252 - val_accuracy: 0.7920 - val_loss: 1.0430\n",
      "Epoch 5/20\n",
      "\u001b[1m201/201\u001b[0m \u001b[32m━━━━━━━━━━━━━━━━━━━━\u001b[0m\u001b[37m\u001b[0m \u001b[1m83s\u001b[0m 412ms/step - accuracy: 0.9408 - loss: 0.1709 - val_accuracy: 0.8001 - val_loss: 0.8216\n",
      "Epoch 6/20\n",
      "\u001b[1m201/201\u001b[0m \u001b[32m━━━━━━━━━━━━━━━━━━━━\u001b[0m\u001b[37m\u001b[0m \u001b[1m86s\u001b[0m 427ms/step - accuracy: 0.9935 - loss: 0.0249 - val_accuracy: 0.8014 - val_loss: 1.0294\n",
      "Epoch 7/20\n",
      "\u001b[1m201/201\u001b[0m \u001b[32m━━━━━━━━━━━━━━━━━━━━\u001b[0m\u001b[37m\u001b[0m \u001b[1m84s\u001b[0m 416ms/step - accuracy: 0.9948 - loss: 0.0157 - val_accuracy: 0.7895 - val_loss: 1.0941\n",
      "Epoch 8/20\n",
      "\u001b[1m201/201\u001b[0m \u001b[32m━━━━━━━━━━━━━━━━━━━━\u001b[0m\u001b[37m\u001b[0m \u001b[1m85s\u001b[0m 422ms/step - accuracy: 0.9959 - loss: 0.0138 - val_accuracy: 0.7901 - val_loss: 1.0401\n",
      "Epoch 9/20\n",
      "\u001b[1m201/201\u001b[0m \u001b[32m━━━━━━━━━━━━━━━━━━━━\u001b[0m\u001b[37m\u001b[0m \u001b[1m85s\u001b[0m 425ms/step - accuracy: 0.9953 - loss: 0.0179 - val_accuracy: 0.8014 - val_loss: 1.1215\n",
      "Epoch 10/20\n",
      "\u001b[1m201/201\u001b[0m \u001b[32m━━━━━━━━━━━━━━━━━━━━\u001b[0m\u001b[37m\u001b[0m \u001b[1m82s\u001b[0m 410ms/step - accuracy: 0.9991 - loss: 0.0049 - val_accuracy: 0.7776 - val_loss: 1.0963\n",
      "Epoch 11/20\n",
      "\u001b[1m201/201\u001b[0m \u001b[32m━━━━━━━━━━━━━━━━━━━━\u001b[0m\u001b[37m\u001b[0m \u001b[1m85s\u001b[0m 423ms/step - accuracy: 0.9933 - loss: 0.0184 - val_accuracy: 0.7726 - val_loss: 1.2719\n",
      "Epoch 12/20\n",
      "\u001b[1m201/201\u001b[0m \u001b[32m━━━━━━━━━━━━━━━━━━━━\u001b[0m\u001b[37m\u001b[0m \u001b[1m92s\u001b[0m 457ms/step - accuracy: 0.9828 - loss: 0.0505 - val_accuracy: 0.7983 - val_loss: 1.0605\n",
      "Epoch 13/20\n",
      "\u001b[1m201/201\u001b[0m \u001b[32m━━━━━━━━━━━━━━━━━━━━\u001b[0m\u001b[37m\u001b[0m \u001b[1m89s\u001b[0m 444ms/step - accuracy: 0.9949 - loss: 0.0136 - val_accuracy: 0.7820 - val_loss: 1.2574\n",
      "Epoch 14/20\n",
      "\u001b[1m201/201\u001b[0m \u001b[32m━━━━━━━━━━━━━━━━━━━━\u001b[0m\u001b[37m\u001b[0m \u001b[1m84s\u001b[0m 418ms/step - accuracy: 0.9818 - loss: 0.0620 - val_accuracy: 0.7964 - val_loss: 1.1073\n",
      "Epoch 15/20\n",
      "\u001b[1m201/201\u001b[0m \u001b[32m━━━━━━━━━━━━━━━━━━━━\u001b[0m\u001b[37m\u001b[0m \u001b[1m83s\u001b[0m 413ms/step - accuracy: 0.9993 - loss: 0.0034 - val_accuracy: 0.7964 - val_loss: 1.2303\n",
      "Epoch 16/20\n",
      "\u001b[1m201/201\u001b[0m \u001b[32m━━━━━━━━━━━━━━━━━━━━\u001b[0m\u001b[37m\u001b[0m \u001b[1m140s\u001b[0m 401ms/step - accuracy: 1.0000 - loss: 4.3793e-04 - val_accuracy: 0.8026 - val_loss: 1.3751\n",
      "Epoch 17/20\n",
      "\u001b[1m201/201\u001b[0m \u001b[32m━━━━━━━━━━━━━━━━━━━━\u001b[0m\u001b[37m\u001b[0m \u001b[1m88s\u001b[0m 436ms/step - accuracy: 1.0000 - loss: 7.3794e-05 - val_accuracy: 0.8045 - val_loss: 1.5687\n",
      "Epoch 18/20\n",
      "\u001b[1m201/201\u001b[0m \u001b[32m━━━━━━━━━━━━━━━━━━━━\u001b[0m\u001b[37m\u001b[0m \u001b[1m91s\u001b[0m 453ms/step - accuracy: 1.0000 - loss: 4.3102e-05 - val_accuracy: 0.8014 - val_loss: 1.6697\n",
      "Epoch 19/20\n",
      "\u001b[1m201/201\u001b[0m \u001b[32m━━━━━━━━━━━━━━━━━━━━\u001b[0m\u001b[37m\u001b[0m \u001b[1m84s\u001b[0m 416ms/step - accuracy: 1.0000 - loss: 2.9338e-05 - val_accuracy: 0.8076 - val_loss: 1.7412\n",
      "Epoch 20/20\n",
      "\u001b[1m201/201\u001b[0m \u001b[32m━━━━━━━━━━━━━━━━━━━━\u001b[0m\u001b[37m\u001b[0m \u001b[1m81s\u001b[0m 405ms/step - accuracy: 1.0000 - loss: 2.0078e-05 - val_accuracy: 0.8095 - val_loss: 1.7723\n"
     ]
    }
   ],
   "source": [
    "# Train the model\n",
    "history2 = model2.fit(\n",
    "    X2_train, y2_train,\n",
    "    epochs=20,\n",
    "    batch_size=32,\n",
    "    validation_data=(X2_val, y2_val)\n",
    ")"
   ]
  },
  {
   "cell_type": "code",
   "execution_count": 32,
   "metadata": {},
   "outputs": [
    {
     "name": "stdout",
     "output_type": "stream",
     "text": [
      "\u001b[1m64/64\u001b[0m \u001b[32m━━━━━━━━━━━━━━━━━━━━\u001b[0m\u001b[37m\u001b[0m \u001b[1m7s\u001b[0m 116ms/step - accuracy: 0.8136 - loss: 1.6900\n",
      "Test Accuracy: 0.81\n"
     ]
    }
   ],
   "source": [
    "# Evaluate the model\n",
    "test_loss_2, test_acc_2 = model2.evaluate(X2_test, y2_test)\n",
    "print(f\"Test Accuracy: {test_acc_2:.2f}\")"
   ]
  },
  {
   "cell_type": "code",
   "execution_count": 28,
   "metadata": {},
   "outputs": [
    {
     "data": {
      "image/png": "[encoded data removed]",
      "text/plain": [
       "<Figure size 1200x600 with 1 Axes>"
      ]
     },
     "metadata": {},
     "output_type": "display_data"
    }
   ],
   "source": [
    "# Plot accuracy and loss\n",
    "plt.figure(figsize=(12, 6))\n",
    "plt.plot(history.history['accuracy'], label='Training Accuracy')\n",
    "plt.plot(history.history['val_accuracy'], label='Validation Accuracy')\n",
    "plt.title('Model Accuracy')\n",
    "plt.xlabel('Epochs')\n",
    "plt.ylabel('Accuracy')\n",
    "plt.legend()\n",
    "plt.show()"
   ]
  },
  {
   "cell_type": "code",
   "execution_count": null,
   "metadata": {},
   "outputs": [],
   "source": []
  },
  {
   "cell_type": "markdown",
   "metadata": {},
   "source": [
    "### ImageDataGenerator"
   ]
  },
  {
   "cell_type": "code",
   "execution_count": 33,
   "metadata": {},
   "outputs": [],
   "source": [
    "from tensorflow.keras.preprocessing.image import ImageDataGenerator"
   ]
  },
  {
   "cell_type": "code",
   "execution_count": 34,
   "metadata": {},
   "outputs": [],
   "source": [
    "# Set up ImageDataGenerator with validation split\n",
    "datagen = ImageDataGenerator(\n",
    "    rescale=1.0 / 255,  # Normalize pixel values to [0, 1]\n",
    "    shear_range=0.2,    # Random shear transformations\n",
    "    zoom_range=0.2,     # Random zoom\n",
    "    horizontal_flip=True,  # Allow random horizontal flipping\n",
    "    validation_split=0.2  # Reserve 20% of data for validation\n",
    ")"
   ]
  },
  {
   "cell_type": "code",
   "execution_count": 35,
   "metadata": {},
   "outputs": [
    {
     "name": "stdout",
     "output_type": "stream",
     "text": [
      "Found 6404 images belonging to 2 classes.\n"
     ]
    }
   ],
   "source": [
    "\n",
    "\n",
    "# Load data using ImageDataGenerator\n",
    "train_generator = datagen.flow_from_directory(\n",
    "    train_dir,\n",
    "    target_size=(150, 150),\n",
    "    batch_size=32,\n",
    "    class_mode='binary',\n",
    "    subset='training'  # Training subset\n",
    ")"
   ]
  },
  {
   "cell_type": "code",
   "execution_count": 36,
   "metadata": {},
   "outputs": [
    {
     "name": "stdout",
     "output_type": "stream",
     "text": [
      "Found 1601 images belonging to 2 classes.\n"
     ]
    }
   ],
   "source": [
    "\n",
    "validation_generator = datagen.flow_from_directory(\n",
    "    train_dir,\n",
    "    target_size=(150, 150),\n",
    "    batch_size=32,\n",
    "    class_mode='binary',\n",
    "    subset='validation'  # Validation subset\n",
    ")\n"
   ]
  },
  {
   "cell_type": "code",
   "execution_count": 48,
   "metadata": {},
   "outputs": [
    {
     "name": "stdout",
     "output_type": "stream",
     "text": [
      "Found 2023 images belonging to 2 classes.\n"
     ]
    }
   ],
   "source": [
    "# Separate test data (no validation split here)\n",
    "test_datagen = ImageDataGenerator(rescale=1.0 / 255)\n",
    "test_generator = test_datagen.flow_from_directory(\n",
    "    test_dir,\n",
    "    target_size=(150, 150),\n",
    "    batch_size=32,\n",
    "    class_mode='binary',\n",
    "    shuffle=False\n",
    ")\n"
   ]
  },
  {
   "cell_type": "code",
   "execution_count": 38,
   "metadata": {},
   "outputs": [
    {
     "name": "stderr",
     "output_type": "stream",
     "text": [
      "C:\\Users\\71518\\AppData\\Roaming\\Python\\Python312\\site-packages\\keras\\src\\layers\\convolutional\\base_conv.py:107: UserWarning: Do not pass an `input_shape`/`input_dim` argument to a layer. When using Sequential models, prefer using an `Input(shape)` object as the first layer in the model instead.\n",
      "  super().__init__(activity_regularizer=activity_regularizer, **kwargs)\n"
     ]
    }
   ],
   "source": [
    "# Build the CNN model\n",
    "model = models.Sequential([\n",
    "    layers.Conv2D(32, (3, 3), activation='relu', input_shape=(150, 150, 3)),\n",
    "    layers.MaxPooling2D((2, 2)),\n",
    "    layers.Conv2D(64, (3, 3), activation='relu'),\n",
    "    layers.MaxPooling2D((2, 2)),\n",
    "    layers.Conv2D(128, (3, 3), activation='relu'),\n",
    "    layers.MaxPooling2D((2, 2)),\n",
    "    layers.Conv2D(128, (3, 3), activation='relu'),\n",
    "    layers.MaxPooling2D((2, 2)),\n",
    "    layers.Flatten(),\n",
    "    layers.Dense(512, activation='relu'),\n",
    "    layers.Dense(1, activation='sigmoid')  # Binary classification\n",
    "])\n"
   ]
  },
  {
   "cell_type": "code",
   "execution_count": 39,
   "metadata": {},
   "outputs": [],
   "source": [
    "# Compile the model\n",
    "model.compile(\n",
    "    optimizer='adam',\n",
    "    loss='binary_crossentropy',\n",
    "    metrics=['accuracy']\n",
    ")"
   ]
  },
  {
   "cell_type": "code",
   "execution_count": 40,
   "metadata": {},
   "outputs": [
    {
     "name": "stdout",
     "output_type": "stream",
     "text": [
      "Epoch 1/20\n"
     ]
    },
    {
     "name": "stderr",
     "output_type": "stream",
     "text": [
      "C:\\Users\\71518\\AppData\\Roaming\\Python\\Python312\\site-packages\\keras\\src\\trainers\\data_adapters\\py_dataset_adapter.py:121: UserWarning: Your `PyDataset` class should call `super().__init__(**kwargs)` in its constructor. `**kwargs` can include `workers`, `use_multiprocessing`, `max_queue_size`. Do not pass these arguments to `fit()`, as they will be ignored.\n",
      "  self._warn_if_super_not_called()\n"
     ]
    },
    {
     "name": "stdout",
     "output_type": "stream",
     "text": [
      "\u001b[1m201/201\u001b[0m \u001b[32m━━━━━━━━━━━━━━━━━━━━\u001b[0m\u001b[37m\u001b[0m \u001b[1m204s\u001b[0m 994ms/step - accuracy: 0.5125 - loss: 0.7167 - val_accuracy: 0.5016 - val_loss: 0.7323\n",
      "Epoch 2/20\n",
      "\u001b[1m201/201\u001b[0m \u001b[32m━━━━━━━━━━━━━━━━━━━━\u001b[0m\u001b[37m\u001b[0m \u001b[1m80s\u001b[0m 393ms/step - accuracy: 0.5517 - loss: 0.6884 - val_accuracy: 0.5646 - val_loss: 0.6834\n",
      "Epoch 3/20\n",
      "\u001b[1m201/201\u001b[0m \u001b[32m━━━━━━━━━━━━━━━━━━━━\u001b[0m\u001b[37m\u001b[0m \u001b[1m85s\u001b[0m 417ms/step - accuracy: 0.5791 - loss: 0.6719 - val_accuracy: 0.6490 - val_loss: 0.6408\n",
      "Epoch 4/20\n",
      "\u001b[1m201/201\u001b[0m \u001b[32m━━━━━━━━━━━━━━━━━━━━\u001b[0m\u001b[37m\u001b[0m \u001b[1m88s\u001b[0m 432ms/step - accuracy: 0.6602 - loss: 0.6203 - val_accuracy: 0.6839 - val_loss: 0.6043\n",
      "Epoch 5/20\n",
      "\u001b[1m201/201\u001b[0m \u001b[32m━━━━━━━━━━━━━━━━━━━━\u001b[0m\u001b[37m\u001b[0m \u001b[1m96s\u001b[0m 474ms/step - accuracy: 0.7075 - loss: 0.5679 - val_accuracy: 0.7520 - val_loss: 0.5244\n",
      "Epoch 6/20\n",
      "\u001b[1m201/201\u001b[0m \u001b[32m━━━━━━━━━━━━━━━━━━━━\u001b[0m\u001b[37m\u001b[0m \u001b[1m94s\u001b[0m 466ms/step - accuracy: 0.7407 - loss: 0.5241 - val_accuracy: 0.7776 - val_loss: 0.4731\n",
      "Epoch 7/20\n",
      "\u001b[1m201/201\u001b[0m \u001b[32m━━━━━━━━━━━━━━━━━━━━\u001b[0m\u001b[37m\u001b[0m \u001b[1m90s\u001b[0m 444ms/step - accuracy: 0.7673 - loss: 0.4812 - val_accuracy: 0.7508 - val_loss: 0.4946\n",
      "Epoch 8/20\n",
      "\u001b[1m201/201\u001b[0m \u001b[32m━━━━━━━━━━━━━━━━━━━━\u001b[0m\u001b[37m\u001b[0m \u001b[1m90s\u001b[0m 444ms/step - accuracy: 0.7766 - loss: 0.4690 - val_accuracy: 0.8026 - val_loss: 0.4374\n",
      "Epoch 9/20\n",
      "\u001b[1m201/201\u001b[0m \u001b[32m━━━━━━━━━━━━━━━━━━━━\u001b[0m\u001b[37m\u001b[0m \u001b[1m96s\u001b[0m 472ms/step - accuracy: 0.8033 - loss: 0.4315 - val_accuracy: 0.8120 - val_loss: 0.4159\n",
      "Epoch 10/20\n",
      "\u001b[1m201/201\u001b[0m \u001b[32m━━━━━━━━━━━━━━━━━━━━\u001b[0m\u001b[37m\u001b[0m \u001b[1m98s\u001b[0m 482ms/step - accuracy: 0.8095 - loss: 0.4111 - val_accuracy: 0.7801 - val_loss: 0.4441\n",
      "Epoch 11/20\n",
      "\u001b[1m201/201\u001b[0m \u001b[32m━━━━━━━━━━━━━━━━━━━━\u001b[0m\u001b[37m\u001b[0m \u001b[1m91s\u001b[0m 450ms/step - accuracy: 0.8255 - loss: 0.3883 - val_accuracy: 0.8120 - val_loss: 0.4248\n",
      "Epoch 12/20\n",
      "\u001b[1m201/201\u001b[0m \u001b[32m━━━━━━━━━━━━━━━━━━━━\u001b[0m\u001b[37m\u001b[0m \u001b[1m89s\u001b[0m 440ms/step - accuracy: 0.8289 - loss: 0.3753 - val_accuracy: 0.8289 - val_loss: 0.3836\n",
      "Epoch 13/20\n",
      "\u001b[1m201/201\u001b[0m \u001b[32m━━━━━━━━━━━━━━━━━━━━\u001b[0m\u001b[37m\u001b[0m \u001b[1m95s\u001b[0m 466ms/step - accuracy: 0.8494 - loss: 0.3458 - val_accuracy: 0.8114 - val_loss: 0.4402\n",
      "Epoch 14/20\n",
      "\u001b[1m201/201\u001b[0m \u001b[32m━━━━━━━━━━━━━━━━━━━━\u001b[0m\u001b[37m\u001b[0m \u001b[1m92s\u001b[0m 453ms/step - accuracy: 0.8550 - loss: 0.3260 - val_accuracy: 0.8345 - val_loss: 0.3684\n",
      "Epoch 15/20\n",
      "\u001b[1m201/201\u001b[0m \u001b[32m━━━━━━━━━━━━━━━━━━━━\u001b[0m\u001b[37m\u001b[0m \u001b[1m93s\u001b[0m 456ms/step - accuracy: 0.8698 - loss: 0.2982 - val_accuracy: 0.8370 - val_loss: 0.3727\n",
      "Epoch 16/20\n",
      "\u001b[1m201/201\u001b[0m \u001b[32m━━━━━━━━━━━━━━━━━━━━\u001b[0m\u001b[37m\u001b[0m \u001b[1m95s\u001b[0m 466ms/step - accuracy: 0.8759 - loss: 0.2937 - val_accuracy: 0.8314 - val_loss: 0.3763\n",
      "Epoch 17/20\n",
      "\u001b[1m201/201\u001b[0m \u001b[32m━━━━━━━━━━━━━━━━━━━━\u001b[0m\u001b[37m\u001b[0m \u001b[1m94s\u001b[0m 460ms/step - accuracy: 0.8777 - loss: 0.2878 - val_accuracy: 0.8357 - val_loss: 0.3614\n",
      "Epoch 18/20\n",
      "\u001b[1m201/201\u001b[0m \u001b[32m━━━━━━━━━━━━━━━━━━━━\u001b[0m\u001b[37m\u001b[0m \u001b[1m204s\u001b[0m 993ms/step - accuracy: 0.8965 - loss: 0.2564 - val_accuracy: 0.8638 - val_loss: 0.3211\n",
      "Epoch 19/20\n",
      "\u001b[1m201/201\u001b[0m \u001b[32m━━━━━━━━━━━━━━━━━━━━\u001b[0m\u001b[37m\u001b[0m \u001b[1m98s\u001b[0m 482ms/step - accuracy: 0.8975 - loss: 0.2418 - val_accuracy: 0.8401 - val_loss: 0.3540\n",
      "Epoch 20/20\n",
      "\u001b[1m201/201\u001b[0m \u001b[32m━━━━━━━━━━━━━━━━━━━━\u001b[0m\u001b[37m\u001b[0m \u001b[1m96s\u001b[0m 470ms/step - accuracy: 0.9102 - loss: 0.2193 - val_accuracy: 0.8532 - val_loss: 0.3579\n"
     ]
    }
   ],
   "source": [
    "\n",
    "# Train the model\n",
    "history = model.fit(\n",
    "    train_generator,\n",
    "    epochs=20,\n",
    "    validation_data=validation_generator\n",
    ")\n"
   ]
  },
  {
   "cell_type": "code",
   "execution_count": 49,
   "metadata": {},
   "outputs": [
    {
     "name": "stdout",
     "output_type": "stream",
     "text": [
      "\u001b[1m 2/64\u001b[0m \u001b[37m━━━━━━━━━━━━━━━━━━━━\u001b[0m \u001b[1m4s\u001b[0m 72ms/step - accuracy: 0.8359 - loss: 0.3722 "
     ]
    },
    {
     "name": "stderr",
     "output_type": "stream",
     "text": [
      "C:\\Users\\71518\\AppData\\Roaming\\Python\\Python312\\site-packages\\keras\\src\\trainers\\data_adapters\\py_dataset_adapter.py:121: UserWarning: Your `PyDataset` class should call `super().__init__(**kwargs)` in its constructor. `**kwargs` can include `workers`, `use_multiprocessing`, `max_queue_size`. Do not pass these arguments to `fit()`, as they will be ignored.\n",
      "  self._warn_if_super_not_called()\n"
     ]
    },
    {
     "name": "stdout",
     "output_type": "stream",
     "text": [
      "\u001b[1m64/64\u001b[0m \u001b[32m━━━━━━━━━━━━━━━━━━━━\u001b[0m\u001b[37m\u001b[0m \u001b[1m26s\u001b[0m 418ms/step - accuracy: 0.8630 - loss: 0.3562\n",
      "Test Accuracy: 0.88\n"
     ]
    }
   ],
   "source": [
    "# Evaluate the model on the test set\n",
    "test_loss, test_acc = model.evaluate(test_generator)\n",
    "print(f\"Test Accuracy: {test_acc:.2f}\")"
   ]
  },
  {
   "cell_type": "code",
   "execution_count": null,
   "metadata": {},
   "outputs": [],
   "source": []
  }
 ],
 "metadata": {
  "kernelspec": {
   "display_name": "Python 3",
   "language": "python",
   "name": "python3"
  },
  "language_info": {
   "codemirror_mode": {
    "name": "ipython",
    "version": 3
   },
   "file_extension": ".py",
   "mimetype": "text/x-python",
   "name": "python",
   "nbconvert_exporter": "python",
   "pygments_lexer": "ipython3",
   "version": "3.12.2"
  }
 },
 "nbformat": 4,
 "nbformat_minor": 2
}
