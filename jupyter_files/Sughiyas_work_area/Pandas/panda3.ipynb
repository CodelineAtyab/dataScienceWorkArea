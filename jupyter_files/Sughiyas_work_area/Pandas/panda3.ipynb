{
 "cells": [
  {
   "cell_type": "code",
   "execution_count": 1,
   "metadata": {},
   "outputs": [],
   "source": [
    "import pandas as pd\n",
    "import numpy as np\n",
    "import matplotlib.pyplot as pit"
   ]
  },
  {
   "cell_type": "code",
   "execution_count": 2,
   "metadata": {},
   "outputs": [
    {
     "data": {
      "text/html": [
       "<div>\n",
       "<style scoped>\n",
       "    .dataframe tbody tr th:only-of-type {\n",
       "        vertical-align: middle;\n",
       "    }\n",
       "\n",
       "    .dataframe tbody tr th {\n",
       "        vertical-align: top;\n",
       "    }\n",
       "\n",
       "    .dataframe thead th {\n",
       "        text-align: right;\n",
       "    }\n",
       "</style>\n",
       "<table border=\"1\" class=\"dataframe\">\n",
       "  <thead>\n",
       "    <tr style=\"text-align: right;\">\n",
       "      <th></th>\n",
       "      <th>Department</th>\n",
       "      <th>Major</th>\n",
       "      <th>Degree</th>\n",
       "      <th>School</th>\n",
       "      <th>Course Title</th>\n",
       "      <th>Course Description</th>\n",
       "      <th>Cost</th>\n",
       "    </tr>\n",
       "  </thead>\n",
       "  <tbody>\n",
       "    <tr>\n",
       "      <th>0</th>\n",
       "      <td>Police</td>\n",
       "      <td>Business/Admin./Mgmt.</td>\n",
       "      <td>AA</td>\n",
       "      <td>Montgomery College Rockville Campus</td>\n",
       "      <td>INTRODUCTION TO BUSINESS</td>\n",
       "      <td>An introductory course designed to survey the ...</td>\n",
       "      <td>392.0</td>\n",
       "    </tr>\n",
       "    <tr>\n",
       "      <th>1</th>\n",
       "      <td>Police</td>\n",
       "      <td>Business/Admin./Mgmt.</td>\n",
       "      <td>AA</td>\n",
       "      <td>Montgomery College Rockville Campus</td>\n",
       "      <td>MA 160</td>\n",
       "      <td>A general calculus course primarily for busine...</td>\n",
       "      <td>392.0</td>\n",
       "    </tr>\n",
       "    <tr>\n",
       "      <th>2</th>\n",
       "      <td>Police</td>\n",
       "      <td>Business/Admin./Mgmt.</td>\n",
       "      <td>AA</td>\n",
       "      <td>Montgomery College Rockville Campus</td>\n",
       "      <td>INTRO TO AMERICAN MUSIC</td>\n",
       "      <td>A survey of American popular music from the tu...</td>\n",
       "      <td>392.0</td>\n",
       "    </tr>\n",
       "    <tr>\n",
       "      <th>3</th>\n",
       "      <td>Health &amp; Human Services</td>\n",
       "      <td>Business/Admin./Mgmt.</td>\n",
       "      <td>Masters (MA/MS/MPH/etc.)</td>\n",
       "      <td>BOWIE STATE UNIVERSITY</td>\n",
       "      <td>PUBLIC POLICY ANALYSIS</td>\n",
       "      <td>Focus is on the analysis of costs and benefits...</td>\n",
       "      <td>1062.0</td>\n",
       "    </tr>\n",
       "    <tr>\n",
       "      <th>4</th>\n",
       "      <td>Health &amp; Human Services</td>\n",
       "      <td>Other/Misc.</td>\n",
       "      <td>Masters (MA/MS/MPH/etc.)</td>\n",
       "      <td>Mount St Mary's University</td>\n",
       "      <td>MHA 500 CONTEMPORARY ISSUES IN HEALTH CARE</td>\n",
       "      <td>The historical, current, and future organizati...</td>\n",
       "      <td>1569.0</td>\n",
       "    </tr>\n",
       "    <tr>\n",
       "      <th>...</th>\n",
       "      <td>...</td>\n",
       "      <td>...</td>\n",
       "      <td>...</td>\n",
       "      <td>...</td>\n",
       "      <td>...</td>\n",
       "      <td>...</td>\n",
       "      <td>...</td>\n",
       "    </tr>\n",
       "    <tr>\n",
       "      <th>4363</th>\n",
       "      <td>Police</td>\n",
       "      <td>Political Science</td>\n",
       "      <td>Bachelors (BA/BS)</td>\n",
       "      <td>MONTGOMERY COUNTY COMMUNITY COLLEGE</td>\n",
       "      <td>POL 101 AMERICAN GOVERMENT</td>\n",
       "      <td>Structure, powers, and processes of the Americ...</td>\n",
       "      <td>402.0</td>\n",
       "    </tr>\n",
       "    <tr>\n",
       "      <th>4364</th>\n",
       "      <td>Fire/Rescue Services</td>\n",
       "      <td>NaN</td>\n",
       "      <td>Non-Degree</td>\n",
       "      <td>FIRE DEPARTMENT TRAINING NETWORK</td>\n",
       "      <td>FIREGROUND SURVIVAL &amp; RIT</td>\n",
       "      <td>Fire Combat</td>\n",
       "      <td>1200.0</td>\n",
       "    </tr>\n",
       "    <tr>\n",
       "      <th>4365</th>\n",
       "      <td>Liquor Control</td>\n",
       "      <td>Information Technology</td>\n",
       "      <td>AA</td>\n",
       "      <td>MONTGOMERY COUNTY COMMUNITY COLLEGE</td>\n",
       "      <td>UNIX/LINUX SYSTEM ADMINISTRATION</td>\n",
       "      <td>These are Saturday classes.\\n\\nIntroduction to...</td>\n",
       "      <td>528.0</td>\n",
       "    </tr>\n",
       "    <tr>\n",
       "      <th>4366</th>\n",
       "      <td>Police</td>\n",
       "      <td>Other/Misc.</td>\n",
       "      <td>Other</td>\n",
       "      <td>Victory First</td>\n",
       "      <td>RDS HANDGUN INSTRUCTOR</td>\n",
       "      <td>RDS Handgun Instructor for LEO only</td>\n",
       "      <td>750.0</td>\n",
       "    </tr>\n",
       "    <tr>\n",
       "      <th>4367</th>\n",
       "      <td>Transportation</td>\n",
       "      <td>Civil and Environmental Engineering</td>\n",
       "      <td>Bachelors (BA/BS)</td>\n",
       "      <td>Montgomery College Rockville Campus</td>\n",
       "      <td>ART 101- INTRODUCTION TO DRAWING</td>\n",
       "      <td>An introduction to drawing and creative visual...</td>\n",
       "      <td>336.0</td>\n",
       "    </tr>\n",
       "  </tbody>\n",
       "</table>\n",
       "<p>4368 rows × 7 columns</p>\n",
       "</div>"
      ],
      "text/plain": [
       "                   Department                                Major  \\\n",
       "0                      Police                Business/Admin./Mgmt.   \n",
       "1                      Police                Business/Admin./Mgmt.   \n",
       "2                      Police                Business/Admin./Mgmt.   \n",
       "3     Health & Human Services                Business/Admin./Mgmt.   \n",
       "4     Health & Human Services                          Other/Misc.   \n",
       "...                       ...                                  ...   \n",
       "4363                   Police                    Political Science   \n",
       "4364     Fire/Rescue Services                                  NaN   \n",
       "4365           Liquor Control               Information Technology   \n",
       "4366                   Police                          Other/Misc.   \n",
       "4367           Transportation  Civil and Environmental Engineering   \n",
       "\n",
       "                        Degree                               School  \\\n",
       "0                           AA  Montgomery College Rockville Campus   \n",
       "1                           AA  Montgomery College Rockville Campus   \n",
       "2                           AA  Montgomery College Rockville Campus   \n",
       "3     Masters (MA/MS/MPH/etc.)               BOWIE STATE UNIVERSITY   \n",
       "4     Masters (MA/MS/MPH/etc.)           Mount St Mary's University   \n",
       "...                        ...                                  ...   \n",
       "4363         Bachelors (BA/BS)  MONTGOMERY COUNTY COMMUNITY COLLEGE   \n",
       "4364                Non-Degree     FIRE DEPARTMENT TRAINING NETWORK   \n",
       "4365                        AA  MONTGOMERY COUNTY COMMUNITY COLLEGE   \n",
       "4366                     Other                        Victory First   \n",
       "4367         Bachelors (BA/BS)  Montgomery College Rockville Campus   \n",
       "\n",
       "                                    Course Title  \\\n",
       "0                       INTRODUCTION TO BUSINESS   \n",
       "1                                         MA 160   \n",
       "2                        INTRO TO AMERICAN MUSIC   \n",
       "3                         PUBLIC POLICY ANALYSIS   \n",
       "4     MHA 500 CONTEMPORARY ISSUES IN HEALTH CARE   \n",
       "...                                          ...   \n",
       "4363                  POL 101 AMERICAN GOVERMENT   \n",
       "4364                   FIREGROUND SURVIVAL & RIT   \n",
       "4365            UNIX/LINUX SYSTEM ADMINISTRATION   \n",
       "4366                      RDS HANDGUN INSTRUCTOR   \n",
       "4367            ART 101- INTRODUCTION TO DRAWING   \n",
       "\n",
       "                                     Course Description    Cost  \n",
       "0     An introductory course designed to survey the ...   392.0  \n",
       "1     A general calculus course primarily for busine...   392.0  \n",
       "2     A survey of American popular music from the tu...   392.0  \n",
       "3     Focus is on the analysis of costs and benefits...  1062.0  \n",
       "4     The historical, current, and future organizati...  1569.0  \n",
       "...                                                 ...     ...  \n",
       "4363  Structure, powers, and processes of the Americ...   402.0  \n",
       "4364                                        Fire Combat  1200.0  \n",
       "4365  These are Saturday classes.\\n\\nIntroduction to...   528.0  \n",
       "4366                RDS Handgun Instructor for LEO only   750.0  \n",
       "4367  An introduction to drawing and creative visual...   336.0  \n",
       "\n",
       "[4368 rows x 7 columns]"
      ]
     },
     "execution_count": 2,
     "metadata": {},
     "output_type": "execute_result"
    }
   ],
   "source": [
    "df = pd.read_csv(\"Tuition_Assistance.csv\")\n",
    "df"
   ]
  },
  {
   "cell_type": "code",
   "execution_count": 3,
   "metadata": {},
   "outputs": [
    {
     "name": "stdout",
     "output_type": "stream",
     "text": [
      "<class 'pandas.core.frame.DataFrame'>\n",
      "RangeIndex: 4368 entries, 0 to 4367\n",
      "Data columns (total 7 columns):\n",
      " #   Column              Non-Null Count  Dtype  \n",
      "---  ------              --------------  -----  \n",
      " 0   Department          4368 non-null   object \n",
      " 1   Major               3883 non-null   object \n",
      " 2   Degree              4368 non-null   object \n",
      " 3   School              4368 non-null   object \n",
      " 4   Course Title        4368 non-null   object \n",
      " 5   Course Description  4171 non-null   object \n",
      " 6   Cost                4368 non-null   float64\n",
      "dtypes: float64(1), object(6)\n",
      "memory usage: 239.0+ KB\n"
     ]
    }
   ],
   "source": [
    "df.info()"
   ]
  },
  {
   "cell_type": "code",
   "execution_count": 4,
   "metadata": {},
   "outputs": [
    {
     "data": {
      "text/html": [
       "<div>\n",
       "<style scoped>\n",
       "    .dataframe tbody tr th:only-of-type {\n",
       "        vertical-align: middle;\n",
       "    }\n",
       "\n",
       "    .dataframe tbody tr th {\n",
       "        vertical-align: top;\n",
       "    }\n",
       "\n",
       "    .dataframe thead th {\n",
       "        text-align: right;\n",
       "    }\n",
       "</style>\n",
       "<table border=\"1\" class=\"dataframe\">\n",
       "  <thead>\n",
       "    <tr style=\"text-align: right;\">\n",
       "      <th></th>\n",
       "      <th>Cost</th>\n",
       "    </tr>\n",
       "  </thead>\n",
       "  <tbody>\n",
       "    <tr>\n",
       "      <th>count</th>\n",
       "      <td>4368.000000</td>\n",
       "    </tr>\n",
       "    <tr>\n",
       "      <th>mean</th>\n",
       "      <td>786.263024</td>\n",
       "    </tr>\n",
       "    <tr>\n",
       "      <th>std</th>\n",
       "      <td>533.319613</td>\n",
       "    </tr>\n",
       "    <tr>\n",
       "      <th>min</th>\n",
       "      <td>0.000000</td>\n",
       "    </tr>\n",
       "    <tr>\n",
       "      <th>25%</th>\n",
       "      <td>366.000000</td>\n",
       "    </tr>\n",
       "    <tr>\n",
       "      <th>50%</th>\n",
       "      <td>700.000000</td>\n",
       "    </tr>\n",
       "    <tr>\n",
       "      <th>75%</th>\n",
       "      <td>1015.000000</td>\n",
       "    </tr>\n",
       "    <tr>\n",
       "      <th>max</th>\n",
       "      <td>2300.000000</td>\n",
       "    </tr>\n",
       "  </tbody>\n",
       "</table>\n",
       "</div>"
      ],
      "text/plain": [
       "              Cost\n",
       "count  4368.000000\n",
       "mean    786.263024\n",
       "std     533.319613\n",
       "min       0.000000\n",
       "25%     366.000000\n",
       "50%     700.000000\n",
       "75%    1015.000000\n",
       "max    2300.000000"
      ]
     },
     "execution_count": 4,
     "metadata": {},
     "output_type": "execute_result"
    }
   ],
   "source": [
    "df.describe()"
   ]
  },
  {
   "cell_type": "code",
   "execution_count": 5,
   "metadata": {},
   "outputs": [
    {
     "data": {
      "text/plain": [
       "count       4368\n",
       "unique        34\n",
       "top       Police\n",
       "freq        1377\n",
       "Name: Department, dtype: object"
      ]
     },
     "execution_count": 5,
     "metadata": {},
     "output_type": "execute_result"
    }
   ],
   "source": [
    "df.Department.describe()"
   ]
  },
  {
   "cell_type": "code",
   "execution_count": 6,
   "metadata": {},
   "outputs": [
    {
     "data": {
      "text/plain": [
       "count                  4368\n",
       "unique                    9\n",
       "top       Bachelors (BA/BS)\n",
       "freq                   1393\n",
       "Name: Degree, dtype: object"
      ]
     },
     "execution_count": 6,
     "metadata": {},
     "output_type": "execute_result"
    }
   ],
   "source": [
    "df.Degree.describe()"
   ]
  },
  {
   "cell_type": "code",
   "execution_count": 7,
   "metadata": {},
   "outputs": [
    {
     "data": {
      "text/plain": [
       "count                                            4368\n",
       "unique                                            382\n",
       "top       University of Maryland - University College\n",
       "freq                                              665\n",
       "Name: School, dtype: object"
      ]
     },
     "execution_count": 7,
     "metadata": {},
     "output_type": "execute_result"
    }
   ],
   "source": [
    "df.School.describe()"
   ]
  },
  {
   "cell_type": "code",
   "execution_count": 8,
   "metadata": {},
   "outputs": [
    {
     "data": {
      "text/html": [
       "<div>\n",
       "<style scoped>\n",
       "    .dataframe tbody tr th:only-of-type {\n",
       "        vertical-align: middle;\n",
       "    }\n",
       "\n",
       "    .dataframe tbody tr th {\n",
       "        vertical-align: top;\n",
       "    }\n",
       "\n",
       "    .dataframe thead th {\n",
       "        text-align: right;\n",
       "    }\n",
       "</style>\n",
       "<table border=\"1\" class=\"dataframe\">\n",
       "  <thead>\n",
       "    <tr style=\"text-align: right;\">\n",
       "      <th></th>\n",
       "      <th>Major</th>\n",
       "      <th>Degree</th>\n",
       "    </tr>\n",
       "  </thead>\n",
       "  <tbody>\n",
       "    <tr>\n",
       "      <th>count</th>\n",
       "      <td>3883</td>\n",
       "      <td>4368</td>\n",
       "    </tr>\n",
       "    <tr>\n",
       "      <th>unique</th>\n",
       "      <td>91</td>\n",
       "      <td>9</td>\n",
       "    </tr>\n",
       "    <tr>\n",
       "      <th>top</th>\n",
       "      <td>Business/Admin./Mgmt.</td>\n",
       "      <td>Bachelors (BA/BS)</td>\n",
       "    </tr>\n",
       "    <tr>\n",
       "      <th>freq</th>\n",
       "      <td>435</td>\n",
       "      <td>1393</td>\n",
       "    </tr>\n",
       "  </tbody>\n",
       "</table>\n",
       "</div>"
      ],
      "text/plain": [
       "                        Major             Degree\n",
       "count                    3883               4368\n",
       "unique                     91                  9\n",
       "top     Business/Admin./Mgmt.  Bachelors (BA/BS)\n",
       "freq                      435               1393"
      ]
     },
     "execution_count": 8,
     "metadata": {},
     "output_type": "execute_result"
    }
   ],
   "source": [
    "df[['Major','Degree']].describe()"
   ]
  },
  {
   "cell_type": "code",
   "execution_count": 9,
   "metadata": {},
   "outputs": [
    {
     "data": {
      "text/plain": [
       "<Axes: >"
      ]
     },
     "execution_count": 9,
     "metadata": {},
     "output_type": "execute_result"
    },
    {
     "data": {
      "image/png": "[encoded data removed]",
      "text/plain": [
       "<Figure size 640x480 with 1 Axes>"
      ]
     },
     "metadata": {},
     "output_type": "display_data"
    }
   ],
   "source": [
    "df.Department.hist()"
   ]
  },
  {
   "cell_type": "code",
   "execution_count": 10,
   "metadata": {},
   "outputs": [
    {
     "data": {
      "text/plain": [
       "<Axes: >"
      ]
     },
     "execution_count": 10,
     "metadata": {},
     "output_type": "execute_result"
    },
    {
     "data": {
      "image/png": "[encoded data removed]",
      "text/plain": [
       "<Figure size 640x480 with 1 Axes>"
      ]
     },
     "metadata": {},
     "output_type": "display_data"
    }
   ],
   "source": [
    "df[['Cost']].boxplot()"
   ]
  },
  {
   "cell_type": "code",
   "execution_count": 11,
   "metadata": {},
   "outputs": [
    {
     "data": {
      "text/plain": [
       "<Axes: xlabel='Department'>"
      ]
     },
     "execution_count": 11,
     "metadata": {},
     "output_type": "execute_result"
    },
    {
     "data": {
      "image/png": "[encoded data removed]",
      "text/plain": [
       "<Figure size 640x480 with 1 Axes>"
      ]
     },
     "metadata": {},
     "output_type": "display_data"
    }
   ],
   "source": [
    "df['Department'].value_counts().plot.bar()"
   ]
  },
  {
   "cell_type": "code",
   "execution_count": 12,
   "metadata": {},
   "outputs": [
    {
     "data": {
      "text/html": [
       "<div>\n",
       "<style scoped>\n",
       "    .dataframe tbody tr th:only-of-type {\n",
       "        vertical-align: middle;\n",
       "    }\n",
       "\n",
       "    .dataframe tbody tr th {\n",
       "        vertical-align: top;\n",
       "    }\n",
       "\n",
       "    .dataframe thead th {\n",
       "        text-align: right;\n",
       "    }\n",
       "</style>\n",
       "<table border=\"1\" class=\"dataframe\">\n",
       "  <thead>\n",
       "    <tr style=\"text-align: right;\">\n",
       "      <th></th>\n",
       "      <th>Department</th>\n",
       "      <th>Major</th>\n",
       "      <th>Degree</th>\n",
       "      <th>School</th>\n",
       "      <th>Course Title</th>\n",
       "      <th>Course Description</th>\n",
       "      <th>Cost</th>\n",
       "    </tr>\n",
       "  </thead>\n",
       "  <tbody>\n",
       "    <tr>\n",
       "      <th>0</th>\n",
       "      <td>Police</td>\n",
       "      <td>Business/Admin./Mgmt.</td>\n",
       "      <td>AA</td>\n",
       "      <td>Montgomery College Rockville Campus</td>\n",
       "      <td>INTRODUCTION TO BUSINESS</td>\n",
       "      <td>An introductory course designed to survey the ...</td>\n",
       "      <td>392.0</td>\n",
       "    </tr>\n",
       "    <tr>\n",
       "      <th>1</th>\n",
       "      <td>Police</td>\n",
       "      <td>Business/Admin./Mgmt.</td>\n",
       "      <td>AA</td>\n",
       "      <td>Montgomery College Rockville Campus</td>\n",
       "      <td>MA 160</td>\n",
       "      <td>A general calculus course primarily for busine...</td>\n",
       "      <td>392.0</td>\n",
       "    </tr>\n",
       "    <tr>\n",
       "      <th>2</th>\n",
       "      <td>Police</td>\n",
       "      <td>Business/Admin./Mgmt.</td>\n",
       "      <td>AA</td>\n",
       "      <td>Montgomery College Rockville Campus</td>\n",
       "      <td>INTRO TO AMERICAN MUSIC</td>\n",
       "      <td>A survey of American popular music from the tu...</td>\n",
       "      <td>392.0</td>\n",
       "    </tr>\n",
       "    <tr>\n",
       "      <th>3</th>\n",
       "      <td>Health &amp; Human Services</td>\n",
       "      <td>Business/Admin./Mgmt.</td>\n",
       "      <td>Masters (MA/MS/MPH/etc.)</td>\n",
       "      <td>BOWIE STATE UNIVERSITY</td>\n",
       "      <td>PUBLIC POLICY ANALYSIS</td>\n",
       "      <td>Focus is on the analysis of costs and benefits...</td>\n",
       "      <td>1062.0</td>\n",
       "    </tr>\n",
       "    <tr>\n",
       "      <th>4</th>\n",
       "      <td>Health &amp; Human Services</td>\n",
       "      <td>Other/Misc.</td>\n",
       "      <td>Masters (MA/MS/MPH/etc.)</td>\n",
       "      <td>Mount St Mary's University</td>\n",
       "      <td>MHA 500 CONTEMPORARY ISSUES IN HEALTH CARE</td>\n",
       "      <td>The historical, current, and future organizati...</td>\n",
       "      <td>1569.0</td>\n",
       "    </tr>\n",
       "    <tr>\n",
       "      <th>...</th>\n",
       "      <td>...</td>\n",
       "      <td>...</td>\n",
       "      <td>...</td>\n",
       "      <td>...</td>\n",
       "      <td>...</td>\n",
       "      <td>...</td>\n",
       "      <td>...</td>\n",
       "    </tr>\n",
       "    <tr>\n",
       "      <th>4362</th>\n",
       "      <td>Liquor Control</td>\n",
       "      <td>Information Technology</td>\n",
       "      <td>AA</td>\n",
       "      <td>MONTGOMERY COUNTY COMMUNITY COLLEGE</td>\n",
       "      <td>MICROCOMPUTER ESSENTIALS</td>\n",
       "      <td>These are Monday classes from 6 PM - 7:15 PM.\\...</td>\n",
       "      <td>396.0</td>\n",
       "    </tr>\n",
       "    <tr>\n",
       "      <th>4363</th>\n",
       "      <td>Police</td>\n",
       "      <td>Political Science</td>\n",
       "      <td>Bachelors (BA/BS)</td>\n",
       "      <td>MONTGOMERY COUNTY COMMUNITY COLLEGE</td>\n",
       "      <td>POL 101 AMERICAN GOVERMENT</td>\n",
       "      <td>Structure, powers, and processes of the Americ...</td>\n",
       "      <td>402.0</td>\n",
       "    </tr>\n",
       "    <tr>\n",
       "      <th>4365</th>\n",
       "      <td>Liquor Control</td>\n",
       "      <td>Information Technology</td>\n",
       "      <td>AA</td>\n",
       "      <td>MONTGOMERY COUNTY COMMUNITY COLLEGE</td>\n",
       "      <td>UNIX/LINUX SYSTEM ADMINISTRATION</td>\n",
       "      <td>These are Saturday classes.\\n\\nIntroduction to...</td>\n",
       "      <td>528.0</td>\n",
       "    </tr>\n",
       "    <tr>\n",
       "      <th>4366</th>\n",
       "      <td>Police</td>\n",
       "      <td>Other/Misc.</td>\n",
       "      <td>Other</td>\n",
       "      <td>Victory First</td>\n",
       "      <td>RDS HANDGUN INSTRUCTOR</td>\n",
       "      <td>RDS Handgun Instructor for LEO only</td>\n",
       "      <td>750.0</td>\n",
       "    </tr>\n",
       "    <tr>\n",
       "      <th>4367</th>\n",
       "      <td>Transportation</td>\n",
       "      <td>Civil and Environmental Engineering</td>\n",
       "      <td>Bachelors (BA/BS)</td>\n",
       "      <td>Montgomery College Rockville Campus</td>\n",
       "      <td>ART 101- INTRODUCTION TO DRAWING</td>\n",
       "      <td>An introduction to drawing and creative visual...</td>\n",
       "      <td>336.0</td>\n",
       "    </tr>\n",
       "  </tbody>\n",
       "</table>\n",
       "<p>3714 rows × 7 columns</p>\n",
       "</div>"
      ],
      "text/plain": [
       "                   Department                                Major  \\\n",
       "0                      Police                Business/Admin./Mgmt.   \n",
       "1                      Police                Business/Admin./Mgmt.   \n",
       "2                      Police                Business/Admin./Mgmt.   \n",
       "3     Health & Human Services                Business/Admin./Mgmt.   \n",
       "4     Health & Human Services                          Other/Misc.   \n",
       "...                       ...                                  ...   \n",
       "4362           Liquor Control               Information Technology   \n",
       "4363                   Police                    Political Science   \n",
       "4365           Liquor Control               Information Technology   \n",
       "4366                   Police                          Other/Misc.   \n",
       "4367           Transportation  Civil and Environmental Engineering   \n",
       "\n",
       "                        Degree                               School  \\\n",
       "0                           AA  Montgomery College Rockville Campus   \n",
       "1                           AA  Montgomery College Rockville Campus   \n",
       "2                           AA  Montgomery College Rockville Campus   \n",
       "3     Masters (MA/MS/MPH/etc.)               BOWIE STATE UNIVERSITY   \n",
       "4     Masters (MA/MS/MPH/etc.)           Mount St Mary's University   \n",
       "...                        ...                                  ...   \n",
       "4362                        AA  MONTGOMERY COUNTY COMMUNITY COLLEGE   \n",
       "4363         Bachelors (BA/BS)  MONTGOMERY COUNTY COMMUNITY COLLEGE   \n",
       "4365                        AA  MONTGOMERY COUNTY COMMUNITY COLLEGE   \n",
       "4366                     Other                        Victory First   \n",
       "4367         Bachelors (BA/BS)  Montgomery College Rockville Campus   \n",
       "\n",
       "                                    Course Title  \\\n",
       "0                       INTRODUCTION TO BUSINESS   \n",
       "1                                         MA 160   \n",
       "2                        INTRO TO AMERICAN MUSIC   \n",
       "3                         PUBLIC POLICY ANALYSIS   \n",
       "4     MHA 500 CONTEMPORARY ISSUES IN HEALTH CARE   \n",
       "...                                          ...   \n",
       "4362                    MICROCOMPUTER ESSENTIALS   \n",
       "4363                  POL 101 AMERICAN GOVERMENT   \n",
       "4365            UNIX/LINUX SYSTEM ADMINISTRATION   \n",
       "4366                      RDS HANDGUN INSTRUCTOR   \n",
       "4367            ART 101- INTRODUCTION TO DRAWING   \n",
       "\n",
       "                                     Course Description    Cost  \n",
       "0     An introductory course designed to survey the ...   392.0  \n",
       "1     A general calculus course primarily for busine...   392.0  \n",
       "2     A survey of American popular music from the tu...   392.0  \n",
       "3     Focus is on the analysis of costs and benefits...  1062.0  \n",
       "4     The historical, current, and future organizati...  1569.0  \n",
       "...                                                 ...     ...  \n",
       "4362  These are Monday classes from 6 PM - 7:15 PM.\\...   396.0  \n",
       "4363  Structure, powers, and processes of the Americ...   402.0  \n",
       "4365  These are Saturday classes.\\n\\nIntroduction to...   528.0  \n",
       "4366                RDS Handgun Instructor for LEO only   750.0  \n",
       "4367  An introduction to drawing and creative visual...   336.0  \n",
       "\n",
       "[3714 rows x 7 columns]"
      ]
     },
     "execution_count": 12,
     "metadata": {},
     "output_type": "execute_result"
    }
   ],
   "source": [
    "df.dropna()"
   ]
  },
  {
   "cell_type": "code",
   "execution_count": 13,
   "metadata": {},
   "outputs": [
    {
     "data": {
      "text/html": [
       "<div>\n",
       "<style scoped>\n",
       "    .dataframe tbody tr th:only-of-type {\n",
       "        vertical-align: middle;\n",
       "    }\n",
       "\n",
       "    .dataframe tbody tr th {\n",
       "        vertical-align: top;\n",
       "    }\n",
       "\n",
       "    .dataframe thead th {\n",
       "        text-align: right;\n",
       "    }\n",
       "</style>\n",
       "<table border=\"1\" class=\"dataframe\">\n",
       "  <thead>\n",
       "    <tr style=\"text-align: right;\">\n",
       "      <th></th>\n",
       "      <th>Department</th>\n",
       "      <th>Major</th>\n",
       "      <th>Degree</th>\n",
       "      <th>School</th>\n",
       "      <th>Course Title</th>\n",
       "      <th>Course Description</th>\n",
       "      <th>Cost</th>\n",
       "    </tr>\n",
       "  </thead>\n",
       "  <tbody>\n",
       "    <tr>\n",
       "      <th>0</th>\n",
       "      <td>False</td>\n",
       "      <td>False</td>\n",
       "      <td>False</td>\n",
       "      <td>False</td>\n",
       "      <td>False</td>\n",
       "      <td>False</td>\n",
       "      <td>False</td>\n",
       "    </tr>\n",
       "    <tr>\n",
       "      <th>1</th>\n",
       "      <td>False</td>\n",
       "      <td>False</td>\n",
       "      <td>False</td>\n",
       "      <td>False</td>\n",
       "      <td>False</td>\n",
       "      <td>False</td>\n",
       "      <td>False</td>\n",
       "    </tr>\n",
       "    <tr>\n",
       "      <th>2</th>\n",
       "      <td>False</td>\n",
       "      <td>False</td>\n",
       "      <td>False</td>\n",
       "      <td>False</td>\n",
       "      <td>False</td>\n",
       "      <td>False</td>\n",
       "      <td>False</td>\n",
       "    </tr>\n",
       "    <tr>\n",
       "      <th>3</th>\n",
       "      <td>False</td>\n",
       "      <td>False</td>\n",
       "      <td>False</td>\n",
       "      <td>False</td>\n",
       "      <td>False</td>\n",
       "      <td>False</td>\n",
       "      <td>False</td>\n",
       "    </tr>\n",
       "    <tr>\n",
       "      <th>4</th>\n",
       "      <td>False</td>\n",
       "      <td>False</td>\n",
       "      <td>False</td>\n",
       "      <td>False</td>\n",
       "      <td>False</td>\n",
       "      <td>False</td>\n",
       "      <td>False</td>\n",
       "    </tr>\n",
       "    <tr>\n",
       "      <th>...</th>\n",
       "      <td>...</td>\n",
       "      <td>...</td>\n",
       "      <td>...</td>\n",
       "      <td>...</td>\n",
       "      <td>...</td>\n",
       "      <td>...</td>\n",
       "      <td>...</td>\n",
       "    </tr>\n",
       "    <tr>\n",
       "      <th>4363</th>\n",
       "      <td>False</td>\n",
       "      <td>False</td>\n",
       "      <td>False</td>\n",
       "      <td>False</td>\n",
       "      <td>False</td>\n",
       "      <td>False</td>\n",
       "      <td>False</td>\n",
       "    </tr>\n",
       "    <tr>\n",
       "      <th>4364</th>\n",
       "      <td>False</td>\n",
       "      <td>True</td>\n",
       "      <td>False</td>\n",
       "      <td>False</td>\n",
       "      <td>False</td>\n",
       "      <td>False</td>\n",
       "      <td>False</td>\n",
       "    </tr>\n",
       "    <tr>\n",
       "      <th>4365</th>\n",
       "      <td>False</td>\n",
       "      <td>False</td>\n",
       "      <td>False</td>\n",
       "      <td>False</td>\n",
       "      <td>False</td>\n",
       "      <td>False</td>\n",
       "      <td>False</td>\n",
       "    </tr>\n",
       "    <tr>\n",
       "      <th>4366</th>\n",
       "      <td>False</td>\n",
       "      <td>False</td>\n",
       "      <td>False</td>\n",
       "      <td>False</td>\n",
       "      <td>False</td>\n",
       "      <td>False</td>\n",
       "      <td>False</td>\n",
       "    </tr>\n",
       "    <tr>\n",
       "      <th>4367</th>\n",
       "      <td>False</td>\n",
       "      <td>False</td>\n",
       "      <td>False</td>\n",
       "      <td>False</td>\n",
       "      <td>False</td>\n",
       "      <td>False</td>\n",
       "      <td>False</td>\n",
       "    </tr>\n",
       "  </tbody>\n",
       "</table>\n",
       "<p>4368 rows × 7 columns</p>\n",
       "</div>"
      ],
      "text/plain": [
       "      Department  Major  Degree  School  Course Title  Course Description  \\\n",
       "0          False  False   False   False         False               False   \n",
       "1          False  False   False   False         False               False   \n",
       "2          False  False   False   False         False               False   \n",
       "3          False  False   False   False         False               False   \n",
       "4          False  False   False   False         False               False   \n",
       "...          ...    ...     ...     ...           ...                 ...   \n",
       "4363       False  False   False   False         False               False   \n",
       "4364       False   True   False   False         False               False   \n",
       "4365       False  False   False   False         False               False   \n",
       "4366       False  False   False   False         False               False   \n",
       "4367       False  False   False   False         False               False   \n",
       "\n",
       "       Cost  \n",
       "0     False  \n",
       "1     False  \n",
       "2     False  \n",
       "3     False  \n",
       "4     False  \n",
       "...     ...  \n",
       "4363  False  \n",
       "4364  False  \n",
       "4365  False  \n",
       "4366  False  \n",
       "4367  False  \n",
       "\n",
       "[4368 rows x 7 columns]"
      ]
     },
     "execution_count": 13,
     "metadata": {},
     "output_type": "execute_result"
    }
   ],
   "source": [
    "df.isnull()"
   ]
  },
  {
   "cell_type": "code",
   "execution_count": 14,
   "metadata": {},
   "outputs": [
    {
     "data": {
      "text/plain": [
       "0       False\n",
       "1       False\n",
       "2       False\n",
       "3       False\n",
       "4       False\n",
       "        ...  \n",
       "4363    False\n",
       "4364    False\n",
       "4365    False\n",
       "4366    False\n",
       "4367    False\n",
       "Name: Cost, Length: 4368, dtype: bool"
      ]
     },
     "execution_count": 14,
     "metadata": {},
     "output_type": "execute_result"
    }
   ],
   "source": [
    "df.Cost.isnull()"
   ]
  },
  {
   "cell_type": "code",
   "execution_count": 15,
   "metadata": {},
   "outputs": [],
   "source": [
    "data_column=df[\"Cost\"]"
   ]
  },
  {
   "cell_type": "code",
   "execution_count": 16,
   "metadata": {},
   "outputs": [
    {
     "data": {
      "text/plain": [
       "786.2630242673991"
      ]
     },
     "execution_count": 16,
     "metadata": {},
     "output_type": "execute_result"
    }
   ],
   "source": [
    "#MEAN\n",
    "data_column.mean()"
   ]
  },
  {
   "cell_type": "code",
   "execution_count": 17,
   "metadata": {},
   "outputs": [
    {
     "data": {
      "text/plain": [
       "700.0"
      ]
     },
     "execution_count": 17,
     "metadata": {},
     "output_type": "execute_result"
    }
   ],
   "source": [
    "#median\n",
    "data_column.median()"
   ]
  },
  {
   "cell_type": "code",
   "execution_count": 18,
   "metadata": {},
   "outputs": [
    {
     "data": {
      "text/plain": [
       "0    0.0\n",
       "Name: Cost, dtype: float64"
      ]
     },
     "execution_count": 18,
     "metadata": {},
     "output_type": "execute_result"
    }
   ],
   "source": [
    "#mode\n",
    "data_column.mode()"
   ]
  },
  {
   "cell_type": "code",
   "execution_count": 19,
   "metadata": {},
   "outputs": [
    {
     "data": {
      "text/plain": [
       "284429.80911452934"
      ]
     },
     "execution_count": 19,
     "metadata": {},
     "output_type": "execute_result"
    }
   ],
   "source": [
    "#variance\n",
    "data_column.var(ddof=1) \n"
   ]
  },
  {
   "cell_type": "code",
   "execution_count": 20,
   "metadata": {},
   "outputs": [
    {
     "data": {
      "text/plain": [
       "533.3196125350439"
      ]
     },
     "execution_count": 20,
     "metadata": {},
     "output_type": "execute_result"
    }
   ],
   "source": [
    "#standard deviation\n",
    "data_column.std(ddof=1)"
   ]
  },
  {
   "cell_type": "code",
   "execution_count": 21,
   "metadata": {},
   "outputs": [
    {
     "data": {
      "image/png": "[encoded data removed]",
      "text/plain": [
       "<Figure size 640x480 with 1 Axes>"
      ]
     },
     "metadata": {},
     "output_type": "display_data"
    }
   ],
   "source": [
    "pit.boxplot(data_column)\n",
    "pit.show()"
   ]
  },
  {
   "cell_type": "code",
   "execution_count": 22,
   "metadata": {},
   "outputs": [
    {
     "data": {
      "image/png": "[encoded data removed]",
      "text/plain": [
       "<Figure size 640x480 with 1 Axes>"
      ]
     },
     "metadata": {},
     "output_type": "display_data"
    }
   ],
   "source": [
    "pit.hist(data_column)\n",
    "pit.show()"
   ]
  },
  {
   "cell_type": "code",
   "execution_count": 23,
   "metadata": {},
   "outputs": [
    {
     "data": {
      "text/plain": [
       "0.002593150704191816"
      ]
     },
     "execution_count": 23,
     "metadata": {},
     "output_type": "execute_result"
    }
   ],
   "source": [
    "import math\n",
    "math.comb(30,4) * 0.02**4 * (1-0.02)**26"
   ]
  },
  {
   "cell_type": "code",
   "execution_count": 24,
   "metadata": {},
   "outputs": [
    {
     "data": {
      "text/plain": [
       "array([0, 2, 0, 4, 1, 1, 2, 3, 1, 0, 0, 0, 0, 0, 0, 0, 0, 1, 0, 0, 0, 1,\n",
       "       0, 0, 0, 1, 0, 1, 0, 0, 0, 1, 1, 1, 0, 1, 0, 0, 0, 1, 0, 0, 0, 0,\n",
       "       0, 0, 1, 1, 0, 0, 1, 0, 0, 2, 0, 0, 0, 0, 2, 2, 0, 2, 0, 0, 0, 1,\n",
       "       0, 1, 0, 0, 2, 0, 0, 2, 0, 0, 0, 0, 2, 0, 1, 1, 0, 1, 0, 2, 0, 0,\n",
       "       0, 2, 0, 1, 0, 3, 1, 1, 1, 0, 0, 1, 0, 0, 0, 0, 3, 0, 3, 0, 0, 0,\n",
       "       1, 1, 0, 0, 2, 2, 1, 0, 0, 1, 1, 1, 1, 0, 1, 0, 0, 0, 0, 0, 0, 0,\n",
       "       0, 0, 0, 0, 0, 1, 1, 0, 2, 0, 2, 0, 1, 1, 1, 0, 0, 0, 2, 2, 1, 0,\n",
       "       0, 0, 0, 2, 0, 1, 2, 2, 0, 1, 1, 0, 0, 1, 0, 1, 0, 0, 1, 0, 0, 1,\n",
       "       0, 2, 0, 1, 0, 1, 0, 0, 1, 0, 0, 0, 0, 1, 0, 1, 1, 0, 1, 0, 0, 1,\n",
       "       0, 1, 0, 1, 0, 1, 1, 3, 0, 0, 0, 0, 1, 0, 0, 1, 1, 0, 1, 0, 1, 0,\n",
       "       0, 0, 2, 0, 0, 0, 0, 0, 0, 0, 0, 1, 0, 1, 0, 1, 1, 0, 0, 0, 0, 0,\n",
       "       1, 0, 2, 1, 0, 1, 0, 0, 0, 1, 0, 1, 0, 0, 0, 0, 1, 1, 2, 1, 1, 2,\n",
       "       1, 0, 1, 0, 0, 0, 0, 0, 0, 1, 0, 2, 1, 0, 3, 0, 2, 1, 0, 0, 0, 1,\n",
       "       1, 0, 0, 1, 0, 0, 0, 0, 0, 0, 0, 0, 0, 1, 2, 0, 0, 1, 1, 0, 0, 2,\n",
       "       0, 1, 1, 2, 1, 1, 1, 0, 0, 1, 1, 1, 1, 1, 1, 1, 2, 0, 0, 0, 0, 0,\n",
       "       0, 1, 1, 0, 1, 1, 0, 1, 0, 0, 0, 0, 1, 0, 0, 0, 0, 1, 2, 0, 2, 0,\n",
       "       1, 0, 3, 2, 0, 0, 0, 0, 0, 0, 0, 1, 1, 1, 1, 0, 2, 0, 0, 0, 0, 0,\n",
       "       0, 0, 0, 1, 2, 1, 0, 1, 1, 0, 0, 1, 1, 1, 1, 0, 1, 0, 0, 0, 0, 0,\n",
       "       0, 0, 0, 0, 1, 1, 0, 0, 1, 1, 0, 2, 0, 0, 2, 1, 3, 1, 0, 1, 0, 3,\n",
       "       1, 2, 0, 0, 1, 2, 0, 1, 0, 1, 0, 0, 0, 0, 0, 1, 0, 0, 0, 1, 2, 1,\n",
       "       1, 1, 0, 1, 2, 0, 1, 0, 0, 0, 1, 2, 0, 1, 0, 0, 2, 2, 1, 0, 0, 1,\n",
       "       1, 0, 0, 1, 0, 0, 0, 2, 0, 1, 0, 1, 0, 1, 1, 0, 0, 0, 1, 1, 1, 0,\n",
       "       1, 0, 2, 1, 0, 0, 0, 0, 1, 0, 1, 0, 0, 0, 1, 1, 0, 0, 1, 0, 0, 0,\n",
       "       0, 1, 0, 1, 0, 0, 1, 1, 0, 1, 1, 0, 2, 2, 0, 1, 0, 0, 2, 0, 1, 0,\n",
       "       2, 0, 0, 1, 1, 0, 1, 1, 0, 0, 1, 1, 0, 0, 1, 0, 0, 0, 0, 0, 0, 0,\n",
       "       0, 0, 0, 0, 0, 2, 1, 1, 1, 2, 0, 0, 1, 1, 1, 2, 0, 1, 1, 0, 1, 0,\n",
       "       2, 0, 0, 0, 0, 0, 1, 0, 1, 1, 1, 0, 2, 0, 0, 1, 1, 0, 0, 0, 2, 0,\n",
       "       1, 1, 0, 0, 0, 0, 1, 1, 0, 1, 0, 1, 0, 0, 1, 0, 2, 0, 2, 0, 0, 0,\n",
       "       0, 2, 1, 0, 1, 0, 2, 0, 0, 0, 0, 0, 1, 0, 0, 1, 1, 1, 2, 1, 1, 2,\n",
       "       1, 1, 1, 1, 1, 1, 1, 0, 0, 0, 1, 0, 1, 1, 0, 0, 0, 0, 0, 1, 1, 1,\n",
       "       0, 0, 0, 1, 0, 0, 0, 0, 1, 0, 1, 0, 0, 1, 3, 0, 0, 0, 0, 0, 0, 0,\n",
       "       0, 0, 0, 0, 0, 0, 0, 0, 0, 0, 1, 0, 1, 1, 0, 0, 1, 0, 0, 1, 1, 2,\n",
       "       0, 0, 0, 0, 0, 2, 0, 2, 0, 0, 0, 1, 0, 0, 1, 0, 2, 2, 1, 0, 0, 0,\n",
       "       0, 2, 2, 0, 1, 2, 1, 0, 0, 0, 0, 0, 1, 2, 0, 0, 1, 1, 0, 0, 0, 0,\n",
       "       1, 0, 0, 0, 1, 0, 1, 0, 1, 0, 1, 0, 0, 1, 0, 0, 0, 0, 2, 1, 0, 1,\n",
       "       1, 0, 1, 0, 1, 1, 0, 0, 0, 1, 0, 1, 0, 0, 0, 1, 0, 1, 1, 0, 1, 0,\n",
       "       0, 0, 0, 0, 1, 0, 1, 0, 1, 0, 1, 0, 2, 0, 2, 1, 1, 0, 1, 1, 0, 0,\n",
       "       1, 1, 1, 1, 0, 0, 1, 1, 2, 0, 0, 1, 1, 1, 1, 2, 1, 0, 0, 0, 0, 1,\n",
       "       0, 0, 1, 1, 0, 0, 0, 0, 2, 0, 0, 1, 0, 0, 2, 0, 0, 1, 0, 2, 1, 0,\n",
       "       2, 0, 0, 0, 0, 0, 1, 0, 0, 1, 0, 0, 0, 1, 0, 1, 0, 0, 0, 1, 0, 1,\n",
       "       0, 3, 0, 1, 0, 0, 1, 3, 0, 2, 1, 0, 0, 0, 1, 3, 1, 1, 2, 0, 2, 1,\n",
       "       0, 1, 0, 0, 0, 1, 1, 1, 1, 0, 1, 0, 2, 1, 0, 1, 0, 2, 1, 0, 0, 0,\n",
       "       1, 1, 1, 0, 1, 0, 0, 1, 0, 1, 0, 2, 0, 0, 0, 0, 0, 1, 1, 0, 1, 1,\n",
       "       2, 0, 2, 0, 0, 1, 1, 0, 0, 0, 1, 1, 1, 0, 0, 1, 0, 1, 1, 2, 1, 0,\n",
       "       2, 1, 0, 1, 0, 0, 1, 1, 1, 1, 1, 1, 0, 1, 1, 1, 1, 1, 0, 0, 1, 1,\n",
       "       1, 0, 0, 0, 2, 1, 1, 0, 0, 0])"
      ]
     },
     "execution_count": 24,
     "metadata": {},
     "output_type": "execute_result"
    }
   ],
   "source": [
    "np.random.binomial(n=6, p=0.1, size=1000)"
   ]
  },
  {
   "cell_type": "code",
   "execution_count": 25,
   "metadata": {},
   "outputs": [
    {
     "data": {
      "text/plain": [
       "Text(0.5, 0, 'Number of Success')"
      ]
     },
     "execution_count": 25,
     "metadata": {},
     "output_type": "execute_result"
    },
    {
     "data": {
      "image/png": "[encoded data removed]",
      "text/plain": [
       "<Figure size 640x480 with 1 Axes>"
      ]
     },
     "metadata": {},
     "output_type": "display_data"
    }
   ],
   "source": [
    "pit.hist(np.random.binomial(n=6, p=0.1, size=1000), density=True, bins=3)\n",
    "pit.ylabel('Probability')\n",
    "pit.xlabel('Number of Success')"
   ]
  },
  {
   "cell_type": "code",
   "execution_count": 26,
   "metadata": {},
   "outputs": [
    {
     "data": {
      "text/plain": [
       "array([10, 11, 15, 15, 20, 23, 25, 26, 30, 30, 32, 35, 37, 38, 40])"
      ]
     },
     "execution_count": 26,
     "metadata": {},
     "output_type": "execute_result"
    }
   ],
   "source": [
    "X = np.array([10, 11, 15, 15, 20, 23,25,26,30,30,32,35,37,38,40])\n",
    "X"
   ]
  },
  {
   "cell_type": "code",
   "execution_count": 27,
   "metadata": {},
   "outputs": [
    {
     "data": {
      "text/plain": [
       "9.586101049609967"
      ]
     },
     "execution_count": 27,
     "metadata": {},
     "output_type": "execute_result"
    }
   ],
   "source": [
    "np.std(X)"
   ]
  },
  {
   "cell_type": "code",
   "execution_count": 28,
   "metadata": {},
   "outputs": [
    {
     "data": {
      "text/plain": [
       "25.8"
      ]
     },
     "execution_count": 28,
     "metadata": {},
     "output_type": "execute_result"
    }
   ],
   "source": [
    "np.mean(X)"
   ]
  },
  {
   "cell_type": "code",
   "execution_count": 29,
   "metadata": {},
   "outputs": [
    {
     "data": {
      "text/plain": [
       "array([1.25258387])"
      ]
     },
     "execution_count": 29,
     "metadata": {},
     "output_type": "execute_result"
    }
   ],
   "source": [
    "E=1.96*(np.std(X)/X.shape) \n",
    "E"
   ]
  },
  {
   "cell_type": "code",
   "execution_count": 30,
   "metadata": {},
   "outputs": [
    {
     "data": {
      "text/html": [
       "<div>\n",
       "<style scoped>\n",
       "    .dataframe tbody tr th:only-of-type {\n",
       "        vertical-align: middle;\n",
       "    }\n",
       "\n",
       "    .dataframe tbody tr th {\n",
       "        vertical-align: top;\n",
       "    }\n",
       "\n",
       "    .dataframe thead th {\n",
       "        text-align: right;\n",
       "    }\n",
       "</style>\n",
       "<table border=\"1\" class=\"dataframe\">\n",
       "  <thead>\n",
       "    <tr style=\"text-align: right;\">\n",
       "      <th></th>\n",
       "      <th>Cost</th>\n",
       "    </tr>\n",
       "  </thead>\n",
       "  <tbody>\n",
       "    <tr>\n",
       "      <th>Cost</th>\n",
       "      <td>284429.809115</td>\n",
       "    </tr>\n",
       "  </tbody>\n",
       "</table>\n",
       "</div>"
      ],
      "text/plain": [
       "               Cost\n",
       "Cost  284429.809115"
      ]
     },
     "execution_count": 30,
     "metadata": {},
     "output_type": "execute_result"
    }
   ],
   "source": [
    "corr = df.select_dtypes(include=np.number).cov()\n",
    "corr"
   ]
  },
  {
   "cell_type": "code",
   "execution_count": 31,
   "metadata": {},
   "outputs": [
    {
     "data": {
      "image/png": "[encoded data removed]",
      "text/plain": [
       "<Figure size 640x480 with 2 Axes>"
      ]
     },
     "metadata": {},
     "output_type": "display_data"
    }
   ],
   "source": [
    "import seaborn as sb\n",
    "dataplot = sb.heatmap(corr, annot=True) \n",
    "pit.show()"
   ]
  },
  {
   "cell_type": "code",
   "execution_count": null,
   "metadata": {},
   "outputs": [],
   "source": []
  }
 ],
 "metadata": {
  "kernelspec": {
   "display_name": "Python 3",
   "language": "python",
   "name": "python3"
  },
  "language_info": {
   "codemirror_mode": {
    "name": "ipython",
    "version": 3
   },
   "file_extension": ".py",
   "mimetype": "text/x-python",
   "name": "python",
   "nbconvert_exporter": "python",
   "pygments_lexer": "ipython3",
   "version": "3.12.2"
  }
 },
 "nbformat": 4,
 "nbformat_minor": 2
}
