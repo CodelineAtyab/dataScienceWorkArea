{
 "cells": [
  {
   "cell_type": "code",
   "execution_count": 23,
   "metadata": {},
   "outputs": [],
   "source": [
    "import json\n",
    "from collections import defaultdict\n",
    "from sklearn.feature_extraction.text import TfidfVectorizer\n",
    "import numpy as np\n"
   ]
  },
  {
   "cell_type": "code",
   "execution_count": 24,
   "metadata": {},
   "outputs": [],
   "source": [
    "def load_json(file_path):\n",
    "    data = []\n",
    "    with open(file_path, 'r', encoding='utf-8') as file:\n",
    "        for line in file:\n",
    "            try:\n",
    "                data.append(json.loads(line))\n",
    "            except json.JSONDecodeError as e:\n",
    "                print(f\"Error decoding JSON on line: {line}\")\n",
    "                print(e)\n",
    "    return data\n",
    "\n"
   ]
  },
  {
   "cell_type": "code",
   "execution_count": 25,
   "metadata": {},
   "outputs": [],
   "source": [
    "def prepare_data(data):\n",
    "    documents = []\n",
    "    index_to_record = []\n",
    "    for idx, record in enumerate(data):\n",
    "        text = ' '.join([record.get(key, '') for key in ['category', 'headline', 'short_description']])\n",
    "        documents.append(text)\n",
    "        index_to_record.append(idx)\n",
    "    return documents, index_to_record\n"
   ]
  },
  {
   "cell_type": "code",
   "execution_count": 26,
   "metadata": {},
   "outputs": [],
   "source": [
    "def search_tfidf(documents, sentence, index_to_record):\n",
    "    vectorizer = TfidfVectorizer()\n",
    "    tfidf_matrix = vectorizer.fit_transform(documents)\n",
    "    \n",
    "    query_vec = vectorizer.transform([sentence])\n",
    "    cosine_similarities = np.dot(tfidf_matrix, query_vec.T).toarray().flatten()\n",
    "    \n",
    "    results = [(index_to_record[i], cosine_similarities[i]) for i in range(len(index_to_record))]\n",
    "    results = sorted(results, key=lambda x: x[1], reverse=True)\n",
    "    \n",
    "    return results\n"
   ]
  },
  {
   "cell_type": "code",
   "execution_count": 27,
   "metadata": {},
   "outputs": [],
   "source": [
    "def count_occurrences(data, sentence):\n",
    "    sentence_lower = sentence.lower()\n",
    "    count = 0\n",
    "    \n",
    "    for record in data:\n",
    "        for key in ['category', 'headline', 'short_description']:\n",
    "            if key in record:\n",
    "                count += record[key].lower().count(sentence_lower)\n",
    "    \n",
    "    return count\n"
   ]
  },
  {
   "cell_type": "code",
   "execution_count": 28,
   "metadata": {},
   "outputs": [],
   "source": [
    "def main(file_path, sentence):\n",
    "    data = load_json(file_path)\n",
    "    documents, index_to_record = prepare_data(data)\n",
    "    \n",
    "    results = search_tfidf(documents, sentence, index_to_record)\n",
    "    total_occurrences = count_occurrences(data, sentence)\n",
    "    \n",
    "    print(f\"Total occurrences of '{sentence}': {total_occurrences}\")\n",
    "    print(\" \")\n",
    "    for record_idx, score in results[:5]: \n",
    "        record = data[record_idx]\n",
    "        category = record.get('category', 'N/A')\n",
    "        headline = record.get('headline', 'N/A')\n",
    "        short_desc = record.get('short_description', 'N/A')\n",
    "        print(f\"Record: {record_idx + 1}\")\n",
    "        print(f\"Category: {category}\")\n",
    "        print(f\"Headline: {headline}\")\n",
    "        print(f\"Short Description: {short_desc}\")\n",
    "        print(f\"Similarity Score: {score}\")\n",
    "        print(\" \")\n",
    "        print(\" \")\n",
    "\n",
    "\n"
   ]
  },
  {
   "cell_type": "code",
   "execution_count": 29,
   "metadata": {},
   "outputs": [
    {
     "name": "stdout",
     "output_type": "stream",
     "text": [
      "Total occurrences of 'donald trump': 6585\n",
      " \n",
      "Record: 56049\n",
      "Category: POLITICS\n",
      "Headline: Don King Uses The N-Word In Speech Introducing Donald Trump\n",
      "Short Description: “America needs Donald Trump. We need Donald Trump, especially black people.\"\n",
      "Similarity Score: 0.6295646236077033\n",
      " \n",
      " \n",
      "Record: 71706\n",
      "Category: POLITICS\n",
      "Headline: Donald Trump: 'Nobody Has More Respect For Women Than Donald Trump'\n",
      "Short Description: Right.\n",
      "Similarity Score: 0.6241176721849603\n",
      " \n",
      " \n",
      "Record: 68599\n",
      "Category: POLITICS\n",
      "Headline: Here's What Obama Has To Say About Donald Trump\n",
      "Short Description: Where's The Donald?\n",
      "Similarity Score: 0.6054161258538254\n",
      " \n",
      " \n",
      "Record: 93240\n",
      "Category: ENTERTAINMENT\n",
      "Headline: Which Donald Trump Are You?\n",
      "Short Description: And you thought there was only one \"The Donald.\"\n",
      "Similarity Score: 0.5605350180368722\n",
      " \n",
      " \n",
      "Record: 94979\n",
      "Category: SPORTS\n",
      "Headline: Donald Trump Agrees Hosting Golf Tournament On Trump's Golf Course A Bad Idea\n",
      "Short Description: Even Donald Trump thinks people should be backing away from Donald Trump.\n",
      "Similarity Score: 0.5570810509149391\n",
      " \n",
      " \n"
     ]
    }
   ],
   "source": [
    "file_path = 'News_Category_Dataset_v3.json'  \n",
    "sentence = \"donald trump\"  \n",
    "\n",
    "main(file_path, sentence)\n"
   ]
  },
  {
   "cell_type": "code",
   "execution_count": null,
   "metadata": {},
   "outputs": [],
   "source": []
  }
 ],
 "metadata": {
  "kernelspec": {
   "display_name": "Python 3",
   "language": "python",
   "name": "python3"
  },
  "language_info": {
   "codemirror_mode": {
    "name": "ipython",
    "version": 3
   },
   "file_extension": ".py",
   "mimetype": "text/x-python",
   "name": "python",
   "nbconvert_exporter": "python",
   "pygments_lexer": "ipython3",
   "version": "3.12.2"
  }
 },
 "nbformat": 4,
 "nbformat_minor": 2
}
