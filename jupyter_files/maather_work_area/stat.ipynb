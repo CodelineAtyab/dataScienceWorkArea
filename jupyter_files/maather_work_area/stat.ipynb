{
 "cells": [
  {
   "cell_type": "code",
   "execution_count": 5,
   "metadata": {},
   "outputs": [
    {
     "data": {
      "text/plain": [
       "array([0, 1, 0, 0, 1, 0, 0, 0, 1, 0, 2, 0, 1, 0, 1, 1, 1, 0, 1, 0, 1, 1,\n",
       "       0, 1, 1, 1, 2, 1, 0, 0, 1, 1, 0, 1, 1, 0, 0, 0, 2, 1, 0, 0, 0, 1,\n",
       "       1, 0, 0, 0, 1, 1, 0, 0, 0, 0, 0, 1, 0, 0, 1, 1, 0, 2, 1, 1, 1, 0,\n",
       "       1, 1, 0, 2, 0, 2, 1, 3, 0, 1, 1, 1, 0, 0, 0, 0, 0, 1, 0, 2, 0, 0,\n",
       "       1, 1, 2, 0, 0, 0, 2, 1, 0, 2, 0, 0, 0, 2, 1, 3, 0, 0, 0, 1, 0, 0,\n",
       "       0, 1, 2, 0, 0, 3, 1, 0, 0, 1, 1, 1, 1, 1, 1, 2, 0, 0, 0, 2, 0, 3,\n",
       "       0, 1, 0, 0, 0, 1, 1, 0, 0, 1, 0, 0, 0, 0, 2, 1, 1, 2, 1, 0, 3, 0,\n",
       "       0, 2, 0, 1, 1, 1, 2, 1, 0, 1, 1, 0, 1, 0, 0, 0, 0, 0, 0, 0, 0, 0,\n",
       "       0, 0, 2, 1, 0, 2, 3, 0, 0, 3, 0, 0, 1, 2, 0, 1, 1, 0, 2, 0, 0, 1,\n",
       "       2, 0, 1, 1, 0, 0, 1, 1, 0, 0, 0, 1, 2, 1, 0, 1, 0, 1, 0, 1, 0, 1,\n",
       "       1, 1, 1, 1, 1, 0, 2, 1, 2, 1, 0, 1, 0, 0, 0, 0, 2, 1, 1, 1, 0, 0,\n",
       "       1, 1, 0, 0, 0, 0, 0, 2, 2, 1, 1, 1, 0, 0, 1, 2, 0, 2, 0, 0, 0, 0,\n",
       "       1, 1, 1, 0, 1, 0, 2, 0, 1, 0, 0, 1, 0, 0, 1, 0, 2, 1, 0, 0, 1, 0,\n",
       "       1, 0, 1, 0, 0, 0, 2, 0, 0, 0, 1, 0, 0, 0, 1, 0, 1, 2, 0, 0, 1, 0,\n",
       "       1, 0, 0, 2, 1, 1, 0, 0, 0, 0, 0, 1, 0, 2, 0, 1, 0, 0, 2, 0, 0, 0,\n",
       "       0, 0, 0, 1, 0, 1, 0, 0, 0, 0, 1, 0, 0, 0, 1, 2, 1, 0, 1, 0, 1, 0,\n",
       "       0, 1, 2, 2, 0, 1, 0, 0, 1, 1, 3, 2, 0, 1, 0, 0, 1, 0, 0, 0, 0, 0,\n",
       "       0, 0, 1, 0, 1, 0, 1, 1, 0, 1, 0, 1, 0, 0, 1, 0, 2, 2, 1, 1, 1, 2,\n",
       "       0, 0, 2, 1, 1, 0, 0, 1, 0, 0, 1, 0, 2, 0, 1, 0, 0, 0, 0, 1, 0, 2,\n",
       "       0, 0, 0, 1, 0, 0, 1, 1, 0, 0, 1, 1, 1, 0, 1, 0, 1, 0, 0, 1, 0, 1,\n",
       "       1, 1, 1, 1, 2, 0, 0, 1, 0, 1, 0, 1, 1, 2, 1, 0, 0, 1, 1, 0, 1, 1,\n",
       "       1, 0, 0, 1, 1, 3, 0, 1, 3, 0, 2, 0, 1, 0, 0, 0, 0, 2, 0, 0, 0, 0,\n",
       "       1, 0, 0, 1, 2, 1, 0, 0, 0, 0, 0, 1, 0, 1, 0, 2, 1, 1, 1, 1, 0, 2,\n",
       "       0, 0, 0, 0, 0, 1, 0, 1, 1, 0, 0, 0, 0, 1, 1, 0, 0, 1, 0, 1, 0, 0,\n",
       "       1, 0, 0, 1, 1, 1, 0, 0, 1, 0, 2, 1, 0, 2, 0, 1, 0, 0, 1, 0, 0, 0,\n",
       "       0, 0, 2, 0, 0, 0, 0, 0, 0, 1, 0, 1, 1, 0, 2, 1, 3, 0, 3, 1, 0, 0,\n",
       "       0, 1, 0, 0, 1, 0, 1, 0, 0, 2, 1, 0, 0, 2, 1, 0, 1, 0, 0, 1, 0, 2,\n",
       "       0, 0, 0, 0, 0, 1, 0, 0, 2, 1, 0, 0, 0, 0, 0, 0, 1, 0, 1, 0, 0, 3,\n",
       "       2, 1, 0, 1, 0, 2, 1, 0, 1, 0, 0, 1, 0, 1, 1, 0, 1, 1, 1, 0, 0, 2,\n",
       "       3, 0, 0, 1, 0, 0, 1, 2, 1, 0, 1, 0, 1, 0, 1, 0, 1, 0, 0, 1, 0, 1,\n",
       "       0, 0, 0, 0, 1, 1, 1, 0, 0, 0, 0, 1, 1, 0, 1, 1, 0, 2, 0, 1, 0, 2,\n",
       "       1, 1, 0, 1, 0, 1, 1, 1, 2, 1, 1, 0, 0, 1, 0, 0, 1, 2, 0, 1, 0, 0,\n",
       "       0, 0, 2, 1, 0, 0, 1, 0, 0, 1, 1, 1, 0, 0, 0, 0, 0, 1, 1, 1, 0, 1,\n",
       "       0, 0, 1, 1, 1, 0, 0, 2, 0, 0, 2, 2, 1, 0, 1, 0, 0, 0, 0, 0, 1, 1,\n",
       "       1, 0, 0, 0, 1, 0, 2, 1, 0, 1, 1, 2, 0, 0, 0, 0, 1, 0, 0, 0, 0, 1,\n",
       "       1, 0, 1, 1, 0, 0, 0, 1, 0, 1, 3, 0, 2, 0, 0, 1, 1, 1, 1, 0, 1, 1,\n",
       "       0, 2, 1, 0, 1, 3, 0, 0, 1, 1, 1, 1, 0, 1, 0, 2, 1, 0, 1, 0, 0, 0,\n",
       "       1, 1, 2, 0, 1, 0, 1, 0, 0, 1, 0, 1, 0, 0, 0, 0, 1, 0, 1, 0, 2, 0,\n",
       "       0, 0, 0, 3, 0, 0, 0, 0, 1, 0, 1, 0, 0, 1, 1, 0, 2, 0, 2, 0, 2, 2,\n",
       "       0, 1, 1, 0, 0, 0, 1, 0, 1, 1, 1, 0, 0, 2, 2, 0, 1, 2, 0, 0, 0, 0,\n",
       "       1, 1, 2, 1, 0, 0, 0, 1, 1, 1, 2, 0, 0, 0, 1, 0, 0, 2, 1, 0, 0, 1,\n",
       "       1, 0, 0, 0, 1, 1, 0, 1, 3, 0, 0, 0, 1, 1, 0, 0, 0, 1, 0, 2, 0, 1,\n",
       "       0, 0, 0, 0, 0, 0, 2, 1, 0, 0, 0, 0, 0, 0, 0, 0, 0, 0, 1, 0, 1, 0,\n",
       "       1, 0, 0, 2, 0, 0, 1, 0, 1, 0, 0, 1, 0, 0, 0, 0, 0, 0, 0, 1, 1, 1,\n",
       "       1, 1, 0, 0, 1, 0, 1, 0, 1, 1, 2, 1, 1, 1, 1, 0, 0, 1, 0, 1, 1, 0,\n",
       "       0, 0, 0, 0, 0, 0, 0, 0, 1, 1])"
      ]
     },
     "execution_count": 5,
     "metadata": {},
     "output_type": "execute_result"
    }
   ],
   "source": [
    "\n",
    "import pandas as pd\n",
    "import numpy as np\n",
    "import random\n",
    "import matplotlib.pyplot as plt\n",
    "\n",
    "\n",
    "\n",
    "np.random.binomial(n=6, p=0.1, size=1000)\n"
   ]
  },
  {
   "cell_type": "code",
   "execution_count": 11,
   "metadata": {},
   "outputs": [
    {
     "data": {
      "text/plain": [
       "Text(0.5, 0, 'success')"
      ]
     },
     "execution_count": 11,
     "metadata": {},
     "output_type": "execute_result"
    },
    {
     "data": {
      "image/png": "[encoded data removed]",
      "text/plain": [
       "<Figure size 640x480 with 1 Axes>"
      ]
     },
     "metadata": {},
     "output_type": "display_data"
    }
   ],
   "source": [
    "plt.hist(random.binomial(n=6, p=0.1, size=1000), density=True, bins=4)\n",
    "plt.ylabel('probability')\n",
    "plt.xlabel('success')"
   ]
  },
  {
   "cell_type": "code",
   "execution_count": 8,
   "metadata": {},
   "outputs": [
    {
     "data": {
      "text/html": [
       "<div>\n",
       "<style scoped>\n",
       "    .dataframe tbody tr th:only-of-type {\n",
       "        vertical-align: middle;\n",
       "    }\n",
       "\n",
       "    .dataframe tbody tr th {\n",
       "        vertical-align: top;\n",
       "    }\n",
       "\n",
       "    .dataframe thead th {\n",
       "        text-align: right;\n",
       "    }\n",
       "</style>\n",
       "<table border=\"1\" class=\"dataframe\">\n",
       "  <thead>\n",
       "    <tr style=\"text-align: right;\">\n",
       "      <th></th>\n",
       "      <th>Price</th>\n",
       "    </tr>\n",
       "  </thead>\n",
       "  <tbody>\n",
       "    <tr>\n",
       "      <th>Price</th>\n",
       "      <td>1.0</td>\n",
       "    </tr>\n",
       "  </tbody>\n",
       "</table>\n",
       "</div>"
      ],
      "text/plain": [
       "       Price\n",
       "Price    1.0"
      ]
     },
     "execution_count": 8,
     "metadata": {},
     "output_type": "execute_result"
    }
   ],
   "source": []
  },
  {
   "cell_type": "code",
   "execution_count": null,
   "metadata": {},
   "outputs": [],
   "source": []
  }
 ],
 "metadata": {
  "kernelspec": {
   "display_name": "Python 3",
   "language": "python",
   "name": "python3"
  },
  "language_info": {
   "codemirror_mode": {
    "name": "ipython",
    "version": 3
   },
   "file_extension": ".py",
   "mimetype": "text/x-python",
   "name": "python",
   "nbconvert_exporter": "python",
   "pygments_lexer": "ipython3",
   "version": "3.12.2"
  }
 },
 "nbformat": 4,
 "nbformat_minor": 2
}
