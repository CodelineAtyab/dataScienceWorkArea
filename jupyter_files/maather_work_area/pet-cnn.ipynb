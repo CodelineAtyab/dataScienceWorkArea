{
 "cells": [
  {
   "cell_type": "code",
   "execution_count": 1,
   "metadata": {
    "execution": {
     "iopub.execute_input": "2024-12-11T06:01:47.655183Z",
     "iopub.status.busy": "2024-12-11T06:01:47.654677Z",
     "iopub.status.idle": "2024-12-11T06:01:47.665329Z",
     "shell.execute_reply": "2024-12-11T06:01:47.663929Z",
     "shell.execute_reply.started": "2024-12-11T06:01:47.655141Z"
    },
    "trusted": true
   },
   "outputs": [],
   "source": [
    "import os\n",
    "import cv2\n",
    "import numpy as np\n",
    "import matplotlib.pyplot as plt\n",
    "import seaborn as sns\n",
    "from tensorflow.keras.models import Sequential\n",
    "from tensorflow.keras.layers import Conv2D, MaxPooling2D, Flatten, Dense, Dropout,GlobalAveragePooling2D\n",
    "from keras.applications import VGG16\n",
    "from tensorflow.keras.optimizers import Adam, SGD\n",
    "from tensorflow.keras.regularizers import l2\n",
    "from tensorflow.keras.utils import to_categorical\n",
    "from tensorflow.keras.preprocessing.image import ImageDataGenerator\n",
    "from tensorflow.math import  confusion_matrix\n",
    "from sklearn.metrics import classification_report\n",
    "from tensorflow.keras.callbacks import ReduceLROnPlateau, EarlyStopping\n",
    "# Upload vgg16 pretrained model to use it in the transfer learning\n",
    "from tensorflow.keras.applications import ResNet50\n",
    "from tensorflow.keras.models import Model\n",
    "\n",
    "import random\n",
    "random.seed(10)\n",
    "import warnings\n",
    "warnings.filterwarnings('ignore')"
   ]
  },
  {
   "cell_type": "code",
   "execution_count": 2,
   "metadata": {
    "execution": {
     "iopub.execute_input": "2024-12-11T06:01:50.853046Z",
     "iopub.status.busy": "2024-12-11T06:01:50.852646Z",
     "iopub.status.idle": "2024-12-11T06:01:50.859593Z",
     "shell.execute_reply": "2024-12-11T06:01:50.858133Z",
     "shell.execute_reply.started": "2024-12-11T06:01:50.852976Z"
    },
    "trusted": true
   },
   "outputs": [],
   "source": [
    "# Define the directories and image size\n",
    "train_directory = '../../dataset/training_set/training_set'\n",
    "test_directory = '../../dataset/test_set/test_set'\n",
    "categories = ['cats', 'dogs']  # Update with actual category names\n",
    "image_size = 224"
   ]
  },
  {
   "cell_type": "code",
   "execution_count": 3,
   "metadata": {
    "execution": {
     "iopub.execute_input": "2024-12-11T06:01:54.187737Z",
     "iopub.status.busy": "2024-12-11T06:01:54.187355Z",
     "iopub.status.idle": "2024-12-11T06:01:54.367783Z",
     "shell.execute_reply": "2024-12-11T06:01:54.366405Z",
     "shell.execute_reply.started": "2024-12-11T06:01:54.187709Z"
    },
    "trusted": true
   },
   "outputs": [
    {
     "name": "stdout",
     "output_type": "stream",
     "text": [
      "Folder: cats\n",
      "\n",
      "Number of elements: 4001\n",
      "\n",
      "First 3 item's name: ['cat.1.jpg', 'cat.10.jpg', 'cat.100.jpg']\n",
      "\n",
      "***************************\n",
      "Folder: dogs\n",
      "\n",
      "Number of elements: 4006\n",
      "\n",
      "First 3 item's name: ['dog.1.jpg', 'dog.10.jpg', 'dog.100.jpg']\n",
      "\n",
      "***************************\n"
     ]
    }
   ],
   "source": [
    "path_main = \"../../dataset/training_set/training_set\"   #number of elements in train folder cats and dogs\n",
    "for folder in os.listdir(path_main):\n",
    "    list_of_elements = os.listdir(os.path.join(path_main, folder)) \n",
    "    \n",
    "    print(f'Folder: {folder}\\n')\n",
    "    print(f'Number of elements: {len(list_of_elements)}\\n')\n",
    "    print(f'First 3 item\\'s name: {list_of_elements[:3]}\\n')\n",
    "    print('***************************')"
   ]
  },
  {
   "cell_type": "code",
   "execution_count": 5,
   "metadata": {
    "execution": {
     "iopub.execute_input": "2024-12-11T06:02:03.127746Z",
     "iopub.status.busy": "2024-12-11T06:02:03.127370Z",
     "iopub.status.idle": "2024-12-11T06:02:03.190183Z",
     "shell.execute_reply": "2024-12-11T06:02:03.189015Z",
     "shell.execute_reply.started": "2024-12-11T06:02:03.127721Z"
    },
    "trusted": true
   },
   "outputs": [
    {
     "name": "stdout",
     "output_type": "stream",
     "text": [
      "Folder: cats\n",
      "\n",
      "Number of elements: 1012\n",
      "\n",
      "First 3 item's name: ['cat.4001.jpg', 'cat.4002.jpg', 'cat.4003.jpg']\n",
      "\n",
      "***************************\n",
      "Folder: dogs\n",
      "\n",
      "Number of elements: 1013\n",
      "\n",
      "First 3 item's name: ['dog.4001.jpg', 'dog.4002.jpg', 'dog.4003.jpg']\n",
      "\n",
      "***************************\n"
     ]
    }
   ],
   "source": [
    "path_main = \"../../dataset/test_set/test_set\"   #number of elements in test folder cats and dogs\n",
    "for folder in os.listdir(path_main):\n",
    "    list_of_elements = os.listdir(os.path.join(path_main, folder)) \n",
    "    \n",
    "    print(f'Folder: {folder}\\n')\n",
    "    print(f'Number of elements: {len(list_of_elements)}\\n')\n",
    "    print(f'First 3 item\\'s name: {list_of_elements[:3]}\\n')\n",
    "    print('***************************')"
   ]
  },
  {
   "cell_type": "markdown",
   "metadata": {},
   "source": [
    "# **Load Training and Testing Images**"
   ]
  },
  {
   "cell_type": "code",
   "execution_count": 6,
   "metadata": {
    "execution": {
     "iopub.execute_input": "2024-12-11T06:02:15.077069Z",
     "iopub.status.busy": "2024-12-11T06:02:15.076725Z",
     "iopub.status.idle": "2024-12-11T06:03:33.649527Z",
     "shell.execute_reply": "2024-12-11T06:03:33.648284Z",
     "shell.execute_reply.started": "2024-12-11T06:02:15.077045Z"
    },
    "trusted": true
   },
   "outputs": [],
   "source": [
    "# Load training dataset\n",
    "train_data = []\n",
    "#plt.figure(figsize=(10, 10))\n",
    "for label in range(len(categories)):\n",
    "    class_name = categories[label]\n",
    "    class_path = os.path.join(train_directory, class_name)\n",
    "    for image_name in os.listdir(class_path):\n",
    "        image_path = os.path.join(class_path, image_name)\n",
    "        image = cv2.imread(image_path)\n",
    "        if image is not None:\n",
    "            image_resized = cv2.resize(image, (image_size, image_size))\n",
    "            train_data.append([image_resized, label])"
   ]
  },
  {
   "cell_type": "code",
   "execution_count": 7,
   "metadata": {
    "execution": {
     "iopub.execute_input": "2024-12-11T06:03:59.893412Z",
     "iopub.status.busy": "2024-12-11T06:03:59.893022Z",
     "iopub.status.idle": "2024-12-11T06:04:20.150531Z",
     "shell.execute_reply": "2024-12-11T06:04:20.149338Z",
     "shell.execute_reply.started": "2024-12-11T06:03:59.893383Z"
    },
    "trusted": true
   },
   "outputs": [
    {
     "name": "stdout",
     "output_type": "stream",
     "text": [
      "items in x_test: 2023\n"
     ]
    }
   ],
   "source": [
    "# Load test dataset\n",
    "test_data = []\n",
    "for label in range(len(categories)):\n",
    "    class_name = categories[label]\n",
    "    class_path = os.path.join(test_directory, class_name)\n",
    "    for image_name in os.listdir(class_path):\n",
    "        image_path = os.path.join(class_path, image_name)\n",
    "        image = cv2.imread(image_path)\n",
    "        if image is not None:\n",
    "            image_resized = cv2.resize(image, (image_size, image_size))\n",
    "            test_data.append([image_resized, label])\n",
    "\n",
    "print(f\"items in x_test: {len(test_data)}\")"
   ]
  },
  {
   "cell_type": "code",
   "execution_count": 8,
   "metadata": {
    "execution": {
     "iopub.execute_input": "2024-12-11T06:04:25.730517Z",
     "iopub.status.busy": "2024-12-11T06:04:25.730145Z",
     "iopub.status.idle": "2024-12-11T06:04:25.740549Z",
     "shell.execute_reply": "2024-12-11T06:04:25.739366Z",
     "shell.execute_reply.started": "2024-12-11T06:04:25.730490Z"
    },
    "trusted": true
   },
   "outputs": [],
   "source": [
    "# Shuffle training data\n",
    "random.shuffle(train_data)"
   ]
  },
  {
   "cell_type": "code",
   "execution_count": 9,
   "metadata": {
    "execution": {
     "iopub.execute_input": "2024-12-11T06:22:18.927696Z",
     "iopub.status.busy": "2024-12-11T06:22:18.927264Z",
     "iopub.status.idle": "2024-12-11T06:22:19.320697Z",
     "shell.execute_reply": "2024-12-11T06:22:19.319785Z",
     "shell.execute_reply.started": "2024-12-11T06:22:18.927667Z"
    },
    "trusted": true
   },
   "outputs": [],
   "source": [
    "# Split training data into features and labels\n",
    "X_train = np.array([i[0] for i in train_data])\n",
    "Y_train = np.array([i[1] for i in train_data])\n",
    "\n",
    "# Split test data into features and labels\n",
    "X_test = np.array([i[0] for i in test_data])\n",
    "Y_test = np.array([i[1] for i in test_data])"
   ]
  },
  {
   "cell_type": "code",
   "execution_count": 10,
   "metadata": {
    "execution": {
     "iopub.execute_input": "2024-12-11T06:04:36.513215Z",
     "iopub.status.busy": "2024-12-11T06:04:36.512866Z",
     "iopub.status.idle": "2024-12-11T06:04:41.997070Z",
     "shell.execute_reply": "2024-12-11T06:04:41.995848Z",
     "shell.execute_reply.started": "2024-12-11T06:04:36.513190Z"
    },
    "trusted": true
   },
   "outputs": [],
   "source": [
    "# Normalize the images\n",
    "X_train = X_train / 255.0\n",
    "X_test = X_test / 255.0"
   ]
  },
  {
   "cell_type": "code",
   "execution_count": 11,
   "metadata": {
    "execution": {
     "iopub.execute_input": "2024-12-11T06:21:43.664185Z",
     "iopub.status.busy": "2024-12-11T06:21:43.663661Z",
     "iopub.status.idle": "2024-12-11T06:21:43.674084Z",
     "shell.execute_reply": "2024-12-11T06:21:43.672761Z",
     "shell.execute_reply.started": "2024-12-11T06:21:43.664142Z"
    },
    "trusted": true
   },
   "outputs": [],
   "source": [
    "# One-hot encode the labels\n",
    "Y_train = to_categorical(Y_train, num_classes=len(categories))\n",
    "Y_test = to_categorical(Y_test, num_classes=len(categories))"
   ]
  },
  {
   "cell_type": "markdown",
   "metadata": {},
   "source": [
    "# **CNN Model**"
   ]
  },
  {
   "cell_type": "code",
   "execution_count": 12,
   "metadata": {
    "execution": {
     "iopub.execute_input": "2024-10-03T11:48:15.12115Z",
     "iopub.status.busy": "2024-10-03T11:48:15.12083Z",
     "iopub.status.idle": "2024-10-03T11:48:17.14939Z",
     "shell.execute_reply": "2024-10-03T11:48:17.148411Z",
     "shell.execute_reply.started": "2024-10-03T11:48:15.121124Z"
    },
    "trusted": true
   },
   "outputs": [],
   "source": [
    "# Define the CNN model\n",
    "model = Sequential([\n",
    "    Conv2D(32, (3, 3), activation='relu', input_shape=(image_size, image_size, 3)),\n",
    "    MaxPooling2D((2, 2)),\n",
    "\n",
    "    Conv2D(64, (3, 3), activation='relu'),\n",
    "    MaxPooling2D((2, 2)),\n",
    "\n",
    "    Conv2D(128, (3, 3), activation='relu'),\n",
    "    MaxPooling2D((2, 2)),\n",
    "\n",
    "    Flatten(),\n",
    "    Dense(128, activation='relu'),\n",
    "    Dropout(0.5),\n",
    "    Dense(len(categories), activation='softmax')\n",
    "])"
   ]
  },
  {
   "cell_type": "code",
   "execution_count": 13,
   "metadata": {
    "execution": {
     "iopub.execute_input": "2024-12-11T06:25:06.717368Z",
     "iopub.status.busy": "2024-12-11T06:25:06.716916Z",
     "iopub.status.idle": "2024-12-11T06:25:06.741723Z",
     "shell.execute_reply": "2024-12-11T06:25:06.739908Z",
     "shell.execute_reply.started": "2024-12-11T06:25:06.717335Z"
    },
    "trusted": true
   },
   "outputs": [],
   "source": [
    "# Compile the model\n",
    "model.compile(optimizer='adam',\n",
    "              loss='categorical_crossentropy',\n",
    "              metrics=['accuracy'])"
   ]
  },
  {
   "cell_type": "code",
   "execution_count": 16,
   "metadata": {
    "execution": {
     "iopub.execute_input": "2024-12-11T06:25:36.047295Z",
     "iopub.status.busy": "2024-12-11T06:25:36.046891Z"
    },
    "trusted": true
   },
   "outputs": [
    {
     "name": "stdout",
     "output_type": "stream",
     "text": [
      "Epoch 1/15\n",
      "\u001b[1m201/201\u001b[0m \u001b[32m━━━━━━━━━━━━━━━━━━━━\u001b[0m\u001b[37m\u001b[0m \u001b[1m155s\u001b[0m 731ms/step - accuracy: 0.5392 - loss: 0.9163 - val_accuracy: 0.6221 - val_loss: 0.6681\n",
      "Epoch 2/15\n",
      "\u001b[1m201/201\u001b[0m \u001b[32m━━━━━━━━━━━━━━━━━━━━\u001b[0m\u001b[37m\u001b[0m \u001b[1m147s\u001b[0m 728ms/step - accuracy: 0.6107 - loss: 0.6638 - val_accuracy: 0.6527 - val_loss: 0.6280\n",
      "Epoch 3/15\n",
      "\u001b[1m201/201\u001b[0m \u001b[32m━━━━━━━━━━━━━━━━━━━━\u001b[0m\u001b[37m\u001b[0m \u001b[1m142s\u001b[0m 707ms/step - accuracy: 0.6925 - loss: 0.5929 - val_accuracy: 0.6615 - val_loss: 0.6213\n",
      "Epoch 4/15\n",
      "\u001b[1m201/201\u001b[0m \u001b[32m━━━━━━━━━━━━━━━━━━━━\u001b[0m\u001b[37m\u001b[0m \u001b[1m137s\u001b[0m 680ms/step - accuracy: 0.7651 - loss: 0.5051 - val_accuracy: 0.6702 - val_loss: 0.6010\n",
      "Epoch 5/15\n",
      "\u001b[1m201/201\u001b[0m \u001b[32m━━━━━━━━━━━━━━━━━━━━\u001b[0m\u001b[37m\u001b[0m \u001b[1m175s\u001b[0m 870ms/step - accuracy: 0.8201 - loss: 0.3936 - val_accuracy: 0.7027 - val_loss: 0.6253\n",
      "Epoch 6/15\n",
      "\u001b[1m201/201\u001b[0m \u001b[32m━━━━━━━━━━━━━━━━━━━━\u001b[0m\u001b[37m\u001b[0m \u001b[1m206s\u001b[0m 1s/step - accuracy: 0.8923 - loss: 0.2701 - val_accuracy: 0.6958 - val_loss: 0.7308\n",
      "Epoch 7/15\n",
      "\u001b[1m201/201\u001b[0m \u001b[32m━━━━━━━━━━━━━━━━━━━━\u001b[0m\u001b[37m\u001b[0m \u001b[1m205s\u001b[0m 1s/step - accuracy: 0.9262 - loss: 0.1895 - val_accuracy: 0.6996 - val_loss: 0.8236\n",
      "Epoch 8/15\n",
      "\u001b[1m201/201\u001b[0m \u001b[32m━━━━━━━━━━━━━━━━━━━━\u001b[0m\u001b[37m\u001b[0m \u001b[1m176s\u001b[0m 876ms/step - accuracy: 0.9451 - loss: 0.1444 - val_accuracy: 0.6964 - val_loss: 0.9655\n",
      "Epoch 9/15\n",
      "\u001b[1m201/201\u001b[0m \u001b[32m━━━━━━━━━━━━━━━━━━━━\u001b[0m\u001b[37m\u001b[0m \u001b[1m191s\u001b[0m 950ms/step - accuracy: 0.9573 - loss: 0.1069 - val_accuracy: 0.6939 - val_loss: 1.0516\n",
      "Epoch 10/15\n",
      "\u001b[1m201/201\u001b[0m \u001b[32m━━━━━━━━━━━━━━━━━━━━\u001b[0m\u001b[37m\u001b[0m \u001b[1m126s\u001b[0m 625ms/step - accuracy: 0.9799 - loss: 0.0603 - val_accuracy: 0.7071 - val_loss: 1.2470\n",
      "Epoch 11/15\n",
      "\u001b[1m201/201\u001b[0m \u001b[32m━━━━━━━━━━━━━━━━━━━━\u001b[0m\u001b[37m\u001b[0m \u001b[1m121s\u001b[0m 604ms/step - accuracy: 0.9827 - loss: 0.0570 - val_accuracy: 0.7008 - val_loss: 1.3697\n",
      "Epoch 12/15\n",
      "\u001b[1m201/201\u001b[0m \u001b[32m━━━━━━━━━━━━━━━━━━━━\u001b[0m\u001b[37m\u001b[0m \u001b[1m151s\u001b[0m 751ms/step - accuracy: 0.9831 - loss: 0.0515 - val_accuracy: 0.7164 - val_loss: 1.1414\n",
      "Epoch 13/15\n",
      "\u001b[1m201/201\u001b[0m \u001b[32m━━━━━━━━━━━━━━━━━━━━\u001b[0m\u001b[37m\u001b[0m \u001b[1m113s\u001b[0m 562ms/step - accuracy: 0.9896 - loss: 0.0353 - val_accuracy: 0.7083 - val_loss: 1.5880\n",
      "Epoch 14/15\n",
      "\u001b[1m201/201\u001b[0m \u001b[32m━━━━━━━━━━━━━━━━━━━━\u001b[0m\u001b[37m\u001b[0m \u001b[1m121s\u001b[0m 604ms/step - accuracy: 0.9858 - loss: 0.0446 - val_accuracy: 0.7014 - val_loss: 1.6229\n",
      "Epoch 15/15\n",
      "\u001b[1m201/201\u001b[0m \u001b[32m━━━━━━━━━━━━━━━━━━━━\u001b[0m\u001b[37m\u001b[0m \u001b[1m155s\u001b[0m 770ms/step - accuracy: 0.9889 - loss: 0.0420 - val_accuracy: 0.7071 - val_loss: 1.4538\n"
     ]
    }
   ],
   "source": [
    "# Train the model\n",
    "history = model.fit(\n",
    "    X_train, Y_train,\n",
    "    validation_split=0.2,\n",
    "    epochs=15,\n",
    "    batch_size=32\n",
    ")"
   ]
  },
  {
   "cell_type": "code",
   "execution_count": 17,
   "metadata": {
    "execution": {
     "iopub.execute_input": "2024-10-03T11:48:18.142254Z",
     "iopub.status.busy": "2024-10-03T11:48:18.141496Z",
     "iopub.status.idle": "2024-10-03T11:54:05.835541Z",
     "shell.execute_reply": "2024-10-03T11:54:05.834388Z",
     "shell.execute_reply.started": "2024-10-03T11:48:18.142219Z"
    },
    "trusted": true
   },
   "outputs": [
    {
     "name": "stdout",
     "output_type": "stream",
     "text": [
      "Test Accuracy: 70.04%\n"
     ]
    }
   ],
   "source": [
    "# Evaluate the model\n",
    "loss, accuracy = model.evaluate(X_test, Y_test, verbose=0)\n",
    "print(f\"Test Accuracy: {accuracy * 100:.2f}%\")"
   ]
  },
  {
   "cell_type": "code",
   "execution_count": 18,
   "metadata": {
    "execution": {
     "iopub.execute_input": "2024-10-03T11:54:35.843406Z",
     "iopub.status.busy": "2024-10-03T11:54:35.842341Z",
     "iopub.status.idle": "2024-10-03T11:54:49.961133Z",
     "shell.execute_reply": "2024-10-03T11:54:49.960154Z",
     "shell.execute_reply.started": "2024-10-03T11:54:35.843367Z"
    },
    "trusted": true
   },
   "outputs": [
    {
     "name": "stdout",
     "output_type": "stream",
     "text": [
      "\u001b[1m64/64\u001b[0m \u001b[32m━━━━━━━━━━━━━━━━━━━━\u001b[0m\u001b[37m\u001b[0m \u001b[1m11s\u001b[0m 167ms/step\n",
      "              precision    recall  f1-score   support\n",
      "\n",
      "        cats       0.69      0.72      0.71      1011\n",
      "        dogs       0.71      0.68      0.69      1012\n",
      "\n",
      "    accuracy                           0.70      2023\n",
      "   macro avg       0.70      0.70      0.70      2023\n",
      "weighted avg       0.70      0.70      0.70      2023\n",
      "\n"
     ]
    }
   ],
   "source": [
    "# Generate classification report\n",
    "Y_pred = model.predict(X_test)\n",
    "Y_pred_classes = np.argmax(Y_pred, axis=1)\n",
    "Y_true = np.argmax(Y_test, axis=1)\n",
    "print(classification_report(Y_true, Y_pred_classes, target_names=categories))"
   ]
  },
  {
   "cell_type": "code",
   "execution_count": null,
   "metadata": {
    "execution": {
     "iopub.execute_input": "2024-10-03T11:54:52.73665Z",
     "iopub.status.busy": "2024-10-03T11:54:52.735805Z",
     "iopub.status.idle": "2024-10-03T11:54:53.222615Z",
     "shell.execute_reply": "2024-10-03T11:54:53.221613Z",
     "shell.execute_reply.started": "2024-10-03T11:54:52.736621Z"
    },
    "trusted": true
   },
   "outputs": [],
   "source": [
    "# Plot training and validation accuracy and loss\n",
    "plt.figure(figsize=(12, 6))"
   ]
  },
  {
   "cell_type": "code",
   "execution_count": 26,
   "metadata": {
    "execution": {
     "iopub.execute_input": "2024-10-03T11:54:58.151442Z",
     "iopub.status.busy": "2024-10-03T11:54:58.150474Z",
     "iopub.status.idle": "2024-10-03T11:55:11.495788Z",
     "shell.execute_reply": "2024-10-03T11:55:11.494821Z",
     "shell.execute_reply.started": "2024-10-03T11:54:58.151405Z"
    },
    "trusted": true
   },
   "outputs": [
    {
     "data": {
      "text/plain": [
       "<matplotlib.legend.Legend at 0x2b1dec6e600>"
      ]
     },
     "execution_count": 26,
     "metadata": {},
     "output_type": "execute_result"
    },
    {
     "data": {
      "image/png": "[encoded data removed]",
      "text/plain": [
       "<Figure size 640x480 with 1 Axes>"
      ]
     },
     "metadata": {},
     "output_type": "display_data"
    }
   ],
   "source": [
    "# Plot accuracy\n",
    "# plt.subplot(1, 2, 1)\n",
    "plt.plot(history.history['accuracy'], label='Train Accuracy')\n",
    "plt.plot(history.history['val_accuracy'], label='Validation Accuracy')\n",
    "plt.title('Accuracy')\n",
    "plt.xlabel('Epoch')\n",
    "plt.ylabel('Accuracy')\n",
    "plt.legend()"
   ]
  },
  {
   "cell_type": "code",
   "execution_count": 27,
   "metadata": {
    "execution": {
     "iopub.execute_input": "2024-10-03T11:55:16.045525Z",
     "iopub.status.busy": "2024-10-03T11:55:16.04471Z",
     "iopub.status.idle": "2024-10-03T11:55:16.282604Z",
     "shell.execute_reply": "2024-10-03T11:55:16.281657Z",
     "shell.execute_reply.started": "2024-10-03T11:55:16.045489Z"
    },
    "trusted": true
   },
   "outputs": [
    {
     "data": {
      "text/plain": [
       "<matplotlib.legend.Legend at 0x2b1decf59d0>"
      ]
     },
     "execution_count": 27,
     "metadata": {},
     "output_type": "execute_result"
    },
    {
     "data": {
      "image/png": "[encoded data removed]",
      "text/plain": [
       "<Figure size 640x480 with 1 Axes>"
      ]
     },
     "metadata": {},
     "output_type": "display_data"
    }
   ],
   "source": [
    "# Plot loss\n",
    "# plt.subplot(1, 2, 2)\n",
    "plt.plot(history.history['loss'], label='Train Loss')\n",
    "plt.plot(history.history['val_loss'], label='Validation Loss')\n",
    "plt.title('Loss')\n",
    "plt.xlabel('Epoch')\n",
    "plt.ylabel('Loss')\n",
    "plt.legend()"
   ]
  },
  {
   "cell_type": "code",
   "execution_count": 22,
   "metadata": {
    "execution": {
     "iopub.execute_input": "2024-10-03T11:55:21.433768Z",
     "iopub.status.busy": "2024-10-03T11:55:21.433011Z",
     "iopub.status.idle": "2024-10-03T11:55:21.448868Z",
     "shell.execute_reply": "2024-10-03T11:55:21.447982Z",
     "shell.execute_reply.started": "2024-10-03T11:55:21.433738Z"
    },
    "trusted": true
   },
   "outputs": [
    {
     "data": {
      "text/plain": [
       "<Figure size 640x480 with 0 Axes>"
      ]
     },
     "metadata": {},
     "output_type": "display_data"
    }
   ],
   "source": [
    "plt.tight_layout()\n",
    "plt.show()"
   ]
  }
 ],
 "metadata": {
  "kaggle": {
   "accelerator": "gpu",
   "dataSources": [
    {
     "datasetId": 23777,
     "sourceId": 30378,
     "sourceType": "datasetVersion"
    }
   ],
   "dockerImageVersionId": 30746,
   "isGpuEnabled": true,
   "isInternetEnabled": false,
   "language": "python",
   "sourceType": "notebook"
  },
  "kernelspec": {
   "display_name": "Python 3",
   "language": "python",
   "name": "python3"
  },
  "language_info": {
   "codemirror_mode": {
    "name": "ipython",
    "version": 3
   },
   "file_extension": ".py",
   "mimetype": "text/x-python",
   "name": "python",
   "nbconvert_exporter": "python",
   "pygments_lexer": "ipython3",
   "version": "3.12.2"
  }
 },
 "nbformat": 4,
 "nbformat_minor": 4
}
