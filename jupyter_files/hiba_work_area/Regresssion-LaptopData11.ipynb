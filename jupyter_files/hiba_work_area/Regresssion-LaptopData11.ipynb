{
 "cells": [
  {
   "cell_type": "code",
   "execution_count": 1,
   "id": "e263097e-7e58-46b7-99e4-f4c1ee16e83f",
   "metadata": {},
   "outputs": [],
   "source": [
    "import pandas as pd\n",
    "import numpy as np\n",
    "import matplotlib.pyplot as plt\n",
    "import seaborn as sb\n",
    "from sklearn.preprocessing import LabelEncoder\n",
    "from sklearn.linear_model import LinearRegression\n",
    "from sklearn.model_selection import train_test_split\n",
    "import re"
   ]
  },
  {
   "cell_type": "code",
   "execution_count": 2,
   "id": "2119183d-7673-4730-8fdb-2c443dad43db",
   "metadata": {},
   "outputs": [
    {
     "data": {
      "text/html": [
       "<div>\n",
       "<style scoped>\n",
       "    .dataframe tbody tr th:only-of-type {\n",
       "        vertical-align: middle;\n",
       "    }\n",
       "\n",
       "    .dataframe tbody tr th {\n",
       "        vertical-align: top;\n",
       "    }\n",
       "\n",
       "    .dataframe thead th {\n",
       "        text-align: right;\n",
       "    }\n",
       "</style>\n",
       "<table border=\"1\" class=\"dataframe\">\n",
       "  <thead>\n",
       "    <tr style=\"text-align: right;\">\n",
       "      <th></th>\n",
       "      <th>Company</th>\n",
       "      <th>TypeName</th>\n",
       "      <th>Inches</th>\n",
       "      <th>ScreenResolution</th>\n",
       "      <th>Cpu</th>\n",
       "      <th>Ram</th>\n",
       "      <th>Memory</th>\n",
       "      <th>Gpu</th>\n",
       "      <th>OpSys</th>\n",
       "      <th>Weight</th>\n",
       "      <th>Price</th>\n",
       "    </tr>\n",
       "  </thead>\n",
       "  <tbody>\n",
       "    <tr>\n",
       "      <th>0</th>\n",
       "      <td>Apple</td>\n",
       "      <td>Ultrabook</td>\n",
       "      <td>13.3</td>\n",
       "      <td>IPS Panel Retina Display 2560x1600</td>\n",
       "      <td>Intel Core i5 2.3GHz</td>\n",
       "      <td>8GB</td>\n",
       "      <td>128GB SSD</td>\n",
       "      <td>Intel Iris Plus Graphics 640</td>\n",
       "      <td>macOS</td>\n",
       "      <td>1.37kg</td>\n",
       "      <td>71378.6832</td>\n",
       "    </tr>\n",
       "    <tr>\n",
       "      <th>1</th>\n",
       "      <td>Apple</td>\n",
       "      <td>Ultrabook</td>\n",
       "      <td>13.3</td>\n",
       "      <td>1440x900</td>\n",
       "      <td>Intel Core i5 1.8GHz</td>\n",
       "      <td>8GB</td>\n",
       "      <td>128GB Flash Storage</td>\n",
       "      <td>Intel HD Graphics 6000</td>\n",
       "      <td>macOS</td>\n",
       "      <td>1.34kg</td>\n",
       "      <td>47895.5232</td>\n",
       "    </tr>\n",
       "    <tr>\n",
       "      <th>2</th>\n",
       "      <td>HP</td>\n",
       "      <td>Notebook</td>\n",
       "      <td>15.6</td>\n",
       "      <td>Full HD 1920x1080</td>\n",
       "      <td>Intel Core i5 7200U 2.5GHz</td>\n",
       "      <td>8GB</td>\n",
       "      <td>256GB SSD</td>\n",
       "      <td>Intel HD Graphics 620</td>\n",
       "      <td>No OS</td>\n",
       "      <td>1.86kg</td>\n",
       "      <td>30636.0000</td>\n",
       "    </tr>\n",
       "    <tr>\n",
       "      <th>3</th>\n",
       "      <td>Apple</td>\n",
       "      <td>Ultrabook</td>\n",
       "      <td>15.4</td>\n",
       "      <td>IPS Panel Retina Display 2880x1800</td>\n",
       "      <td>Intel Core i7 2.7GHz</td>\n",
       "      <td>16GB</td>\n",
       "      <td>512GB SSD</td>\n",
       "      <td>AMD Radeon Pro 455</td>\n",
       "      <td>macOS</td>\n",
       "      <td>1.83kg</td>\n",
       "      <td>135195.3360</td>\n",
       "    </tr>\n",
       "    <tr>\n",
       "      <th>4</th>\n",
       "      <td>Apple</td>\n",
       "      <td>Ultrabook</td>\n",
       "      <td>13.3</td>\n",
       "      <td>IPS Panel Retina Display 2560x1600</td>\n",
       "      <td>Intel Core i5 3.1GHz</td>\n",
       "      <td>8GB</td>\n",
       "      <td>256GB SSD</td>\n",
       "      <td>Intel Iris Plus Graphics 650</td>\n",
       "      <td>macOS</td>\n",
       "      <td>1.37kg</td>\n",
       "      <td>96095.8080</td>\n",
       "    </tr>\n",
       "  </tbody>\n",
       "</table>\n",
       "</div>"
      ],
      "text/plain": [
       "  Company   TypeName Inches                    ScreenResolution  \\\n",
       "0   Apple  Ultrabook   13.3  IPS Panel Retina Display 2560x1600   \n",
       "1   Apple  Ultrabook   13.3                            1440x900   \n",
       "2      HP   Notebook   15.6                   Full HD 1920x1080   \n",
       "3   Apple  Ultrabook   15.4  IPS Panel Retina Display 2880x1800   \n",
       "4   Apple  Ultrabook   13.3  IPS Panel Retina Display 2560x1600   \n",
       "\n",
       "                          Cpu   Ram               Memory  \\\n",
       "0        Intel Core i5 2.3GHz   8GB            128GB SSD   \n",
       "1        Intel Core i5 1.8GHz   8GB  128GB Flash Storage   \n",
       "2  Intel Core i5 7200U 2.5GHz   8GB            256GB SSD   \n",
       "3        Intel Core i7 2.7GHz  16GB            512GB SSD   \n",
       "4        Intel Core i5 3.1GHz   8GB            256GB SSD   \n",
       "\n",
       "                            Gpu  OpSys  Weight        Price  \n",
       "0  Intel Iris Plus Graphics 640  macOS  1.37kg   71378.6832  \n",
       "1        Intel HD Graphics 6000  macOS  1.34kg   47895.5232  \n",
       "2         Intel HD Graphics 620  No OS  1.86kg   30636.0000  \n",
       "3            AMD Radeon Pro 455  macOS  1.83kg  135195.3360  \n",
       "4  Intel Iris Plus Graphics 650  macOS  1.37kg   96095.8080  "
      ]
     },
     "execution_count": 2,
     "metadata": {},
     "output_type": "execute_result"
    }
   ],
   "source": [
    "\n",
    "df=pd.read_csv(r\"C:\\Users\\71591\\Desktop\\dataset\\LaptopData (1).csv\")\n",
    "df.drop(columns= ['Unnamed: 0'], inplace= True)\n",
    "# Display the DataFrame\n",
    "df.head()  # Display the first few rows of the DataFrame\n"
   ]
  },
  {
   "cell_type": "code",
   "execution_count": 3,
   "id": "69a4fbc0-1b40-4183-bb76-10fe9a6cc0a0",
   "metadata": {
    "scrolled": true
   },
   "outputs": [
    {
     "name": "stdout",
     "output_type": "stream",
     "text": [
      "<class 'pandas.core.frame.DataFrame'>\n",
      "RangeIndex: 1303 entries, 0 to 1302\n",
      "Data columns (total 11 columns):\n",
      " #   Column            Non-Null Count  Dtype  \n",
      "---  ------            --------------  -----  \n",
      " 0   Company           1273 non-null   object \n",
      " 1   TypeName          1273 non-null   object \n",
      " 2   Inches            1273 non-null   object \n",
      " 3   ScreenResolution  1273 non-null   object \n",
      " 4   Cpu               1273 non-null   object \n",
      " 5   Ram               1273 non-null   object \n",
      " 6   Memory            1273 non-null   object \n",
      " 7   Gpu               1273 non-null   object \n",
      " 8   OpSys             1273 non-null   object \n",
      " 9   Weight            1273 non-null   object \n",
      " 10  Price             1273 non-null   float64\n",
      "dtypes: float64(1), object(10)\n",
      "memory usage: 112.1+ KB\n"
     ]
    }
   ],
   "source": [
    "#get a summary of a DataFrame\n",
    "df.info()"
   ]
  },
  {
   "cell_type": "code",
   "execution_count": 4,
   "id": "e55ceeeb-5afd-4bfa-a0ff-400882d8b856",
   "metadata": {
    "scrolled": true
   },
   "outputs": [
    {
     "name": "stderr",
     "output_type": "stream",
     "text": [
      "C:\\Users\\71591\\AppData\\Local\\anaconda3\\Lib\\site-packages\\seaborn\\_oldcore.py:1119: FutureWarning: use_inf_as_na option is deprecated and will be removed in a future version. Convert inf values to NaN before operating instead.\n",
      "  with pd.option_context('mode.use_inf_as_na', True):\n"
     ]
    },
    {
     "data": {
      "image/png": "[encoded data removed]",
      "text/plain": [
       "<Figure size 640x480 with 1 Axes>"
      ]
     },
     "metadata": {},
     "output_type": "display_data"
    }
   ],
   "source": [
    "\n",
    "\n",
    "sb.histplot(df['Price'], bins=30, kde=True)\n",
    "plt.title('Price Distribution')\n",
    "plt.xlabel('Price')\n",
    "plt.ylabel('Frequency')\n",
    "plt.show()\n"
   ]
  },
  {
   "cell_type": "code",
   "execution_count": 5,
   "id": "be356d8b-0aa6-4ffb-a0d8-74d972ef381c",
   "metadata": {},
   "outputs": [
    {
     "name": "stderr",
     "output_type": "stream",
     "text": [
      "C:\\Users\\71591\\AppData\\Local\\anaconda3\\Lib\\site-packages\\seaborn\\_oldcore.py:1119: FutureWarning: use_inf_as_na option is deprecated and will be removed in a future version. Convert inf values to NaN before operating instead.\n",
      "  with pd.option_context('mode.use_inf_as_na', True):\n"
     ]
    },
    {
     "data": {
      "image/png": "[encoded data removed]",
      "text/plain": [
       "<Figure size 250x250 with 2 Axes>"
      ]
     },
     "metadata": {},
     "output_type": "display_data"
    }
   ],
   "source": [
    "sb.pairplot(df, diag_kind='kde')\n",
    "plt.show()\n"
   ]
  },
  {
   "cell_type": "code",
   "execution_count": 6,
   "id": "5f7b741b-191c-45c1-adc2-f500e361935a",
   "metadata": {},
   "outputs": [
    {
     "data": {
      "image/png": "[encoded data removed]",
      "text/plain": [
       "<Figure size 1200x600 with 1 Axes>"
      ]
     },
     "metadata": {},
     "output_type": "display_data"
    }
   ],
   "source": [
    "plt.figure(figsize=(12, 6))\n",
    "sb.boxplot(data=df, x='TypeName', y='Price')\n",
    "plt.xticks(rotation=90)\n",
    "plt.title('Price Distribution by Type')\n",
    "plt.show()\n"
   ]
  },
  {
   "cell_type": "code",
   "execution_count": 7,
   "id": "fad7eddd-84d6-4acc-b95b-8691b4102e24",
   "metadata": {},
   "outputs": [
    {
     "data": {
      "image/png": "[encoded data removed]",
      "text/plain": [
       "<Figure size 1200x600 with 1 Axes>"
      ]
     },
     "metadata": {},
     "output_type": "display_data"
    }
   ],
   "source": [
    "plt.figure(figsize=(12, 6))\n",
    "df['Company'].value_counts().plot(kind='bar')\n",
    "plt.title('Count of Laptops by Company')\n",
    "plt.xlabel('Company')\n",
    "plt.ylabel('Count')\n",
    "plt.xticks(rotation=45)\n",
    "plt.show()\n"
   ]
  },
  {
   "cell_type": "code",
   "execution_count": 8,
   "id": "73077e40-84a1-402b-9c7d-b6a64b920698",
   "metadata": {},
   "outputs": [
    {
     "data": {
      "image/png": "[encoded data removed]",
      "text/plain": [
       "<Figure size 640x480 with 1 Axes>"
      ]
     },
     "metadata": {},
     "output_type": "display_data"
    }
   ],
   "source": [
    "sb.scatterplot(data=df, x='Inches', y='Price', hue='TypeName')\n",
    "plt.title('Price vs Inches')\n",
    "plt.show()\n"
   ]
  },
  {
   "cell_type": "code",
   "execution_count": 9,
   "id": "4c5e7659-25db-4ffa-a6e0-438c96ccee59",
   "metadata": {
    "scrolled": true
   },
   "outputs": [
    {
     "data": {
      "text/html": [
       "<div>\n",
       "<style scoped>\n",
       "    .dataframe tbody tr th:only-of-type {\n",
       "        vertical-align: middle;\n",
       "    }\n",
       "\n",
       "    .dataframe tbody tr th {\n",
       "        vertical-align: top;\n",
       "    }\n",
       "\n",
       "    .dataframe thead th {\n",
       "        text-align: right;\n",
       "    }\n",
       "</style>\n",
       "<table border=\"1\" class=\"dataframe\">\n",
       "  <thead>\n",
       "    <tr style=\"text-align: right;\">\n",
       "      <th></th>\n",
       "      <th>Company</th>\n",
       "      <th>TypeName</th>\n",
       "      <th>Inches</th>\n",
       "      <th>ScreenResolution</th>\n",
       "      <th>Cpu</th>\n",
       "      <th>Ram</th>\n",
       "      <th>Memory</th>\n",
       "      <th>Gpu</th>\n",
       "      <th>OpSys</th>\n",
       "      <th>Weight</th>\n",
       "      <th>Price</th>\n",
       "    </tr>\n",
       "  </thead>\n",
       "  <tbody>\n",
       "    <tr>\n",
       "      <th>1158</th>\n",
       "      <td>Lenovo</td>\n",
       "      <td>Notebook</td>\n",
       "      <td>15.6</td>\n",
       "      <td>Full HD 1920x1080</td>\n",
       "      <td>Intel Core i5 6200U 2.3GHz</td>\n",
       "      <td>8GB</td>\n",
       "      <td>1.0TB Hybrid</td>\n",
       "      <td>AMD Radeon R5 M330</td>\n",
       "      <td>Windows 10</td>\n",
       "      <td>2.5kg</td>\n",
       "      <td>42010.7472</td>\n",
       "    </tr>\n",
       "    <tr>\n",
       "      <th>904</th>\n",
       "      <td>Lenovo</td>\n",
       "      <td>Notebook</td>\n",
       "      <td>15.6</td>\n",
       "      <td>IPS Panel Full HD 1920x1080</td>\n",
       "      <td>Intel Core i5 7200U 2.5GHz</td>\n",
       "      <td>8GB</td>\n",
       "      <td>512GB SSD</td>\n",
       "      <td>Intel HD Graphics 620</td>\n",
       "      <td>Windows 10</td>\n",
       "      <td>1.95kg</td>\n",
       "      <td>104588.1072</td>\n",
       "    </tr>\n",
       "    <tr>\n",
       "      <th>439</th>\n",
       "      <td>Asus</td>\n",
       "      <td>Notebook</td>\n",
       "      <td>15.6</td>\n",
       "      <td>Full HD 1920x1080</td>\n",
       "      <td>Intel Core i5 7200U 2.5GHz</td>\n",
       "      <td>4GB</td>\n",
       "      <td>256GB SSD</td>\n",
       "      <td>Intel HD Graphics 620</td>\n",
       "      <td>Linux</td>\n",
       "      <td>2kg</td>\n",
       "      <td>29783.5200</td>\n",
       "    </tr>\n",
       "    <tr>\n",
       "      <th>581</th>\n",
       "      <td>Dell</td>\n",
       "      <td>Notebook</td>\n",
       "      <td>15.6</td>\n",
       "      <td>1366x768</td>\n",
       "      <td>Intel Core i5 7300U 2.6GHz</td>\n",
       "      <td>8GB</td>\n",
       "      <td>500GB HDD</td>\n",
       "      <td>Intel HD Graphics 620</td>\n",
       "      <td>Windows 10</td>\n",
       "      <td>1.9kg</td>\n",
       "      <td>53733.9456</td>\n",
       "    </tr>\n",
       "    <tr>\n",
       "      <th>676</th>\n",
       "      <td>Asus</td>\n",
       "      <td>Ultrabook</td>\n",
       "      <td>14</td>\n",
       "      <td>Full HD 1920x1080</td>\n",
       "      <td>Intel Core i5 7200U 2.5GHz</td>\n",
       "      <td>8GB</td>\n",
       "      <td>256GB SSD</td>\n",
       "      <td>Intel HD Graphics 620</td>\n",
       "      <td>Windows 10</td>\n",
       "      <td>1.1kg</td>\n",
       "      <td>60472.8000</td>\n",
       "    </tr>\n",
       "    <tr>\n",
       "      <th>...</th>\n",
       "      <td>...</td>\n",
       "      <td>...</td>\n",
       "      <td>...</td>\n",
       "      <td>...</td>\n",
       "      <td>...</td>\n",
       "      <td>...</td>\n",
       "      <td>...</td>\n",
       "      <td>...</td>\n",
       "      <td>...</td>\n",
       "      <td>...</td>\n",
       "      <td>...</td>\n",
       "    </tr>\n",
       "    <tr>\n",
       "      <th>1095</th>\n",
       "      <td>Acer</td>\n",
       "      <td>Notebook</td>\n",
       "      <td>15.6</td>\n",
       "      <td>Full HD 1920x1080</td>\n",
       "      <td>Intel Core i5 7200U 2.5GHz</td>\n",
       "      <td>8GB</td>\n",
       "      <td>256GB SSD +  1TB HDD</td>\n",
       "      <td>Nvidia GeForce GTX 950M</td>\n",
       "      <td>Windows 10</td>\n",
       "      <td>2.4kg</td>\n",
       "      <td>42570.7200</td>\n",
       "    </tr>\n",
       "    <tr>\n",
       "      <th>1130</th>\n",
       "      <td>HP</td>\n",
       "      <td>Notebook</td>\n",
       "      <td>15.6</td>\n",
       "      <td>1366x768</td>\n",
       "      <td>Intel Core i7 7500U 2.7GHz</td>\n",
       "      <td>8GB</td>\n",
       "      <td>2TB HDD</td>\n",
       "      <td>Intel HD Graphics 620</td>\n",
       "      <td>Windows 10</td>\n",
       "      <td>2.04kg</td>\n",
       "      <td>33513.1200</td>\n",
       "    </tr>\n",
       "    <tr>\n",
       "      <th>1294</th>\n",
       "      <td>HP</td>\n",
       "      <td>Notebook</td>\n",
       "      <td>15.6</td>\n",
       "      <td>Full HD 1920x1080</td>\n",
       "      <td>AMD A9-Series 9410 2.9GHz</td>\n",
       "      <td>6GB</td>\n",
       "      <td>1.0TB Hybrid</td>\n",
       "      <td>AMD Radeon R7 M440</td>\n",
       "      <td>Windows 10</td>\n",
       "      <td>2.04kg</td>\n",
       "      <td>29303.4672</td>\n",
       "    </tr>\n",
       "    <tr>\n",
       "      <th>860</th>\n",
       "      <td>Lenovo</td>\n",
       "      <td>Notebook</td>\n",
       "      <td>15.6</td>\n",
       "      <td>IPS Panel Full HD 1920x1080</td>\n",
       "      <td>Intel Core i5 7200U 2.5GHz</td>\n",
       "      <td>8GB</td>\n",
       "      <td>1TB HDD</td>\n",
       "      <td>Intel HD Graphics 620</td>\n",
       "      <td>Windows 10</td>\n",
       "      <td>2.3kg</td>\n",
       "      <td>45323.1648</td>\n",
       "    </tr>\n",
       "    <tr>\n",
       "      <th>1126</th>\n",
       "      <td>Lenovo</td>\n",
       "      <td>2 in 1 Convertible</td>\n",
       "      <td>10.1</td>\n",
       "      <td>IPS Panel Touchscreen 1920x1200</td>\n",
       "      <td>Intel Atom x5-Z8550 1.44GHz</td>\n",
       "      <td>4GB</td>\n",
       "      <td>64GB Flash Storage</td>\n",
       "      <td>Intel HD Graphics 400</td>\n",
       "      <td>Windows 10</td>\n",
       "      <td>0.69kg</td>\n",
       "      <td>25521.1200</td>\n",
       "    </tr>\n",
       "  </tbody>\n",
       "</table>\n",
       "<p>912 rows × 11 columns</p>\n",
       "</div>"
      ],
      "text/plain": [
       "     Company            TypeName Inches                 ScreenResolution  \\\n",
       "1158  Lenovo            Notebook   15.6                Full HD 1920x1080   \n",
       "904   Lenovo            Notebook   15.6      IPS Panel Full HD 1920x1080   \n",
       "439     Asus            Notebook   15.6                Full HD 1920x1080   \n",
       "581     Dell            Notebook   15.6                         1366x768   \n",
       "676     Asus           Ultrabook     14                Full HD 1920x1080   \n",
       "...      ...                 ...    ...                              ...   \n",
       "1095    Acer            Notebook   15.6                Full HD 1920x1080   \n",
       "1130      HP            Notebook   15.6                         1366x768   \n",
       "1294      HP            Notebook   15.6                Full HD 1920x1080   \n",
       "860   Lenovo            Notebook   15.6      IPS Panel Full HD 1920x1080   \n",
       "1126  Lenovo  2 in 1 Convertible   10.1  IPS Panel Touchscreen 1920x1200   \n",
       "\n",
       "                              Cpu  Ram                Memory  \\\n",
       "1158   Intel Core i5 6200U 2.3GHz  8GB          1.0TB Hybrid   \n",
       "904    Intel Core i5 7200U 2.5GHz  8GB             512GB SSD   \n",
       "439    Intel Core i5 7200U 2.5GHz  4GB             256GB SSD   \n",
       "581    Intel Core i5 7300U 2.6GHz  8GB             500GB HDD   \n",
       "676    Intel Core i5 7200U 2.5GHz  8GB             256GB SSD   \n",
       "...                           ...  ...                   ...   \n",
       "1095   Intel Core i5 7200U 2.5GHz  8GB  256GB SSD +  1TB HDD   \n",
       "1130   Intel Core i7 7500U 2.7GHz  8GB               2TB HDD   \n",
       "1294    AMD A9-Series 9410 2.9GHz  6GB          1.0TB Hybrid   \n",
       "860    Intel Core i5 7200U 2.5GHz  8GB               1TB HDD   \n",
       "1126  Intel Atom x5-Z8550 1.44GHz  4GB    64GB Flash Storage   \n",
       "\n",
       "                          Gpu       OpSys  Weight        Price  \n",
       "1158       AMD Radeon R5 M330  Windows 10   2.5kg   42010.7472  \n",
       "904     Intel HD Graphics 620  Windows 10  1.95kg  104588.1072  \n",
       "439     Intel HD Graphics 620       Linux     2kg   29783.5200  \n",
       "581     Intel HD Graphics 620  Windows 10   1.9kg   53733.9456  \n",
       "676     Intel HD Graphics 620  Windows 10   1.1kg   60472.8000  \n",
       "...                       ...         ...     ...          ...  \n",
       "1095  Nvidia GeForce GTX 950M  Windows 10   2.4kg   42570.7200  \n",
       "1130    Intel HD Graphics 620  Windows 10  2.04kg   33513.1200  \n",
       "1294       AMD Radeon R7 M440  Windows 10  2.04kg   29303.4672  \n",
       "860     Intel HD Graphics 620  Windows 10   2.3kg   45323.1648  \n",
       "1126    Intel HD Graphics 400  Windows 10  0.69kg   25521.1200  \n",
       "\n",
       "[912 rows x 11 columns]"
      ]
     },
     "execution_count": 9,
     "metadata": {},
     "output_type": "execute_result"
    }
   ],
   "source": [
    "df_train,df_test=train_test_split(df,test_size=0.3,random_state=42)\n",
    "df_train"
   ]
  },
  {
   "cell_type": "code",
   "execution_count": 10,
   "id": "530d12f7-71b6-4426-bbd0-b0c109f99942",
   "metadata": {},
   "outputs": [],
   "source": [
    "df_train.replace('?', np.nan, inplace=True)\n",
    "df_test.replace('?', np.nan, inplace=True)\n",
    "df_train = df_train.drop_duplicates()\n",
    "df_test = df_test.drop_duplicates()"
   ]
  },
  {
   "cell_type": "code",
   "execution_count": 11,
   "id": "d7d9c1d3-f10a-420d-85e5-e6ab404c72b1",
   "metadata": {},
   "outputs": [
    {
     "name": "stderr",
     "output_type": "stream",
     "text": [
      "C:\\Users\\71591\\AppData\\Local\\Temp\\ipykernel_25572\\3880960140.py:2: SettingWithCopyWarning: \n",
      "A value is trying to be set on a copy of a slice from a DataFrame\n",
      "\n",
      "See the caveats in the documentation: https://pandas.pydata.org/pandas-docs/stable/user_guide/indexing.html#returning-a-view-versus-a-copy\n",
      "  df_train.dropna(inplace = True)\n"
     ]
    }
   ],
   "source": [
    "df.dropna(inplace = True)\n",
    "df_train.dropna(inplace = True)\n",
    "df_test.dropna(inplace = True)"
   ]
  },
  {
   "cell_type": "code",
   "execution_count": 12,
   "id": "cc681a1e-952b-46a9-aa40-c3fd5f766cb2",
   "metadata": {
    "scrolled": true
   },
   "outputs": [
    {
     "name": "stdout",
     "output_type": "stream",
     "text": [
      "<class 'pandas.core.frame.DataFrame'>\n",
      "Index: 872 entries, 1158 to 1126\n",
      "Data columns (total 11 columns):\n",
      " #   Column            Non-Null Count  Dtype  \n",
      "---  ------            --------------  -----  \n",
      " 0   Company           872 non-null    object \n",
      " 1   TypeName          872 non-null    object \n",
      " 2   Inches            872 non-null    object \n",
      " 3   ScreenResolution  872 non-null    object \n",
      " 4   Cpu               872 non-null    object \n",
      " 5   Ram               872 non-null    object \n",
      " 6   Memory            872 non-null    object \n",
      " 7   Gpu               872 non-null    object \n",
      " 8   OpSys             872 non-null    object \n",
      " 9   Weight            872 non-null    object \n",
      " 10  Price             872 non-null    float64\n",
      "dtypes: float64(1), object(10)\n",
      "memory usage: 81.8+ KB\n"
     ]
    }
   ],
   "source": [
    "df_train.info()"
   ]
  },
  {
   "cell_type": "markdown",
   "id": "e3075c08-f6a3-4a2d-acb3-ce69dbf9c50e",
   "metadata": {},
   "source": [
    "#Train df (Feature extraction )"
   ]
  },
  {
   "cell_type": "code",
   "execution_count": 13,
   "id": "d2c1db13-7782-49a2-98c2-c04f1d83c4eb",
   "metadata": {},
   "outputs": [
    {
     "name": "stdout",
     "output_type": "stream",
     "text": [
      "     MemoryType  MemoryCapacity\n",
      "1158        HDD         10240.0\n",
      "904         SSD           512.0\n",
      "439         SSD           256.0\n",
      "581         HDD           500.0\n",
      "676         SSD           256.0\n",
      "...         ...             ...\n",
      "1044        HDD           500.0\n",
      "1095        SSD           256.0\n",
      "1130        HDD          2048.0\n",
      "860         HDD          1024.0\n",
      "1126        HDD            64.0\n",
      "\n",
      "[872 rows x 2 columns]\n"
     ]
    },
    {
     "name": "stderr",
     "output_type": "stream",
     "text": [
      "C:\\Users\\71591\\AppData\\Local\\Temp\\ipykernel_25572\\1764034589.py:2: SettingWithCopyWarning: \n",
      "A value is trying to be set on a copy of a slice from a DataFrame.\n",
      "Try using .loc[row_indexer,col_indexer] = value instead\n",
      "\n",
      "See the caveats in the documentation: https://pandas.pydata.org/pandas-docs/stable/user_guide/indexing.html#returning-a-view-versus-a-copy\n",
      "  df_train['MemoryType'] = df_train['Memory'].apply(lambda x: 'SSD' if 'SSD' in x else 'HDD')\n",
      "C:\\Users\\71591\\AppData\\Local\\Temp\\ipykernel_25572\\1764034589.py:18: SettingWithCopyWarning: \n",
      "A value is trying to be set on a copy of a slice from a DataFrame.\n",
      "Try using .loc[row_indexer,col_indexer] = value instead\n",
      "\n",
      "See the caveats in the documentation: https://pandas.pydata.org/pandas-docs/stable/user_guide/indexing.html#returning-a-view-versus-a-copy\n",
      "  df_train['MemoryCapacity'] = df_train['Memory'].apply(extract_memory_capacity)\n",
      "C:\\Users\\71591\\AppData\\Local\\Temp\\ipykernel_25572\\1764034589.py:19: SettingWithCopyWarning: \n",
      "A value is trying to be set on a copy of a slice from a DataFrame.\n",
      "Try using .loc[row_indexer,col_indexer] = value instead\n",
      "\n",
      "See the caveats in the documentation: https://pandas.pydata.org/pandas-docs/stable/user_guide/indexing.html#returning-a-view-versus-a-copy\n",
      "  df_train['MemoryCapacity'] = pd.to_numeric(df_train['MemoryCapacity'], errors='coerce')\n"
     ]
    }
   ],
   "source": [
    "# Memory Train Column\n",
    "df_train['MemoryType'] = df_train['Memory'].apply(lambda x: 'SSD' if 'SSD' in x else 'HDD')\n",
    "\n",
    "def extract_memory_capacity(memory):\n",
    "    memory_parts = memory.split()\n",
    "    size_part = memory_parts[0]\n",
    "    \n",
    "    numeric_part = ''.join([char for char in size_part if char.isdigit()])\n",
    "    unit_part = ''.join([char for char in size_part if char.isalpha()])\n",
    "    \n",
    "    if numeric_part:\n",
    "        capacity = float(numeric_part)\n",
    "        if unit_part.upper() == 'TB':\n",
    "            capacity *= 1024\n",
    "        return capacity\n",
    "    return None\n",
    "\n",
    "df_train['MemoryCapacity'] = df_train['Memory'].apply(extract_memory_capacity)\n",
    "df_train['MemoryCapacity'] = pd.to_numeric(df_train['MemoryCapacity'], errors='coerce')\n",
    "\n",
    "print(df_train[['MemoryType', 'MemoryCapacity']])\n"
   ]
  },
  {
   "cell_type": "code",
   "execution_count": 14,
   "id": "b1d4e871-85c8-454e-b322-7b1dc7f6ec66",
   "metadata": {
    "scrolled": true
   },
   "outputs": [
    {
     "name": "stderr",
     "output_type": "stream",
     "text": [
      "C:\\Users\\71591\\AppData\\Local\\Temp\\ipykernel_25572\\757239788.py:14: SettingWithCopyWarning: \n",
      "A value is trying to be set on a copy of a slice from a DataFrame.\n",
      "Try using .loc[row_indexer,col_indexer] = value instead\n",
      "\n",
      "See the caveats in the documentation: https://pandas.pydata.org/pandas-docs/stable/user_guide/indexing.html#returning-a-view-versus-a-copy\n",
      "  df_train['CPU_Model'] = df_train['Cpu'].apply(get_cpu_model)\n",
      "C:\\Users\\71591\\AppData\\Local\\Temp\\ipykernel_25572\\757239788.py:15: SettingWithCopyWarning: \n",
      "A value is trying to be set on a copy of a slice from a DataFrame.\n",
      "Try using .loc[row_indexer,col_indexer] = value instead\n",
      "\n",
      "See the caveats in the documentation: https://pandas.pydata.org/pandas-docs/stable/user_guide/indexing.html#returning-a-view-versus-a-copy\n",
      "  df_train['CPU_Clock_Speed'] = df_train['Cpu'].apply(get_clock_speed)\n",
      "C:\\Users\\71591\\AppData\\Local\\Temp\\ipykernel_25572\\757239788.py:16: SettingWithCopyWarning: \n",
      "A value is trying to be set on a copy of a slice from a DataFrame.\n",
      "Try using .loc[row_indexer,col_indexer] = value instead\n",
      "\n",
      "See the caveats in the documentation: https://pandas.pydata.org/pandas-docs/stable/user_guide/indexing.html#returning-a-view-versus-a-copy\n",
      "  df_train['CPU_Clock_Speed'] = pd.to_numeric(df_train['CPU_Clock_Speed'], errors='coerce')\n"
     ]
    },
    {
     "data": {
      "text/html": [
       "<div>\n",
       "<style scoped>\n",
       "    .dataframe tbody tr th:only-of-type {\n",
       "        vertical-align: middle;\n",
       "    }\n",
       "\n",
       "    .dataframe tbody tr th {\n",
       "        vertical-align: top;\n",
       "    }\n",
       "\n",
       "    .dataframe thead th {\n",
       "        text-align: right;\n",
       "    }\n",
       "</style>\n",
       "<table border=\"1\" class=\"dataframe\">\n",
       "  <thead>\n",
       "    <tr style=\"text-align: right;\">\n",
       "      <th></th>\n",
       "      <th>CPU_Model</th>\n",
       "      <th>CPU_Clock_Speed</th>\n",
       "    </tr>\n",
       "  </thead>\n",
       "  <tbody>\n",
       "    <tr>\n",
       "      <th>1158</th>\n",
       "      <td>Intel Core i5 6200U</td>\n",
       "      <td>2.30</td>\n",
       "    </tr>\n",
       "    <tr>\n",
       "      <th>904</th>\n",
       "      <td>Intel Core i5 7200U</td>\n",
       "      <td>2.50</td>\n",
       "    </tr>\n",
       "    <tr>\n",
       "      <th>439</th>\n",
       "      <td>Intel Core i5 7200U</td>\n",
       "      <td>2.50</td>\n",
       "    </tr>\n",
       "    <tr>\n",
       "      <th>581</th>\n",
       "      <td>Intel Core i5 7300U</td>\n",
       "      <td>2.60</td>\n",
       "    </tr>\n",
       "    <tr>\n",
       "      <th>676</th>\n",
       "      <td>Intel Core i5 7200U</td>\n",
       "      <td>2.50</td>\n",
       "    </tr>\n",
       "    <tr>\n",
       "      <th>...</th>\n",
       "      <td>...</td>\n",
       "      <td>...</td>\n",
       "    </tr>\n",
       "    <tr>\n",
       "      <th>1044</th>\n",
       "      <td>Intel Core i5 6200U</td>\n",
       "      <td>2.30</td>\n",
       "    </tr>\n",
       "    <tr>\n",
       "      <th>1095</th>\n",
       "      <td>Intel Core i5 7200U</td>\n",
       "      <td>2.50</td>\n",
       "    </tr>\n",
       "    <tr>\n",
       "      <th>1130</th>\n",
       "      <td>Intel Core i7 7500U</td>\n",
       "      <td>2.70</td>\n",
       "    </tr>\n",
       "    <tr>\n",
       "      <th>860</th>\n",
       "      <td>Intel Core i5 7200U</td>\n",
       "      <td>2.50</td>\n",
       "    </tr>\n",
       "    <tr>\n",
       "      <th>1126</th>\n",
       "      <td>Intel Atom x5-Z8550</td>\n",
       "      <td>1.44</td>\n",
       "    </tr>\n",
       "  </tbody>\n",
       "</table>\n",
       "<p>872 rows × 2 columns</p>\n",
       "</div>"
      ],
      "text/plain": [
       "                CPU_Model  CPU_Clock_Speed\n",
       "1158  Intel Core i5 6200U             2.30\n",
       "904   Intel Core i5 7200U             2.50\n",
       "439   Intel Core i5 7200U             2.50\n",
       "581   Intel Core i5 7300U             2.60\n",
       "676   Intel Core i5 7200U             2.50\n",
       "...                   ...              ...\n",
       "1044  Intel Core i5 6200U             2.30\n",
       "1095  Intel Core i5 7200U             2.50\n",
       "1130  Intel Core i7 7500U             2.70\n",
       "860   Intel Core i5 7200U             2.50\n",
       "1126  Intel Atom x5-Z8550             1.44\n",
       "\n",
       "[872 rows x 2 columns]"
      ]
     },
     "execution_count": 14,
     "metadata": {},
     "output_type": "execute_result"
    }
   ],
   "source": [
    "# CPU Train Column\n",
    "def get_cpu_model(cpu):\n",
    "    components = cpu.split(' ')\n",
    "    if components[-1].endswith('GHz'):\n",
    "        return ' '.join(components[:-1])\n",
    "    else:\n",
    "        return ' '.join(components[:-2])\n",
    "\n",
    "def get_clock_speed(cpu):\n",
    "    speed = cpu.split(' ')[-1]\n",
    "    return speed.replace('GHz', '')\n",
    "\n",
    "# Apply the functions\n",
    "df_train['CPU_Model'] = df_train['Cpu'].apply(get_cpu_model)\n",
    "df_train['CPU_Clock_Speed'] = df_train['Cpu'].apply(get_clock_speed)\n",
    "df_train['CPU_Clock_Speed'] = pd.to_numeric(df_train['CPU_Clock_Speed'], errors='coerce')\n",
    "\n",
    "df_train[['CPU_Model', 'CPU_Clock_Speed']]\n"
   ]
  },
  {
   "cell_type": "code",
   "execution_count": 15,
   "id": "9046ad6d-afb7-4d18-bf9b-51d8253e42a3",
   "metadata": {},
   "outputs": [
    {
     "name": "stderr",
     "output_type": "stream",
     "text": [
      "C:\\Users\\71591\\AppData\\Local\\Temp\\ipykernel_25572\\796270953.py:6: SettingWithCopyWarning: \n",
      "A value is trying to be set on a copy of a slice from a DataFrame.\n",
      "Try using .loc[row_indexer,col_indexer] = value instead\n",
      "\n",
      "See the caveats in the documentation: https://pandas.pydata.org/pandas-docs/stable/user_guide/indexing.html#returning-a-view-versus-a-copy\n",
      "  df_train['GPU_Brand'] = df_train['Gpu'].apply(get_gpu_brand)\n"
     ]
    },
    {
     "data": {
      "text/html": [
       "<div>\n",
       "<style scoped>\n",
       "    .dataframe tbody tr th:only-of-type {\n",
       "        vertical-align: middle;\n",
       "    }\n",
       "\n",
       "    .dataframe tbody tr th {\n",
       "        vertical-align: top;\n",
       "    }\n",
       "\n",
       "    .dataframe thead th {\n",
       "        text-align: right;\n",
       "    }\n",
       "</style>\n",
       "<table border=\"1\" class=\"dataframe\">\n",
       "  <thead>\n",
       "    <tr style=\"text-align: right;\">\n",
       "      <th></th>\n",
       "      <th>Gpu</th>\n",
       "      <th>GPU_Brand</th>\n",
       "    </tr>\n",
       "  </thead>\n",
       "  <tbody>\n",
       "    <tr>\n",
       "      <th>1158</th>\n",
       "      <td>AMD Radeon R5 M330</td>\n",
       "      <td>AMD</td>\n",
       "    </tr>\n",
       "    <tr>\n",
       "      <th>904</th>\n",
       "      <td>Intel HD Graphics 620</td>\n",
       "      <td>Intel</td>\n",
       "    </tr>\n",
       "    <tr>\n",
       "      <th>439</th>\n",
       "      <td>Intel HD Graphics 620</td>\n",
       "      <td>Intel</td>\n",
       "    </tr>\n",
       "    <tr>\n",
       "      <th>581</th>\n",
       "      <td>Intel HD Graphics 620</td>\n",
       "      <td>Intel</td>\n",
       "    </tr>\n",
       "    <tr>\n",
       "      <th>676</th>\n",
       "      <td>Intel HD Graphics 620</td>\n",
       "      <td>Intel</td>\n",
       "    </tr>\n",
       "    <tr>\n",
       "      <th>...</th>\n",
       "      <td>...</td>\n",
       "      <td>...</td>\n",
       "    </tr>\n",
       "    <tr>\n",
       "      <th>1044</th>\n",
       "      <td>Intel HD Graphics 520</td>\n",
       "      <td>Intel</td>\n",
       "    </tr>\n",
       "    <tr>\n",
       "      <th>1095</th>\n",
       "      <td>Nvidia GeForce GTX 950M</td>\n",
       "      <td>Nvidia</td>\n",
       "    </tr>\n",
       "    <tr>\n",
       "      <th>1130</th>\n",
       "      <td>Intel HD Graphics 620</td>\n",
       "      <td>Intel</td>\n",
       "    </tr>\n",
       "    <tr>\n",
       "      <th>860</th>\n",
       "      <td>Intel HD Graphics 620</td>\n",
       "      <td>Intel</td>\n",
       "    </tr>\n",
       "    <tr>\n",
       "      <th>1126</th>\n",
       "      <td>Intel HD Graphics 400</td>\n",
       "      <td>Intel</td>\n",
       "    </tr>\n",
       "  </tbody>\n",
       "</table>\n",
       "<p>872 rows × 2 columns</p>\n",
       "</div>"
      ],
      "text/plain": [
       "                          Gpu GPU_Brand\n",
       "1158       AMD Radeon R5 M330       AMD\n",
       "904     Intel HD Graphics 620     Intel\n",
       "439     Intel HD Graphics 620     Intel\n",
       "581     Intel HD Graphics 620     Intel\n",
       "676     Intel HD Graphics 620     Intel\n",
       "...                       ...       ...\n",
       "1044    Intel HD Graphics 520     Intel\n",
       "1095  Nvidia GeForce GTX 950M    Nvidia\n",
       "1130    Intel HD Graphics 620     Intel\n",
       "860     Intel HD Graphics 620     Intel\n",
       "1126    Intel HD Graphics 400     Intel\n",
       "\n",
       "[872 rows x 2 columns]"
      ]
     },
     "execution_count": 15,
     "metadata": {},
     "output_type": "execute_result"
    }
   ],
   "source": [
    "# GPU Train Column\n",
    "def get_gpu_brand(gpu):\n",
    "    return gpu.split(' ')[0]\n",
    "\n",
    "# Apply the function\n",
    "df_train['GPU_Brand'] = df_train['Gpu'].apply(get_gpu_brand)\n",
    "\n",
    "# Display the updated DataFrame with the new column\n",
    "df_train[['Gpu', 'GPU_Brand']]\n"
   ]
  },
  {
   "cell_type": "code",
   "execution_count": 16,
   "id": "cb596536-e8a7-471d-93ae-d2fb9766daed",
   "metadata": {},
   "outputs": [
    {
     "name": "stdout",
     "output_type": "stream",
     "text": [
      "1158    8\n",
      "904     8\n",
      "439     4\n",
      "581     8\n",
      "676     8\n",
      "       ..\n",
      "1044    4\n",
      "1095    8\n",
      "1130    8\n",
      "860     8\n",
      "1126    4\n",
      "Name: RAM_Size, Length: 872, dtype: int64\n"
     ]
    },
    {
     "name": "stderr",
     "output_type": "stream",
     "text": [
      "C:\\Users\\71591\\AppData\\Local\\Temp\\ipykernel_25572\\2438491787.py:2: SettingWithCopyWarning: \n",
      "A value is trying to be set on a copy of a slice from a DataFrame.\n",
      "Try using .loc[row_indexer,col_indexer] = value instead\n",
      "\n",
      "See the caveats in the documentation: https://pandas.pydata.org/pandas-docs/stable/user_guide/indexing.html#returning-a-view-versus-a-copy\n",
      "  df_train['RAM_Size'] = df_train['Ram'].str.replace('GB', '')\n",
      "C:\\Users\\71591\\AppData\\Local\\Temp\\ipykernel_25572\\2438491787.py:3: SettingWithCopyWarning: \n",
      "A value is trying to be set on a copy of a slice from a DataFrame.\n",
      "Try using .loc[row_indexer,col_indexer] = value instead\n",
      "\n",
      "See the caveats in the documentation: https://pandas.pydata.org/pandas-docs/stable/user_guide/indexing.html#returning-a-view-versus-a-copy\n",
      "  df_train['RAM_Size'] = pd.to_numeric(df_train['RAM_Size'], errors='coerce')\n"
     ]
    }
   ],
   "source": [
    "# RAM Train Column\n",
    "df_train['RAM_Size'] = df_train['Ram'].str.replace('GB', '')\n",
    "df_train['RAM_Size'] = pd.to_numeric(df_train['RAM_Size'], errors='coerce')\n",
    "\n",
    "# Display the updated DataFrame with the new column\n",
    "print(df_train['RAM_Size'])\n"
   ]
  },
  {
   "cell_type": "code",
   "execution_count": 17,
   "id": "28181c6e-ff51-49f9-bb1d-af511b1d9570",
   "metadata": {},
   "outputs": [
    {
     "name": "stderr",
     "output_type": "stream",
     "text": [
      "C:\\Users\\71591\\AppData\\Local\\Temp\\ipykernel_25572\\1060384440.py:2: SettingWithCopyWarning: \n",
      "A value is trying to be set on a copy of a slice from a DataFrame.\n",
      "Try using .loc[row_indexer,col_indexer] = value instead\n",
      "\n",
      "See the caveats in the documentation: https://pandas.pydata.org/pandas-docs/stable/user_guide/indexing.html#returning-a-view-versus-a-copy\n",
      "  df_train['Laptop_Weight'] = df_train['Weight'].str.replace('kg', '')\n",
      "C:\\Users\\71591\\AppData\\Local\\Temp\\ipykernel_25572\\1060384440.py:3: SettingWithCopyWarning: \n",
      "A value is trying to be set on a copy of a slice from a DataFrame.\n",
      "Try using .loc[row_indexer,col_indexer] = value instead\n",
      "\n",
      "See the caveats in the documentation: https://pandas.pydata.org/pandas-docs/stable/user_guide/indexing.html#returning-a-view-versus-a-copy\n",
      "  df_train['Laptop_Weight'] = pd.to_numeric(df_train['Laptop_Weight'], errors='coerce')\n"
     ]
    },
    {
     "data": {
      "text/plain": [
       "1158    2.50\n",
       "904     1.95\n",
       "439     2.00\n",
       "581     1.90\n",
       "676     1.10\n",
       "        ... \n",
       "1044    1.54\n",
       "1095    2.40\n",
       "1130    2.04\n",
       "860     2.30\n",
       "1126    0.69\n",
       "Name: Laptop_Weight, Length: 872, dtype: float64"
      ]
     },
     "execution_count": 17,
     "metadata": {},
     "output_type": "execute_result"
    }
   ],
   "source": [
    "# Weight Train Column\n",
    "df_train['Laptop_Weight'] = df_train['Weight'].str.replace('kg', '')\n",
    "df_train['Laptop_Weight'] = pd.to_numeric(df_train['Laptop_Weight'], errors='coerce')\n",
    "\n",
    "# Display the updated DataFrame with the new column\n",
    "df_train['Laptop_Weight']\n"
   ]
  },
  {
   "cell_type": "code",
   "execution_count": 18,
   "id": "3ec38f00-1a9d-4d4f-9c14-9cabd11a9af7",
   "metadata": {},
   "outputs": [
    {
     "name": "stderr",
     "output_type": "stream",
     "text": [
      "C:\\Users\\71591\\AppData\\Local\\Temp\\ipykernel_25572\\266696818.py:30: SettingWithCopyWarning: \n",
      "A value is trying to be set on a copy of a slice from a DataFrame.\n",
      "Try using .loc[row_indexer,col_indexer] = value instead\n",
      "\n",
      "See the caveats in the documentation: https://pandas.pydata.org/pandas-docs/stable/user_guide/indexing.html#returning-a-view-versus-a-copy\n",
      "  df_train['ScreenName'], df_train['Touchscreen'], df_train['ResolutionWidth'], df_train['ResolutionHeight'] = zip(*df_train['ScreenResolution'].apply(extract_screen_details))\n",
      "C:\\Users\\71591\\AppData\\Local\\Temp\\ipykernel_25572\\266696818.py:30: SettingWithCopyWarning: \n",
      "A value is trying to be set on a copy of a slice from a DataFrame.\n",
      "Try using .loc[row_indexer,col_indexer] = value instead\n",
      "\n",
      "See the caveats in the documentation: https://pandas.pydata.org/pandas-docs/stable/user_guide/indexing.html#returning-a-view-versus-a-copy\n",
      "  df_train['ScreenName'], df_train['Touchscreen'], df_train['ResolutionWidth'], df_train['ResolutionHeight'] = zip(*df_train['ScreenResolution'].apply(extract_screen_details))\n",
      "C:\\Users\\71591\\AppData\\Local\\Temp\\ipykernel_25572\\266696818.py:30: SettingWithCopyWarning: \n",
      "A value is trying to be set on a copy of a slice from a DataFrame.\n",
      "Try using .loc[row_indexer,col_indexer] = value instead\n",
      "\n",
      "See the caveats in the documentation: https://pandas.pydata.org/pandas-docs/stable/user_guide/indexing.html#returning-a-view-versus-a-copy\n",
      "  df_train['ScreenName'], df_train['Touchscreen'], df_train['ResolutionWidth'], df_train['ResolutionHeight'] = zip(*df_train['ScreenResolution'].apply(extract_screen_details))\n",
      "C:\\Users\\71591\\AppData\\Local\\Temp\\ipykernel_25572\\266696818.py:30: SettingWithCopyWarning: \n",
      "A value is trying to be set on a copy of a slice from a DataFrame.\n",
      "Try using .loc[row_indexer,col_indexer] = value instead\n",
      "\n",
      "See the caveats in the documentation: https://pandas.pydata.org/pandas-docs/stable/user_guide/indexing.html#returning-a-view-versus-a-copy\n",
      "  df_train['ScreenName'], df_train['Touchscreen'], df_train['ResolutionWidth'], df_train['ResolutionHeight'] = zip(*df_train['ScreenResolution'].apply(extract_screen_details))\n",
      "C:\\Users\\71591\\AppData\\Local\\Temp\\ipykernel_25572\\266696818.py:31: SettingWithCopyWarning: \n",
      "A value is trying to be set on a copy of a slice from a DataFrame.\n",
      "Try using .loc[row_indexer,col_indexer] = value instead\n",
      "\n",
      "See the caveats in the documentation: https://pandas.pydata.org/pandas-docs/stable/user_guide/indexing.html#returning-a-view-versus-a-copy\n",
      "  df_train['ResolutionWidth'] = pd.to_numeric(df_train['ResolutionWidth'], errors='coerce')\n",
      "C:\\Users\\71591\\AppData\\Local\\Temp\\ipykernel_25572\\266696818.py:32: SettingWithCopyWarning: \n",
      "A value is trying to be set on a copy of a slice from a DataFrame.\n",
      "Try using .loc[row_indexer,col_indexer] = value instead\n",
      "\n",
      "See the caveats in the documentation: https://pandas.pydata.org/pandas-docs/stable/user_guide/indexing.html#returning-a-view-versus-a-copy\n",
      "  df_train['ResolutionHeight'] = pd.to_numeric(df_train['ResolutionHeight'], errors='coerce')\n"
     ]
    },
    {
     "data": {
      "text/html": [
       "<div>\n",
       "<style scoped>\n",
       "    .dataframe tbody tr th:only-of-type {\n",
       "        vertical-align: middle;\n",
       "    }\n",
       "\n",
       "    .dataframe tbody tr th {\n",
       "        vertical-align: top;\n",
       "    }\n",
       "\n",
       "    .dataframe thead th {\n",
       "        text-align: right;\n",
       "    }\n",
       "</style>\n",
       "<table border=\"1\" class=\"dataframe\">\n",
       "  <thead>\n",
       "    <tr style=\"text-align: right;\">\n",
       "      <th></th>\n",
       "      <th>ScreenName</th>\n",
       "      <th>Touchscreen</th>\n",
       "      <th>ResolutionWidth</th>\n",
       "      <th>ResolutionHeight</th>\n",
       "    </tr>\n",
       "  </thead>\n",
       "  <tbody>\n",
       "    <tr>\n",
       "      <th>1158</th>\n",
       "      <td>Full HD</td>\n",
       "      <td>0</td>\n",
       "      <td>1920</td>\n",
       "      <td>1080</td>\n",
       "    </tr>\n",
       "    <tr>\n",
       "      <th>904</th>\n",
       "      <td>IPS Panel Full HD</td>\n",
       "      <td>0</td>\n",
       "      <td>1920</td>\n",
       "      <td>1080</td>\n",
       "    </tr>\n",
       "    <tr>\n",
       "      <th>439</th>\n",
       "      <td>Full HD</td>\n",
       "      <td>0</td>\n",
       "      <td>1920</td>\n",
       "      <td>1080</td>\n",
       "    </tr>\n",
       "    <tr>\n",
       "      <th>581</th>\n",
       "      <td></td>\n",
       "      <td>0</td>\n",
       "      <td>1366</td>\n",
       "      <td>768</td>\n",
       "    </tr>\n",
       "    <tr>\n",
       "      <th>676</th>\n",
       "      <td>Full HD</td>\n",
       "      <td>0</td>\n",
       "      <td>1920</td>\n",
       "      <td>1080</td>\n",
       "    </tr>\n",
       "    <tr>\n",
       "      <th>...</th>\n",
       "      <td>...</td>\n",
       "      <td>...</td>\n",
       "      <td>...</td>\n",
       "      <td>...</td>\n",
       "    </tr>\n",
       "    <tr>\n",
       "      <th>1044</th>\n",
       "      <td>Full HD</td>\n",
       "      <td>0</td>\n",
       "      <td>1920</td>\n",
       "      <td>1080</td>\n",
       "    </tr>\n",
       "    <tr>\n",
       "      <th>1095</th>\n",
       "      <td>Full HD</td>\n",
       "      <td>0</td>\n",
       "      <td>1920</td>\n",
       "      <td>1080</td>\n",
       "    </tr>\n",
       "    <tr>\n",
       "      <th>1130</th>\n",
       "      <td></td>\n",
       "      <td>0</td>\n",
       "      <td>1366</td>\n",
       "      <td>768</td>\n",
       "    </tr>\n",
       "    <tr>\n",
       "      <th>860</th>\n",
       "      <td>IPS Panel Full HD</td>\n",
       "      <td>0</td>\n",
       "      <td>1920</td>\n",
       "      <td>1080</td>\n",
       "    </tr>\n",
       "    <tr>\n",
       "      <th>1126</th>\n",
       "      <td>IPS Panel Touchscreen</td>\n",
       "      <td>1</td>\n",
       "      <td>1920</td>\n",
       "      <td>1200</td>\n",
       "    </tr>\n",
       "  </tbody>\n",
       "</table>\n",
       "<p>872 rows × 4 columns</p>\n",
       "</div>"
      ],
      "text/plain": [
       "                 ScreenName  Touchscreen  ResolutionWidth  ResolutionHeight\n",
       "1158                Full HD            0             1920              1080\n",
       "904       IPS Panel Full HD            0             1920              1080\n",
       "439                 Full HD            0             1920              1080\n",
       "581                                    0             1366               768\n",
       "676                 Full HD            0             1920              1080\n",
       "...                     ...          ...              ...               ...\n",
       "1044                Full HD            0             1920              1080\n",
       "1095                Full HD            0             1920              1080\n",
       "1130                                   0             1366               768\n",
       "860       IPS Panel Full HD            0             1920              1080\n",
       "1126  IPS Panel Touchscreen            1             1920              1200\n",
       "\n",
       "[872 rows x 4 columns]"
      ]
     },
     "execution_count": 18,
     "metadata": {},
     "output_type": "execute_result"
    }
   ],
   "source": [
    "# Extract screen details\n",
    "def extract_screen_details(resolution):\n",
    "    if pd.isna(resolution):\n",
    "        return None, 0, np.nan, np.nan\n",
    "    \n",
    "    parts = resolution.split(' ')\n",
    "    screen_name = ' '.join(parts[:-1])\n",
    "    resolution_part = parts[-1]\n",
    "    \n",
    "    if 'x' in resolution_part:\n",
    "        resolution_parts = resolution_part.split('x')\n",
    "        width = int(resolution_parts[0])\n",
    "        height = int(resolution_parts[1])\n",
    "    else:\n",
    "        width = np.nan\n",
    "        height = np.nan\n",
    "    \n",
    "    screen_type = None\n",
    "    touchscreen = 0\n",
    "    \n",
    "    for part in parts:\n",
    "        if 'Panel' in part:\n",
    "            screen_type = part\n",
    "        elif 'Touchscreen' in part:\n",
    "            touchscreen = 1\n",
    "    \n",
    "    return screen_name, touchscreen, width, height\n",
    "\n",
    "# Apply the function\n",
    "df_train['ScreenName'], df_train['Touchscreen'], df_train['ResolutionWidth'], df_train['ResolutionHeight'] = zip(*df_train['ScreenResolution'].apply(extract_screen_details))\n",
    "df_train['ResolutionWidth'] = pd.to_numeric(df_train['ResolutionWidth'], errors='coerce')\n",
    "df_train['ResolutionHeight'] = pd.to_numeric(df_train['ResolutionHeight'], errors='coerce')\n",
    "\n",
    "# Display the first few rows of the modified dataframe\n",
    "df_train[['ScreenName', 'Touchscreen', 'ResolutionWidth', 'ResolutionHeight']]\n"
   ]
  },
  {
   "cell_type": "code",
   "execution_count": 19,
   "id": "cc5c8109-afdf-4aba-bd63-6aa36910f65c",
   "metadata": {},
   "outputs": [],
   "source": [
    "#df_train.drop(columns=['GPU_Brand', 'Weight'], inplace=True)  \n",
    "#df_train.drop(columns=['CPU_Model', 'CPU_Clock_Speed'], inplace=True)  \n",
    "#df_train.drop(columns=['ScreenName', 'Touchscreen'], inplace=True)  \n",
    "#df_train.head()\n"
   ]
  },
  {
   "cell_type": "code",
   "execution_count": 20,
   "id": "cbb441cf-1f26-4e50-894b-0eba2cc82032",
   "metadata": {},
   "outputs": [
    {
     "data": {
      "text/plain": [
       "Index(['Company', 'TypeName', 'Inches', 'ScreenResolution', 'Cpu', 'Ram',\n",
       "       'Memory', 'Gpu', 'OpSys', 'Weight', 'MemoryType', 'CPU_Model',\n",
       "       'GPU_Brand', 'ScreenName'],\n",
       "      dtype='object')"
      ]
     },
     "execution_count": 20,
     "metadata": {},
     "output_type": "execute_result"
    }
   ],
   "source": [
    "df_train.select_dtypes(exclude = np.number).columns"
   ]
  },
  {
   "cell_type": "code",
   "execution_count": 21,
   "id": "3b9bce5f-9da1-4a8f-86e1-4d7553a7bb7f",
   "metadata": {},
   "outputs": [
    {
     "data": {
      "text/plain": [
       "Index(['Company', 'TypeName', 'Inches', 'ScreenResolution', 'Cpu', 'Ram',\n",
       "       'Memory', 'Gpu', 'OpSys', 'Weight', 'Price', 'MemoryType',\n",
       "       'MemoryCapacity', 'CPU_Model', 'CPU_Clock_Speed', 'GPU_Brand',\n",
       "       'RAM_Size', 'Laptop_Weight', 'ScreenName', 'Touchscreen',\n",
       "       'ResolutionWidth', 'ResolutionHeight'],\n",
       "      dtype='object')"
      ]
     },
     "execution_count": 21,
     "metadata": {},
     "output_type": "execute_result"
    }
   ],
   "source": [
    "df_train.columns"
   ]
  },
  {
   "cell_type": "markdown",
   "id": "2040fb15-dbdb-45d4-88ce-a6d4629bcd29",
   "metadata": {},
   "source": [
    "#Test df (Feature extraction )"
   ]
  },
  {
   "cell_type": "code",
   "execution_count": 22,
   "id": "0127f419-1eb2-4dc7-906b-6fb8df8ef971",
   "metadata": {},
   "outputs": [
    {
     "data": {
      "text/html": [
       "<div>\n",
       "<style scoped>\n",
       "    .dataframe tbody tr th:only-of-type {\n",
       "        vertical-align: middle;\n",
       "    }\n",
       "\n",
       "    .dataframe tbody tr th {\n",
       "        vertical-align: top;\n",
       "    }\n",
       "\n",
       "    .dataframe thead th {\n",
       "        text-align: right;\n",
       "    }\n",
       "</style>\n",
       "<table border=\"1\" class=\"dataframe\">\n",
       "  <thead>\n",
       "    <tr style=\"text-align: right;\">\n",
       "      <th></th>\n",
       "      <th>MemoryType</th>\n",
       "      <th>MemoryCapacity</th>\n",
       "    </tr>\n",
       "  </thead>\n",
       "  <tbody>\n",
       "    <tr>\n",
       "      <th>479</th>\n",
       "      <td>SSD</td>\n",
       "      <td>256.0</td>\n",
       "    </tr>\n",
       "    <tr>\n",
       "      <th>1022</th>\n",
       "      <td>SSD</td>\n",
       "      <td>256.0</td>\n",
       "    </tr>\n",
       "    <tr>\n",
       "      <th>298</th>\n",
       "      <td>HDD</td>\n",
       "      <td>1024.0</td>\n",
       "    </tr>\n",
       "    <tr>\n",
       "      <th>1265</th>\n",
       "      <td>HDD</td>\n",
       "      <td>1024.0</td>\n",
       "    </tr>\n",
       "    <tr>\n",
       "      <th>582</th>\n",
       "      <td>SSD</td>\n",
       "      <td>128.0</td>\n",
       "    </tr>\n",
       "    <tr>\n",
       "      <th>...</th>\n",
       "      <td>...</td>\n",
       "      <td>...</td>\n",
       "    </tr>\n",
       "    <tr>\n",
       "      <th>672</th>\n",
       "      <td>SSD</td>\n",
       "      <td>256.0</td>\n",
       "    </tr>\n",
       "    <tr>\n",
       "      <th>506</th>\n",
       "      <td>SSD</td>\n",
       "      <td>256.0</td>\n",
       "    </tr>\n",
       "    <tr>\n",
       "      <th>668</th>\n",
       "      <td>SSD</td>\n",
       "      <td>256.0</td>\n",
       "    </tr>\n",
       "    <tr>\n",
       "      <th>778</th>\n",
       "      <td>SSD</td>\n",
       "      <td>512.0</td>\n",
       "    </tr>\n",
       "    <tr>\n",
       "      <th>723</th>\n",
       "      <td>SSD</td>\n",
       "      <td>1024.0</td>\n",
       "    </tr>\n",
       "  </tbody>\n",
       "</table>\n",
       "<p>379 rows × 2 columns</p>\n",
       "</div>"
      ],
      "text/plain": [
       "     MemoryType  MemoryCapacity\n",
       "479         SSD           256.0\n",
       "1022        SSD           256.0\n",
       "298         HDD          1024.0\n",
       "1265        HDD          1024.0\n",
       "582         SSD           128.0\n",
       "...         ...             ...\n",
       "672         SSD           256.0\n",
       "506         SSD           256.0\n",
       "668         SSD           256.0\n",
       "778         SSD           512.0\n",
       "723         SSD          1024.0\n",
       "\n",
       "[379 rows x 2 columns]"
      ]
     },
     "execution_count": 22,
     "metadata": {},
     "output_type": "execute_result"
    }
   ],
   "source": [
    "# Memory Test Column\n",
    "df_test['MemoryType'] = df_test['Memory'].apply(lambda x: 'SSD' if 'SSD' in x else 'HDD')\n",
    "\n",
    "def extract_memory_capacity(memory):\n",
    "    memory_parts = memory.split()\n",
    "    size_part = memory_parts[0]\n",
    "    \n",
    "    numeric_part = ''.join([char for char in size_part if char.isdigit()])\n",
    "    unit_part = ''.join([char for char in size_part if char.isalpha()])\n",
    "    \n",
    "    if numeric_part:\n",
    "        capacity = float(numeric_part)\n",
    "        if unit_part.upper() == 'TB':\n",
    "            capacity *= 1024\n",
    "        return capacity\n",
    "    return None\n",
    "\n",
    "df_test['MemoryCapacity'] = df_test['Memory'].apply(extract_memory_capacity)\n",
    "df_test['MemoryCapacity'] = pd.to_numeric(df_test['MemoryCapacity'], errors='coerce')\n",
    "\n",
    "# Display relevant columns\n",
    "df_test[['MemoryType', 'MemoryCapacity']]\n"
   ]
  },
  {
   "cell_type": "code",
   "execution_count": 23,
   "id": "b4781914-9326-4e2f-8bba-775891956d69",
   "metadata": {},
   "outputs": [
    {
     "data": {
      "text/html": [
       "<div>\n",
       "<style scoped>\n",
       "    .dataframe tbody tr th:only-of-type {\n",
       "        vertical-align: middle;\n",
       "    }\n",
       "\n",
       "    .dataframe tbody tr th {\n",
       "        vertical-align: top;\n",
       "    }\n",
       "\n",
       "    .dataframe thead th {\n",
       "        text-align: right;\n",
       "    }\n",
       "</style>\n",
       "<table border=\"1\" class=\"dataframe\">\n",
       "  <thead>\n",
       "    <tr style=\"text-align: right;\">\n",
       "      <th></th>\n",
       "      <th>CPU_Model</th>\n",
       "      <th>CPU_Clock_Speed</th>\n",
       "    </tr>\n",
       "  </thead>\n",
       "  <tbody>\n",
       "    <tr>\n",
       "      <th>479</th>\n",
       "      <td>Intel Core i5 7200U</td>\n",
       "      <td>2.5</td>\n",
       "    </tr>\n",
       "    <tr>\n",
       "      <th>1022</th>\n",
       "      <td>Intel Core i5 7200U</td>\n",
       "      <td>2.5</td>\n",
       "    </tr>\n",
       "    <tr>\n",
       "      <th>298</th>\n",
       "      <td>AMD A10-Series 9600P</td>\n",
       "      <td>2.4</td>\n",
       "    </tr>\n",
       "    <tr>\n",
       "      <th>1265</th>\n",
       "      <td>Intel Core i7 6700HQ</td>\n",
       "      <td>2.6</td>\n",
       "    </tr>\n",
       "    <tr>\n",
       "      <th>582</th>\n",
       "      <td>Intel Core i3 7100U</td>\n",
       "      <td>2.4</td>\n",
       "    </tr>\n",
       "    <tr>\n",
       "      <th>...</th>\n",
       "      <td>...</td>\n",
       "      <td>...</td>\n",
       "    </tr>\n",
       "    <tr>\n",
       "      <th>672</th>\n",
       "      <td>Intel Core i5 7200U</td>\n",
       "      <td>2.5</td>\n",
       "    </tr>\n",
       "    <tr>\n",
       "      <th>506</th>\n",
       "      <td>Intel Core i7 7500U</td>\n",
       "      <td>2.7</td>\n",
       "    </tr>\n",
       "    <tr>\n",
       "      <th>668</th>\n",
       "      <td>Intel Core i5 7200U</td>\n",
       "      <td>2.5</td>\n",
       "    </tr>\n",
       "    <tr>\n",
       "      <th>778</th>\n",
       "      <td>Intel Core i7 7700HQ</td>\n",
       "      <td>2.8</td>\n",
       "    </tr>\n",
       "    <tr>\n",
       "      <th>723</th>\n",
       "      <td>Intel Core i7 7700HQ</td>\n",
       "      <td>2.8</td>\n",
       "    </tr>\n",
       "  </tbody>\n",
       "</table>\n",
       "<p>379 rows × 2 columns</p>\n",
       "</div>"
      ],
      "text/plain": [
       "                 CPU_Model  CPU_Clock_Speed\n",
       "479    Intel Core i5 7200U              2.5\n",
       "1022   Intel Core i5 7200U              2.5\n",
       "298   AMD A10-Series 9600P              2.4\n",
       "1265  Intel Core i7 6700HQ              2.6\n",
       "582    Intel Core i3 7100U              2.4\n",
       "...                    ...              ...\n",
       "672    Intel Core i5 7200U              2.5\n",
       "506    Intel Core i7 7500U              2.7\n",
       "668    Intel Core i5 7200U              2.5\n",
       "778   Intel Core i7 7700HQ              2.8\n",
       "723   Intel Core i7 7700HQ              2.8\n",
       "\n",
       "[379 rows x 2 columns]"
      ]
     },
     "execution_count": 23,
     "metadata": {},
     "output_type": "execute_result"
    }
   ],
   "source": [
    "# CPU Test Column\n",
    "def retrieve_cpu_model(cpu_string):\n",
    "    segments = cpu_string.split(' ')\n",
    "    if segments[-1].endswith('GHz'):\n",
    "        return ' '.join(segments[:-1])\n",
    "    else:\n",
    "        return ' '.join(segments[:-2])\n",
    "\n",
    "def retrieve_clock_speed(cpu_string):\n",
    "    speed_segment = cpu_string.split(' ')[-1]\n",
    "    return speed_segment.replace('GHz', '')\n",
    "\n",
    "# Apply the functions to the test dataset\n",
    "df_test['CPU_Model'] = df_test['Cpu'].apply(retrieve_cpu_model)\n",
    "df_test['CPU_Clock_Speed'] = df_test['Cpu'].apply(retrieve_clock_speed)\n",
    "df_test['CPU_Clock_Speed'] = pd.to_numeric(df_test['CPU_Clock_Speed'], errors='coerce')\n",
    "\n",
    "# Display relevant columns\n",
    "df_test[['CPU_Model', 'CPU_Clock_Speed']]\n"
   ]
  },
  {
   "cell_type": "code",
   "execution_count": 24,
   "id": "580fec6f-0403-4487-81c2-3cf2f829c919",
   "metadata": {},
   "outputs": [
    {
     "data": {
      "text/html": [
       "<div>\n",
       "<style scoped>\n",
       "    .dataframe tbody tr th:only-of-type {\n",
       "        vertical-align: middle;\n",
       "    }\n",
       "\n",
       "    .dataframe tbody tr th {\n",
       "        vertical-align: top;\n",
       "    }\n",
       "\n",
       "    .dataframe thead th {\n",
       "        text-align: right;\n",
       "    }\n",
       "</style>\n",
       "<table border=\"1\" class=\"dataframe\">\n",
       "  <thead>\n",
       "    <tr style=\"text-align: right;\">\n",
       "      <th></th>\n",
       "      <th>Gpu</th>\n",
       "      <th>GPU_Brand</th>\n",
       "    </tr>\n",
       "  </thead>\n",
       "  <tbody>\n",
       "    <tr>\n",
       "      <th>479</th>\n",
       "      <td>Intel HD Graphics 620</td>\n",
       "      <td>Intel</td>\n",
       "    </tr>\n",
       "    <tr>\n",
       "      <th>1022</th>\n",
       "      <td>Intel HD Graphics 620</td>\n",
       "      <td>Intel</td>\n",
       "    </tr>\n",
       "    <tr>\n",
       "      <th>298</th>\n",
       "      <td>AMD Radeon R5 430</td>\n",
       "      <td>AMD</td>\n",
       "    </tr>\n",
       "    <tr>\n",
       "      <th>1265</th>\n",
       "      <td>Nvidia GeForce GTX 960M</td>\n",
       "      <td>Nvidia</td>\n",
       "    </tr>\n",
       "    <tr>\n",
       "      <th>582</th>\n",
       "      <td>Intel HD Graphics 620</td>\n",
       "      <td>Intel</td>\n",
       "    </tr>\n",
       "    <tr>\n",
       "      <th>...</th>\n",
       "      <td>...</td>\n",
       "      <td>...</td>\n",
       "    </tr>\n",
       "    <tr>\n",
       "      <th>672</th>\n",
       "      <td>Intel HD Graphics 620</td>\n",
       "      <td>Intel</td>\n",
       "    </tr>\n",
       "    <tr>\n",
       "      <th>506</th>\n",
       "      <td>Intel HD Graphics 620</td>\n",
       "      <td>Intel</td>\n",
       "    </tr>\n",
       "    <tr>\n",
       "      <th>668</th>\n",
       "      <td>Intel HD Graphics 620</td>\n",
       "      <td>Intel</td>\n",
       "    </tr>\n",
       "    <tr>\n",
       "      <th>778</th>\n",
       "      <td>Nvidia GeForce GTX 1060</td>\n",
       "      <td>Nvidia</td>\n",
       "    </tr>\n",
       "    <tr>\n",
       "      <th>723</th>\n",
       "      <td>Nvidia GeForce GTX 1070</td>\n",
       "      <td>Nvidia</td>\n",
       "    </tr>\n",
       "  </tbody>\n",
       "</table>\n",
       "<p>379 rows × 2 columns</p>\n",
       "</div>"
      ],
      "text/plain": [
       "                          Gpu GPU_Brand\n",
       "479     Intel HD Graphics 620     Intel\n",
       "1022    Intel HD Graphics 620     Intel\n",
       "298         AMD Radeon R5 430       AMD\n",
       "1265  Nvidia GeForce GTX 960M    Nvidia\n",
       "582     Intel HD Graphics 620     Intel\n",
       "...                       ...       ...\n",
       "672     Intel HD Graphics 620     Intel\n",
       "506     Intel HD Graphics 620     Intel\n",
       "668     Intel HD Graphics 620     Intel\n",
       "778   Nvidia GeForce GTX 1060    Nvidia\n",
       "723   Nvidia GeForce GTX 1070    Nvidia\n",
       "\n",
       "[379 rows x 2 columns]"
      ]
     },
     "execution_count": 24,
     "metadata": {},
     "output_type": "execute_result"
    }
   ],
   "source": [
    "# GPU Test Column\n",
    "def retrieve_gpu_brand(gpu_info):\n",
    "    return gpu_info.split(' ')[0]\n",
    "\n",
    "df_test['GPU_Brand'] = df_test['Gpu'].apply(retrieve_gpu_brand)\n",
    "\n",
    "# Show relevant columns\n",
    "df_test[['Gpu', 'GPU_Brand']]\n"
   ]
  },
  {
   "cell_type": "code",
   "execution_count": 25,
   "id": "f0840b8f-995b-49cb-bd3b-4002fa217ef3",
   "metadata": {},
   "outputs": [
    {
     "data": {
      "text/plain": [
       "479      8\n",
       "1022     8\n",
       "298      6\n",
       "1265     8\n",
       "582      4\n",
       "        ..\n",
       "672      8\n",
       "506      8\n",
       "668      8\n",
       "778     16\n",
       "723     32\n",
       "Name: RAM_Size, Length: 379, dtype: int64"
      ]
     },
     "execution_count": 25,
     "metadata": {},
     "output_type": "execute_result"
    }
   ],
   "source": [
    "# RAM Test Column\n",
    "df_test['RAM_Size'] = df_test['Ram'].str.replace('GB', '', regex=False)\n",
    "df_test['RAM_Size'] = pd.to_numeric(df_test['RAM_Size'], errors='coerce')\n",
    "\n",
    "# Display the updated column\n",
    "df_test['RAM_Size']\n"
   ]
  },
  {
   "cell_type": "code",
   "execution_count": 26,
   "id": "869accfb-d575-4575-a41f-e73b4f4ad1e6",
   "metadata": {},
   "outputs": [
    {
     "data": {
      "text/plain": [
       "479     1.05\n",
       "1022    1.11\n",
       "298     2.40\n",
       "1265    2.60\n",
       "582     1.49\n",
       "        ... \n",
       "672     1.30\n",
       "506     2.00\n",
       "668     2.00\n",
       "778     1.95\n",
       "723     4.36\n",
       "Name: Laptop_Weight, Length: 379, dtype: float64"
      ]
     },
     "execution_count": 26,
     "metadata": {},
     "output_type": "execute_result"
    }
   ],
   "source": [
    "# Weight Test Column\n",
    "df_test['Laptop_Weight'] = df_test['Weight'].str.replace('kg', '', regex=False)\n",
    "df_test['Laptop_Weight'] = pd.to_numeric(df_test['Laptop_Weight'], errors='coerce')\n",
    "\n",
    "# Display the updated column\n",
    "df_test['Laptop_Weight']\n"
   ]
  },
  {
   "cell_type": "code",
   "execution_count": 27,
   "id": "d9c2e010-0d48-4318-b362-705a1a8681e2",
   "metadata": {},
   "outputs": [
    {
     "data": {
      "text/html": [
       "<div>\n",
       "<style scoped>\n",
       "    .dataframe tbody tr th:only-of-type {\n",
       "        vertical-align: middle;\n",
       "    }\n",
       "\n",
       "    .dataframe tbody tr th {\n",
       "        vertical-align: top;\n",
       "    }\n",
       "\n",
       "    .dataframe thead th {\n",
       "        text-align: right;\n",
       "    }\n",
       "</style>\n",
       "<table border=\"1\" class=\"dataframe\">\n",
       "  <thead>\n",
       "    <tr style=\"text-align: right;\">\n",
       "      <th></th>\n",
       "      <th>ScreenName</th>\n",
       "      <th>Touchscreen</th>\n",
       "      <th>ResolutionWidth</th>\n",
       "      <th>ResolutionHeight</th>\n",
       "    </tr>\n",
       "  </thead>\n",
       "  <tbody>\n",
       "    <tr>\n",
       "      <th>479</th>\n",
       "      <td>IPS Panel Full HD</td>\n",
       "      <td>0</td>\n",
       "      <td>1920</td>\n",
       "      <td>1080</td>\n",
       "    </tr>\n",
       "    <tr>\n",
       "      <th>1022</th>\n",
       "      <td>IPS Panel Full HD</td>\n",
       "      <td>0</td>\n",
       "      <td>1920</td>\n",
       "      <td>1080</td>\n",
       "    </tr>\n",
       "    <tr>\n",
       "      <th>298</th>\n",
       "      <td>Full HD</td>\n",
       "      <td>0</td>\n",
       "      <td>1920</td>\n",
       "      <td>1080</td>\n",
       "    </tr>\n",
       "    <tr>\n",
       "      <th>1265</th>\n",
       "      <td>IPS Panel Full HD</td>\n",
       "      <td>0</td>\n",
       "      <td>1920</td>\n",
       "      <td>1080</td>\n",
       "    </tr>\n",
       "    <tr>\n",
       "      <th>582</th>\n",
       "      <td>Full HD</td>\n",
       "      <td>0</td>\n",
       "      <td>1920</td>\n",
       "      <td>1080</td>\n",
       "    </tr>\n",
       "    <tr>\n",
       "      <th>...</th>\n",
       "      <td>...</td>\n",
       "      <td>...</td>\n",
       "      <td>...</td>\n",
       "      <td>...</td>\n",
       "    </tr>\n",
       "    <tr>\n",
       "      <th>672</th>\n",
       "      <td>IPS Panel Full HD / Touchscreen</td>\n",
       "      <td>1</td>\n",
       "      <td>1920</td>\n",
       "      <td>1080</td>\n",
       "    </tr>\n",
       "    <tr>\n",
       "      <th>506</th>\n",
       "      <td>Full HD</td>\n",
       "      <td>0</td>\n",
       "      <td>1920</td>\n",
       "      <td>1080</td>\n",
       "    </tr>\n",
       "    <tr>\n",
       "      <th>668</th>\n",
       "      <td>IPS Panel Full HD</td>\n",
       "      <td>0</td>\n",
       "      <td>1920</td>\n",
       "      <td>1080</td>\n",
       "    </tr>\n",
       "    <tr>\n",
       "      <th>778</th>\n",
       "      <td>Full HD</td>\n",
       "      <td>0</td>\n",
       "      <td>1920</td>\n",
       "      <td>1080</td>\n",
       "    </tr>\n",
       "    <tr>\n",
       "      <th>723</th>\n",
       "      <td>4K Ultra HD</td>\n",
       "      <td>0</td>\n",
       "      <td>3840</td>\n",
       "      <td>2160</td>\n",
       "    </tr>\n",
       "  </tbody>\n",
       "</table>\n",
       "<p>379 rows × 4 columns</p>\n",
       "</div>"
      ],
      "text/plain": [
       "                           ScreenName  Touchscreen  ResolutionWidth  \\\n",
       "479                 IPS Panel Full HD            0             1920   \n",
       "1022                IPS Panel Full HD            0             1920   \n",
       "298                           Full HD            0             1920   \n",
       "1265                IPS Panel Full HD            0             1920   \n",
       "582                           Full HD            0             1920   \n",
       "...                               ...          ...              ...   \n",
       "672   IPS Panel Full HD / Touchscreen            1             1920   \n",
       "506                           Full HD            0             1920   \n",
       "668                 IPS Panel Full HD            0             1920   \n",
       "778                           Full HD            0             1920   \n",
       "723                       4K Ultra HD            0             3840   \n",
       "\n",
       "      ResolutionHeight  \n",
       "479               1080  \n",
       "1022              1080  \n",
       "298               1080  \n",
       "1265              1080  \n",
       "582               1080  \n",
       "...                ...  \n",
       "672               1080  \n",
       "506               1080  \n",
       "668               1080  \n",
       "778               1080  \n",
       "723               2160  \n",
       "\n",
       "[379 rows x 4 columns]"
      ]
     },
     "execution_count": 27,
     "metadata": {},
     "output_type": "execute_result"
    }
   ],
   "source": [
    "# Screen Resolution Test Column\n",
    "def parse_screen_info(resolution):\n",
    "    if pd.isna(resolution):\n",
    "        return None, 0, np.nan, np.nan\n",
    "    \n",
    "    components = resolution.split(' ')\n",
    "    screen_identifier = ' '.join(components[:-1])\n",
    "    res_part = components[-1]\n",
    "    \n",
    "    if 'x' in res_part:\n",
    "        dimensions = res_part.split('x')\n",
    "        width = int(dimensions[0])\n",
    "        height = int(dimensions[1])\n",
    "    else:\n",
    "        width = np.nan\n",
    "        height = np.nan\n",
    "    \n",
    "    screen_type = None\n",
    "    is_touchscreen = 0\n",
    "    \n",
    "    for component in components:\n",
    "        if 'Panel' in component:\n",
    "            screen_type = component\n",
    "        elif 'Touchscreen' in component:\n",
    "            is_touchscreen = 1\n",
    "    \n",
    "    return screen_identifier, is_touchscreen, width, height\n",
    "\n",
    "# Apply the function\n",
    "df_test['ScreenName'], df_test['Touchscreen'], df_test['ResolutionWidth'], df_test['ResolutionHeight'] = zip(*df_test['ScreenResolution'].apply(parse_screen_info))\n",
    "df_test['ResolutionWidth'] = pd.to_numeric(df_test['ResolutionWidth'], errors='coerce')\n",
    "df_test['ResolutionHeight'] = pd.to_numeric(df_test['ResolutionHeight'], errors='coerce')\n",
    "\n",
    "# Display the updated columns\n",
    "df_test[['ScreenName', 'Touchscreen', 'ResolutionWidth', 'ResolutionHeight']]\n"
   ]
  },
  {
   "cell_type": "code",
   "execution_count": 28,
   "id": "801dfbe4-9278-41ad-b4e4-312af6d9a91d",
   "metadata": {},
   "outputs": [],
   "source": [
    "# Remove unnecessary columns from the test DataFrame\n",
    "#df_test.drop(columns=['Memory', 'Cpu', 'ScreenResolution'], inplace=True)\n",
    "\n",
    "# Display the first few rows of the updated DataFrame\n",
    "#df_test.head()\n"
   ]
  },
  {
   "cell_type": "code",
   "execution_count": 29,
   "id": "4c62458d-e827-4f8e-9e42-428e49a20afb",
   "metadata": {},
   "outputs": [
    {
     "data": {
      "text/plain": [
       "Index(['Company', 'TypeName', 'Inches', 'ScreenResolution', 'Cpu', 'Ram',\n",
       "       'Memory', 'Gpu', 'OpSys', 'Weight', 'Price', 'MemoryType',\n",
       "       'MemoryCapacity', 'CPU_Model', 'CPU_Clock_Speed', 'GPU_Brand',\n",
       "       'RAM_Size', 'Laptop_Weight', 'ScreenName', 'Touchscreen',\n",
       "       'ResolutionWidth', 'ResolutionHeight'],\n",
       "      dtype='object')"
      ]
     },
     "execution_count": 29,
     "metadata": {},
     "output_type": "execute_result"
    }
   ],
   "source": [
    "df_test.columns"
   ]
  },
  {
   "cell_type": "code",
   "execution_count": 30,
   "id": "a65dccec-fa80-4313-bbd4-14b2af8f8a35",
   "metadata": {},
   "outputs": [
    {
     "name": "stderr",
     "output_type": "stream",
     "text": [
      "C:\\Users\\71591\\AppData\\Local\\Temp\\ipykernel_25572\\2083229702.py:2: SettingWithCopyWarning: \n",
      "A value is trying to be set on a copy of a slice from a DataFrame\n",
      "\n",
      "See the caveats in the documentation: https://pandas.pydata.org/pandas-docs/stable/user_guide/indexing.html#returning-a-view-versus-a-copy\n",
      "  df_train.dropna(inplace = True)\n"
     ]
    },
    {
     "data": {
      "text/plain": [
       "Company             0\n",
       "TypeName            0\n",
       "Inches              0\n",
       "ScreenResolution    0\n",
       "Cpu                 0\n",
       "Ram                 0\n",
       "Memory              0\n",
       "Gpu                 0\n",
       "OpSys               0\n",
       "Weight              0\n",
       "Price               0\n",
       "MemoryType          0\n",
       "MemoryCapacity      0\n",
       "CPU_Model           0\n",
       "CPU_Clock_Speed     0\n",
       "GPU_Brand           0\n",
       "RAM_Size            0\n",
       "Laptop_Weight       0\n",
       "ScreenName          0\n",
       "Touchscreen         0\n",
       "ResolutionWidth     0\n",
       "ResolutionHeight    0\n",
       "dtype: int64"
      ]
     },
     "execution_count": 30,
     "metadata": {},
     "output_type": "execute_result"
    }
   ],
   "source": [
    "df_train.isna().sum()\n",
    "df_train.dropna(inplace = True)\n",
    "df_train.isna().sum()"
   ]
  },
  {
   "cell_type": "code",
   "execution_count": 31,
   "id": "d8e93603-beb6-4485-bcee-558a89fbc678",
   "metadata": {},
   "outputs": [
    {
     "data": {
      "text/plain": [
       "Company             0\n",
       "TypeName            0\n",
       "Inches              0\n",
       "ScreenResolution    0\n",
       "Cpu                 0\n",
       "Ram                 0\n",
       "Memory              0\n",
       "Gpu                 0\n",
       "OpSys               0\n",
       "Weight              0\n",
       "Price               0\n",
       "MemoryType          0\n",
       "MemoryCapacity      0\n",
       "CPU_Model           0\n",
       "CPU_Clock_Speed     0\n",
       "GPU_Brand           0\n",
       "RAM_Size            0\n",
       "Laptop_Weight       0\n",
       "ScreenName          0\n",
       "Touchscreen         0\n",
       "ResolutionWidth     0\n",
       "ResolutionHeight    0\n",
       "dtype: int64"
      ]
     },
     "execution_count": 31,
     "metadata": {},
     "output_type": "execute_result"
    }
   ],
   "source": [
    "df_test.isna().sum()\n",
    "df_test.dropna(inplace = True)\n",
    "df_test.isna().sum()"
   ]
  },
  {
   "cell_type": "code",
   "execution_count": 32,
   "id": "47fdc85e-4a7b-41c9-a7af-3c14b375c2de",
   "metadata": {},
   "outputs": [
    {
     "data": {
      "text/plain": [
       "Index(['Company', 'TypeName', 'Inches', 'ScreenResolution', 'Cpu', 'Ram',\n",
       "       'Memory', 'Gpu', 'OpSys', 'Weight', 'MemoryType', 'CPU_Model',\n",
       "       'GPU_Brand', 'ScreenName'],\n",
       "      dtype='object')"
      ]
     },
     "execution_count": 32,
     "metadata": {},
     "output_type": "execute_result"
    }
   ],
   "source": [
    "categorical = df_train.select_dtypes(exclude = np.number).columns\n",
    "categorical"
   ]
  },
  {
   "cell_type": "code",
   "execution_count": 33,
   "id": "7378ac42-4c40-435b-a59e-d7be61018a44",
   "metadata": {},
   "outputs": [
    {
     "name": "stderr",
     "output_type": "stream",
     "text": [
      "C:\\Users\\71591\\AppData\\Local\\anaconda3\\Lib\\site-packages\\sklearn\\preprocessing\\_encoders.py:202: UserWarning: Found unknown categories in columns [2, 3, 4, 6, 7, 9, 11] during transform. These unknown categories will be encoded as all zeros\n",
      "  warnings.warn(\n"
     ]
    }
   ],
   "source": [
    "from sklearn.preprocessing import OneHotEncoder\n",
    "\n",
    "encoder = OneHotEncoder(handle_unknown='ignore', drop='first')\n",
    "\n",
    "# Fit the encoder on the training data and transform both train and test data\n",
    "df_train_encoded = encoder.fit_transform(df_train[categorical])\n",
    "df_test_encoded = encoder.transform(df_test[categorical])\n"
   ]
  },
  {
   "cell_type": "code",
   "execution_count": 34,
   "id": "88bd3ef1-8e5e-40ed-809a-5586c567ad38",
   "metadata": {
    "scrolled": true
   },
   "outputs": [
    {
     "name": "stdout",
     "output_type": "stream",
     "text": [
      "Company              object\n",
      "TypeName             object\n",
      "Inches               object\n",
      "ScreenResolution     object\n",
      "Cpu                  object\n",
      "Ram                  object\n",
      "Memory               object\n",
      "Gpu                  object\n",
      "OpSys                object\n",
      "Weight               object\n",
      "Price               float64\n",
      "MemoryType           object\n",
      "MemoryCapacity      float64\n",
      "CPU_Model            object\n",
      "CPU_Clock_Speed     float64\n",
      "GPU_Brand            object\n",
      "RAM_Size              int64\n",
      "Laptop_Weight       float64\n",
      "ScreenName           object\n",
      "Touchscreen           int64\n",
      "ResolutionWidth       int64\n",
      "ResolutionHeight      int64\n",
      "dtype: object\n"
     ]
    }
   ],
   "source": [
    "print(df_train.dtypes)\n"
   ]
  },
  {
   "cell_type": "code",
   "execution_count": 35,
   "id": "796018d5-154e-4843-b561-66134ba40f14",
   "metadata": {
    "scrolled": true
   },
   "outputs": [],
   "source": [
    "#classes = dict()\n",
    "#le = LabelEncoder()\n",
    "#for col in categorical:\n",
    " #   df_train[col]= le.fit_transform(df_train[col])\n",
    "  #  df_test[col]= le.transform(df_test[col])\n",
    "   # classes[col] = le.classes_"
   ]
  },
  {
   "cell_type": "code",
   "execution_count": 36,
   "id": "4a70a897-99ff-40f0-a9b3-b6684bb392ef",
   "metadata": {},
   "outputs": [
    {
     "name": "stderr",
     "output_type": "stream",
     "text": [
      "C:\\Users\\71591\\AppData\\Local\\Temp\\ipykernel_25572\\21152926.py:1: SettingWithCopyWarning: \n",
      "A value is trying to be set on a copy of a slice from a DataFrame\n",
      "\n",
      "See the caveats in the documentation: https://pandas.pydata.org/pandas-docs/stable/user_guide/indexing.html#returning-a-view-versus-a-copy\n",
      "  df_train.dropna(inplace = True)\n"
     ]
    }
   ],
   "source": [
    "df_train.dropna(inplace = True)\n",
    "df_test.dropna(inplace = True)"
   ]
  },
  {
   "cell_type": "code",
   "execution_count": 34,
   "id": "03345d34-b6fb-47dc-af85-4d617154af45",
   "metadata": {},
   "outputs": [],
   "source": [
    "x_train, y_train = df_train.drop(columns = 'Price').values, df_train['Price'].values\n",
    "x_test, y_test = df_test.drop(columns = 'Price').values, df_test['Price'].values"
   ]
  },
  {
   "cell_type": "code",
   "execution_count": 37,
   "id": "19d4cd10-f06c-4b58-82d2-b61be6ea1266",
   "metadata": {},
   "outputs": [],
   "source": [
    "#reg = LinearRegression() # ols\n",
    "#reg.fit(x_train, y_train)"
   ]
  },
  {
   "cell_type": "code",
   "execution_count": 36,
   "id": "5ec6210f-97fc-4ddc-bd69-24a38d34b153",
   "metadata": {},
   "outputs": [
    {
     "data": {
      "text/plain": [
       "(872, 21)"
      ]
     },
     "execution_count": 36,
     "metadata": {},
     "output_type": "execute_result"
    }
   ],
   "source": [
    "x_test.shape\n",
    "x_train.shape"
   ]
  },
  {
   "cell_type": "code",
   "execution_count": 38,
   "id": "54112474-c734-4a5f-b730-c2e410c2e765",
   "metadata": {},
   "outputs": [],
   "source": [
    "#y_pred = reg.predict(x_test)"
   ]
  },
  {
   "cell_type": "code",
   "execution_count": 39,
   "id": "3cf3db46-4ca8-46c7-933f-92196690d71f",
   "metadata": {},
   "outputs": [],
   "source": [
    "#y_pred[:10]"
   ]
  },
  {
   "cell_type": "code",
   "execution_count": 49,
   "id": "c0eb723c-915d-41fd-ba26-fbe629fcdc25",
   "metadata": {},
   "outputs": [
    {
     "data": {
      "text/plain": [
       "array([ 89084.16,  61218.72,  26586.72,  47898.72,  38308.32,  24455.52,\n",
       "        63456.48,  18594.72, 101178.72,  38681.28])"
      ]
     },
     "execution_count": 49,
     "metadata": {},
     "output_type": "execute_result"
    }
   ],
   "source": [
    "y_test[:10]"
   ]
  },
  {
   "cell_type": "code",
   "execution_count": 40,
   "id": "829418a2-5b04-466e-8e13-d41e4d50ff74",
   "metadata": {},
   "outputs": [],
   "source": [
    "from sklearn.metrics import r2_score, mean_squared_error, mean_absolute_error\n",
    "#r2_score(y_test, y_pred), mean_squared_error(y_test, y_pred), mean_absolute_error(y_test, y_pred)"
   ]
  },
  {
   "cell_type": "code",
   "execution_count": 41,
   "id": "33d45913-4ad6-4266-89fb-260ebf6acb12",
   "metadata": {},
   "outputs": [],
   "source": [
    "from sklearn.linear_model import Ridge\n",
    "\n",
    "#ridge_reg = Ridge(alpha=1.0)\n",
    "#ridge_reg.fit(x_train, y_train)\n",
    "#y_pred_ridge = ridge_reg.predict(x_test)"
   ]
  },
  {
   "cell_type": "code",
   "execution_count": null,
   "id": "2c4804b2-8895-4f67-9384-07ac47e23168",
   "metadata": {},
   "outputs": [],
   "source": [
    "r2_score(y_test, y_pred_ridge), mean_squared_error(y_test, y_pred_ridge), mean_absolute_error(y_test, y_pred_ridge)"
   ]
  },
  {
   "cell_type": "code",
   "execution_count": null,
   "id": "b773b1d8-7d04-4aa9-9741-e3807a2a19e5",
   "metadata": {},
   "outputs": [],
   "source": []
  }
 ],
 "metadata": {
  "kernelspec": {
   "display_name": "Python 3 (ipykernel)",
   "language": "python",
   "name": "python3"
  },
  "language_info": {
   "codemirror_mode": {
    "name": "ipython",
    "version": 3
   },
   "file_extension": ".py",
   "mimetype": "text/x-python",
   "name": "python",
   "nbconvert_exporter": "python",
   "pygments_lexer": "ipython3",
   "version": "3.11.7"
  }
 },
 "nbformat": 4,
 "nbformat_minor": 5
}
