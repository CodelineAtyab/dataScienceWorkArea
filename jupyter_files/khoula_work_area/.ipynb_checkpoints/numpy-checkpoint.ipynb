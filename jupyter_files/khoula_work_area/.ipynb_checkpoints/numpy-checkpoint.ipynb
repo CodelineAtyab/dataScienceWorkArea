{
 "cells": [
  {
   "cell_type": "markdown",
   "id": "57a7476f-ee60-4717-be0b-bd84a26056b8",
   "metadata": {},
   "source": [
    "# ✨ Numpy ✨"
   ]
  },
  {
   "cell_type": "markdown",
   "id": "e74c1a75-0514-4ce9-8cc6-da68fd9ceeb0",
   "metadata": {},
   "source": [
    "## Why Numpy array not a list?"
   ]
  },
  {
   "cell_type": "code",
   "execution_count": 1,
   "id": "8f3e1896-2cd5-4ece-b520-546d17d89af9",
   "metadata": {},
   "outputs": [],
   "source": [
    "import numpy as np\n",
    "import time\n",
    "import random\n"
   ]
  },
  {
   "cell_type": "markdown",
   "id": "9353e451-1f19-4f90-abea-dfa8006cfe19",
   "metadata": {},
   "source": [
    "# ⚔️ Basics of ndarrays\n",
    "### 🗡️ Creat 100 x 3 random list and a 100 x 3 random array"
   ]
  },
  {
   "cell_type": "code",
   "execution_count": 2,
   "id": "981f5b10-e413-48c5-9c4b-3b219d8c5243",
   "metadata": {},
   "outputs": [],
   "source": [
    "## Python list\n",
    "plist = [[random.random() for j in range(3)] for i in range(10)]\n",
    "## np array\n",
    "arr = np.random.rand(10,3)"
   ]
  },
  {
   "cell_type": "markdown",
   "id": "05e050f9-d500-4208-944e-67f784aff8b3",
   "metadata": {},
   "source": [
    "### 🗡️ Print the number of rows and columns of the list and array"
   ]
  },
  {
   "cell_type": "code",
   "execution_count": 3,
   "id": "4188d062-1a0c-423b-a94c-72b8944e66ed",
   "metadata": {
    "scrolled": true
   },
   "outputs": [
    {
     "name": "stdout",
     "output_type": "stream",
     "text": [
      "(10,3)\n"
     ]
    },
    {
     "data": {
      "text/plain": [
       "(10, 3)"
      ]
     },
     "execution_count": 3,
     "metadata": {},
     "output_type": "execute_result"
    }
   ],
   "source": [
    "# dimentions\n",
    "print(f\"({len(plist)},{len(plist[0])})\")\n",
    "arr.shape"
   ]
  },
  {
   "cell_type": "markdown",
   "id": "25cc6fe8-3667-4804-bde6-459952b3e9b0",
   "metadata": {},
   "source": [
    "### 🗡️ Print the second element from the first row"
   ]
  },
  {
   "cell_type": "code",
   "execution_count": 4,
   "id": "ed8a7f36-0470-4664-ba0d-5cd6f357744b",
   "metadata": {},
   "outputs": [
    {
     "name": "stdout",
     "output_type": "stream",
     "text": [
      "0.4518428397304428\n",
      "0.547231627142127\n"
     ]
    }
   ],
   "source": [
    "# access Values \n",
    "print(plist[0][1])\n",
    "print(arr[0, 1])"
   ]
  },
  {
   "cell_type": "markdown",
   "id": "7aca748b-f13d-4fc3-b2d6-e27cfd7e07d7",
   "metadata": {},
   "source": [
    "### 🗡️ Print a matrix that contains the elements from second row to 4th ans 2nd column to 3ed column\n",
    "![Sliceing](\\numpy-indexing-and-slicing.jpg)"
   ]
  },
  {
   "cell_type": "code",
   "execution_count": 5,
   "id": "80305470-4ec8-4852-b78a-9a7ac60699a0",
   "metadata": {},
   "outputs": [
    {
     "name": "stdout",
     "output_type": "stream",
     "text": [
      "[[0.7968703878233424, 0.4963619528498664], [0.6635550093080095, 0.5159220328281674], [0.9255254524268463, 0.9258563770077891], [0.7318250384513652, 0.7358698013251214]]\n",
      "[[0.52609041 0.12966749]\n",
      " [0.73488655 0.53058432]\n",
      " [0.72841285 0.06798106]\n",
      " [0.60512969 0.45270789]]\n"
     ]
    }
   ],
   "source": [
    "# Slicing\n",
    "print([x[1:3] for x in plist[1:5]])\n",
    "print(arr[1:5,1:3])"
   ]
  },
  {
   "cell_type": "markdown",
   "id": "c1341e82-b0d4-404a-b929-d5fc59cbbb71",
   "metadata": {},
   "source": [
    "## 🗡️ Shape and type"
   ]
  },
  {
   "cell_type": "code",
   "execution_count": 6,
   "id": "f6fb4282-0f20-4e71-9767-66c4107cfb7b",
   "metadata": {},
   "outputs": [
    {
     "data": {
      "text/plain": [
       "(10, 3)"
      ]
     },
     "execution_count": 6,
     "metadata": {},
     "output_type": "execute_result"
    }
   ],
   "source": [
    "arr.shape"
   ]
  },
  {
   "cell_type": "code",
   "execution_count": 7,
   "id": "58d68b6c-d9a8-4fb2-94a3-0bfa4a6484b9",
   "metadata": {},
   "outputs": [
    {
     "data": {
      "text/plain": [
       "30"
      ]
     },
     "execution_count": 7,
     "metadata": {},
     "output_type": "execute_result"
    }
   ],
   "source": [
    "arr.size"
   ]
  },
  {
   "cell_type": "code",
   "execution_count": 8,
   "id": "50a45b91-1804-4ecf-9f6e-c964773cb212",
   "metadata": {},
   "outputs": [
    {
     "data": {
      "text/plain": [
       "dtype('float64')"
      ]
     },
     "execution_count": 8,
     "metadata": {},
     "output_type": "execute_result"
    }
   ],
   "source": [
    "arr.dtype"
   ]
  },
  {
   "cell_type": "code",
   "execution_count": 9,
   "id": "9a5eafb4-11a4-46a7-a962-526fe5355ee0",
   "metadata": {
    "scrolled": true
   },
   "outputs": [
    {
     "data": {
      "text/plain": [
       "array([[0.22529025, 0.76341828, 0.59182767, 0.09022042, 0.6965922 ,\n",
       "        0.16804957, 0.74420313, 0.5246785 , 0.09645607, 0.03224715],\n",
       "       [0.54723163, 0.52609041, 0.73488655, 0.72841285, 0.60512969,\n",
       "        0.61022555, 0.52280711, 0.49989951, 0.66645244, 0.10675395],\n",
       "       [0.26375464, 0.12966749, 0.53058432, 0.06798106, 0.45270789,\n",
       "        0.65969659, 0.71403898, 0.57191689, 0.03036395, 0.24525863]])"
      ]
     },
     "execution_count": 9,
     "metadata": {},
     "output_type": "execute_result"
    }
   ],
   "source": [
    "arr.T"
   ]
  },
  {
   "cell_type": "code",
   "execution_count": 10,
   "id": "e4cbb214-fdb0-4c5e-9b55-3e7122001655",
   "metadata": {},
   "outputs": [
    {
     "data": {
      "text/plain": [
       "array([0.22529025, 0.54723163, 0.26375464, 0.76341828, 0.52609041,\n",
       "       0.12966749, 0.59182767, 0.73488655, 0.53058432, 0.09022042,\n",
       "       0.72841285, 0.06798106, 0.6965922 , 0.60512969, 0.45270789,\n",
       "       0.16804957, 0.61022555, 0.65969659, 0.74420313, 0.52280711,\n",
       "       0.71403898, 0.5246785 , 0.49989951, 0.57191689, 0.09645607,\n",
       "       0.66645244, 0.03036395, 0.03224715, 0.10675395, 0.24525863])"
      ]
     },
     "execution_count": 10,
     "metadata": {},
     "output_type": "execute_result"
    }
   ],
   "source": [
    "arr.flatten()"
   ]
  },
  {
   "cell_type": "markdown",
   "id": "7cb86531-8d1c-4c63-b89d-5ee712d25973",
   "metadata": {},
   "source": [
    "# 📊 Aggregation Function"
   ]
  },
  {
   "cell_type": "markdown",
   "id": "ad18148a-ffe9-4144-9939-47c97afa8bfa",
   "metadata": {},
   "source": [
    "### 📊 Print the sum, min, max, and the mean  of all elements"
   ]
  },
  {
   "cell_type": "code",
   "execution_count": 11,
   "id": "1c750e76-c01b-4df7-a1f1-b77935cdf03d",
   "metadata": {},
   "outputs": [
    {
     "name": "stdout",
     "output_type": "stream",
     "text": [
      "Python List\n",
      "Sum: 14.838145037208486\n",
      "Min: 0.05009022035036248\n",
      "Max: 0.9830584077451715\n",
      "Mean: 0.4946048345736162\n",
      "\n",
      "np Array\n",
      "Sum: 13.14684339325273\n",
      "Min: 0.030363952675630745\n",
      "Max: 0.7634182807347264\n",
      "Mean: 0.43822811310842436\n"
     ]
    }
   ],
   "source": [
    "# List\n",
    "print(\"Python List\")\n",
    "print(f\"Sum: {sum(sum(plist,[]))}\")\n",
    "print(f\"Min: {min(map(min, plist))}\")\n",
    "print(f\"Max: {max(map(max, plist))}\")\n",
    "print(f\"Mean: {sum(sum(plist,[]))/(len(plist)*len(plist[0]))}\")\n",
    "\n",
    "print('\\nnp Array')\n",
    "# np Array\n",
    "print(f\"Sum: {arr.sum()}\")\n",
    "print(f\"Min: {arr.min()}\")\n",
    "print(f\"Max: {arr.max()}\")\n",
    "print(f\"Mean: {arr.mean()}\")"
   ]
  },
  {
   "cell_type": "markdown",
   "id": "1a1beac1-387c-43a0-9bf3-76ea9d528797",
   "metadata": {},
   "source": [
    "### 📊 Print the sum, min, max, and the mean  of each column"
   ]
  },
  {
   "cell_type": "code",
   "execution_count": 12,
   "id": "fcb3dfec-1bf2-4d4c-b673-ed7c82252c7f",
   "metadata": {},
   "outputs": [
    {
     "data": {
      "text/plain": [
       "[3.963196069609124, 5.3846350553804605, 5.490313912218902]"
      ]
     },
     "execution_count": 12,
     "metadata": {},
     "output_type": "execute_result"
    }
   ],
   "source": [
    "total = [0]* len(plist)\n",
    "for row in plist:\n",
    "    total = [total[j] +row[j] for j in range(len(row))]\n",
    "total"
   ]
  },
  {
   "cell_type": "code",
   "execution_count": 13,
   "id": "3f1452dc-8d3f-4102-b211-00ba717aa210",
   "metadata": {},
   "outputs": [
    {
     "name": "stdout",
     "output_type": "stream",
     "text": [
      "Python List\n",
      "Sum: [3.963196069609124, 5.3846350553804605, 5.490313912218902]\n",
      "\n",
      "np Array\n",
      "Sum: [3.93298326 5.54788969 3.66597045]\n",
      "Min: [0.03224715 0.10675395 0.03036395]\n",
      "Max: [0.76341828 0.73488655 0.71403898]\n",
      "Mean: [0.39329833 0.55478897 0.36659704]\n"
     ]
    }
   ],
   "source": [
    "print(\"Python List\")\n",
    "print(f\"Sum: {total}\")\n",
    "\n",
    "\n",
    "print('\\nnp Array')\n",
    "# np Array\n",
    "print(f\"Sum: {arr.sum(axis=0)}\")\n",
    "print(f\"Min: {np.min(arr, axis=0)}\")\n",
    "print(f\"Max: {arr.max(axis=0)}\")\n",
    "print(f\"Mean: {arr.mean(axis=0)}\")"
   ]
  },
  {
   "cell_type": "markdown",
   "id": "4dfd2eac-e1a6-44af-93ed-ffb4294ee796",
   "metadata": {},
   "source": [
    "# 🚀 Universal Functions (Broadcasting)"
   ]
  },
  {
   "cell_type": "code",
   "execution_count": 14,
   "id": "2df37b7b-a2e2-4cc1-8166-0c52444a362d",
   "metadata": {},
   "outputs": [
    {
     "data": {
      "text/plain": [
       "array([[2.22529025, 2.54723163, 2.26375464],\n",
       "       [2.76341828, 2.52609041, 2.12966749],\n",
       "       [2.59182767, 2.73488655, 2.53058432],\n",
       "       [2.09022042, 2.72841285, 2.06798106],\n",
       "       [2.6965922 , 2.60512969, 2.45270789],\n",
       "       [2.16804957, 2.61022555, 2.65969659],\n",
       "       [2.74420313, 2.52280711, 2.71403898],\n",
       "       [2.5246785 , 2.49989951, 2.57191689],\n",
       "       [2.09645607, 2.66645244, 2.03036395],\n",
       "       [2.03224715, 2.10675395, 2.24525863]])"
      ]
     },
     "execution_count": 14,
     "metadata": {},
     "output_type": "execute_result"
    }
   ],
   "source": [
    "np.add(2, arr)"
   ]
  },
  {
   "cell_type": "code",
   "execution_count": 15,
   "id": "376f9381-79ca-4e12-93d7-7cc378e0b343",
   "metadata": {},
   "outputs": [
    {
     "data": {
      "text/plain": [
       "array([[-2.1501432 , -0.86977648, -1.92273162],\n",
       "       [-0.38945436, -0.92661733, -2.94711131],\n",
       "       [-0.75675093, -0.44440655, -0.91434605],\n",
       "       [-3.47040218, -0.45717172, -3.87872334],\n",
       "       [-0.52161377, -0.72468372, -1.14334763],\n",
       "       [-2.57304123, -0.7125855 , -0.60012544],\n",
       "       [-0.42623164, -0.93564933, -0.48592527],\n",
       "       [-0.93049441, -1.00028998, -0.80612258],\n",
       "       [-3.3739842 , -0.58542618, -5.04149658],\n",
       "       [-4.95468439, -3.22763868, -2.02762417]])"
      ]
     },
     "execution_count": 15,
     "metadata": {},
     "output_type": "execute_result"
    }
   ],
   "source": [
    "np.log2(arr)"
   ]
  },
  {
   "cell_type": "code",
   "execution_count": 16,
   "id": "0ca16731-7623-4e07-93e1-843d4e7746e8",
   "metadata": {},
   "outputs": [
    {
     "data": {
      "text/plain": [
       "array([[1.22529025, 1.54723163, 1.26375464],\n",
       "       [1.76341828, 1.52609041, 1.12966749],\n",
       "       [1.59182767, 1.73488655, 1.53058432],\n",
       "       [1.09022042, 1.72841285, 1.06798106],\n",
       "       [1.6965922 , 1.60512969, 1.45270789],\n",
       "       [1.16804957, 1.61022555, 1.65969659],\n",
       "       [1.74420313, 1.52280711, 1.71403898],\n",
       "       [1.5246785 , 1.49989951, 1.57191689],\n",
       "       [1.09645607, 1.66645244, 1.03036395],\n",
       "       [1.03224715, 1.10675395, 1.24525863]])"
      ]
     },
     "execution_count": 16,
     "metadata": {},
     "output_type": "execute_result"
    }
   ],
   "source": [
    "1+arr"
   ]
  },
  {
   "cell_type": "code",
   "execution_count": 17,
   "id": "8eed1fc1-b5db-40e8-b290-7b3457920250",
   "metadata": {},
   "outputs": [
    {
     "data": {
      "text/plain": [
       "array([[1.22529025, 2.54723163, 3.26375464],\n",
       "       [1.76341828, 2.52609041, 3.12966749],\n",
       "       [1.59182767, 2.73488655, 3.53058432],\n",
       "       [1.09022042, 2.72841285, 3.06798106],\n",
       "       [1.6965922 , 2.60512969, 3.45270789],\n",
       "       [1.16804957, 2.61022555, 3.65969659],\n",
       "       [1.74420313, 2.52280711, 3.71403898],\n",
       "       [1.5246785 , 2.49989951, 3.57191689],\n",
       "       [1.09645607, 2.66645244, 3.03036395],\n",
       "       [1.03224715, 2.10675395, 3.24525863]])"
      ]
     },
     "execution_count": 17,
     "metadata": {},
     "output_type": "execute_result"
    }
   ],
   "source": [
    "arr+ np.array([1, 2, 3])"
   ]
  },
  {
   "cell_type": "code",
   "execution_count": 18,
   "id": "21e1a04c-023a-4e55-a6f9-6a0d29488ec7",
   "metadata": {},
   "outputs": [
    {
     "data": {
      "text/plain": [
       "array([[1.22529025, 2.54723163, 3.26375464],\n",
       "       [1.76341828, 2.52609041, 3.12966749],\n",
       "       [1.59182767, 2.73488655, 3.53058432],\n",
       "       [1.09022042, 2.72841285, 3.06798106],\n",
       "       [1.6965922 , 2.60512969, 3.45270789],\n",
       "       [1.16804957, 2.61022555, 3.65969659],\n",
       "       [1.74420313, 2.52280711, 3.71403898],\n",
       "       [1.5246785 , 2.49989951, 3.57191689],\n",
       "       [1.09645607, 2.66645244, 3.03036395],\n",
       "       [1.03224715, 2.10675395, 3.24525863]])"
      ]
     },
     "execution_count": 18,
     "metadata": {},
     "output_type": "execute_result"
    }
   ],
   "source": [
    "arr+ [1, 2, 3]"
   ]
  },
  {
   "cell_type": "markdown",
   "id": "7e6db39e-57d6-4b47-87c9-6b1a9969ebef",
   "metadata": {},
   "source": [
    "# 🔬 Filtering and Masking"
   ]
  },
  {
   "cell_type": "code",
   "execution_count": 19,
   "id": "55bf15ba-3cf6-42bc-b833-9c0cb2e3c233",
   "metadata": {},
   "outputs": [
    {
     "data": {
      "text/plain": [
       "array([[ True, False,  True],\n",
       "       [False, False,  True],\n",
       "       [False, False, False],\n",
       "       [ True, False,  True],\n",
       "       [False, False,  True],\n",
       "       [ True, False, False],\n",
       "       [False, False, False],\n",
       "       [False,  True, False],\n",
       "       [ True, False,  True],\n",
       "       [ True,  True,  True]])"
      ]
     },
     "execution_count": 19,
     "metadata": {},
     "output_type": "execute_result"
    }
   ],
   "source": [
    "arr<0.5"
   ]
  },
  {
   "cell_type": "code",
   "execution_count": 20,
   "id": "4fdf1662-33c2-4a5b-be0e-03679accaa90",
   "metadata": {},
   "outputs": [
    {
     "data": {
      "text/plain": [
       "array([0.22529025, 0.26375464, 0.12966749, 0.09022042, 0.06798106,\n",
       "       0.45270789, 0.16804957, 0.49989951, 0.09645607, 0.03036395,\n",
       "       0.03224715, 0.10675395, 0.24525863])"
      ]
     },
     "execution_count": 20,
     "metadata": {},
     "output_type": "execute_result"
    }
   ],
   "source": [
    "arr[arr<0.5]"
   ]
  },
  {
   "cell_type": "markdown",
   "id": "c530ffdb-e80e-4069-99c3-8b171cb72bb4",
   "metadata": {},
   "source": [
    "# 🗂️ Sort\n",
    "## Sort array In-Place"
   ]
  },
  {
   "cell_type": "code",
   "execution_count": 21,
   "id": "f517be2f-cabb-480c-af88-75dbfb9b0ed1",
   "metadata": {},
   "outputs": [],
   "source": [
    "arr.sort()"
   ]
  },
  {
   "cell_type": "code",
   "execution_count": 22,
   "id": "237bba9c-9a07-4918-adde-30b98e709276",
   "metadata": {},
   "outputs": [
    {
     "data": {
      "text/plain": [
       "array([[0.22529025, 0.26375464, 0.54723163],\n",
       "       [0.12966749, 0.52609041, 0.76341828],\n",
       "       [0.53058432, 0.59182767, 0.73488655],\n",
       "       [0.06798106, 0.09022042, 0.72841285],\n",
       "       [0.45270789, 0.60512969, 0.6965922 ],\n",
       "       [0.16804957, 0.61022555, 0.65969659],\n",
       "       [0.52280711, 0.71403898, 0.74420313],\n",
       "       [0.49989951, 0.5246785 , 0.57191689],\n",
       "       [0.03036395, 0.09645607, 0.66645244],\n",
       "       [0.03224715, 0.10675395, 0.24525863]])"
      ]
     },
     "execution_count": 22,
     "metadata": {},
     "output_type": "execute_result"
    }
   ],
   "source": [
    "arr"
   ]
  },
  {
   "cell_type": "code",
   "execution_count": 27,
   "id": "231a38b2-de5d-4f01-a5de-499f09492255",
   "metadata": {},
   "outputs": [],
   "source": [
    "arr = np.random.rand(10,3)"
   ]
  },
  {
   "cell_type": "markdown",
   "id": "60e65229-18d9-429b-8eb8-797b51530aa5",
   "metadata": {},
   "source": [
    "## Sort Array Along Different Axes\n",
    "This method creates a sorted copy of the given NumPy array. \n",
    "It is mostly used in a multi-dimensional array when you want to sort along a given dimension."
   ]
  },
  {
   "cell_type": "code",
   "execution_count": 28,
   "id": "00ff73b6-e501-4fc6-bdac-ce9731897ef9",
   "metadata": {},
   "outputs": [
    {
     "data": {
      "text/plain": [
       "array([[0.16832974, 0.18218961, 0.83568002],\n",
       "       [0.09742383, 0.79457651, 0.9069162 ],\n",
       "       [0.13515999, 0.14671285, 0.65411649],\n",
       "       [0.21333942, 0.4558722 , 0.73483061],\n",
       "       [0.32216283, 0.4241069 , 0.90526765],\n",
       "       [0.40463864, 0.62480872, 0.8371592 ],\n",
       "       [0.01681858, 0.23590547, 0.52843456],\n",
       "       [0.32085056, 0.65318897, 0.72902875],\n",
       "       [0.53062665, 0.77979561, 0.9161536 ],\n",
       "       [0.01214687, 0.08548534, 0.57218456]])"
      ]
     },
     "execution_count": 28,
     "metadata": {},
     "output_type": "execute_result"
    }
   ],
   "source": [
    "np.sort(arr)"
   ]
  },
  {
   "cell_type": "code",
   "execution_count": 29,
   "id": "0a27f072-5866-4614-8475-02d7056835d0",
   "metadata": {},
   "outputs": [
    {
     "data": {
      "text/plain": [
       "array([[ 0,  1,  2],\n",
       "       [ 3,  4,  5],\n",
       "       [ 6,  7,  8],\n",
       "       [ 9, 10, 11],\n",
       "       [12, 13, 14],\n",
       "       [15, 16, 17],\n",
       "       [18, 19, 20],\n",
       "       [21, 22, 23],\n",
       "       [24, 25, 26],\n",
       "       [27, 28, 29]])"
      ]
     },
     "execution_count": 29,
     "metadata": {},
     "output_type": "execute_result"
    }
   ],
   "source": [
    "arr2 = np.arange(30).reshape((10, 3))\n",
    "arr2"
   ]
  },
  {
   "cell_type": "markdown",
   "id": "2b480c9e-e28f-4f07-a346-6e497650b56b",
   "metadata": {},
   "source": [
    "## Indirect sort \n"
   ]
  },
  {
   "cell_type": "code",
   "execution_count": 30,
   "id": "16eac8cb-962c-4bae-9f31-c037e5e8bb21",
   "metadata": {},
   "outputs": [
    {
     "data": {
      "text/plain": [
       "array([[2, 1, 0],\n",
       "       [0, 1, 2],\n",
       "       [2, 1, 0],\n",
       "       [0, 2, 1],\n",
       "       [2, 0, 1],\n",
       "       [1, 2, 0],\n",
       "       [0, 2, 1],\n",
       "       [0, 1, 2],\n",
       "       [2, 0, 1],\n",
       "       [1, 0, 2]], dtype=int64)"
      ]
     },
     "execution_count": 30,
     "metadata": {},
     "output_type": "execute_result"
    }
   ],
   "source": [
    "# Returns the indices that would sort an array\n",
    "ind = np.argsort(arr)\n",
    "ind"
   ]
  },
  {
   "cell_type": "code",
   "execution_count": 32,
   "id": "f00c3768-ce08-46ba-abc4-b16f07a12978",
   "metadata": {},
   "outputs": [
    {
     "data": {
      "text/plain": [
       "array([1, 0, 2], dtype=int64)"
      ]
     },
     "execution_count": 32,
     "metadata": {},
     "output_type": "execute_result"
    }
   ],
   "source": [
    "ind[-1]"
   ]
  },
  {
   "cell_type": "code",
   "execution_count": 101,
   "id": "60ab24da-e062-4e54-a65f-c3d53ac862a5",
   "metadata": {},
   "outputs": [
    {
     "data": {
      "text/plain": [
       "array([[[0, 1, 2],\n",
       "        [3, 4, 5],\n",
       "        [6, 7, 8]],\n",
       "\n",
       "       [[0, 1, 2],\n",
       "        [6, 7, 8],\n",
       "        [3, 4, 5]],\n",
       "\n",
       "       [[3, 4, 5],\n",
       "        [0, 1, 2],\n",
       "        [6, 7, 8]],\n",
       "\n",
       "       [[6, 7, 8],\n",
       "        [3, 4, 5],\n",
       "        [0, 1, 2]],\n",
       "\n",
       "       [[0, 1, 2],\n",
       "        [6, 7, 8],\n",
       "        [3, 4, 5]],\n",
       "\n",
       "       [[0, 1, 2],\n",
       "        [6, 7, 8],\n",
       "        [3, 4, 5]],\n",
       "\n",
       "       [[3, 4, 5],\n",
       "        [0, 1, 2],\n",
       "        [6, 7, 8]],\n",
       "\n",
       "       [[6, 7, 8],\n",
       "        [0, 1, 2],\n",
       "        [3, 4, 5]],\n",
       "\n",
       "       [[0, 1, 2],\n",
       "        [3, 4, 5],\n",
       "        [6, 7, 8]],\n",
       "\n",
       "       [[0, 1, 2],\n",
       "        [3, 4, 5],\n",
       "        [6, 7, 8]],\n",
       "\n",
       "       [[0, 1, 2],\n",
       "        [6, 7, 8],\n",
       "        [3, 4, 5]],\n",
       "\n",
       "       [[3, 4, 5],\n",
       "        [0, 1, 2],\n",
       "        [6, 7, 8]],\n",
       "\n",
       "       [[3, 4, 5],\n",
       "        [6, 7, 8],\n",
       "        [0, 1, 2]],\n",
       "\n",
       "       [[0, 1, 2],\n",
       "        [6, 7, 8],\n",
       "        [3, 4, 5]],\n",
       "\n",
       "       [[3, 4, 5],\n",
       "        [0, 1, 2],\n",
       "        [6, 7, 8]],\n",
       "\n",
       "       [[6, 7, 8],\n",
       "        [0, 1, 2],\n",
       "        [3, 4, 5]],\n",
       "\n",
       "       [[6, 7, 8],\n",
       "        [0, 1, 2],\n",
       "        [3, 4, 5]],\n",
       "\n",
       "       [[0, 1, 2],\n",
       "        [6, 7, 8],\n",
       "        [3, 4, 5]],\n",
       "\n",
       "       [[0, 1, 2],\n",
       "        [6, 7, 8],\n",
       "        [3, 4, 5]],\n",
       "\n",
       "       [[0, 1, 2],\n",
       "        [3, 4, 5],\n",
       "        [6, 7, 8]],\n",
       "\n",
       "       [[0, 1, 2],\n",
       "        [6, 7, 8],\n",
       "        [3, 4, 5]],\n",
       "\n",
       "       [[3, 4, 5],\n",
       "        [6, 7, 8],\n",
       "        [0, 1, 2]],\n",
       "\n",
       "       [[6, 7, 8],\n",
       "        [0, 1, 2],\n",
       "        [3, 4, 5]],\n",
       "\n",
       "       [[3, 4, 5],\n",
       "        [0, 1, 2],\n",
       "        [6, 7, 8]],\n",
       "\n",
       "       [[0, 1, 2],\n",
       "        [3, 4, 5],\n",
       "        [6, 7, 8]],\n",
       "\n",
       "       [[6, 7, 8],\n",
       "        [3, 4, 5],\n",
       "        [0, 1, 2]],\n",
       "\n",
       "       [[6, 7, 8],\n",
       "        [3, 4, 5],\n",
       "        [0, 1, 2]],\n",
       "\n",
       "       [[0, 1, 2],\n",
       "        [3, 4, 5],\n",
       "        [6, 7, 8]],\n",
       "\n",
       "       [[6, 7, 8],\n",
       "        [3, 4, 5],\n",
       "        [0, 1, 2]],\n",
       "\n",
       "       [[0, 1, 2],\n",
       "        [6, 7, 8],\n",
       "        [3, 4, 5]],\n",
       "\n",
       "       [[3, 4, 5],\n",
       "        [0, 1, 2],\n",
       "        [6, 7, 8]],\n",
       "\n",
       "       [[3, 4, 5],\n",
       "        [6, 7, 8],\n",
       "        [0, 1, 2]],\n",
       "\n",
       "       [[0, 1, 2],\n",
       "        [6, 7, 8],\n",
       "        [3, 4, 5]],\n",
       "\n",
       "       [[3, 4, 5],\n",
       "        [0, 1, 2],\n",
       "        [6, 7, 8]],\n",
       "\n",
       "       [[6, 7, 8],\n",
       "        [0, 1, 2],\n",
       "        [3, 4, 5]],\n",
       "\n",
       "       [[6, 7, 8],\n",
       "        [0, 1, 2],\n",
       "        [3, 4, 5]],\n",
       "\n",
       "       [[3, 4, 5],\n",
       "        [0, 1, 2],\n",
       "        [6, 7, 8]],\n",
       "\n",
       "       [[0, 1, 2],\n",
       "        [3, 4, 5],\n",
       "        [6, 7, 8]],\n",
       "\n",
       "       [[6, 7, 8],\n",
       "        [3, 4, 5],\n",
       "        [0, 1, 2]],\n",
       "\n",
       "       [[0, 1, 2],\n",
       "        [3, 4, 5],\n",
       "        [6, 7, 8]],\n",
       "\n",
       "       [[6, 7, 8],\n",
       "        [3, 4, 5],\n",
       "        [0, 1, 2]],\n",
       "\n",
       "       [[6, 7, 8],\n",
       "        [3, 4, 5],\n",
       "        [0, 1, 2]],\n",
       "\n",
       "       [[6, 7, 8],\n",
       "        [0, 1, 2],\n",
       "        [3, 4, 5]],\n",
       "\n",
       "       [[0, 1, 2],\n",
       "        [6, 7, 8],\n",
       "        [3, 4, 5]],\n",
       "\n",
       "       [[6, 7, 8],\n",
       "        [3, 4, 5],\n",
       "        [0, 1, 2]],\n",
       "\n",
       "       [[6, 7, 8],\n",
       "        [0, 1, 2],\n",
       "        [3, 4, 5]],\n",
       "\n",
       "       [[3, 4, 5],\n",
       "        [6, 7, 8],\n",
       "        [0, 1, 2]],\n",
       "\n",
       "       [[6, 7, 8],\n",
       "        [0, 1, 2],\n",
       "        [3, 4, 5]],\n",
       "\n",
       "       [[0, 1, 2],\n",
       "        [3, 4, 5],\n",
       "        [6, 7, 8]],\n",
       "\n",
       "       [[3, 4, 5],\n",
       "        [0, 1, 2],\n",
       "        [6, 7, 8]],\n",
       "\n",
       "       [[3, 4, 5],\n",
       "        [6, 7, 8],\n",
       "        [0, 1, 2]],\n",
       "\n",
       "       [[3, 4, 5],\n",
       "        [6, 7, 8],\n",
       "        [0, 1, 2]],\n",
       "\n",
       "       [[3, 4, 5],\n",
       "        [6, 7, 8],\n",
       "        [0, 1, 2]],\n",
       "\n",
       "       [[6, 7, 8],\n",
       "        [3, 4, 5],\n",
       "        [0, 1, 2]],\n",
       "\n",
       "       [[6, 7, 8],\n",
       "        [0, 1, 2],\n",
       "        [3, 4, 5]],\n",
       "\n",
       "       [[0, 1, 2],\n",
       "        [6, 7, 8],\n",
       "        [3, 4, 5]],\n",
       "\n",
       "       [[0, 1, 2],\n",
       "        [3, 4, 5],\n",
       "        [6, 7, 8]],\n",
       "\n",
       "       [[3, 4, 5],\n",
       "        [6, 7, 8],\n",
       "        [0, 1, 2]],\n",
       "\n",
       "       [[0, 1, 2],\n",
       "        [6, 7, 8],\n",
       "        [3, 4, 5]],\n",
       "\n",
       "       [[3, 4, 5],\n",
       "        [0, 1, 2],\n",
       "        [6, 7, 8]],\n",
       "\n",
       "       [[6, 7, 8],\n",
       "        [0, 1, 2],\n",
       "        [3, 4, 5]],\n",
       "\n",
       "       [[3, 4, 5],\n",
       "        [0, 1, 2],\n",
       "        [6, 7, 8]],\n",
       "\n",
       "       [[3, 4, 5],\n",
       "        [0, 1, 2],\n",
       "        [6, 7, 8]],\n",
       "\n",
       "       [[6, 7, 8],\n",
       "        [3, 4, 5],\n",
       "        [0, 1, 2]],\n",
       "\n",
       "       [[6, 7, 8],\n",
       "        [3, 4, 5],\n",
       "        [0, 1, 2]],\n",
       "\n",
       "       [[6, 7, 8],\n",
       "        [0, 1, 2],\n",
       "        [3, 4, 5]],\n",
       "\n",
       "       [[3, 4, 5],\n",
       "        [0, 1, 2],\n",
       "        [6, 7, 8]],\n",
       "\n",
       "       [[3, 4, 5],\n",
       "        [6, 7, 8],\n",
       "        [0, 1, 2]],\n",
       "\n",
       "       [[3, 4, 5],\n",
       "        [0, 1, 2],\n",
       "        [6, 7, 8]],\n",
       "\n",
       "       [[0, 1, 2],\n",
       "        [3, 4, 5],\n",
       "        [6, 7, 8]],\n",
       "\n",
       "       [[3, 4, 5],\n",
       "        [0, 1, 2],\n",
       "        [6, 7, 8]],\n",
       "\n",
       "       [[0, 1, 2],\n",
       "        [3, 4, 5],\n",
       "        [6, 7, 8]],\n",
       "\n",
       "       [[6, 7, 8],\n",
       "        [3, 4, 5],\n",
       "        [0, 1, 2]],\n",
       "\n",
       "       [[3, 4, 5],\n",
       "        [6, 7, 8],\n",
       "        [0, 1, 2]],\n",
       "\n",
       "       [[6, 7, 8],\n",
       "        [3, 4, 5],\n",
       "        [0, 1, 2]],\n",
       "\n",
       "       [[0, 1, 2],\n",
       "        [6, 7, 8],\n",
       "        [3, 4, 5]],\n",
       "\n",
       "       [[3, 4, 5],\n",
       "        [0, 1, 2],\n",
       "        [6, 7, 8]],\n",
       "\n",
       "       [[0, 1, 2],\n",
       "        [6, 7, 8],\n",
       "        [3, 4, 5]],\n",
       "\n",
       "       [[6, 7, 8],\n",
       "        [3, 4, 5],\n",
       "        [0, 1, 2]],\n",
       "\n",
       "       [[3, 4, 5],\n",
       "        [6, 7, 8],\n",
       "        [0, 1, 2]],\n",
       "\n",
       "       [[0, 1, 2],\n",
       "        [6, 7, 8],\n",
       "        [3, 4, 5]],\n",
       "\n",
       "       [[0, 1, 2],\n",
       "        [6, 7, 8],\n",
       "        [3, 4, 5]],\n",
       "\n",
       "       [[3, 4, 5],\n",
       "        [6, 7, 8],\n",
       "        [0, 1, 2]],\n",
       "\n",
       "       [[0, 1, 2],\n",
       "        [3, 4, 5],\n",
       "        [6, 7, 8]],\n",
       "\n",
       "       [[0, 1, 2],\n",
       "        [3, 4, 5],\n",
       "        [6, 7, 8]],\n",
       "\n",
       "       [[0, 1, 2],\n",
       "        [6, 7, 8],\n",
       "        [3, 4, 5]],\n",
       "\n",
       "       [[3, 4, 5],\n",
       "        [6, 7, 8],\n",
       "        [0, 1, 2]],\n",
       "\n",
       "       [[6, 7, 8],\n",
       "        [0, 1, 2],\n",
       "        [3, 4, 5]],\n",
       "\n",
       "       [[6, 7, 8],\n",
       "        [0, 1, 2],\n",
       "        [3, 4, 5]],\n",
       "\n",
       "       [[0, 1, 2],\n",
       "        [6, 7, 8],\n",
       "        [3, 4, 5]],\n",
       "\n",
       "       [[6, 7, 8],\n",
       "        [0, 1, 2],\n",
       "        [3, 4, 5]],\n",
       "\n",
       "       [[0, 1, 2],\n",
       "        [3, 4, 5],\n",
       "        [6, 7, 8]],\n",
       "\n",
       "       [[0, 1, 2],\n",
       "        [3, 4, 5],\n",
       "        [6, 7, 8]],\n",
       "\n",
       "       [[3, 4, 5],\n",
       "        [6, 7, 8],\n",
       "        [0, 1, 2]],\n",
       "\n",
       "       [[0, 1, 2],\n",
       "        [3, 4, 5],\n",
       "        [6, 7, 8]],\n",
       "\n",
       "       [[6, 7, 8],\n",
       "        [3, 4, 5],\n",
       "        [0, 1, 2]],\n",
       "\n",
       "       [[3, 4, 5],\n",
       "        [0, 1, 2],\n",
       "        [6, 7, 8]],\n",
       "\n",
       "       [[0, 1, 2],\n",
       "        [3, 4, 5],\n",
       "        [6, 7, 8]],\n",
       "\n",
       "       [[0, 1, 2],\n",
       "        [3, 4, 5],\n",
       "        [6, 7, 8]],\n",
       "\n",
       "       [[3, 4, 5],\n",
       "        [0, 1, 2],\n",
       "        [6, 7, 8]]])"
      ]
     },
     "execution_count": 101,
     "metadata": {},
     "output_type": "execute_result"
    }
   ],
   "source": [
    "arr2[ind]"
   ]
  },
  {
   "cell_type": "markdown",
   "id": "58566e2f-a112-4059-925a-3f8b9f7aa23f",
   "metadata": {},
   "source": [
    "# 🧮 Matrix multiplication"
   ]
  },
  {
   "cell_type": "code",
   "execution_count": 49,
   "id": "5dcdd69f-5b91-4bda-9e37-edf7751f1b56",
   "metadata": {},
   "outputs": [],
   "source": [
    "A = np.array([[1, 2],\n",
    "             [3, 4]])\n",
    "B = np.array([[3, 2],\n",
    "             [1, 4]])\n"
   ]
  },
  {
   "cell_type": "code",
   "execution_count": 34,
   "id": "857e0a48-02f1-4255-871c-6606485f4bf1",
   "metadata": {},
   "outputs": [
    {
     "data": {
      "text/plain": [
       "array([[ 5, 10],\n",
       "       [13, 22]])"
      ]
     },
     "execution_count": 34,
     "metadata": {},
     "output_type": "execute_result"
    }
   ],
   "source": [
    "np.matmul(A, B)"
   ]
  },
  {
   "cell_type": "code",
   "execution_count": 35,
   "id": "29443ab0-e6cd-4870-b12c-727e18b31a45",
   "metadata": {},
   "outputs": [
    {
     "data": {
      "text/plain": [
       "array([[ 9, 14],\n",
       "       [13, 18]])"
      ]
     },
     "execution_count": 35,
     "metadata": {},
     "output_type": "execute_result"
    }
   ],
   "source": [
    "np.matmul(B, A)"
   ]
  },
  {
   "cell_type": "code",
   "execution_count": 36,
   "id": "5623d886-ed9f-47bb-b1f6-e5179e4632b4",
   "metadata": {},
   "outputs": [
    {
     "data": {
      "text/plain": [
       "array([[ 5, 10],\n",
       "       [13, 22]])"
      ]
     },
     "execution_count": 36,
     "metadata": {},
     "output_type": "execute_result"
    }
   ],
   "source": [
    "np.dot(A, B)"
   ]
  },
  {
   "cell_type": "code",
   "execution_count": 37,
   "id": "e8414087-51bf-42b3-a499-36d6d93c8d49",
   "metadata": {},
   "outputs": [
    {
     "data": {
      "text/plain": [
       "array([-4,  8])"
      ]
     },
     "execution_count": 37,
     "metadata": {},
     "output_type": "execute_result"
    }
   ],
   "source": [
    "np.cross(A, B)"
   ]
  },
  {
   "cell_type": "code",
   "execution_count": 38,
   "id": "45328586-ad83-423b-8165-2dc17d9b62d8",
   "metadata": {},
   "outputs": [
    {
     "data": {
      "text/plain": [
       "array([ 4, -8])"
      ]
     },
     "execution_count": 38,
     "metadata": {},
     "output_type": "execute_result"
    }
   ],
   "source": [
    "np.cross(B, A)"
   ]
  },
  {
   "cell_type": "markdown",
   "id": "2c2e095a-6f33-4db6-afc3-d024630e6d03",
   "metadata": {},
   "source": [
    "## Inverse of a matrix"
   ]
  },
  {
   "cell_type": "code",
   "execution_count": 57,
   "id": "3b17ad55-633b-4fbc-9af7-3b8fcb8c5623",
   "metadata": {},
   "outputs": [
    {
     "data": {
      "text/plain": [
       "array([[1.00000000e+00, 0.00000000e+00],\n",
       "       [1.11022302e-16, 1.00000000e+00]])"
      ]
     },
     "execution_count": 57,
     "metadata": {},
     "output_type": "execute_result"
    }
   ],
   "source": [
    "from numpy.linalg import inv, det\n",
    "np.matmul(inv(A), A)"
   ]
  },
  {
   "cell_type": "code",
   "execution_count": 58,
   "id": "e1f9d1f2-4adf-4a18-bc9c-aab6dcf887e3",
   "metadata": {},
   "outputs": [
    {
     "data": {
      "text/plain": [
       "array([[-2. ,  1. ],\n",
       "       [ 1.5, -0.5]])"
      ]
     },
     "execution_count": 58,
     "metadata": {},
     "output_type": "execute_result"
    }
   ],
   "source": [
    "inv(A)"
   ]
  },
  {
   "cell_type": "code",
   "execution_count": 59,
   "id": "7a8d5512-8953-4aac-8ee7-7f40c5bb10de",
   "metadata": {},
   "outputs": [
    {
     "data": {
      "text/plain": [
       "array([[ -7, -11],\n",
       "       [ 10,  13],\n",
       "       [ 17,  60],\n",
       "       [  0, -61]])"
      ]
     },
     "execution_count": 59,
     "metadata": {},
     "output_type": "execute_result"
    }
   ],
   "source": [
    "A = np.array([[-1, 1, -1],\n",
    "             [5, 2, -5],\n",
    "             [6, -5, 1],\n",
    "             [-5, 6, 0]])\n",
    "B = np.array([[6, 5],\n",
    "             [5, -6],\n",
    "             [6, 0]])\n",
    "np.matmul(A, B)"
   ]
  },
  {
   "cell_type": "code",
   "execution_count": 60,
   "id": "f6f4f68f-1a08-41cf-a34f-00e86875b923",
   "metadata": {},
   "outputs": [
    {
     "data": {
      "text/plain": [
       "array([[ 6,  5,  6],\n",
       "       [ 5, -6,  0]])"
      ]
     },
     "execution_count": 60,
     "metadata": {},
     "output_type": "execute_result"
    }
   ],
   "source": [
    "B.T"
   ]
  },
  {
   "cell_type": "code",
   "execution_count": 61,
   "id": "c68e0e0b-6d71-4f8e-9bb1-3ea59a262ae9",
   "metadata": {},
   "outputs": [],
   "source": [
    "C = np.array([[1, 0],\n",
    "             [1, 3]])"
   ]
  },
  {
   "cell_type": "code",
   "execution_count": 54,
   "id": "5fda1d05-0cff-420a-b777-4f3a7f195297",
   "metadata": {},
   "outputs": [
    {
     "data": {
      "text/plain": [
       "array([[ 1.        ,  0.        ],\n",
       "       [-0.33333333,  0.33333333]])"
      ]
     },
     "execution_count": 54,
     "metadata": {},
     "output_type": "execute_result"
    }
   ],
   "source": [
    "inv(C)"
   ]
  },
  {
   "cell_type": "code",
   "execution_count": 62,
   "id": "a6fdb9d3-1b98-4535-82c8-05455126ac26",
   "metadata": {},
   "outputs": [
    {
     "data": {
      "text/plain": [
       "3.0000000000000004"
      ]
     },
     "execution_count": 62,
     "metadata": {},
     "output_type": "execute_result"
    }
   ],
   "source": [
    "det(C)"
   ]
  },
  {
   "cell_type": "code",
   "execution_count": 63,
   "id": "4eb67826-e03a-4de4-80f7-6261d981fdd0",
   "metadata": {},
   "outputs": [
    {
     "data": {
      "text/plain": [
       "36"
      ]
     },
     "execution_count": 63,
     "metadata": {},
     "output_type": "execute_result"
    }
   ],
   "source": [
    "np.dot([1, 2, 3], [3, 6, 7]) "
   ]
  },
  {
   "cell_type": "code",
   "execution_count": 64,
   "id": "063aa9ad-122e-4b66-b4bd-9e52fb8874de",
   "metadata": {},
   "outputs": [
    {
     "data": {
      "text/plain": [
       "36"
      ]
     },
     "execution_count": 64,
     "metadata": {},
     "output_type": "execute_result"
    }
   ],
   "source": [
    "np.matmul([1, 2, 3], [3, 6, 7])"
   ]
  },
  {
   "cell_type": "code",
   "execution_count": null,
   "id": "ce4581bd-0820-493a-bc3e-e02a6712b60c",
   "metadata": {},
   "outputs": [],
   "source": []
  }
 ],
 "metadata": {
  "kernelspec": {
   "display_name": "Python 3 (ipykernel)",
   "language": "python",
   "name": "python3"
  },
  "language_info": {
   "codemirror_mode": {
    "name": "ipython",
    "version": 3
   },
   "file_extension": ".py",
   "mimetype": "text/x-python",
   "name": "python",
   "nbconvert_exporter": "python",
   "pygments_lexer": "ipython3",
   "version": "3.12.3"
  }
 },
 "nbformat": 4,
 "nbformat_minor": 5
}
