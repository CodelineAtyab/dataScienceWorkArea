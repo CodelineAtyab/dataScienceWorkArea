{
 "cells": [
  {
   "cell_type": "code",
   "execution_count": 1,
   "id": "830e9bba-8559-4133-9533-b1a8bab88179",
   "metadata": {},
   "outputs": [],
   "source": [
    "import pandas as pd\n",
    "import numpy as np\n",
    "import matplotlib.pyplot as plot"
   ]
  },
  {
   "cell_type": "code",
   "execution_count": 2,
   "id": "cd0007b7-fcff-40e5-9f99-e952fc5db9e4",
   "metadata": {},
   "outputs": [
    {
     "data": {
      "text/html": [
       "<div>\n",
       "<style scoped>\n",
       "    .dataframe tbody tr th:only-of-type {\n",
       "        vertical-align: middle;\n",
       "    }\n",
       "\n",
       "    .dataframe tbody tr th {\n",
       "        vertical-align: top;\n",
       "    }\n",
       "\n",
       "    .dataframe thead th {\n",
       "        text-align: right;\n",
       "    }\n",
       "</style>\n",
       "<table border=\"1\" class=\"dataframe\">\n",
       "  <thead>\n",
       "    <tr style=\"text-align: right;\">\n",
       "      <th></th>\n",
       "      <th>Math_Score</th>\n",
       "      <th>Reading_Score</th>\n",
       "      <th>Writing_Score</th>\n",
       "      <th>Placement_Score</th>\n",
       "      <th>Club_Join_Date</th>\n",
       "    </tr>\n",
       "  </thead>\n",
       "  <tbody>\n",
       "    <tr>\n",
       "      <th>0</th>\n",
       "      <td>65</td>\n",
       "      <td>86</td>\n",
       "      <td>67</td>\n",
       "      <td>78</td>\n",
       "      <td>2021</td>\n",
       "    </tr>\n",
       "    <tr>\n",
       "      <th>1</th>\n",
       "      <td>64</td>\n",
       "      <td>85</td>\n",
       "      <td>71</td>\n",
       "      <td>80</td>\n",
       "      <td>2019</td>\n",
       "    </tr>\n",
       "    <tr>\n",
       "      <th>2</th>\n",
       "      <td>76</td>\n",
       "      <td>77</td>\n",
       "      <td>77</td>\n",
       "      <td>84</td>\n",
       "      <td>2021</td>\n",
       "    </tr>\n",
       "    <tr>\n",
       "      <th>3</th>\n",
       "      <td>80</td>\n",
       "      <td>76</td>\n",
       "      <td>75</td>\n",
       "      <td>75</td>\n",
       "      <td>2021</td>\n",
       "    </tr>\n",
       "    <tr>\n",
       "      <th>4</th>\n",
       "      <td>63</td>\n",
       "      <td>91</td>\n",
       "      <td>62</td>\n",
       "      <td>90</td>\n",
       "      <td>2019</td>\n",
       "    </tr>\n",
       "    <tr>\n",
       "      <th>...</th>\n",
       "      <td>...</td>\n",
       "      <td>...</td>\n",
       "      <td>...</td>\n",
       "      <td>...</td>\n",
       "      <td>...</td>\n",
       "    </tr>\n",
       "    <tr>\n",
       "      <th>394</th>\n",
       "      <td>85</td>\n",
       "      <td>95</td>\n",
       "      <td>74</td>\n",
       "      <td>60</td>\n",
       "      <td>2020</td>\n",
       "    </tr>\n",
       "    <tr>\n",
       "      <th>395</th>\n",
       "      <td>67</td>\n",
       "      <td>87</td>\n",
       "      <td>96</td>\n",
       "      <td>93</td>\n",
       "      <td>2021</td>\n",
       "    </tr>\n",
       "    <tr>\n",
       "      <th>396</th>\n",
       "      <td>92</td>\n",
       "      <td>81</td>\n",
       "      <td>93</td>\n",
       "      <td>64</td>\n",
       "      <td>2021</td>\n",
       "    </tr>\n",
       "    <tr>\n",
       "      <th>397</th>\n",
       "      <td>100</td>\n",
       "      <td>64</td>\n",
       "      <td>97</td>\n",
       "      <td>88</td>\n",
       "      <td>2021</td>\n",
       "    </tr>\n",
       "    <tr>\n",
       "      <th>398</th>\n",
       "      <td>63</td>\n",
       "      <td>78</td>\n",
       "      <td>85</td>\n",
       "      <td>93</td>\n",
       "      <td>2020</td>\n",
       "    </tr>\n",
       "  </tbody>\n",
       "</table>\n",
       "<p>399 rows × 5 columns</p>\n",
       "</div>"
      ],
      "text/plain": [
       "     Math_Score  Reading_Score  Writing_Score  Placement_Score  Club_Join_Date\n",
       "0            65             86             67               78            2021\n",
       "1            64             85             71               80            2019\n",
       "2            76             77             77               84            2021\n",
       "3            80             76             75               75            2021\n",
       "4            63             91             62               90            2019\n",
       "..          ...            ...            ...              ...             ...\n",
       "394          85             95             74               60            2020\n",
       "395          67             87             96               93            2021\n",
       "396          92             81             93               64            2021\n",
       "397         100             64             97               88            2021\n",
       "398          63             78             85               93            2020\n",
       "\n",
       "[399 rows x 5 columns]"
      ]
     },
     "execution_count": 2,
     "metadata": {},
     "output_type": "execute_result"
    }
   ],
   "source": [
    "df = pd.read_csv(\"my_datasets/Students Performance.csv\")\n",
    "df"
   ]
  },
  {
   "cell_type": "code",
   "execution_count": 3,
   "id": "03abed38-91c0-49ba-8650-2317a520ae29",
   "metadata": {},
   "outputs": [
    {
     "name": "stdout",
     "output_type": "stream",
     "text": [
      "<class 'pandas.core.frame.DataFrame'>\n",
      "RangeIndex: 399 entries, 0 to 398\n",
      "Data columns (total 5 columns):\n",
      " #   Column           Non-Null Count  Dtype\n",
      "---  ------           --------------  -----\n",
      " 0   Math_Score       399 non-null    int64\n",
      " 1   Reading_Score    399 non-null    int64\n",
      " 2   Writing_Score    399 non-null    int64\n",
      " 3   Placement_Score  399 non-null    int64\n",
      " 4   Club_Join_Date   399 non-null    int64\n",
      "dtypes: int64(5)\n",
      "memory usage: 15.7 KB\n"
     ]
    }
   ],
   "source": [
    "df.info()"
   ]
  },
  {
   "cell_type": "code",
   "execution_count": 4,
   "id": "785ef249-cee3-4e31-acac-fab93a6d45f8",
   "metadata": {},
   "outputs": [
    {
     "data": {
      "text/html": [
       "<div>\n",
       "<style scoped>\n",
       "    .dataframe tbody tr th:only-of-type {\n",
       "        vertical-align: middle;\n",
       "    }\n",
       "\n",
       "    .dataframe tbody tr th {\n",
       "        vertical-align: top;\n",
       "    }\n",
       "\n",
       "    .dataframe thead th {\n",
       "        text-align: right;\n",
       "    }\n",
       "</style>\n",
       "<table border=\"1\" class=\"dataframe\">\n",
       "  <thead>\n",
       "    <tr style=\"text-align: right;\">\n",
       "      <th></th>\n",
       "      <th>Math_Score</th>\n",
       "      <th>Reading_Score</th>\n",
       "      <th>Writing_Score</th>\n",
       "      <th>Placement_Score</th>\n",
       "      <th>Club_Join_Date</th>\n",
       "    </tr>\n",
       "  </thead>\n",
       "  <tbody>\n",
       "    <tr>\n",
       "      <th>count</th>\n",
       "      <td>399.000000</td>\n",
       "      <td>399.000000</td>\n",
       "      <td>399.000000</td>\n",
       "      <td>399.000000</td>\n",
       "      <td>399.000000</td>\n",
       "    </tr>\n",
       "    <tr>\n",
       "      <th>mean</th>\n",
       "      <td>79.182957</td>\n",
       "      <td>79.681704</td>\n",
       "      <td>79.167920</td>\n",
       "      <td>80.345865</td>\n",
       "      <td>2019.481203</td>\n",
       "    </tr>\n",
       "    <tr>\n",
       "      <th>std</th>\n",
       "      <td>11.871765</td>\n",
       "      <td>11.319323</td>\n",
       "      <td>12.039064</td>\n",
       "      <td>11.452356</td>\n",
       "      <td>1.115907</td>\n",
       "    </tr>\n",
       "    <tr>\n",
       "      <th>min</th>\n",
       "      <td>60.000000</td>\n",
       "      <td>60.000000</td>\n",
       "      <td>60.000000</td>\n",
       "      <td>60.000000</td>\n",
       "      <td>2018.000000</td>\n",
       "    </tr>\n",
       "    <tr>\n",
       "      <th>25%</th>\n",
       "      <td>69.000000</td>\n",
       "      <td>70.000000</td>\n",
       "      <td>68.000000</td>\n",
       "      <td>71.000000</td>\n",
       "      <td>2018.000000</td>\n",
       "    </tr>\n",
       "    <tr>\n",
       "      <th>50%</th>\n",
       "      <td>79.000000</td>\n",
       "      <td>80.000000</td>\n",
       "      <td>78.000000</td>\n",
       "      <td>80.000000</td>\n",
       "      <td>2019.000000</td>\n",
       "    </tr>\n",
       "    <tr>\n",
       "      <th>75%</th>\n",
       "      <td>90.000000</td>\n",
       "      <td>89.000000</td>\n",
       "      <td>90.000000</td>\n",
       "      <td>89.000000</td>\n",
       "      <td>2020.000000</td>\n",
       "    </tr>\n",
       "    <tr>\n",
       "      <th>max</th>\n",
       "      <td>100.000000</td>\n",
       "      <td>100.000000</td>\n",
       "      <td>100.000000</td>\n",
       "      <td>100.000000</td>\n",
       "      <td>2021.000000</td>\n",
       "    </tr>\n",
       "  </tbody>\n",
       "</table>\n",
       "</div>"
      ],
      "text/plain": [
       "       Math_Score  Reading_Score  Writing_Score  Placement_Score  \\\n",
       "count  399.000000     399.000000     399.000000       399.000000   \n",
       "mean    79.182957      79.681704      79.167920        80.345865   \n",
       "std     11.871765      11.319323      12.039064        11.452356   \n",
       "min     60.000000      60.000000      60.000000        60.000000   \n",
       "25%     69.000000      70.000000      68.000000        71.000000   \n",
       "50%     79.000000      80.000000      78.000000        80.000000   \n",
       "75%     90.000000      89.000000      90.000000        89.000000   \n",
       "max    100.000000     100.000000     100.000000       100.000000   \n",
       "\n",
       "       Club_Join_Date  \n",
       "count      399.000000  \n",
       "mean      2019.481203  \n",
       "std          1.115907  \n",
       "min       2018.000000  \n",
       "25%       2018.000000  \n",
       "50%       2019.000000  \n",
       "75%       2020.000000  \n",
       "max       2021.000000  "
      ]
     },
     "execution_count": 4,
     "metadata": {},
     "output_type": "execute_result"
    }
   ],
   "source": [
    "df.describe()"
   ]
  },
  {
   "cell_type": "code",
   "execution_count": 5,
   "id": "84476f8b-c83e-435d-8f5e-673dedaa1df9",
   "metadata": {},
   "outputs": [
    {
     "data": {
      "text/plain": [
       "count    399.000000\n",
       "mean      79.681704\n",
       "std       11.319323\n",
       "min       60.000000\n",
       "25%       70.000000\n",
       "50%       80.000000\n",
       "75%       89.000000\n",
       "max      100.000000\n",
       "Name: Reading_Score, dtype: float64"
      ]
     },
     "execution_count": 5,
     "metadata": {},
     "output_type": "execute_result"
    }
   ],
   "source": [
    "df.Reading_Score.describe()"
   ]
  },
  {
   "cell_type": "code",
   "execution_count": 6,
   "id": "1c63607f-80c3-466c-a08e-8c5d1ebff8e9",
   "metadata": {},
   "outputs": [
    {
     "data": {
      "text/plain": [
       "0      86\n",
       "1      85\n",
       "2      77\n",
       "3      76\n",
       "4      91\n",
       "       ..\n",
       "394    95\n",
       "395    87\n",
       "396    81\n",
       "397    64\n",
       "398    78\n",
       "Name: Reading_Score, Length: 399, dtype: int64"
      ]
     },
     "execution_count": 6,
     "metadata": {},
     "output_type": "execute_result"
    }
   ],
   "source": [
    "df.Reading_Score"
   ]
  },
  {
   "cell_type": "code",
   "execution_count": 7,
   "id": "d68f78b6-2dfb-41d6-9291-25f533915f35",
   "metadata": {},
   "outputs": [
    {
     "data": {
      "text/plain": [
       "0      86\n",
       "1      85\n",
       "2      77\n",
       "3      76\n",
       "4      91\n",
       "       ..\n",
       "394    95\n",
       "395    87\n",
       "396    81\n",
       "397    64\n",
       "398    78\n",
       "Name: Reading_Score, Length: 399, dtype: int64"
      ]
     },
     "execution_count": 7,
     "metadata": {},
     "output_type": "execute_result"
    }
   ],
   "source": [
    "df.Reading_Score"
   ]
  },
  {
   "cell_type": "code",
   "execution_count": 13,
   "id": "31f1c2ec-1497-4d0b-98ce-0270c9318225",
   "metadata": {},
   "outputs": [
    {
     "data": {
      "text/html": [
       "<div>\n",
       "<style scoped>\n",
       "    .dataframe tbody tr th:only-of-type {\n",
       "        vertical-align: middle;\n",
       "    }\n",
       "\n",
       "    .dataframe tbody tr th {\n",
       "        vertical-align: top;\n",
       "    }\n",
       "\n",
       "    .dataframe thead th {\n",
       "        text-align: right;\n",
       "    }\n",
       "</style>\n",
       "<table border=\"1\" class=\"dataframe\">\n",
       "  <thead>\n",
       "    <tr style=\"text-align: right;\">\n",
       "      <th></th>\n",
       "      <th>Reading_Score</th>\n",
       "      <th>Math_Score</th>\n",
       "    </tr>\n",
       "  </thead>\n",
       "  <tbody>\n",
       "    <tr>\n",
       "      <th>count</th>\n",
       "      <td>399.000000</td>\n",
       "      <td>399.000000</td>\n",
       "    </tr>\n",
       "    <tr>\n",
       "      <th>mean</th>\n",
       "      <td>79.681704</td>\n",
       "      <td>79.182957</td>\n",
       "    </tr>\n",
       "    <tr>\n",
       "      <th>std</th>\n",
       "      <td>11.319323</td>\n",
       "      <td>11.871765</td>\n",
       "    </tr>\n",
       "    <tr>\n",
       "      <th>min</th>\n",
       "      <td>60.000000</td>\n",
       "      <td>60.000000</td>\n",
       "    </tr>\n",
       "    <tr>\n",
       "      <th>25%</th>\n",
       "      <td>70.000000</td>\n",
       "      <td>69.000000</td>\n",
       "    </tr>\n",
       "    <tr>\n",
       "      <th>50%</th>\n",
       "      <td>80.000000</td>\n",
       "      <td>79.000000</td>\n",
       "    </tr>\n",
       "    <tr>\n",
       "      <th>75%</th>\n",
       "      <td>89.000000</td>\n",
       "      <td>90.000000</td>\n",
       "    </tr>\n",
       "    <tr>\n",
       "      <th>max</th>\n",
       "      <td>100.000000</td>\n",
       "      <td>100.000000</td>\n",
       "    </tr>\n",
       "  </tbody>\n",
       "</table>\n",
       "</div>"
      ],
      "text/plain": [
       "       Reading_Score  Math_Score\n",
       "count     399.000000  399.000000\n",
       "mean       79.681704   79.182957\n",
       "std        11.319323   11.871765\n",
       "min        60.000000   60.000000\n",
       "25%        70.000000   69.000000\n",
       "50%        80.000000   79.000000\n",
       "75%        89.000000   90.000000\n",
       "max       100.000000  100.000000"
      ]
     },
     "execution_count": 13,
     "metadata": {},
     "output_type": "execute_result"
    }
   ],
   "source": [
    "df[['Reading_Score', 'Math_Score']].describe()"
   ]
  },
  {
   "cell_type": "code",
   "execution_count": 17,
   "id": "45447120-93cb-47fa-990a-420f28393ae1",
   "metadata": {},
   "outputs": [
    {
     "data": {
      "text/plain": [
       "<Axes: >"
      ]
     },
     "execution_count": 17,
     "metadata": {},
     "output_type": "execute_result"
    },
    {
     "data": {
      "image/png": "[encoded data removed]",
      "text/plain": [
       "<Figure size 640x480 with 1 Axes>"
      ]
     },
     "metadata": {},
     "output_type": "display_data"
    }
   ],
   "source": [
    "df.Reading_Score.hist()"
   ]
  },
  {
   "cell_type": "code",
   "execution_count": 23,
   "id": "9154849d-1abb-48e3-b787-f04ace54d02a",
   "metadata": {},
   "outputs": [
    {
     "data": {
      "text/plain": [
       "<Axes: >"
      ]
     },
     "execution_count": 23,
     "metadata": {},
     "output_type": "execute_result"
    },
    {
     "data": {
      "image/png": "[encoded data removed]",
      "text/plain": [
       "<Figure size 640x480 with 1 Axes>"
      ]
     },
     "metadata": {},
     "output_type": "display_data"
    }
   ],
   "source": [
    "df[[\"Reading_Score\"]].boxplot()"
   ]
  },
  {
   "cell_type": "code",
   "execution_count": 26,
   "id": "35632584-71b9-4468-8cf8-434c59a164f3",
   "metadata": {},
   "outputs": [
    {
     "data": {
      "text/plain": [
       "<Axes: xlabel='Reading_Score'>"
      ]
     },
     "execution_count": 26,
     "metadata": {},
     "output_type": "execute_result"
    },
    {
     "data": {
      "image/png": "[encoded data removed]",
      "text/plain": [
       "<Figure size 640x480 with 1 Axes>"
      ]
     },
     "metadata": {},
     "output_type": "display_data"
    }
   ],
   "source": [
    "df.plot.bar('Reading_Score')"
   ]
  },
  {
   "cell_type": "code",
   "execution_count": 34,
   "id": "326fc74a-63ac-47cb-b023-b32dcfc0c201",
   "metadata": {},
   "outputs": [
    {
     "data": {
      "text/plain": [
       "<Axes: >"
      ]
     },
     "execution_count": 34,
     "metadata": {},
     "output_type": "execute_result"
    },
    {
     "data": {
      "image/png": "[encoded data removed]",
      "text/plain": [
       "<Figure size 640x480 with 1 Axes>"
      ]
     },
     "metadata": {},
     "output_type": "display_data"
    }
   ],
   "source": [
    "df['Reading_Score'].value_counts().hist()"
   ]
  },
  {
   "cell_type": "code",
   "execution_count": null,
   "id": "8eda9f0b-9614-4207-9f3c-6efb523a7d77",
   "metadata": {},
   "outputs": [],
   "source": []
  }
 ],
 "metadata": {
  "kernelspec": {
   "display_name": "Python 3 (ipykernel)",
   "language": "python",
   "name": "python3"
  },
  "language_info": {
   "codemirror_mode": {
    "name": "ipython",
    "version": 3
   },
   "file_extension": ".py",
   "mimetype": "text/x-python",
   "name": "python",
   "nbconvert_exporter": "python",
   "pygments_lexer": "ipython3",
   "version": "3.11.0"
  }
 },
 "nbformat": 4,
 "nbformat_minor": 5
}
